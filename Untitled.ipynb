{
 "cells": [
  {
   "cell_type": "markdown",
   "metadata": {},
   "source": [
    "# Fund Analysis"
   ]
  },
  {
   "cell_type": "markdown",
   "metadata": {},
   "source": [
    "This is going to be used for an example to see how/if I can convert python code to jupyter to html."
   ]
  },
  {
   "cell_type": "markdown",
   "metadata": {},
   "source": [
    "First, we will run some code to update our data and optimize our portfolios."
   ]
  },
  {
   "cell_type": "code",
   "execution_count": 6,
   "metadata": {
    "scrolled": true
   },
   "outputs": [
    {
     "name": "stdout",
     "output_type": "stream",
     "text": [
      "Getting Price Data...\n"
     ]
    },
    {
     "name": "stderr",
     "output_type": "stream",
     "text": [
      "C:\\Users\\Michael\\Anaconda3\\envs\\QS\\lib\\site-packages\\pandas_datareader\\yahoo\\daily.py:136: SymbolWarning: Failed to read symbol: 'VMFXX', replacing with NaN.\n",
      "  warnings.warn(msg.format(sym), SymbolWarning)\n"
     ]
    },
    {
     "name": "stdout",
     "output_type": "stream",
     "text": [
      "Optimizing portfolio...\n",
      "Complete\n"
     ]
    }
   ],
   "source": [
    "import DataAccess as da\n",
    "import api\n",
    "import optimize\n",
    "import scraper\n",
    "import visuals\n",
    "import sys\n",
    "import os\n",
    "import time\n",
    "\n",
    "\n",
    "c_dataobj = da.DataAccess(da.DataSource.YAHOO)\n",
    "\n",
    "try:\n",
    "    print('Getting Price Data...')\n",
    "    api.API.getYahooData(c_dataobj, da.DataAccess.get_info_from_account(c_dataobj)) # Get financial data\n",
    "except:\n",
    "    time.sleep(5)\n",
    "    api.API.getYahooData(c_dataobj, da.DataAccess.get_info_from_account(c_dataobj)) # rerun incase something goes wrong.\n",
    "\n",
    "print('Optimizing portfolio...')\n",
    "optimize.portfolio_optimizer.main(c_dataobj) # Optimize portfolio\n",
    "print('Complete')\n",
    "    "
   ]
  },
  {
   "cell_type": "markdown",
   "metadata": {
    "collapsed": true
   },
   "source": [
    "Next, find only the funds which were included in the optimized data and pass their ticker symbols to the qualitative fund description web scraper."
   ]
  },
  {
   "cell_type": "code",
   "execution_count": 7,
   "metadata": {},
   "outputs": [
    {
     "name": "stdout",
     "output_type": "stream",
     "text": [
      "Scraping qualitative data for BAGIX from MorningStar\n",
      "Scrape took 0:00:00.670856\n",
      "Scraping qualitative data for TAHFX from MorningStar\n",
      "Scrape took 0:00:00.385180\n",
      "Scraping qualitative data for JDMNX from MorningStar\n",
      "Scrape took 0:00:00.348393\n",
      "Scraping qualitative data for PLGIX from MorningStar\n",
      "Scrape took 0:00:00.516297\n",
      "Scraping qualitative data for DODGX from MorningStar\n",
      "Scrape took 0:00:00.334078\n",
      "Scraping qualitative data for RERGX from MorningStar\n",
      "Scrape took 0:00:00.317459\n",
      "Scraping qualitative data for DFISX from MorningStar\n",
      "Scrape took 0:00:00.518988\n",
      "Scraping qualitative data for DFFVX from MorningStar\n",
      "Scrape took 0:00:00.332392\n",
      "Scraping qualitative data for VIIIX from MorningStar\n",
      "Scrape took 0:00:00.221153\n",
      "Scraping qualitative data for SEECX from MorningStar\n",
      "Scrape took 0:00:00.204587\n",
      "Scraping qualitative data for GRZZX from MorningStar\n",
      "Scrape took 0:00:00.555264\n",
      "Scraping qualitative data for RFBSX from MorningStar\n",
      "Scrape took 0:00:00.490141\n",
      "Scraping qualitative data for MINDX from MorningStar\n",
      "Scrape took 0:00:04.003121\n",
      "Scraping qualitative data for SBFAX from MorningStar\n",
      "Scrape took 0:00:00.351885\n",
      "Scraping qualitative data for WHIYX from MorningStar\n",
      "Scrape took 0:00:00.301983\n",
      "Scraping qualitative data for AUGAX from MorningStar\n",
      "Scrape took 0:00:00.361199\n",
      "Scraping qualitative data for TPINX from MorningStar\n",
      "Scrape took 0:00:00.326530\n",
      "Scraping qualitative data for PSSAX from MorningStar\n",
      "Scrape took 0:00:00.551636\n",
      "Scraping qualitative data for MDDVX from MorningStar\n",
      "Scrape took 0:00:00.216477\n",
      "Scraping qualitative data for FHAIX from MorningStar\n",
      "Scrape took 0:00:00.231860\n",
      "Scraping qualitative data for WSTYX from MorningStar\n",
      "Scrape took 0:00:00.340741\n",
      "Scraping qualitative data for MCHFX from MorningStar\n",
      "Scrape took 0:00:00.272698\n",
      "Scraping qualitative data for PTOAX from MorningStar\n",
      "Scrape took 0:00:00.546065\n",
      "Scraping qualitative data for SWPPX from MorningStar\n",
      "Scrape took 0:00:00.283651\n",
      "Scraping qualitative data for MPACX from MorningStar\n",
      "Scrape took 0:00:00.510266\n",
      "Scraping qualitative data for PTTAX from MorningStar\n",
      "Scrape took 0:00:00.330116\n",
      "Scraping qualitative data for VWINX from MorningStar\n",
      "Scrape took 0:00:02.174617\n",
      "Scraping qualitative data for PFUAX from MorningStar\n",
      "Scrape took 0:00:00.468405\n",
      "Scraping qualitative data for NEFLX from MorningStar\n",
      "Scrape took 0:00:00.542124\n",
      "Scraping qualitative data for SWLBX from MorningStar\n",
      "Scrape took 0:00:00.764794\n",
      "Scraping qualitative data for IPFIX from MorningStar\n",
      "Scrape took 0:00:00.315287\n",
      "Scraping qualitative data for MFBFX from MorningStar\n",
      "Scrape took 0:00:00.427239\n",
      "Scraping qualitative data for RYDVX from MorningStar\n",
      "Scrape took 0:00:00.518270\n",
      "Scraping qualitative data for MGIAX from MorningStar\n",
      "Scrape took 0:00:00.303049\n",
      "Scraping qualitative data for VIPSX from MorningStar\n",
      "Scrape took 0:00:00.195778\n",
      "Scraping qualitative data for SASMX from MorningStar\n",
      "Scrape took 0:00:00.436033\n",
      "Scraping qualitative data for PIPAX from MorningStar\n",
      "Scrape took 0:00:00.278792\n",
      "Scraping qualitative data for MAPTX from MorningStar\n",
      "Scrape took 0:00:00.523875\n",
      "Scraping qualitative data for NEFRX from MorningStar\n",
      "Scrape took 0:00:00.496550\n",
      "Scraping qualitative data for PCKAX from MorningStar\n",
      "Scrape took 0:00:00.314936\n",
      "Scraping qualitative data for JGMAX from MorningStar\n",
      "Scrape took 0:00:00.454926\n",
      "Scraping qualitative data for VIGRX from MorningStar\n",
      "Scrape took 0:00:00.429845\n",
      "Scraping qualitative data for SFAAX from MorningStar\n",
      "Scrape took 0:00:00.495892\n",
      "Scraping qualitative data for EVGOX from MorningStar\n",
      "Scrape took 0:00:00.523804\n",
      "Scraping qualitative data for JHUAX from MorningStar\n",
      "Scrape took 0:00:00.516602\n"
     ]
    },
    {
     "name": "stderr",
     "output_type": "stream",
     "text": [
      "C:\\Users\\Michael\\Anaconda3\\envs\\QS\\lib\\site-packages\\pandas\\core\\frame.py:2352: SettingWithCopyWarning: \n",
      "A value is trying to be set on a copy of a slice from a DataFrame.\n",
      "Try using .loc[row_indexer,col_indexer] = value instead\n",
      "\n",
      "See the caveats in the documentation: http://pandas.pydata.org/pandas-docs/stable/indexing.html#indexing-view-versus-copy\n",
      "  self[k1] = value[k2]\n"
     ]
    },
    {
     "name": "stdout",
     "output_type": "stream",
     "text": [
      "scraping bencharks for BAGIX\n",
      "scraping bencharks for TAHFX\n",
      "scraping bencharks for JDMNX\n",
      "Index :  2 No Benchmark Data Found in Morningstar for Fund :  JDMNX\n",
      "scraping bencharks for PLGIX\n",
      "Index :  3 No Benchmark Data Found in Morningstar for Fund :  PLGIX\n",
      "scraping bencharks for DODGX\n",
      "Index :  4 No Benchmark Data Found in Morningstar for Fund :  DODGX\n",
      "scraping bencharks for RERGX\n",
      "scraping bencharks for DFISX\n",
      "scraping bencharks for DFFVX\n",
      "Index :  7 No Benchmark Data Found in Morningstar for Fund :  DFFVX\n",
      "scraping bencharks for VIIIX\n",
      "Index :  8 No Benchmark Data Found in Morningstar for Fund :  VIIIX\n",
      "scraping bencharks for SEECX\n",
      "Index :  9 No Benchmark Data Found in Morningstar for Fund :  SEECX\n",
      "scraping bencharks for GRZZX\n",
      "Index :  10 No Benchmark Data Found in Morningstar for Fund :  GRZZX\n",
      "scraping bencharks for RFBSX\n",
      "scraping bencharks for MINDX\n",
      "scraping bencharks for SBFAX\n",
      "Index :  13 No Benchmark Data Found in Morningstar for Fund :  SBFAX\n",
      "scraping bencharks for WHIYX\n",
      "scraping bencharks for AUGAX\n",
      "scraping bencharks for TPINX\n",
      "scraping bencharks for PSSAX\n",
      "Index :  17 No Benchmark Data Found in Morningstar for Fund :  PSSAX\n",
      "scraping bencharks for MDDVX\n",
      "Index :  18 No Benchmark Data Found in Morningstar for Fund :  MDDVX\n",
      "scraping bencharks for FHAIX\n",
      "scraping bencharks for WSTYX\n",
      "scraping bencharks for MCHFX\n",
      "scraping bencharks for PTOAX\n",
      "Index :  22 No Benchmark Data Found in Morningstar for Fund :  PTOAX\n",
      "scraping bencharks for SWPPX\n",
      "Index :  23 No Benchmark Data Found in Morningstar for Fund :  SWPPX\n",
      "scraping bencharks for MPACX\n",
      "scraping bencharks for PTTAX\n",
      "scraping bencharks for VWINX\n",
      "scraping bencharks for PFUAX\n",
      "scraping bencharks for NEFLX\n",
      "scraping bencharks for SWLBX\n",
      "Index :  29 No Benchmark Data Found in Morningstar for Fund :  SWLBX\n",
      "scraping bencharks for IPFIX\n",
      "scraping bencharks for MFBFX\n",
      "scraping bencharks for RYDVX\n",
      "Index :  32 No Benchmark Data Found in Morningstar for Fund :  RYDVX\n",
      "scraping bencharks for MGIAX\n",
      "scraping bencharks for VIPSX\n",
      "scraping bencharks for SASMX\n",
      "Index :  35 No Benchmark Data Found in Morningstar for Fund :  SASMX\n",
      "scraping bencharks for PIPAX\n",
      "scraping bencharks for MAPTX\n",
      "scraping bencharks for NEFRX\n",
      "scraping bencharks for PCKAX\n",
      "Index :  39 No Benchmark Data Found in Morningstar for Fund :  PCKAX\n",
      "scraping bencharks for JGMAX\n",
      "Index :  40 No Benchmark Data Found in Morningstar for Fund :  JGMAX\n",
      "scraping bencharks for VIGRX\n",
      "Index :  41 No Benchmark Data Found in Morningstar for Fund :  VIGRX\n",
      "scraping bencharks for SFAAX\n",
      "Index :  42 No Benchmark Data Found in Morningstar for Fund :  SFAAX\n",
      "scraping bencharks for EVGOX\n",
      "scraping bencharks for JHUAX\n",
      "Index :  44 No Benchmark Data Found in Morningstar for Fund :  JHUAX\n",
      "Reruning  JDMNX\n",
      "Reruning  PLGIX\n",
      "Reruning  DODGX\n",
      "Reruning  DFFVX\n",
      "Reruning  VIIIX\n",
      "Reruning  SEECX\n",
      "Reruning  GRZZX\n",
      "Reruning  SBFAX\n",
      "Reruning  PSSAX\n",
      "Reruning  MDDVX\n",
      "Reruning  PTOAX\n",
      "Reruning  SWPPX\n",
      "Reruning  SWLBX\n",
      "No luck with  SWLBX\n",
      "Reruning  RYDVX\n",
      "Reruning  SASMX\n",
      "Reruning  PCKAX\n",
      "Reruning  JGMAX\n",
      "Reruning  VIGRX\n",
      "Reruning  SFAAX\n",
      "Reruning  JHUAX\n"
     ]
    }
   ],
   "source": [
    "    opt_data = da.DataAccess.get_json(c_dataobj, c_dataobj.datafolder)\n",
    "    tickers = scraper.optimized_tickers(opt_data)\n",
    "    scraper.mstar_fund_desc.fund_desc(c_dataobj, tickers) # HTML data (FAST)\n",
    "    print('Complete')"
   ]
  },
  {
   "cell_type": "code",
   "execution_count": null,
   "metadata": {
    "collapsed": true
   },
   "outputs": [],
   "source": []
  }
 ],
 "metadata": {
  "kernelspec": {
   "display_name": "Python [conda env:QS]",
   "language": "python",
   "name": "conda-env-QS-py"
  },
  "language_info": {
   "codemirror_mode": {
    "name": "ipython",
    "version": 3
   },
   "file_extension": ".py",
   "mimetype": "text/x-python",
   "name": "python",
   "nbconvert_exporter": "python",
   "pygments_lexer": "ipython3",
   "version": "3.4.5"
  }
 },
 "nbformat": 4,
 "nbformat_minor": 2
}
