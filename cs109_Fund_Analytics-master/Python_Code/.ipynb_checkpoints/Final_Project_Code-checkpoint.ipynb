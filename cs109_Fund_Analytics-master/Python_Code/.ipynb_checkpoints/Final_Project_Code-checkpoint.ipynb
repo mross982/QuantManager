{
 "metadata": {
  "name": "",
  "signature": "sha256:ea1adbb87453ae1730dda440fd3c23ffe5ad68a4577b707138dec2402466c9fd"
 },
 "nbformat": 3,
 "nbformat_minor": 0,
 "worksheets": [
  {
   "cells": [
    {
     "cell_type": "markdown",
     "metadata": {},
     "source": [
      "### Import Libraries"
     ]
    },
    {
     "cell_type": "code",
     "collapsed": false,
     "input": [
      "# Import Section\n",
      "# special IPython command to prepare the notebook for matplotlib\n",
      "%matplotlib inline \n",
      "import requests \n",
      "import numpy as np\n",
      "import pandas as pd # pandas\n",
      "from StringIO import StringIO\n",
      "import matplotlib.pyplot as plt # module for plotting \n",
      "import datetime as dt # module for manipulating dates and times\n",
      "from collections import OrderedDict\n",
      "from BeautifulSoup import BeautifulSoup\n",
      "import urllib2\n",
      "\n",
      "import scipy as sp\n",
      "\n",
      "import sklearn\n",
      "import seaborn as sns\n",
      "from matplotlib import pyplot as plt\n",
      "import bs4\n",
      "import statsmodels.formula.api as smf\n",
      "import html5lib\n",
      "\n",
      "#nice defaults for matplotlib\n",
      "from matplotlib import rcParams\n",
      "import math\n",
      "\n"
     ],
     "language": "python",
     "metadata": {},
     "outputs": [],
     "prompt_number": 255
    },
    {
     "cell_type": "markdown",
     "metadata": {},
     "source": [
      "### List of Top 10 Fund Families based on AUM"
     ]
    },
    {
     "cell_type": "code",
     "collapsed": false,
     "input": [
      "FFamily = pd.DataFrame(columns=['Fund_Family','MorningstarURL'])\n",
      "\n",
      "# List of 10 largest Mutual Fund Families\n",
      "\n",
      "FFamily.loc[0] = ['Vanguard','http://quicktake.morningstar.com/fundfamily/vanguard/0C00001YUF/fund-list.aspx']\n",
      "FFamily.loc[1] = ['American Funds','http://quicktake.morningstar.com/fundfamily/american-funds/0C00001YPH/fund-list.aspx']\n",
      "FFamily.loc[2] = ['PIMCO Funds','http://quicktake.morningstar.com/fundfamily/pimco/0C00004ALK/fund-list.aspx']\n",
      "FFamily.loc[3] = ['T. Rowe Price','http://quicktake.morningstar.com/fundfamily/t-rowe-price/0C00001YZ8/fund-list.aspx']\n",
      "FFamily.loc[4] = ['JP Morgan','http://quicktake.morningstar.com/fundfamily/jpmorgan/0C00001YRR/fund-list.aspx']\n",
      "FFamily.loc[5] = ['Fidelity Investments','http://quicktake.morningstar.com/fundfamily/fidelity-investments/0C00001YR0/fund-list.aspx']\n",
      "FFamily.loc[6] = ['Franklin Templeton Investments','http://quicktake.morningstar.com/fundfamily/franklin-templeton-investments/0C00004AKN/fund-list.aspx']\n",
      "FFamily.loc[7] = ['BlackRock','http://quicktake.morningstar.com/fundfamily/blackrock/0C000034YC/fund-list.aspx']\n",
      "FFamily.loc[8] = ['Columbia','http://quicktake.morningstar.com/fundfamily/columbia/0C00001YQG/fund-list.aspx']\n",
      "FFamily.loc[9] = ['Oppenheimer Funds','http://quicktake.morningstar.com/fundfamily/oppenheimerfunds/0C00001YZF/fund-list.aspx']\n"
     ],
     "language": "python",
     "metadata": {},
     "outputs": [],
     "prompt_number": 256
    },
    {
     "cell_type": "code",
     "collapsed": false,
     "input": [
      "FFamily"
     ],
     "language": "python",
     "metadata": {},
     "outputs": [
      {
       "html": [
        "<div style=\"max-height:1000px;max-width:1500px;overflow:auto;\">\n",
        "<table border=\"1\" class=\"dataframe\">\n",
        "  <thead>\n",
        "    <tr style=\"text-align: right;\">\n",
        "      <th></th>\n",
        "      <th>Fund_Family</th>\n",
        "      <th>MorningstarURL</th>\n",
        "    </tr>\n",
        "  </thead>\n",
        "  <tbody>\n",
        "    <tr>\n",
        "      <th>0</th>\n",
        "      <td>                       Vanguard</td>\n",
        "      <td> http://quicktake.morningstar.com/fundfamily/va...</td>\n",
        "    </tr>\n",
        "    <tr>\n",
        "      <th>1</th>\n",
        "      <td>                 American Funds</td>\n",
        "      <td> http://quicktake.morningstar.com/fundfamily/am...</td>\n",
        "    </tr>\n",
        "    <tr>\n",
        "      <th>2</th>\n",
        "      <td>                    PIMCO Funds</td>\n",
        "      <td> http://quicktake.morningstar.com/fundfamily/pi...</td>\n",
        "    </tr>\n",
        "    <tr>\n",
        "      <th>3</th>\n",
        "      <td>                  T. Rowe Price</td>\n",
        "      <td> http://quicktake.morningstar.com/fundfamily/t-...</td>\n",
        "    </tr>\n",
        "    <tr>\n",
        "      <th>4</th>\n",
        "      <td>                      JP Morgan</td>\n",
        "      <td> http://quicktake.morningstar.com/fundfamily/jp...</td>\n",
        "    </tr>\n",
        "    <tr>\n",
        "      <th>5</th>\n",
        "      <td>           Fidelity Investments</td>\n",
        "      <td> http://quicktake.morningstar.com/fundfamily/fi...</td>\n",
        "    </tr>\n",
        "    <tr>\n",
        "      <th>6</th>\n",
        "      <td> Franklin Templeton Investments</td>\n",
        "      <td> http://quicktake.morningstar.com/fundfamily/fr...</td>\n",
        "    </tr>\n",
        "    <tr>\n",
        "      <th>7</th>\n",
        "      <td>                      BlackRock</td>\n",
        "      <td> http://quicktake.morningstar.com/fundfamily/bl...</td>\n",
        "    </tr>\n",
        "    <tr>\n",
        "      <th>8</th>\n",
        "      <td>                       Columbia</td>\n",
        "      <td> http://quicktake.morningstar.com/fundfamily/co...</td>\n",
        "    </tr>\n",
        "    <tr>\n",
        "      <th>9</th>\n",
        "      <td>              Oppenheimer Funds</td>\n",
        "      <td> http://quicktake.morningstar.com/fundfamily/op...</td>\n",
        "    </tr>\n",
        "  </tbody>\n",
        "</table>\n",
        "</div>"
       ],
       "metadata": {},
       "output_type": "pyout",
       "prompt_number": 257,
       "text": [
        "                      Fund_Family  \\\n",
        "0                        Vanguard   \n",
        "1                  American Funds   \n",
        "2                     PIMCO Funds   \n",
        "3                   T. Rowe Price   \n",
        "4                       JP Morgan   \n",
        "5            Fidelity Investments   \n",
        "6  Franklin Templeton Investments   \n",
        "7                       BlackRock   \n",
        "8                        Columbia   \n",
        "9               Oppenheimer Funds   \n",
        "\n",
        "                                      MorningstarURL  \n",
        "0  http://quicktake.morningstar.com/fundfamily/va...  \n",
        "1  http://quicktake.morningstar.com/fundfamily/am...  \n",
        "2  http://quicktake.morningstar.com/fundfamily/pi...  \n",
        "3  http://quicktake.morningstar.com/fundfamily/t-...  \n",
        "4  http://quicktake.morningstar.com/fundfamily/jp...  \n",
        "5  http://quicktake.morningstar.com/fundfamily/fi...  \n",
        "6  http://quicktake.morningstar.com/fundfamily/fr...  \n",
        "7  http://quicktake.morningstar.com/fundfamily/bl...  \n",
        "8  http://quicktake.morningstar.com/fundfamily/co...  \n",
        "9  http://quicktake.morningstar.com/fundfamily/op...  "
       ]
      }
     ],
     "prompt_number": 257
    },
    {
     "cell_type": "markdown",
     "metadata": {},
     "source": [
      "### Fund Family with Ticker"
     ]
    },
    {
     "cell_type": "code",
     "collapsed": false,
     "input": [
      "Funds_family = pd.DataFrame(columns=['Fund_Name','Fund_Family','Fund_Ticker'])\n",
      "i = 0\n",
      "\n",
      "for index in range(0,len(FFamily)):\n",
      "    contenturl = FFamily.MorningstarURL[index]\n",
      "    req = urllib2.Request(contenturl)\n",
      "    page = urllib2.urlopen(req)\n",
      "    soup = BeautifulSoup(page)\n",
      "    table = soup.find(\"div\", { \"class\" : \"syn_section_b1\" })\n",
      "    for row in table.findAll('a'):\n",
      "        if (row['href'][73:]) != '':\n",
      "            Funds_family.loc[i] = [row.contents[0],FFamily['Fund_Family'][index],row['href'][73:]]\n",
      "            i = i+1"
     ],
     "language": "python",
     "metadata": {},
     "outputs": [],
     "prompt_number": 259
    },
    {
     "cell_type": "code",
     "collapsed": false,
     "input": [
      "Funds_family.head()"
     ],
     "language": "python",
     "metadata": {},
     "outputs": [
      {
       "html": [
        "<div style=\"max-height:1000px;max-width:1500px;overflow:auto;\">\n",
        "<table border=\"1\" class=\"dataframe\">\n",
        "  <thead>\n",
        "    <tr style=\"text-align: right;\">\n",
        "      <th></th>\n",
        "      <th>Fund_Name</th>\n",
        "      <th>Fund_Family</th>\n",
        "      <th>Fund_Ticker</th>\n",
        "    </tr>\n",
        "  </thead>\n",
        "  <tbody>\n",
        "    <tr>\n",
        "      <th>0</th>\n",
        "      <td>                 Vanguard 500 Index Inv</td>\n",
        "      <td> Vanguard</td>\n",
        "      <td> VFINX</td>\n",
        "    </tr>\n",
        "    <tr>\n",
        "      <th>1</th>\n",
        "      <td>            Vanguard Balanced Index Inv</td>\n",
        "      <td> Vanguard</td>\n",
        "      <td> VBINX</td>\n",
        "    </tr>\n",
        "    <tr>\n",
        "      <th>2</th>\n",
        "      <td> Vanguard CA Interm-Term Tax-Exempt Inv</td>\n",
        "      <td> Vanguard</td>\n",
        "      <td> VCAIX</td>\n",
        "    </tr>\n",
        "    <tr>\n",
        "      <th>3</th>\n",
        "      <td>   Vanguard CA Long-Term Tax-Exempt Inv</td>\n",
        "      <td> Vanguard</td>\n",
        "      <td> VCITX</td>\n",
        "    </tr>\n",
        "    <tr>\n",
        "      <th>4</th>\n",
        "      <td>       Vanguard Capital Opportunity Inv</td>\n",
        "      <td> Vanguard</td>\n",
        "      <td> VHCOX</td>\n",
        "    </tr>\n",
        "  </tbody>\n",
        "</table>\n",
        "</div>"
       ],
       "metadata": {},
       "output_type": "pyout",
       "prompt_number": 260,
       "text": [
        "                                Fund_Name Fund_Family Fund_Ticker\n",
        "0                  Vanguard 500 Index Inv    Vanguard       VFINX\n",
        "1             Vanguard Balanced Index Inv    Vanguard       VBINX\n",
        "2  Vanguard CA Interm-Term Tax-Exempt Inv    Vanguard       VCAIX\n",
        "3    Vanguard CA Long-Term Tax-Exempt Inv    Vanguard       VCITX\n",
        "4        Vanguard Capital Opportunity Inv    Vanguard       VHCOX"
       ]
      }
     ],
     "prompt_number": 260
    },
    {
     "cell_type": "markdown",
     "metadata": {},
     "source": [
      "### Load Benchmarks for each Fund"
     ]
    },
    {
     "cell_type": "code",
     "collapsed": false,
     "input": [
      "fund_benchmark_columns = ['Fund_Ticker','Benchmark_Index']\n",
      "fund_benchmark = pd.DataFrame(columns=fund_benchmark_columns)\n",
      "\n",
      "for i in range(0,len(Funds_family)):\n",
      "    FUND_NAME = Funds_family['Fund_Ticker'][i]  \n",
      "    try:\n",
      "        ratingriskurl = \"http://performance.morningstar.com/RatingRisk/fund/mpt-statistics.action?&t=XNAS:\"+FUND_NAME+\"&region=usa&culture=en-US&cur=&ops=clear&s=0P00001MK8&y=3&ep=true&comparisonRemove=null&benchmarkSecId=&benchmarktype=\"\n",
      "        mpt_statistics_bench = pd.read_html(ratingriskurl)[0]\n",
      "        mpt_statistics_bench = mpt_statistics_bench[mpt_statistics_bench.Alpha.notnull()]\n",
      "        mpt_statistics_bench = mpt_statistics_bench.reset_index(drop=True).iloc[[1]]\n",
      "        mpt_statistics_bench = mpt_statistics_bench.ix[:,0:2]\n",
      "        mpt_statistics_bench.columns = fund_benchmark_columns\n",
      "        fund_benchmark = fund_benchmark.append(mpt_statistics_bench)\n",
      "    except:\n",
      "        print \"Index : \",i,\"No Benchmark Data Found in Morningstar for Fund : \",FUND_NAME\n",
      "    \n",
      "fund_benchmark = fund_benchmark.reset_index(drop=True)"
     ],
     "language": "python",
     "metadata": {},
     "outputs": [
      {
       "output_type": "stream",
       "stream": "stdout",
       "text": [
        "Index :  173 No Benchmark Data Found in Morningstar for Fund :  PCPIX\n",
        "Index : "
       ]
      },
      {
       "output_type": "stream",
       "stream": "stdout",
       "text": [
        " 227 No Benchmark Data Found in Morningstar for Fund :  PCIAX\n",
        "Index : "
       ]
      },
      {
       "output_type": "stream",
       "stream": "stdout",
       "text": [
        " 228 No Benchmark Data Found in Morningstar for Fund :  POIAX\n",
        "Index : "
       ]
      },
      {
       "output_type": "stream",
       "stream": "stdout",
       "text": [
        " 391 No Benchmark Data Found in Morningstar for Fund :  OAMAX\n",
        "Index : "
       ]
      },
      {
       "output_type": "stream",
       "stream": "stdout",
       "text": [
        " 448 No Benchmark Data Found in Morningstar for Fund :  PEIAX\n",
        "Index : "
       ]
      },
      {
       "output_type": "stream",
       "stream": "stdout",
       "text": [
        " 493 No Benchmark Data Found in Morningstar for Fund :  JSPAX\n"
       ]
      }
     ],
     "prompt_number": 281
    },
    {
     "cell_type": "code",
     "collapsed": false,
     "input": [
      "fund_benchmark.head()"
     ],
     "language": "python",
     "metadata": {},
     "outputs": [
      {
       "html": [
        "<div style=\"max-height:1000px;max-width:1500px;overflow:auto;\">\n",
        "<table border=\"1\" class=\"dataframe\">\n",
        "  <thead>\n",
        "    <tr style=\"text-align: right;\">\n",
        "      <th></th>\n",
        "      <th>Fund_Ticker</th>\n",
        "      <th>Benchmark_Index</th>\n",
        "    </tr>\n",
        "  </thead>\n",
        "  <tbody>\n",
        "    <tr>\n",
        "      <th>0</th>\n",
        "      <td> VFINX</td>\n",
        "      <td>                   S&amp;P 500 TR USD</td>\n",
        "    </tr>\n",
        "    <tr>\n",
        "      <th>1</th>\n",
        "      <td> VBINX</td>\n",
        "      <td> Morningstar Moderate Target Risk</td>\n",
        "    </tr>\n",
        "    <tr>\n",
        "      <th>2</th>\n",
        "      <td> VCAIX</td>\n",
        "      <td>        Barclays Municipal TR USD</td>\n",
        "    </tr>\n",
        "    <tr>\n",
        "      <th>3</th>\n",
        "      <td> VCITX</td>\n",
        "      <td>        Barclays Municipal TR USD</td>\n",
        "    </tr>\n",
        "    <tr>\n",
        "      <th>4</th>\n",
        "      <td> VHCOX</td>\n",
        "      <td>                   S&amp;P 500 TR USD</td>\n",
        "    </tr>\n",
        "  </tbody>\n",
        "</table>\n",
        "</div>"
       ],
       "metadata": {},
       "output_type": "pyout",
       "prompt_number": 284,
       "text": [
        "  Fund_Ticker                   Benchmark_Index\n",
        "0       VFINX                    S&P 500 TR USD\n",
        "1       VBINX  Morningstar Moderate Target Risk\n",
        "2       VCAIX         Barclays Municipal TR USD\n",
        "3       VCITX         Barclays Municipal TR USD\n",
        "4       VHCOX                    S&P 500 TR USD"
       ]
      }
     ],
     "prompt_number": 284
    },
    {
     "cell_type": "markdown",
     "metadata": {},
     "source": [
      "### Benchmarks and it's Morningstar Symbols"
     ]
    },
    {
     "cell_type": "code",
     "collapsed": false,
     "input": [
      "index_dup = fund_benchmark.drop_duplicates('Benchmark_Index')\n",
      "index_dup"
     ],
     "language": "python",
     "metadata": {},
     "outputs": [
      {
       "html": [
        "<div style=\"max-height:1000px;max-width:1500px;overflow:auto;\">\n",
        "<table border=\"1\" class=\"dataframe\">\n",
        "  <thead>\n",
        "    <tr style=\"text-align: right;\">\n",
        "      <th></th>\n",
        "      <th>Fund_Ticker</th>\n",
        "      <th>Benchmark_Index</th>\n",
        "    </tr>\n",
        "  </thead>\n",
        "  <tbody>\n",
        "    <tr>\n",
        "      <th>0  </th>\n",
        "      <td> VFINX</td>\n",
        "      <td>                          S&amp;P 500 TR USD</td>\n",
        "    </tr>\n",
        "    <tr>\n",
        "      <th>1  </th>\n",
        "      <td> VBINX</td>\n",
        "      <td>        Morningstar Moderate Target Risk</td>\n",
        "    </tr>\n",
        "    <tr>\n",
        "      <th>2  </th>\n",
        "      <td> VCAIX</td>\n",
        "      <td>               Barclays Municipal TR USD</td>\n",
        "    </tr>\n",
        "    <tr>\n",
        "      <th>7  </th>\n",
        "      <td> VTMGX</td>\n",
        "      <td>                 MSCI ACWI Ex USA NR USD</td>\n",
        "    </tr>\n",
        "    <tr>\n",
        "      <th>10 </th>\n",
        "      <td> VGOVX</td>\n",
        "      <td>             Barclays US Agg Bond TR USD</td>\n",
        "    </tr>\n",
        "    <tr>\n",
        "      <th>13 </th>\n",
        "      <td> VGENX</td>\n",
        "      <td>                        MSCI ACWI NR USD</td>\n",
        "    </tr>\n",
        "    <tr>\n",
        "      <th>173</th>\n",
        "      <td> PCLAX</td>\n",
        "      <td>      Morningstar Long-Only Commodity TR</td>\n",
        "    </tr>\n",
        "    <tr>\n",
        "      <th>184</th>\n",
        "      <td> PLMAX</td>\n",
        "      <td>               BofAML USD LIBOR 3 Mon CM</td>\n",
        "    </tr>\n",
        "    <tr>\n",
        "      <th>252</th>\n",
        "      <td> PQTAX</td>\n",
        "      <td> Credit Suisse Mgd Futures Liquid TR USD</td>\n",
        "    </tr>\n",
        "  </tbody>\n",
        "</table>\n",
        "</div>"
       ],
       "metadata": {},
       "output_type": "pyout",
       "prompt_number": 496,
       "text": [
        "    Fund_Ticker                          Benchmark_Index\n",
        "0         VFINX                           S&P 500 TR USD\n",
        "1         VBINX         Morningstar Moderate Target Risk\n",
        "2         VCAIX                Barclays Municipal TR USD\n",
        "7         VTMGX                  MSCI ACWI Ex USA NR USD\n",
        "10        VGOVX              Barclays US Agg Bond TR USD\n",
        "13        VGENX                         MSCI ACWI NR USD\n",
        "173       PCLAX       Morningstar Long-Only Commodity TR\n",
        "184       PLMAX                BofAML USD LIBOR 3 Mon CM\n",
        "252       PQTAX  Credit Suisse Mgd Futures Liquid TR USD"
       ]
      }
     ],
     "prompt_number": 496
    },
    {
     "cell_type": "code",
     "collapsed": false,
     "input": [
      "mstar_benchmark_symbol = pd.DataFrame(index=range(0,len(index_dup)),columns=['Benchmark_Index','Mstar_Symbol'])\n",
      "\n",
      "mstar_benchmark_symbol.loc[0] = ['S&P 500 TR USD','0P00001MK8']\n",
      "mstar_benchmark_symbol.loc[1] = ['Morningstar Moderate Target Risk','0P0000J533']\n",
      "mstar_benchmark_symbol.loc[2] = ['Barclays Municipal TR USD','0P00001G5X']\n",
      "mstar_benchmark_symbol.loc[3] = ['MSCI ACWI Ex USA NR USD','0P00001MJB']\n",
      "mstar_benchmark_symbol.loc[4] = ['Barclays US Agg Bond TR USD','0P00001G5L']\n",
      "mstar_benchmark_symbol.loc[5] = ['MSCI ACWI NR USD','0P00001G8P']\n",
      "mstar_benchmark_symbol.loc[6] = ['Morningstar Long-Only Commodity TR','0P00009FRD']\n",
      "mstar_benchmark_symbol.loc[7] = ['BofAML USD LIBOR 3 Mon CM','0P00001L6O']\n",
      "mstar_benchmark_symbol.loc[8] = ['Credit Suisse Mgd Futures Liquid TR USD','0P00001MK8']\n",
      "\n",
      "mstar_benchmark_symbol"
     ],
     "language": "python",
     "metadata": {},
     "outputs": [
      {
       "html": [
        "<div style=\"max-height:1000px;max-width:1500px;overflow:auto;\">\n",
        "<table border=\"1\" class=\"dataframe\">\n",
        "  <thead>\n",
        "    <tr style=\"text-align: right;\">\n",
        "      <th></th>\n",
        "      <th>Benchmark_Index</th>\n",
        "      <th>Mstar_Symbol</th>\n",
        "    </tr>\n",
        "  </thead>\n",
        "  <tbody>\n",
        "    <tr>\n",
        "      <th>0</th>\n",
        "      <td>                          S&amp;P 500 TR USD</td>\n",
        "      <td> 0P00001MK8</td>\n",
        "    </tr>\n",
        "    <tr>\n",
        "      <th>1</th>\n",
        "      <td>        Morningstar Moderate Target Risk</td>\n",
        "      <td> 0P0000J533</td>\n",
        "    </tr>\n",
        "    <tr>\n",
        "      <th>2</th>\n",
        "      <td>               Barclays Municipal TR USD</td>\n",
        "      <td> 0P00001G5X</td>\n",
        "    </tr>\n",
        "    <tr>\n",
        "      <th>3</th>\n",
        "      <td>                 MSCI ACWI Ex USA NR USD</td>\n",
        "      <td> 0P00001MJB</td>\n",
        "    </tr>\n",
        "    <tr>\n",
        "      <th>4</th>\n",
        "      <td>             Barclays US Agg Bond TR USD</td>\n",
        "      <td> 0P00001G5L</td>\n",
        "    </tr>\n",
        "    <tr>\n",
        "      <th>5</th>\n",
        "      <td>                        MSCI ACWI NR USD</td>\n",
        "      <td> 0P00001G8P</td>\n",
        "    </tr>\n",
        "    <tr>\n",
        "      <th>6</th>\n",
        "      <td>      Morningstar Long-Only Commodity TR</td>\n",
        "      <td> 0P00009FRD</td>\n",
        "    </tr>\n",
        "    <tr>\n",
        "      <th>7</th>\n",
        "      <td>               BofAML USD LIBOR 3 Mon CM</td>\n",
        "      <td> 0P00001L6O</td>\n",
        "    </tr>\n",
        "    <tr>\n",
        "      <th>8</th>\n",
        "      <td> Credit Suisse Mgd Futures Liquid TR USD</td>\n",
        "      <td> 0P00001MK8</td>\n",
        "    </tr>\n",
        "  </tbody>\n",
        "</table>\n",
        "</div>"
       ],
       "metadata": {},
       "output_type": "pyout",
       "prompt_number": 258,
       "text": [
        "                           Benchmark_Index Mstar_Symbol\n",
        "0                           S&P 500 TR USD   0P00001MK8\n",
        "1         Morningstar Moderate Target Risk   0P0000J533\n",
        "2                Barclays Municipal TR USD   0P00001G5X\n",
        "3                  MSCI ACWI Ex USA NR USD   0P00001MJB\n",
        "4              Barclays US Agg Bond TR USD   0P00001G5L\n",
        "5                         MSCI ACWI NR USD   0P00001G8P\n",
        "6       Morningstar Long-Only Commodity TR   0P00009FRD\n",
        "7                BofAML USD LIBOR 3 Mon CM   0P00001L6O\n",
        "8  Credit Suisse Mgd Futures Liquid TR USD   0P00001MK8"
       ]
      }
     ],
     "prompt_number": 258
    },
    {
     "cell_type": "markdown",
     "metadata": {},
     "source": [
      "### Fund DataFrame"
     ]
    },
    {
     "cell_type": "code",
     "collapsed": false,
     "input": [
      "fund_df = pd.merge(Funds_family,fund_benchmark,how='left',on='Fund_Ticker')\n",
      "fund_df = fund_df[fund_df['Benchmark_Index'].notnull()].reset_index(drop=True)\n",
      "fund_df.head()"
     ],
     "language": "python",
     "metadata": {},
     "outputs": [
      {
       "html": [
        "<div style=\"max-height:1000px;max-width:1500px;overflow:auto;\">\n",
        "<table border=\"1\" class=\"dataframe\">\n",
        "  <thead>\n",
        "    <tr style=\"text-align: right;\">\n",
        "      <th></th>\n",
        "      <th>Fund_Name</th>\n",
        "      <th>Fund_Family</th>\n",
        "      <th>Fund_Ticker</th>\n",
        "      <th>Benchmark_Index</th>\n",
        "    </tr>\n",
        "  </thead>\n",
        "  <tbody>\n",
        "    <tr>\n",
        "      <th>0</th>\n",
        "      <td>                 Vanguard 500 Index Inv</td>\n",
        "      <td> Vanguard</td>\n",
        "      <td> VFINX</td>\n",
        "      <td>                   S&amp;P 500 TR USD</td>\n",
        "    </tr>\n",
        "    <tr>\n",
        "      <th>1</th>\n",
        "      <td>            Vanguard Balanced Index Inv</td>\n",
        "      <td> Vanguard</td>\n",
        "      <td> VBINX</td>\n",
        "      <td> Morningstar Moderate Target Risk</td>\n",
        "    </tr>\n",
        "    <tr>\n",
        "      <th>2</th>\n",
        "      <td> Vanguard CA Interm-Term Tax-Exempt Inv</td>\n",
        "      <td> Vanguard</td>\n",
        "      <td> VCAIX</td>\n",
        "      <td>        Barclays Municipal TR USD</td>\n",
        "    </tr>\n",
        "    <tr>\n",
        "      <th>3</th>\n",
        "      <td>   Vanguard CA Long-Term Tax-Exempt Inv</td>\n",
        "      <td> Vanguard</td>\n",
        "      <td> VCITX</td>\n",
        "      <td>        Barclays Municipal TR USD</td>\n",
        "    </tr>\n",
        "    <tr>\n",
        "      <th>4</th>\n",
        "      <td>       Vanguard Capital Opportunity Inv</td>\n",
        "      <td> Vanguard</td>\n",
        "      <td> VHCOX</td>\n",
        "      <td>                   S&amp;P 500 TR USD</td>\n",
        "    </tr>\n",
        "  </tbody>\n",
        "</table>\n",
        "</div>"
       ],
       "metadata": {},
       "output_type": "pyout",
       "prompt_number": 305,
       "text": [
        "                                Fund_Name Fund_Family Fund_Ticker  \\\n",
        "0                  Vanguard 500 Index Inv    Vanguard       VFINX   \n",
        "1             Vanguard Balanced Index Inv    Vanguard       VBINX   \n",
        "2  Vanguard CA Interm-Term Tax-Exempt Inv    Vanguard       VCAIX   \n",
        "3    Vanguard CA Long-Term Tax-Exempt Inv    Vanguard       VCITX   \n",
        "4        Vanguard Capital Opportunity Inv    Vanguard       VHCOX   \n",
        "\n",
        "                    Benchmark_Index  \n",
        "0                    S&P 500 TR USD  \n",
        "1  Morningstar Moderate Target Risk  \n",
        "2         Barclays Municipal TR USD  \n",
        "3         Barclays Municipal TR USD  \n",
        "4                    S&P 500 TR USD  "
       ]
      }
     ],
     "prompt_number": 305
    },
    {
     "cell_type": "code",
     "collapsed": false,
     "input": [
      "fund_df[fund_df['Fund_Ticker'] == 'JMGIX']\n",
      "#fund_df.shape"
     ],
     "language": "python",
     "metadata": {},
     "outputs": [
      {
       "html": [
        "<div style=\"max-height:1000px;max-width:1500px;overflow:auto;\">\n",
        "<table border=\"1\" class=\"dataframe\">\n",
        "  <thead>\n",
        "    <tr style=\"text-align: right;\">\n",
        "      <th></th>\n",
        "      <th>Fund_Name</th>\n",
        "      <th>Fund_Family</th>\n",
        "      <th>Fund_Ticker</th>\n",
        "      <th>Benchmark_Index</th>\n",
        "    </tr>\n",
        "  </thead>\n",
        "  <tbody>\n",
        "    <tr>\n",
        "      <th>441</th>\n",
        "      <td> JPMorgan Managed Income Institutional</td>\n",
        "      <td> JP Morgan</td>\n",
        "      <td> JMGIX</td>\n",
        "      <td> Barclays US Agg Bond TR USD</td>\n",
        "    </tr>\n",
        "  </tbody>\n",
        "</table>\n",
        "</div>"
       ],
       "metadata": {},
       "output_type": "pyout",
       "prompt_number": 497,
       "text": [
        "                                 Fund_Name Fund_Family Fund_Ticker  \\\n",
        "441  JPMorgan Managed Income Institutional   JP Morgan       JMGIX   \n",
        "\n",
        "                 Benchmark_Index  \n",
        "441  Barclays US Agg Bond TR USD  "
       ]
      }
     ],
     "prompt_number": 497
    },
    {
     "cell_type": "markdown",
     "metadata": {},
     "source": [
      "### Returns Data\n",
      "Fetch 10 year Returns Data"
     ]
    },
    {
     "cell_type": "code",
     "collapsed": false,
     "input": [
      "'''\n",
      "This function create transpose of fund_history data frame\n",
      "and removes unwanted data from the data frame\n",
      "It converts the data into float format.\n",
      "\n",
      "Parameter - fund_history dataframe\n",
      "\n",
      "Returns - transpose with required columns\n",
      "\n",
      "'''\n",
      "def fnc_transpose(fund_history):\n",
      "    fund_history.index=fund_history[fund_history.columns[0]] # Make the parameters as the index\n",
      "    fund_history = fund_history.drop(fund_history.columns[0], axis = 1)     \n",
      "    fund_history = fund_history.transpose()    \n",
      "    fund_history = fund_history.drop('Fund Category',1)    \n",
      "    fund_history = fund_history.replace(to_replace=u'\\u2014',value=0).astype(float) \n",
      "    fund_history = fund_history.ffill()\n",
      "    fund_history = fund_history[(fund_history['Rank in Category']).notnull()] \n",
      "    return fund_history\n"
     ],
     "language": "python",
     "metadata": {},
     "outputs": [],
     "prompt_number": 307
    },
    {
     "cell_type": "code",
     "collapsed": false,
     "input": [
      "\n",
      "'''\n",
      "This function scraps performace data using Beutiful soup\n",
      "and convert it to pandas dataframe.\n",
      "It also handles missing values.\n",
      "\n",
      "'''\n",
      "def get_performance_data(url):\n",
      "    soup = BeautifulSoup(urllib2.urlopen(url).read()) # read data using Beautiful Soup\n",
      "    table = soup.find('table')    # find the table\n",
      "    rows = table.findAll('tr')\n",
      "    for i in range(len(rows)):    # read table data for each table row\n",
      "        if(i==0):\n",
      "            header = rows[i].findAll('th')         # Assign first row as dataframe header\n",
      "            column_names = [head.text for head in  header] \n",
      "            data = pd.DataFrame(columns=column_names)\n",
      "        else:\n",
      "            row = [0.0]*len(column_names)   # add table data to dataframe\n",
      "            j=1\n",
      "            row[0] = rows[i].find('th').text\n",
      "            for cell in rows[i].findAll('td'):\n",
      "                row[j] = cell.text\n",
      "                j=j+1\n",
      "            data.loc[i-1]=row\n",
      "\n",
      "    data = data.replace(to_replace='&mdash;',value=np.nan)   #replace dash with null\n",
      "    data = data.ffill()   # fill null values\n",
      "    \n",
      "    return data"
     ],
     "language": "python",
     "metadata": {},
     "outputs": [],
     "prompt_number": 308
    },
    {
     "cell_type": "code",
     "collapsed": false,
     "input": [
      "fund_returns = {}\n",
      "\n",
      "# 15 year returns data \n",
      "for i in range(0,len(fund_df)):\n",
      "    fund_name = fund_df['Fund_Ticker'][i]\n",
      "    fund_benchmark_var = fund_df['Benchmark_Index'][i]\n",
      "    key = \"fund_returns_\"+fund_name\n",
      "    print key\n",
      "    symbol = (mstar_benchmark_symbol[mstar_benchmark_symbol['Benchmark_Index'] == fund_benchmark_var]['Mstar_Symbol']).values[0]\n",
      "    fund_ret_url = \"http://performance.morningstar.com/Performance/fund/performance-history-1.action?&t=XNAS:\"+fund_name+\"&region=usa&culture=en-US&cur=&ops=clear&s=\"+symbol+\"&ndec=2&ep=true&align=m&y=15&comparisonRemove=false&loccat=&taxadj=&benchmarkSecId=&benchmarktype=\"\n",
      "    try:\n",
      "        fund_history = get_performance_data(fund_ret_url)\n",
      "        fund_history = fnc_transpose(fund_history)\n",
      "        fund_history = fund_history.reset_index()\n",
      "        fund_history.columns = ['Year',fund_name+'_Returns',fund_benchmark_var,'Category (LB)','+/- S&P 500 TR USD','+/- Category (LB)','Annual_Net_Exp_Ratio','Turnover_Ratio','Rank_In_Category']\n",
      "    except:\n",
      "        print \"No Returns Data available for Fund : \",fund_name\n",
      "        # Creating an Empty DataFrame for fund with no returns\n",
      "        fund_history = pd.DataFrame()\n",
      "    fund_returns[key] = fund_history\n"
     ],
     "language": "python",
     "metadata": {},
     "outputs": [
      {
       "output_type": "stream",
       "stream": "stdout",
       "text": [
        "fund_returns_VFINX\n",
        "fund_returns_VBINX"
       ]
      },
      {
       "output_type": "stream",
       "stream": "stdout",
       "text": [
        "\n",
        "fund_returns_VCAIX"
       ]
      },
      {
       "output_type": "stream",
       "stream": "stdout",
       "text": [
        "\n",
        "fund_returns_VCITX"
       ]
      },
      {
       "output_type": "stream",
       "stream": "stdout",
       "text": [
        "\n",
        "fund_returns_VHCOX"
       ]
      },
      {
       "output_type": "stream",
       "stream": "stdout",
       "text": [
        "\n",
        "fund_returns_VCVLX"
       ]
      },
      {
       "output_type": "stream",
       "stream": "stdout",
       "text": [
        "\n",
        "fund_returns_VCVSX"
       ]
      },
      {
       "output_type": "stream",
       "stream": "stdout",
       "text": [
        "\n",
        "fund_returns_VTMGX"
       ]
      },
      {
       "output_type": "stream",
       "stream": "stdout",
       "text": [
        "\n",
        "fund_returns_VDEQX"
       ]
      },
      {
       "output_type": "stream",
       "stream": "stdout",
       "text": [
        "\n",
        "fund_returns_VDIGX"
       ]
      },
      {
       "output_type": "stream",
       "stream": "stdout",
       "text": [
        "\n",
        "fund_returns_VGOVX"
       ]
      },
      {
       "output_type": "stream",
       "stream": "stdout",
       "text": [
        "\n",
        "fund_returns_VMMSX"
       ]
      },
      {
       "output_type": "stream",
       "stream": "stdout",
       "text": [
        "\n",
        "fund_returns_VEIEX"
       ]
      },
      {
       "output_type": "stream",
       "stream": "stdout",
       "text": [
        "\n",
        "fund_returns_VGENX"
       ]
      },
      {
       "output_type": "stream",
       "stream": "stdout",
       "text": [
        "\n",
        "fund_returns_VEIPX"
       ]
      },
      {
       "output_type": "stream",
       "stream": "stdout",
       "text": [
        "\n",
        "fund_returns_VEURX"
       ]
      },
      {
       "output_type": "stream",
       "stream": "stdout",
       "text": [
        "\n",
        "fund_returns_VEXPX"
       ]
      },
      {
       "output_type": "stream",
       "stream": "stdout",
       "text": [
        "\n",
        "fund_returns_VEVFX"
       ]
      },
      {
       "output_type": "stream",
       "stream": "stdout",
       "text": [
        "\n",
        "fund_returns_VEDTX"
       ]
      },
      {
       "output_type": "stream",
       "stream": "stdout",
       "text": [
        "\n",
        "fund_returns_VEXMX"
       ]
      },
      {
       "output_type": "stream",
       "stream": "stdout",
       "text": [
        "\n",
        "fund_returns_VFSNX"
       ]
      },
      {
       "output_type": "stream",
       "stream": "stdout",
       "text": [
        "\n",
        "fund_returns_VFTSX"
       ]
      },
      {
       "output_type": "stream",
       "stream": "stdout",
       "text": [
        "\n",
        "fund_returns_VHGEX"
       ]
      },
      {
       "output_type": "stream",
       "stream": "stdout",
       "text": [
        "\n",
        "fund_returns_VGXRX"
       ]
      },
      {
       "output_type": "stream",
       "stream": "stdout",
       "text": [
        "\n",
        "fund_returns_VMNVX"
       ]
      },
      {
       "output_type": "stream",
       "stream": "stdout",
       "text": [
        "\n",
        "fund_returns_VFIIX"
       ]
      },
      {
       "output_type": "stream",
       "stream": "stdout",
       "text": [
        "\n",
        "fund_returns_VQNPX"
       ]
      },
      {
       "output_type": "stream",
       "stream": "stdout",
       "text": [
        "\n",
        "fund_returns_VIGRX"
       ]
      },
      {
       "output_type": "stream",
       "stream": "stdout",
       "text": [
        "\n",
        "fund_returns_VGHCX"
       ]
      },
      {
       "output_type": "stream",
       "stream": "stdout",
       "text": [
        "\n",
        "fund_returns_VWEHX"
       ]
      },
      {
       "output_type": "stream",
       "stream": "stdout",
       "text": [
        "\n",
        "fund_returns_VWAHX"
       ]
      },
      {
       "output_type": "stream",
       "stream": "stdout",
       "text": [
        "\n",
        "fund_returns_VIPSX"
       ]
      },
      {
       "output_type": "stream",
       "stream": "stdout",
       "text": [
        "\n",
        "fund_returns_VINIX"
       ]
      },
      {
       "output_type": "stream",
       "stream": "stdout",
       "text": [
        "\n",
        "fund_returns_VITPX"
       ]
      },
      {
       "output_type": "stream",
       "stream": "stdout",
       "text": [
        "\n",
        "fund_returns_VBIIX"
       ]
      },
      {
       "output_type": "stream",
       "stream": "stdout",
       "text": [
        "\n",
        "fund_returns_VFICX"
       ]
      },
      {
       "output_type": "stream",
       "stream": "stdout",
       "text": [
        "\n",
        "fund_returns_VFITX"
       ]
      },
      {
       "output_type": "stream",
       "stream": "stdout",
       "text": [
        "\n",
        "fund_returns_VWITX"
       ]
      },
      {
       "output_type": "stream",
       "stream": "stdout",
       "text": [
        "\n",
        "fund_returns_VINEX"
       ]
      },
      {
       "output_type": "stream",
       "stream": "stdout",
       "text": [
        "\n",
        "fund_returns_VWIGX"
       ]
      },
      {
       "output_type": "stream",
       "stream": "stdout",
       "text": [
        "\n",
        "fund_returns_VTRIX"
       ]
      },
      {
       "output_type": "stream",
       "stream": "stdout",
       "text": [
        "\n",
        "fund_returns_VSCGX"
       ]
      },
      {
       "output_type": "stream",
       "stream": "stdout",
       "text": [
        "\n",
        "fund_returns_VASGX"
       ]
      },
      {
       "output_type": "stream",
       "stream": "stdout",
       "text": [
        "\n",
        "fund_returns_VASIX"
       ]
      },
      {
       "output_type": "stream",
       "stream": "stdout",
       "text": [
        "\n",
        "fund_returns_VSMGX"
       ]
      },
      {
       "output_type": "stream",
       "stream": "stdout",
       "text": [
        "\n",
        "fund_returns_VBLTX"
       ]
      },
      {
       "output_type": "stream",
       "stream": "stdout",
       "text": [
        "\n",
        "fund_returns_VLCIX"
       ]
      },
      {
       "output_type": "stream",
       "stream": "stdout",
       "text": [
        "\n",
        "fund_returns_VLGIX"
       ]
      },
      {
       "output_type": "stream",
       "stream": "stdout",
       "text": [
        "\n",
        "fund_returns_VWESX"
       ]
      },
      {
       "output_type": "stream",
       "stream": "stdout",
       "text": [
        "\n",
        "fund_returns_VWLTX"
       ]
      },
      {
       "output_type": "stream",
       "stream": "stdout",
       "text": [
        "\n",
        "fund_returns_VUSTX"
       ]
      },
      {
       "output_type": "stream",
       "stream": "stdout",
       "text": [
        "\n",
        "fund_returns_VMLTX"
       ]
      },
      {
       "output_type": "stream",
       "stream": "stdout",
       "text": [
        "\n",
        "fund_returns_VMATX"
       ]
      },
      {
       "output_type": "stream",
       "stream": "stdout",
       "text": [
        "\n",
        "fund_returns_VPGDX"
       ]
      },
      {
       "output_type": "stream",
       "stream": "stdout",
       "text": [
        "\n",
        "fund_returns_VMNIX"
       ]
      },
      {
       "output_type": "stream",
       "stream": "stdout",
       "text": [
        "\n",
        "fund_returns_VMGRX"
       ]
      },
      {
       "output_type": "stream",
       "stream": "stdout",
       "text": [
        "\n",
        "fund_returns_VMCIX"
       ]
      },
      {
       "output_type": "stream",
       "stream": "stdout",
       "text": [
        "\n",
        "fund_returns_VMRGX"
       ]
      },
      {
       "output_type": "stream",
       "stream": "stdout",
       "text": [
        "\n",
        "fund_returns_VNJTX"
       ]
      },
      {
       "output_type": "stream",
       "stream": "stdout",
       "text": [
        "\n",
        "fund_returns_VNYTX"
       ]
      },
      {
       "output_type": "stream",
       "stream": "stdout",
       "text": [
        "\n",
        "fund_returns_VOHIX"
       ]
      },
      {
       "output_type": "stream",
       "stream": "stdout",
       "text": [
        "\n",
        "fund_returns_VPAIX"
       ]
      },
      {
       "output_type": "stream",
       "stream": "stdout",
       "text": [
        "\n",
        "fund_returns_VPACX"
       ]
      },
      {
       "output_type": "stream",
       "stream": "stdout",
       "text": [
        "\n",
        "fund_returns_VGPMX"
       ]
      },
      {
       "output_type": "stream",
       "stream": "stdout",
       "text": [
        "\n",
        "fund_returns_VPCCX"
       ]
      },
      {
       "output_type": "stream",
       "stream": "stdout",
       "text": [
        "\n",
        "fund_returns_VPMCX"
       ]
      },
      {
       "output_type": "stream",
       "stream": "stdout",
       "text": [
        "\n",
        "fund_returns_VGSIX"
       ]
      },
      {
       "output_type": "stream",
       "stream": "stdout",
       "text": [
        "\n",
        "fund_returns_VASVX"
       ]
      },
      {
       "output_type": "stream",
       "stream": "stdout",
       "text": [
        "\n",
        "fund_returns_VBISX"
       ]
      },
      {
       "output_type": "stream",
       "stream": "stdout",
       "text": [
        "\n",
        "fund_returns_VSTBX"
       ]
      },
      {
       "output_type": "stream",
       "stream": "stdout",
       "text": [
        "\n",
        "fund_returns_VSGBX"
       ]
      },
      {
       "output_type": "stream",
       "stream": "stdout",
       "text": [
        "\n",
        "fund_returns_VFSTX"
       ]
      },
      {
       "output_type": "stream",
       "stream": "stdout",
       "text": [
        "\n",
        "fund_returns_VFISX"
       ]
      },
      {
       "output_type": "stream",
       "stream": "stdout",
       "text": [
        "\n",
        "fund_returns_VWSTX"
       ]
      },
      {
       "output_type": "stream",
       "stream": "stdout",
       "text": [
        "\n",
        "fund_returns_VISGX"
       ]
      },
      {
       "output_type": "stream",
       "stream": "stdout",
       "text": [
        "\n",
        "fund_returns_NAESX"
       ]
      },
      {
       "output_type": "stream",
       "stream": "stdout",
       "text": [
        "\n",
        "fund_returns_VISVX"
       ]
      },
      {
       "output_type": "stream",
       "stream": "stdout",
       "text": [
        "\n",
        "fund_returns_VGSTX"
       ]
      },
      {
       "output_type": "stream",
       "stream": "stdout",
       "text": [
        "\n",
        "fund_returns_VSEQX"
       ]
      },
      {
       "output_type": "stream",
       "stream": "stdout",
       "text": [
        "\n",
        "fund_returns_VSTCX"
       ]
      },
      {
       "output_type": "stream",
       "stream": "stdout",
       "text": [
        "\n",
        "fund_returns_VSLPX"
       ]
      },
      {
       "output_type": "stream",
       "stream": "stdout",
       "text": [
        "\n",
        "fund_returns_VSBPX"
       ]
      },
      {
       "output_type": "stream",
       "stream": "stdout",
       "text": [
        "\n",
        "fund_returns_VTENX"
       ]
      },
      {
       "output_type": "stream",
       "stream": "stdout",
       "text": [
        "\n",
        "fund_returns_VTXVX"
       ]
      },
      {
       "output_type": "stream",
       "stream": "stdout",
       "text": [
        "\n",
        "fund_returns_VTWNX"
       ]
      },
      {
       "output_type": "stream",
       "stream": "stdout",
       "text": [
        "\n",
        "fund_returns_VTTVX"
       ]
      },
      {
       "output_type": "stream",
       "stream": "stdout",
       "text": [
        "\n",
        "fund_returns_VTHRX"
       ]
      },
      {
       "output_type": "stream",
       "stream": "stdout",
       "text": [
        "\n",
        "fund_returns_VTTHX"
       ]
      },
      {
       "output_type": "stream",
       "stream": "stdout",
       "text": [
        "\n",
        "fund_returns_VFORX"
       ]
      },
      {
       "output_type": "stream",
       "stream": "stdout",
       "text": [
        "\n",
        "fund_returns_VTIVX"
       ]
      },
      {
       "output_type": "stream",
       "stream": "stdout",
       "text": [
        "\n",
        "fund_returns_VFIFX"
       ]
      },
      {
       "output_type": "stream",
       "stream": "stdout",
       "text": [
        "\n",
        "fund_returns_VFFVX"
       ]
      },
      {
       "output_type": "stream",
       "stream": "stdout",
       "text": [
        "\n",
        "fund_returns_VTTSX"
       ]
      },
      {
       "output_type": "stream",
       "stream": "stdout",
       "text": [
        "\n",
        "fund_returns_VTINX"
       ]
      },
      {
       "output_type": "stream",
       "stream": "stdout",
       "text": [
        "\n",
        "fund_returns_VTMFX"
       ]
      },
      {
       "output_type": "stream",
       "stream": "stdout",
       "text": [
        "\n",
        "fund_returns_VTCIX"
       ]
      },
      {
       "output_type": "stream",
       "stream": "stdout",
       "text": [
        "\n",
        "fund_returns_VTMSX"
       ]
      },
      {
       "output_type": "stream",
       "stream": "stdout",
       "text": [
        "\n",
        "fund_returns_VTBIX"
       ]
      },
      {
       "output_type": "stream",
       "stream": "stdout",
       "text": [
        "\n",
        "fund_returns_VBMFX"
       ]
      },
      {
       "output_type": "stream",
       "stream": "stdout",
       "text": [
        "\n",
        "fund_returns_VTIFX"
       ]
      },
      {
       "output_type": "stream",
       "stream": "stdout",
       "text": [
        "\n",
        "fund_returns_VGTSX"
       ]
      },
      {
       "output_type": "stream",
       "stream": "stdout",
       "text": [
        "\n",
        "fund_returns_VTSMX"
       ]
      },
      {
       "output_type": "stream",
       "stream": "stdout",
       "text": [
        "\n",
        "fund_returns_VWUSX"
       ]
      },
      {
       "output_type": "stream",
       "stream": "stdout",
       "text": [
        "\n",
        "fund_returns_VUVLX"
       ]
      },
      {
       "output_type": "stream",
       "stream": "stdout",
       "text": [
        "\n",
        "fund_returns_VIVAX"
       ]
      },
      {
       "output_type": "stream",
       "stream": "stdout",
       "text": [
        "\n",
        "fund_returns_VWINX"
       ]
      },
      {
       "output_type": "stream",
       "stream": "stdout",
       "text": [
        "\n",
        "fund_returns_VWELX"
       ]
      },
      {
       "output_type": "stream",
       "stream": "stdout",
       "text": [
        "\n",
        "fund_returns_VWNFX"
       ]
      },
      {
       "output_type": "stream",
       "stream": "stdout",
       "text": [
        "\n",
        "fund_returns_VWNDX"
       ]
      },
      {
       "output_type": "stream",
       "stream": "stdout",
       "text": [
        "\n",
        "fund_returns_AAATX"
       ]
      },
      {
       "output_type": "stream",
       "stream": "stdout",
       "text": [
        "\n",
        "fund_returns_AABTX"
       ]
      },
      {
       "output_type": "stream",
       "stream": "stdout",
       "text": [
        "\n",
        "fund_returns_AACTX"
       ]
      },
      {
       "output_type": "stream",
       "stream": "stdout",
       "text": [
        "\n",
        "fund_returns_AADTX"
       ]
      },
      {
       "output_type": "stream",
       "stream": "stdout",
       "text": [
        "\n",
        "fund_returns_AAETX"
       ]
      },
      {
       "output_type": "stream",
       "stream": "stdout",
       "text": [
        "\n",
        "fund_returns_AAFTX"
       ]
      },
      {
       "output_type": "stream",
       "stream": "stdout",
       "text": [
        "\n",
        "fund_returns_AAGTX"
       ]
      },
      {
       "output_type": "stream",
       "stream": "stdout",
       "text": [
        "\n",
        "fund_returns_AAHTX"
       ]
      },
      {
       "output_type": "stream",
       "stream": "stdout",
       "text": [
        "\n",
        "fund_returns_AALTX"
       ]
      },
      {
       "output_type": "stream",
       "stream": "stdout",
       "text": [
        "\n",
        "fund_returns_AAMTX"
       ]
      },
      {
       "output_type": "stream",
       "stream": "stdout",
       "text": [
        "\n",
        "fund_returns_AMCPX"
       ]
      },
      {
       "output_type": "stream",
       "stream": "stdout",
       "text": [
        "\n",
        "fund_returns_ABALX"
       ]
      },
      {
       "output_type": "stream",
       "stream": "stdout",
       "text": [
        "\n",
        "fund_returns_AHITX"
       ]
      },
      {
       "output_type": "stream",
       "stream": "stdout",
       "text": [
        "\n",
        "fund_returns_AMRMX"
       ]
      },
      {
       "output_type": "stream",
       "stream": "stdout",
       "text": [
        "\n",
        "fund_returns_CBAAX"
       ]
      },
      {
       "output_type": "stream",
       "stream": "stdout",
       "text": [
        "\n",
        "fund_returns_ABNDX"
       ]
      },
      {
       "output_type": "stream",
       "stream": "stdout",
       "text": [
        "\n",
        "fund_returns_CAIBX"
       ]
      },
      {
       "output_type": "stream",
       "stream": "stdout",
       "text": [
        "\n",
        "fund_returns_CWBFX"
       ]
      },
      {
       "output_type": "stream",
       "stream": "stdout",
       "text": [
        "\n",
        "fund_returns_CWGIX"
       ]
      },
      {
       "output_type": "stream",
       "stream": "stdout",
       "text": [
        "\n",
        "fund_returns_CFFAX"
       ]
      },
      {
       "output_type": "stream",
       "stream": "stdout",
       "text": [
        "\n",
        "fund_returns_CNEAX"
       ]
      },
      {
       "output_type": "stream",
       "stream": "stdout",
       "text": [
        "\n",
        "fund_returns_CTOAX"
       ]
      },
      {
       "output_type": "stream",
       "stream": "stdout",
       "text": [
        "\n",
        "fund_returns_CFTAX"
       ]
      },
      {
       "output_type": "stream",
       "stream": "stdout",
       "text": [
        "\n",
        "fund_returns_CSTAX"
       ]
      },
      {
       "output_type": "stream",
       "stream": "stdout",
       "text": [
        "\n",
        "fund_returns_CTHAX"
       ]
      },
      {
       "output_type": "stream",
       "stream": "stdout",
       "text": [
        "\n",
        "fund_returns_CENAX"
       ]
      },
      {
       "output_type": "stream",
       "stream": "stdout",
       "text": [
        "\n",
        "fund_returns_DWGAX"
       ]
      },
      {
       "output_type": "stream",
       "stream": "stdout",
       "text": [
        "\n",
        "fund_returns_AEPGX"
       ]
      },
      {
       "output_type": "stream",
       "stream": "stdout",
       "text": [
        "\n",
        "fund_returns_ANCFX"
       ]
      },
      {
       "output_type": "stream",
       "stream": "stdout",
       "text": [
        "\n",
        "fund_returns_CBFAX"
       ]
      },
      {
       "output_type": "stream",
       "stream": "stdout",
       "text": [
        "\n",
        "fund_returns_CPGAX"
       ]
      },
      {
       "output_type": "stream",
       "stream": "stdout",
       "text": [
        "\n",
        "fund_returns_CGNAX"
       ]
      },
      {
       "output_type": "stream",
       "stream": "stdout",
       "text": [
        "\n",
        "fund_returns_AGTHX"
       ]
      },
      {
       "output_type": "stream",
       "stream": "stdout",
       "text": [
        "\n",
        "fund_returns_CGPAX"
       ]
      },
      {
       "output_type": "stream",
       "stream": "stdout",
       "text": [
        "\n",
        "fund_returns_AMECX"
       ]
      },
      {
       "output_type": "stream",
       "stream": "stdout",
       "text": [
        "\n",
        "fund_returns_INPAX"
       ]
      },
      {
       "output_type": "stream",
       "stream": "stdout",
       "text": [
        "\n",
        "fund_returns_AIBAX"
       ]
      },
      {
       "output_type": "stream",
       "stream": "stdout",
       "text": [
        "\n",
        "fund_returns_CGIAX"
       ]
      },
      {
       "output_type": "stream",
       "stream": "stdout",
       "text": [
        "\n",
        "fund_returns_AIVSX"
       ]
      },
      {
       "output_type": "stream",
       "stream": "stdout",
       "text": [
        "\n",
        "fund_returns_LTEBX"
       ]
      },
      {
       "output_type": "stream",
       "stream": "stdout",
       "text": [
        "\n",
        "fund_returns_CMFAX"
       ]
      },
      {
       "output_type": "stream",
       "stream": "stdout",
       "text": [
        "\n",
        "fund_returns_ANEFX"
       ]
      },
      {
       "output_type": "stream",
       "stream": "stdout",
       "text": [
        "\n",
        "fund_returns_ANWPX"
       ]
      },
      {
       "output_type": "stream",
       "stream": "stdout",
       "text": [
        "\n",
        "fund_returns_NEWFX"
       ]
      },
      {
       "output_type": "stream",
       "stream": "stdout",
       "text": [
        "\n",
        "fund_returns_PPVAX"
       ]
      },
      {
       "output_type": "stream",
       "stream": "stdout",
       "text": [
        "\n",
        "fund_returns_ASTEX"
       ]
      },
      {
       "output_type": "stream",
       "stream": "stdout",
       "text": [
        "\n",
        "fund_returns_SMCWX"
       ]
      },
      {
       "output_type": "stream",
       "stream": "stdout",
       "text": [
        "\n",
        "fund_returns_ASBAX"
       ]
      },
      {
       "output_type": "stream",
       "stream": "stdout",
       "text": [
        "\n",
        "fund_returns_AFTEX"
       ]
      },
      {
       "output_type": "stream",
       "stream": "stdout",
       "text": [
        "\n",
        "fund_returns_TAFTX"
       ]
      },
      {
       "output_type": "stream",
       "stream": "stdout",
       "text": [
        "\n",
        "fund_returns_NYAAX"
       ]
      },
      {
       "output_type": "stream",
       "stream": "stdout",
       "text": [
        "\n",
        "fund_returns_TMMDX"
       ]
      },
      {
       "output_type": "stream",
       "stream": "stdout",
       "text": [
        "\n",
        "fund_returns_TEPAX"
       ]
      },
      {
       "output_type": "stream",
       "stream": "stdout",
       "text": [
        "\n",
        "fund_returns_TFVAX"
       ]
      },
      {
       "output_type": "stream",
       "stream": "stdout",
       "text": [
        "\n",
        "fund_returns_TAIAX"
       ]
      },
      {
       "output_type": "stream",
       "stream": "stdout",
       "text": [
        "\n",
        "fund_returns_AMUSX"
       ]
      },
      {
       "output_type": "stream",
       "stream": "stdout",
       "text": [
        "\n",
        "fund_returns_AWSHX"
       ]
      },
      {
       "output_type": "stream",
       "stream": "stdout",
       "text": [
        "\n",
        "fund_returns_AMHIX"
       ]
      },
      {
       "output_type": "stream",
       "stream": "stdout",
       "text": [
        "\n",
        "fund_returns_PAUIX"
       ]
      },
      {
       "output_type": "stream",
       "stream": "stdout",
       "text": [
        "\n",
        "fund_returns_PAAIX"
       ]
      },
      {
       "output_type": "stream",
       "stream": "stdout",
       "text": [
        "\n",
        "fund_returns_PBIAX"
       ]
      },
      {
       "output_type": "stream",
       "stream": "stdout",
       "text": [
        "\n",
        "fund_returns_PCIMX"
       ]
      },
      {
       "output_type": "stream",
       "stream": "stdout",
       "text": [
        "\n",
        "fund_returns_PCDAX"
       ]
      },
      {
       "output_type": "stream",
       "stream": "stdout",
       "text": [
        "\n",
        "fund_returns_PCTTX"
       ]
      },
      {
       "output_type": "stream",
       "stream": "stdout",
       "text": [
        "\n",
        "fund_returns_PCLAX"
       ]
      },
      {
       "output_type": "stream",
       "stream": "stdout",
       "text": [
        "\n",
        "fund_returns_PCRIX"
       ]
      },
      {
       "output_type": "stream",
       "stream": "stdout",
       "text": [
        "\n",
        "fund_returns_PFCIX"
       ]
      },
      {
       "output_type": "stream",
       "stream": "stdout",
       "text": [
        "\n",
        "fund_returns_PZCRX"
       ]
      },
      {
       "output_type": "stream",
       "stream": "stdout",
       "text": [
        "\n",
        "fund_returns_PDVAX"
       ]
      },
      {
       "output_type": "stream",
       "stream": "stdout",
       "text": [
        "\n",
        "fund_returns_PQIZX"
       ]
      },
      {
       "output_type": "stream",
       "stream": "stdout",
       "text": [
        "\n",
        "fund_returns_PEFIX"
       ]
      },
      {
       "output_type": "stream",
       "stream": "stdout",
       "text": [
        "\n",
        "fund_returns_PFSSX"
       ]
      },
      {
       "output_type": "stream",
       "stream": "stdout",
       "text": [
        "\n",
        "fund_returns_PELBX"
       ]
      },
      {
       "output_type": "stream",
       "stream": "stdout",
       "text": [
        "\n",
        "fund_returns_PAEMX"
       ]
      },
      {
       "output_type": "stream",
       "stream": "stdout",
       "text": [
        "\n",
        "fund_returns_PEMIX"
       ]
      },
      {
       "output_type": "stream",
       "stream": "stdout",
       "text": [
        "\n",
        "fund_returns_PLMAX"
       ]
      },
      {
       "output_type": "stream",
       "stream": "stdout",
       "text": [
        "\n",
        "fund_returns_PEAAX"
       ]
      },
      {
       "output_type": "stream",
       "stream": "stdout",
       "text": [
        "\n",
        "fund_returns_PLVVX"
       ]
      },
      {
       "output_type": "stream",
       "stream": "stdout",
       "text": [
        "\n",
        "fund_returns_PATHX"
       ]
      },
      {
       "output_type": "stream",
       "stream": "stdout",
       "text": [
        "\n",
        "fund_returns_PQDAX"
       ]
      },
      {
       "output_type": "stream",
       "stream": "stdout",
       "text": [
        "\n",
        "fund_returns_PEQAX"
       ]
      },
      {
       "output_type": "stream",
       "stream": "stdout",
       "text": [
        "\n",
        "fund_returns_PMHIX"
       ]
      },
      {
       "output_type": "stream",
       "stream": "stdout",
       "text": [
        "\n",
        "fund_returns_PEDIX"
       ]
      },
      {
       "output_type": "stream",
       "stream": "stdout",
       "text": [
        "\n",
        "fund_returns_PFIAX"
       ]
      },
      {
       "output_type": "stream",
       "stream": "stdout",
       "text": [
        "\n",
        "fund_returns_PFUIX"
       ]
      },
      {
       "output_type": "stream",
       "stream": "stdout",
       "text": [
        "\n",
        "fund_returns_PFORX"
       ]
      },
      {
       "output_type": "stream",
       "stream": "stdout",
       "text": [
        "\n",
        "fund_returns_PFATX"
       ]
      },
      {
       "output_type": "stream",
       "stream": "stdout",
       "text": [
        "\n",
        "fund_returns_PIXAX"
       ]
      },
      {
       "output_type": "stream",
       "stream": "stdout",
       "text": [
        "\n",
        "fund_returns_PGSAX"
       ]
      },
      {
       "output_type": "stream",
       "stream": "stdout",
       "text": [
        "\n",
        "fund_returns_PIGLX"
       ]
      },
      {
       "output_type": "stream",
       "stream": "stdout",
       "text": [
        "\n",
        "fund_returns_PAIIX"
       ]
      },
      {
       "output_type": "stream",
       "stream": "stdout",
       "text": [
        "\n",
        "fund_returns_PGMAX"
       ]
      },
      {
       "output_type": "stream",
       "stream": "stdout",
       "text": [
        "\n",
        "fund_returns_PDMIX"
       ]
      },
      {
       "output_type": "stream",
       "stream": "stdout",
       "text": [
        "\n",
        "fund_returns_PHIYX"
       ]
      },
      {
       "output_type": "stream",
       "stream": "stdout",
       "text": [
        "\n",
        "fund_returns_PYMAX"
       ]
      },
      {
       "output_type": "stream",
       "stream": "stdout",
       "text": [
        "\n",
        "fund_returns_PHSAX"
       ]
      },
      {
       "output_type": "stream",
       "stream": "stdout",
       "text": [
        "\n",
        "fund_returns_PONAX"
       ]
      },
      {
       "output_type": "stream",
       "stream": "stdout",
       "text": [
        "\n",
        "fund_returns_PZRMX"
       ]
      },
      {
       "output_type": "stream",
       "stream": "stdout",
       "text": [
        "\n",
        "fund_returns_PTSIX"
       ]
      },
      {
       "output_type": "stream",
       "stream": "stdout",
       "text": [
        "\n",
        "fund_returns_PLVBX"
       ]
      },
      {
       "output_type": "stream",
       "stream": "stdout",
       "text": [
        "\n",
        "fund_returns_PPUAX"
       ]
      },
      {
       "output_type": "stream",
       "stream": "stdout",
       "text": [
        "\n",
        "fund_returns_PIPAX"
       ]
      },
      {
       "output_type": "stream",
       "stream": "stdout",
       "text": [
        "\n",
        "fund_returns_PIGIX"
       ]
      },
      {
       "output_type": "stream",
       "stream": "stdout",
       "text": [
        "\n",
        "fund_returns_PLRIX"
       ]
      },
      {
       "output_type": "stream",
       "stream": "stdout",
       "text": [
        "\n",
        "fund_returns_PTCIX"
       ]
      },
      {
       "output_type": "stream",
       "stream": "stdout",
       "text": [
        "\n",
        "fund_returns_PGOVX"
       ]
      },
      {
       "output_type": "stream",
       "stream": "stdout",
       "text": [
        "\n",
        "fund_returns_PLDTX"
       ]
      },
      {
       "output_type": "stream",
       "stream": "stdout",
       "text": [
        "\n",
        "fund_returns_PLDIX"
       ]
      },
      {
       "output_type": "stream",
       "stream": "stdout",
       "text": [
        "\n",
        "fund_returns_PTLDX"
       ]
      },
      {
       "output_type": "stream",
       "stream": "stdout",
       "text": [
        "\n",
        "fund_returns_PXLVX"
       ]
      },
      {
       "output_type": "stream",
       "stream": "stdout",
       "text": [
        "\n",
        "fund_returns_PMDRX"
       ]
      },
      {
       "output_type": "stream",
       "stream": "stdout",
       "text": [
        "\n",
        "fund_returns_PMZAX"
       ]
      },
      {
       "output_type": "stream",
       "stream": "stdout",
       "text": [
        "\n",
        "fund_returns_PTRIX"
       ]
      },
      {
       "output_type": "stream",
       "stream": "stdout",
       "text": [
        "\n",
        "fund_returns_PFMIX"
       ]
      },
      {
       "output_type": "stream",
       "stream": "stdout",
       "text": [
        "\n",
        "fund_returns_PMNTX"
       ]
      },
      {
       "output_type": "stream",
       "stream": "stdout",
       "text": [
        "\n",
        "fund_returns_PNYIX"
       ]
      },
      {
       "output_type": "stream",
       "stream": "stdout",
       "text": [
        "\n",
        "fund_returns_PETAX"
       ]
      },
      {
       "output_type": "stream",
       "stream": "stdout",
       "text": [
        "\n",
        "fund_returns_PRTNX"
       ]
      },
      {
       "output_type": "stream",
       "stream": "stdout",
       "text": [
        "\n",
        "fund_returns_PRAIX"
       ]
      },
      {
       "output_type": "stream",
       "stream": "stdout",
       "text": [
        "\n",
        "fund_returns_PTNYX"
       ]
      },
      {
       "output_type": "stream",
       "stream": "stdout",
       "text": [
        "\n",
        "fund_returns_PTYAX"
       ]
      },
      {
       "output_type": "stream",
       "stream": "stdout",
       "text": [
        "\n",
        "fund_returns_PENZX"
       ]
      },
      {
       "output_type": "stream",
       "stream": "stdout",
       "text": [
        "\n",
        "fund_returns_PEHAX"
       ]
      },
      {
       "output_type": "stream",
       "stream": "stdout",
       "text": [
        "\n",
        "fund_returns_PIVAX"
       ]
      },
      {
       "output_type": "stream",
       "stream": "stdout",
       "text": [
        "\n",
        "fund_returns_POFAX"
       ]
      },
      {
       "output_type": "stream",
       "stream": "stdout",
       "text": [
        "\n",
        "fund_returns_PFZAX"
       ]
      },
      {
       "output_type": "stream",
       "stream": "stdout",
       "text": [
        "\n",
        "fund_returns_PFYAX"
       ]
      },
      {
       "output_type": "stream",
       "stream": "stdout",
       "text": [
        "\n",
        "fund_returns_PTNAX"
       ]
      },
      {
       "output_type": "stream",
       "stream": "stdout",
       "text": [
        "\n",
        "fund_returns_PSRZX"
       ]
      },
      {
       "output_type": "stream",
       "stream": "stdout",
       "text": [
        "\n",
        "fund_returns_PAIAX"
       ]
      },
      {
       "output_type": "stream",
       "stream": "stdout",
       "text": [
        "\n",
        "fund_returns_PSDIX"
       ]
      },
      {
       "output_type": "stream",
       "stream": "stdout",
       "text": [
        "\n",
        "fund_returns_PTSHX"
       ]
      },
      {
       "output_type": "stream",
       "stream": "stdout",
       "text": [
        "\n",
        "fund_returns_PCFIX"
       ]
      },
      {
       "output_type": "stream",
       "stream": "stdout",
       "text": [
        "\n",
        "fund_returns_PSCSX"
       ]
      },
      {
       "output_type": "stream",
       "stream": "stdout",
       "text": [
        "\n",
        "fund_returns_PSPTX"
       ]
      },
      {
       "output_type": "stream",
       "stream": "stdout",
       "text": [
        "\n",
        "fund_returns_PSTIX"
       ]
      },
      {
       "output_type": "stream",
       "stream": "stdout",
       "text": [
        "\n",
        "fund_returns_PSTKX"
       ]
      },
      {
       "output_type": "stream",
       "stream": "stdout",
       "text": [
        "\n",
        "fund_returns_PSLDX"
       ]
      },
      {
       "output_type": "stream",
       "stream": "stdout",
       "text": [
        "\n",
        "fund_returns_PTXAX"
       ]
      },
      {
       "output_type": "stream",
       "stream": "stdout",
       "text": [
        "\n",
        "fund_returns_PMBIX"
       ]
      },
      {
       "output_type": "stream",
       "stream": "stdout",
       "text": [
        "\n",
        "fund_returns_PTSAX"
       ]
      },
      {
       "output_type": "stream",
       "stream": "stdout",
       "text": [
        "\n",
        "fund_returns_PTTRX"
       ]
      },
      {
       "output_type": "stream",
       "stream": "stdout",
       "text": [
        "\n",
        "fund_returns_PTUZX"
       ]
      },
      {
       "output_type": "stream",
       "stream": "stdout",
       "text": [
        "\n",
        "fund_returns_PQTAX"
       ]
      },
      {
       "output_type": "stream",
       "stream": "stdout",
       "text": [
        "\n",
        "No Returns Data available for Fund : "
       ]
      },
      {
       "output_type": "stream",
       "stream": "stdout",
       "text": [
        " PQTAX\n",
        "fund_returns_PUBAX\n",
        "fund_returns_ATMAX"
       ]
      },
      {
       "output_type": "stream",
       "stream": "stdout",
       "text": [
        "\n",
        "fund_returns_PWWIX"
       ]
      },
      {
       "output_type": "stream",
       "stream": "stdout",
       "text": [
        "\n",
        "fund_returns_TRAMX"
       ]
      },
      {
       "output_type": "stream",
       "stream": "stdout",
       "text": [
        "\n",
        "fund_returns_PAAOX"
       ]
      },
      {
       "output_type": "stream",
       "stream": "stdout",
       "text": [
        "\n",
        "fund_returns_RPBAX"
       ]
      },
      {
       "output_type": "stream",
       "stream": "stdout",
       "text": [
        "\n",
        "fund_returns_TRBCX"
       ]
      },
      {
       "output_type": "stream",
       "stream": "stdout",
       "text": [
        "\n",
        "fund_returns_PRXCX"
       ]
      },
      {
       "output_type": "stream",
       "stream": "stdout",
       "text": [
        "\n",
        "fund_returns_PRWCX"
       ]
      },
      {
       "output_type": "stream",
       "stream": "stdout",
       "text": [
        "\n",
        "fund_returns_PRCOX"
       ]
      },
      {
       "output_type": "stream",
       "stream": "stdout",
       "text": [
        "\n",
        "fund_returns_PRPIX"
       ]
      },
      {
       "output_type": "stream",
       "stream": "stdout",
       "text": [
        "\n",
        "fund_returns_PAOPX"
       ]
      },
      {
       "output_type": "stream",
       "stream": "stdout",
       "text": [
        "\n",
        "fund_returns_PRDMX"
       ]
      },
      {
       "output_type": "stream",
       "stream": "stdout",
       "text": [
        "\n",
        "fund_returns_PRDSX"
       ]
      },
      {
       "output_type": "stream",
       "stream": "stdout",
       "text": [
        "\n",
        "fund_returns_PRDGX"
       ]
      },
      {
       "output_type": "stream",
       "stream": "stdout",
       "text": [
        "\n",
        "fund_returns_PAELX"
       ]
      },
      {
       "output_type": "stream",
       "stream": "stdout",
       "text": [
        "\n",
        "fund_returns_TREMX"
       ]
      },
      {
       "output_type": "stream",
       "stream": "stdout",
       "text": [
        "\n",
        "fund_returns_PREMX"
       ]
      },
      {
       "output_type": "stream",
       "stream": "stdout",
       "text": [
        "\n",
        "fund_returns_PRMSX"
       ]
      },
      {
       "output_type": "stream",
       "stream": "stdout",
       "text": [
        "\n",
        "fund_returns_PACEX"
       ]
      },
      {
       "output_type": "stream",
       "stream": "stdout",
       "text": [
        "\n",
        "fund_returns_PRFDX"
       ]
      },
      {
       "output_type": "stream",
       "stream": "stdout",
       "text": [
        "\n",
        "fund_returns_PREIX"
       ]
      },
      {
       "output_type": "stream",
       "stream": "stdout",
       "text": [
        "\n",
        "fund_returns_PRESX"
       ]
      },
      {
       "output_type": "stream",
       "stream": "stdout",
       "text": [
        "\n",
        "fund_returns_PEXMX"
       ]
      },
      {
       "output_type": "stream",
       "stream": "stdout",
       "text": [
        "\n",
        "fund_returns_PRISX"
       ]
      },
      {
       "output_type": "stream",
       "stream": "stdout",
       "text": [
        "\n",
        "fund_returns_PAFRX"
       ]
      },
      {
       "output_type": "stream",
       "stream": "stdout",
       "text": [
        "\n",
        "fund_returns_GTFBX"
       ]
      },
      {
       "output_type": "stream",
       "stream": "stdout",
       "text": [
        "\n",
        "fund_returns_PAGLX"
       ]
      },
      {
       "output_type": "stream",
       "stream": "stdout",
       "text": [
        "\n",
        "fund_returns_PAFGX"
       ]
      },
      {
       "output_type": "stream",
       "stream": "stdout",
       "text": [
        "\n",
        "fund_returns_RPGIX"
       ]
      },
      {
       "output_type": "stream",
       "stream": "stdout",
       "text": [
        "\n",
        "fund_returns_PAGEX"
       ]
      },
      {
       "output_type": "stream",
       "stream": "stdout",
       "text": [
        "\n",
        "fund_returns_PRGSX"
       ]
      },
      {
       "output_type": "stream",
       "stream": "stdout",
       "text": [
        "\n",
        "fund_returns_PRGTX"
       ]
      },
      {
       "output_type": "stream",
       "stream": "stdout",
       "text": [
        "\n",
        "fund_returns_PRGMX"
       ]
      },
      {
       "output_type": "stream",
       "stream": "stdout",
       "text": [
        "\n",
        "fund_returns_PRGIX"
       ]
      },
      {
       "output_type": "stream",
       "stream": "stdout",
       "text": [
        "\n",
        "fund_returns_PRGFX"
       ]
      },
      {
       "output_type": "stream",
       "stream": "stdout",
       "text": [
        "\n",
        "fund_returns_PRHSX"
       ]
      },
      {
       "output_type": "stream",
       "stream": "stdout",
       "text": [
        "\n",
        "fund_returns_PRHYX"
       ]
      },
      {
       "output_type": "stream",
       "stream": "stdout",
       "text": [
        "\n",
        "fund_returns_PRIPX"
       ]
      },
      {
       "output_type": "stream",
       "stream": "stdout",
       "text": [
        "\n",
        "fund_returns_TRIAX"
       ]
      },
      {
       "output_type": "stream",
       "stream": "stdout",
       "text": [
        "\n",
        "fund_returns_RPICX"
       ]
      },
      {
       "output_type": "stream",
       "stream": "stdout",
       "text": [
        "\n",
        "fund_returns_TRXPX"
       ]
      },
      {
       "output_type": "stream",
       "stream": "stdout",
       "text": [
        "\n",
        "fund_returns_TICPX"
       ]
      },
      {
       "output_type": "stream",
       "stream": "stdout",
       "text": [
        "\n",
        "fund_returns_TREBX"
       ]
      },
      {
       "output_type": "stream",
       "stream": "stdout",
       "text": [
        "\n",
        "fund_returns_IEMFX"
       ]
      },
      {
       "output_type": "stream",
       "stream": "stdout",
       "text": [
        "\n",
        "fund_returns_RPIFX"
       ]
      },
      {
       "output_type": "stream",
       "stream": "stdout",
       "text": [
        "\n",
        "fund_returns_TRGSX"
       ]
      },
      {
       "output_type": "stream",
       "stream": "stdout",
       "text": [
        "\n",
        "fund_returns_RPIGX"
       ]
      },
      {
       "output_type": "stream",
       "stream": "stdout",
       "text": [
        "\n",
        "fund_returns_RPGMX"
       ]
      },
      {
       "output_type": "stream",
       "stream": "stdout",
       "text": [
        "\n",
        "fund_returns_PRIGX"
       ]
      },
      {
       "output_type": "stream",
       "stream": "stdout",
       "text": [
        "\n",
        "fund_returns_TRHYX"
       ]
      },
      {
       "output_type": "stream",
       "stream": "stdout",
       "text": [
        "\n",
        "fund_returns_RPIIX"
       ]
      },
      {
       "output_type": "stream",
       "stream": "stdout",
       "text": [
        "\n",
        "fund_returns_TRCEX"
       ]
      },
      {
       "output_type": "stream",
       "stream": "stdout",
       "text": [
        "\n",
        "fund_returns_PRFEX"
       ]
      },
      {
       "output_type": "stream",
       "stream": "stdout",
       "text": [
        "\n",
        "fund_returns_TPLGX"
       ]
      },
      {
       "output_type": "stream",
       "stream": "stdout",
       "text": [
        "\n",
        "fund_returns_TRLGX"
       ]
      },
      {
       "output_type": "stream",
       "stream": "stdout",
       "text": [
        "\n",
        "fund_returns_TILCX"
       ]
      },
      {
       "output_type": "stream",
       "stream": "stdout",
       "text": [
        "\n",
        "fund_returns_RPLCX"
       ]
      },
      {
       "output_type": "stream",
       "stream": "stdout",
       "text": [
        "\n",
        "fund_returns_PMEGX"
       ]
      },
      {
       "output_type": "stream",
       "stream": "stdout",
       "text": [
        "\n",
        "fund_returns_TRSSX"
       ]
      },
      {
       "output_type": "stream",
       "stream": "stdout",
       "text": [
        "\n",
        "fund_returns_TRISX"
       ]
      },
      {
       "output_type": "stream",
       "stream": "stdout",
       "text": [
        "\n",
        "fund_returns_RPIBX"
       ]
      },
      {
       "output_type": "stream",
       "stream": "stdout",
       "text": [
        "\n",
        "fund_returns_PRIDX"
       ]
      },
      {
       "output_type": "stream",
       "stream": "stdout",
       "text": [
        "\n",
        "fund_returns_PIEQX"
       ]
      },
      {
       "output_type": "stream",
       "stream": "stdout",
       "text": [
        "\n",
        "fund_returns_PRITX"
       ]
      },
      {
       "output_type": "stream",
       "stream": "stdout",
       "text": [
        "\n",
        "fund_returns_TRIGX"
       ]
      },
      {
       "output_type": "stream",
       "stream": "stdout",
       "text": [
        "\n",
        "fund_returns_PRJPX"
       ]
      },
      {
       "output_type": "stream",
       "stream": "stdout",
       "text": [
        "\n",
        "fund_returns_PRLAX"
       ]
      },
      {
       "output_type": "stream",
       "stream": "stdout",
       "text": [
        "\n",
        "fund_returns_PRMDX"
       ]
      },
      {
       "output_type": "stream",
       "stream": "stdout",
       "text": [
        "\n",
        "fund_returns_MDXBX"
       ]
      },
      {
       "output_type": "stream",
       "stream": "stdout",
       "text": [
        "\n",
        "fund_returns_PRMTX"
       ]
      },
      {
       "output_type": "stream",
       "stream": "stdout",
       "text": [
        "\n",
        "fund_returns_RPMGX"
       ]
      },
      {
       "output_type": "stream",
       "stream": "stdout",
       "text": [
        "\n",
        "fund_returns_TRMCX"
       ]
      },
      {
       "output_type": "stream",
       "stream": "stdout",
       "text": [
        "\n",
        "fund_returns_PRWAX"
       ]
      },
      {
       "output_type": "stream",
       "stream": "stdout",
       "text": [
        "\n",
        "fund_returns_PRASX"
       ]
      },
      {
       "output_type": "stream",
       "stream": "stdout",
       "text": [
        "\n",
        "fund_returns_PRNEX"
       ]
      },
      {
       "output_type": "stream",
       "stream": "stdout",
       "text": [
        "\n",
        "fund_returns_PRNHX"
       ]
      },
      {
       "output_type": "stream",
       "stream": "stdout",
       "text": [
        "\n",
        "fund_returns_PRCIX"
       ]
      },
      {
       "output_type": "stream",
       "stream": "stdout",
       "text": [
        "\n",
        "fund_returns_NJTFX"
       ]
      },
      {
       "output_type": "stream",
       "stream": "stdout",
       "text": [
        "\n",
        "fund_returns_PRNYX"
       ]
      },
      {
       "output_type": "stream",
       "stream": "stdout",
       "text": [
        "\n",
        "fund_returns_TROSX"
       ]
      },
      {
       "output_type": "stream",
       "stream": "stdout",
       "text": [
        "\n",
        "fund_returns_TRPBX"
       ]
      },
      {
       "output_type": "stream",
       "stream": "stdout",
       "text": [
        "\n",
        "fund_returns_TRSGX"
       ]
      },
      {
       "output_type": "stream",
       "stream": "stdout",
       "text": [
        "\n",
        "fund_returns_PRSIX"
       ]
      },
      {
       "output_type": "stream",
       "stream": "stdout",
       "text": [
        "\n",
        "fund_returns_PRAFX"
       ]
      },
      {
       "output_type": "stream",
       "stream": "stdout",
       "text": [
        "\n",
        "fund_returns_TRREX"
       ]
      },
      {
       "output_type": "stream",
       "stream": "stdout",
       "text": [
        "\n",
        "fund_returns_TRRFX"
       ]
      },
      {
       "output_type": "stream",
       "stream": "stdout",
       "text": [
        "\n",
        "fund_returns_TRRAX"
       ]
      },
      {
       "output_type": "stream",
       "stream": "stdout",
       "text": [
        "\n",
        "fund_returns_TRRGX"
       ]
      },
      {
       "output_type": "stream",
       "stream": "stdout",
       "text": [
        "\n",
        "fund_returns_TRRBX"
       ]
      },
      {
       "output_type": "stream",
       "stream": "stdout",
       "text": [
        "\n",
        "fund_returns_TRRHX"
       ]
      },
      {
       "output_type": "stream",
       "stream": "stdout",
       "text": [
        "\n",
        "fund_returns_TRRCX"
       ]
      },
      {
       "output_type": "stream",
       "stream": "stdout",
       "text": [
        "\n",
        "fund_returns_TRRJX"
       ]
      },
      {
       "output_type": "stream",
       "stream": "stdout",
       "text": [
        "\n",
        "fund_returns_TRRDX"
       ]
      },
      {
       "output_type": "stream",
       "stream": "stdout",
       "text": [
        "\n",
        "fund_returns_TRRKX"
       ]
      },
      {
       "output_type": "stream",
       "stream": "stdout",
       "text": [
        "\n",
        "fund_returns_PARFX"
       ]
      },
      {
       "output_type": "stream",
       "stream": "stdout",
       "text": [
        "\n",
        "fund_returns_TRRNX"
       ]
      },
      {
       "output_type": "stream",
       "stream": "stdout",
       "text": [
        "\n",
        "fund_returns_TRRYX"
       ]
      },
      {
       "output_type": "stream",
       "stream": "stdout",
       "text": [
        "\n",
        "fund_returns_TRRIX"
       ]
      },
      {
       "output_type": "stream",
       "stream": "stdout",
       "text": [
        "\n",
        "fund_returns_PRSCX"
       ]
      },
      {
       "output_type": "stream",
       "stream": "stdout",
       "text": [
        "\n",
        "fund_returns_PRWBX"
       ]
      },
      {
       "output_type": "stream",
       "stream": "stdout",
       "text": [
        "\n",
        "fund_returns_OTCFX"
       ]
      },
      {
       "output_type": "stream",
       "stream": "stdout",
       "text": [
        "\n",
        "fund_returns_PRSVX"
       ]
      },
      {
       "output_type": "stream",
       "stream": "stdout",
       "text": [
        "\n",
        "fund_returns_PRSGX"
       ]
      },
      {
       "output_type": "stream",
       "stream": "stdout",
       "text": [
        "\n",
        "fund_returns_RPSIX"
       ]
      },
      {
       "output_type": "stream",
       "stream": "stdout",
       "text": [
        "\n",
        "fund_returns_PSILX"
       ]
      },
      {
       "output_type": "stream",
       "stream": "stdout",
       "text": [
        "\n",
        "fund_returns_PRSAX"
       ]
      },
      {
       "output_type": "stream",
       "stream": "stdout",
       "text": [
        "\n",
        "fund_returns_PRINX"
       ]
      },
      {
       "output_type": "stream",
       "stream": "stdout",
       "text": [
        "\n",
        "fund_returns_PRSMX"
       ]
      },
      {
       "output_type": "stream",
       "stream": "stdout",
       "text": [
        "\n",
        "fund_returns_PANRX"
       ]
      },
      {
       "output_type": "stream",
       "stream": "stdout",
       "text": [
        "\n",
        "fund_returns_PAERX"
       ]
      },
      {
       "output_type": "stream",
       "stream": "stdout",
       "text": [
        "\n",
        "fund_returns_PAHRX"
       ]
      },
      {
       "output_type": "stream",
       "stream": "stdout",
       "text": [
        "\n",
        "fund_returns_PAIRX"
       ]
      },
      {
       "output_type": "stream",
       "stream": "stdout",
       "text": [
        "\n",
        "fund_returns_PAJRX"
       ]
      },
      {
       "output_type": "stream",
       "stream": "stdout",
       "text": [
        "\n",
        "fund_returns_PAKRX"
       ]
      },
      {
       "output_type": "stream",
       "stream": "stdout",
       "text": [
        "\n",
        "fund_returns_PATVX"
       ]
      },
      {
       "output_type": "stream",
       "stream": "stdout",
       "text": [
        "\n",
        "fund_returns_PAHHX"
       ]
      },
      {
       "output_type": "stream",
       "stream": "stdout",
       "text": [
        "\n",
        "fund_returns_PAFFX"
       ]
      },
      {
       "output_type": "stream",
       "stream": "stdout",
       "text": [
        "\n",
        "fund_returns_PAOFX"
       ]
      },
      {
       "output_type": "stream",
       "stream": "stdout",
       "text": [
        "\n",
        "fund_returns_PAFTX"
       ]
      },
      {
       "output_type": "stream",
       "stream": "stdout",
       "text": [
        "\n",
        "fund_returns_TRTGX"
       ]
      },
      {
       "output_type": "stream",
       "stream": "stdout",
       "text": [
        "\n",
        "fund_returns_PREFX"
       ]
      },
      {
       "output_type": "stream",
       "stream": "stdout",
       "text": [
        "\n",
        "fund_returns_PRFHX"
       ]
      },
      {
       "output_type": "stream",
       "stream": "stdout",
       "text": [
        "\n",
        "fund_returns_PRTAX"
       ]
      },
      {
       "output_type": "stream",
       "stream": "stdout",
       "text": [
        "\n",
        "fund_returns_PRFSX"
       ]
      },
      {
       "output_type": "stream",
       "stream": "stdout",
       "text": [
        "\n",
        "fund_returns_POMIX"
       ]
      },
      {
       "output_type": "stream",
       "stream": "stdout",
       "text": [
        "\n",
        "fund_returns_PBDIX"
       ]
      },
      {
       "output_type": "stream",
       "stream": "stdout",
       "text": [
        "\n",
        "fund_returns_TRBUX"
       ]
      },
      {
       "output_type": "stream",
       "stream": "stdout",
       "text": [
        "\n",
        "fund_returns_PAULX"
       ]
      },
      {
       "output_type": "stream",
       "stream": "stdout",
       "text": [
        "\n",
        "fund_returns_PRTIX"
       ]
      },
      {
       "output_type": "stream",
       "stream": "stdout",
       "text": [
        "\n",
        "fund_returns_PRULX"
       ]
      },
      {
       "output_type": "stream",
       "stream": "stdout",
       "text": [
        "\n",
        "fund_returns_PRVAX"
       ]
      },
      {
       "output_type": "stream",
       "stream": "stdout",
       "text": [
        "\n",
        "fund_returns_TRVLX"
       ]
      },
      {
       "output_type": "stream",
       "stream": "stdout",
       "text": [
        "\n",
        "fund_returns_JASAX"
       ]
      },
      {
       "output_type": "stream",
       "stream": "stdout",
       "text": [
        "\n",
        "fund_returns_JAPFX"
       ]
      },
      {
       "output_type": "stream",
       "stream": "stdout",
       "text": [
        "\n",
        "fund_returns_JPICX"
       ]
      },
      {
       "output_type": "stream",
       "stream": "stdout",
       "text": [
        "\n",
        "fund_returns_JCHAX"
       ]
      },
      {
       "output_type": "stream",
       "stream": "stdout",
       "text": [
        "\n",
        "fund_returns_CSAFX"
       ]
      },
      {
       "output_type": "stream",
       "stream": "stdout",
       "text": [
        "\n",
        "fund_returns_WOBDX"
       ]
      },
      {
       "output_type": "stream",
       "stream": "stdout",
       "text": [
        "\n",
        "fund_returns_ONIAX"
       ]
      },
      {
       "output_type": "stream",
       "stream": "stdout",
       "text": [
        "\n",
        "fund_returns_CBRAX"
       ]
      },
      {
       "output_type": "stream",
       "stream": "stdout",
       "text": [
        "\n",
        "fund_returns_JPCIX"
       ]
      },
      {
       "output_type": "stream",
       "stream": "stdout",
       "text": [
        "\n",
        "fund_returns_JPIEX"
       ]
      },
      {
       "output_type": "stream",
       "stream": "stdout",
       "text": [
        "\n",
        "fund_returns_JPDVX"
       ]
      },
      {
       "output_type": "stream",
       "stream": "stdout",
       "text": [
        "\n",
        "fund_returns_JRNAX"
       ]
      },
      {
       "output_type": "stream",
       "stream": "stdout",
       "text": [
        "\n",
        "fund_returns_DGAAX"
       ]
      },
      {
       "output_type": "stream",
       "stream": "stdout",
       "text": [
        "\n",
        "fund_returns_VSCOX"
       ]
      },
      {
       "output_type": "stream",
       "stream": "stdout",
       "text": [
        "\n",
        "fund_returns_JEEAX"
       ]
      },
      {
       "output_type": "stream",
       "stream": "stdout",
       "text": [
        "\n",
        "fund_returns_JEMDX"
       ]
      },
      {
       "output_type": "stream",
       "stream": "stdout",
       "text": [
        "\n",
        "fund_returns_JMIEX"
       ]
      },
      {
       "output_type": "stream",
       "stream": "stdout",
       "text": [
        "\n",
        "fund_returns_JECAX"
       ]
      },
      {
       "output_type": "stream",
       "stream": "stdout",
       "text": [
        "\n",
        "fund_returns_JPFAX"
       ]
      },
      {
       "output_type": "stream",
       "stream": "stdout",
       "text": [
        "\n",
        "fund_returns_HLIEX"
       ]
      },
      {
       "output_type": "stream",
       "stream": "stdout",
       "text": [
        "\n",
        "fund_returns_HLEIX"
       ]
      },
      {
       "output_type": "stream",
       "stream": "stdout",
       "text": [
        "\n",
        "fund_returns_JPHAX"
       ]
      },
      {
       "output_type": "stream",
       "stream": "stdout",
       "text": [
        "\n",
        "fund_returns_GAOAX"
       ]
      },
      {
       "output_type": "stream",
       "stream": "stdout",
       "text": [
        "\n",
        "fund_returns_GBOAX"
       ]
      },
      {
       "output_type": "stream",
       "stream": "stdout",
       "text": [
        "\n",
        "fund_returns_JEIAX"
       ]
      },
      {
       "output_type": "stream",
       "stream": "stdout",
       "text": [
        "\n",
        "fund_returns_JGNAX"
       ]
      },
      {
       "output_type": "stream",
       "stream": "stdout",
       "text": [
        "\n",
        "fund_returns_JEITX"
       ]
      },
      {
       "output_type": "stream",
       "stream": "stdout",
       "text": [
        "\n",
        "fund_returns_HLGAX"
       ]
      },
      {
       "output_type": "stream",
       "stream": "stdout",
       "text": [
        "\n",
        "fund_returns_VGRIX"
       ]
      },
      {
       "output_type": "stream",
       "stream": "stdout",
       "text": [
        "\n",
        "fund_returns_VHIAX"
       ]
      },
      {
       "output_type": "stream",
       "stream": "stdout",
       "text": [
        "\n",
        "fund_returns_OHYAX"
       ]
      },
      {
       "output_type": "stream",
       "stream": "stdout",
       "text": [
        "\n",
        "fund_returns_JNBAX"
       ]
      },
      {
       "output_type": "stream",
       "stream": "stdout",
       "text": [
        "\n",
        "fund_returns_JIMAX"
       ]
      },
      {
       "output_type": "stream",
       "stream": "stdout",
       "text": [
        "\n",
        "fund_returns_VSITX"
       ]
      },
      {
       "output_type": "stream",
       "stream": "stdout",
       "text": [
        "\n",
        "fund_returns_JCIAX"
       ]
      },
      {
       "output_type": "stream",
       "stream": "stdout",
       "text": [
        "\n",
        "fund_returns_VSIEX"
       ]
      },
      {
       "output_type": "stream",
       "stream": "stdout",
       "text": [
        "\n",
        "fund_returns_OIEAX"
       ]
      },
      {
       "output_type": "stream",
       "stream": "stdout",
       "text": [
        "\n",
        "fund_returns_IUAEX"
       ]
      },
      {
       "output_type": "stream",
       "stream": "stdout",
       "text": [
        "\n",
        "fund_returns_JNUSX"
       ]
      },
      {
       "output_type": "stream",
       "stream": "stdout",
       "text": [
        "\n",
        "fund_returns_JPIOX"
       ]
      },
      {
       "output_type": "stream",
       "stream": "stdout",
       "text": [
        "\n",
        "fund_returns_JIISX"
       ]
      },
      {
       "output_type": "stream",
       "stream": "stdout",
       "text": [
        "\n",
        "fund_returns_JPIAX"
       ]
      },
      {
       "output_type": "stream",
       "stream": "stdout",
       "text": [
        "\n",
        "fund_returns_VEUAX"
       ]
      },
      {
       "output_type": "stream",
       "stream": "stdout",
       "text": [
        "\n",
        "fund_returns_JPGSX"
       ]
      },
      {
       "output_type": "stream",
       "stream": "stdout",
       "text": [
        "\n",
        "fund_returns_JFTAX"
       ]
      },
      {
       "output_type": "stream",
       "stream": "stdout",
       "text": [
        "\n",
        "fund_returns_WOOPX"
       ]
      },
      {
       "output_type": "stream",
       "stream": "stdout",
       "text": [
        "\n",
        "fund_returns_JPIVX"
       ]
      },
      {
       "output_type": "stream",
       "stream": "stdout",
       "text": [
        "\n",
        "fund_returns_OGIAX"
       ]
      },
      {
       "output_type": "stream",
       "stream": "stdout",
       "text": [
        "\n",
        "fund_returns_OICAX"
       ]
      },
      {
       "output_type": "stream",
       "stream": "stdout",
       "text": [
        "\n",
        "fund_returns_ONGIX"
       ]
      },
      {
       "output_type": "stream",
       "stream": "stdout",
       "text": [
        "\n",
        "fund_returns_ONGAX"
       ]
      },
      {
       "output_type": "stream",
       "stream": "stdout",
       "text": [
        "\n",
        "fund_returns_SEEGX"
       ]
      },
      {
       "output_type": "stream",
       "stream": "stdout",
       "text": [
        "\n",
        "fund_returns_HLQVX"
       ]
      },
      {
       "output_type": "stream",
       "stream": "stdout",
       "text": [
        "\n",
        "fund_returns_JLTAX"
       ]
      },
      {
       "output_type": "stream",
       "stream": "stdout",
       "text": [
        "\n",
        "fund_returns_HLGFX"
       ]
      },
      {
       "output_type": "stream",
       "stream": "stdout",
       "text": [
        "\n",
        "fund_returns_JMGIX"
       ]
      },
      {
       "output_type": "stream",
       "stream": "stdout",
       "text": [
        "\n",
        "fund_returns_OMEAX"
       ]
      },
      {
       "output_type": "stream",
       "stream": "stdout",
       "text": [
        "\n",
        "No Returns Data available for Fund : "
       ]
      },
      {
       "output_type": "stream",
       "stream": "stdout",
       "text": [
        " OMEAX\n",
        "fund_returns_HSKAX\n",
        "fund_returns_VSNGX"
       ]
      },
      {
       "output_type": "stream",
       "stream": "stdout",
       "text": [
        "\n",
        "fund_returns_HLGEX"
       ]
      },
      {
       "output_type": "stream",
       "stream": "stdout",
       "text": [
        "\n",
        "fund_returns_FLMVX"
       ]
      },
      {
       "output_type": "stream",
       "stream": "stdout",
       "text": [
        "\n",
        "fund_returns_OMBAX"
       ]
      },
      {
       "output_type": "stream",
       "stream": "stdout",
       "text": [
        "\n",
        "fund_returns_OGNAX"
       ]
      },
      {
       "output_type": "stream",
       "stream": "stdout",
       "text": [
        "\n",
        "fund_returns_JSIAX"
       ]
      },
      {
       "output_type": "stream",
       "stream": "stdout",
       "text": [
        "\n",
        "fund_returns_HLTAX"
       ]
      },
      {
       "output_type": "stream",
       "stream": "stdout",
       "text": [
        "\n",
        "fund_returns_VINTX"
       ]
      },
      {
       "output_type": "stream",
       "stream": "stdout",
       "text": [
        "\n",
        "fund_returns_HLOMX"
       ]
      },
      {
       "output_type": "stream",
       "stream": "stdout",
       "text": [
        "\n",
        "fund_returns_RRNAX"
       ]
      },
      {
       "output_type": "stream",
       "stream": "stdout",
       "text": [
        "\n",
        "fund_returns_URTLX"
       ]
      },
      {
       "output_type": "stream",
       "stream": "stdout",
       "text": [
        "\n",
        "fund_returns_JLSAX"
       ]
      },
      {
       "output_type": "stream",
       "stream": "stdout",
       "text": [
        "\n",
        "fund_returns_JPMNX"
       ]
      },
      {
       "output_type": "stream",
       "stream": "stdout",
       "text": [
        "\n",
        "fund_returns_CEEAX"
       ]
      },
      {
       "output_type": "stream",
       "stream": "stdout",
       "text": [
        "\n",
        "fund_returns_HLLVX"
       ]
      },
      {
       "output_type": "stream",
       "stream": "stdout",
       "text": [
        "\n",
        "fund_returns_JSDHX"
       ]
      },
      {
       "output_type": "stream",
       "stream": "stdout",
       "text": [
        "\n",
        "fund_returns_OSTAX"
       ]
      },
      {
       "output_type": "stream",
       "stream": "stdout",
       "text": [
        "\n",
        "fund_returns_VSSCX"
       ]
      },
      {
       "output_type": "stream",
       "stream": "stdout",
       "text": [
        "\n",
        "fund_returns_VSEAX"
       ]
      },
      {
       "output_type": "stream",
       "stream": "stdout",
       "text": [
        "\n",
        "fund_returns_PGSGX"
       ]
      },
      {
       "output_type": "stream",
       "stream": "stdout",
       "text": [
        "\n",
        "fund_returns_PSOAX"
       ]
      },
      {
       "output_type": "stream",
       "stream": "stdout",
       "text": [
        "\n",
        "fund_returns_SAEAX"
       ]
      },
      {
       "output_type": "stream",
       "stream": "stdout",
       "text": [
        "\n",
        "fund_returns_SAIAX"
       ]
      },
      {
       "output_type": "stream",
       "stream": "stdout",
       "text": [
        "\n",
        "fund_returns_JSFAX"
       ]
      },
      {
       "output_type": "stream",
       "stream": "stdout",
       "text": [
        "\n",
        "fund_returns_JTTAX"
       ]
      },
      {
       "output_type": "stream",
       "stream": "stdout",
       "text": [
        "\n",
        "fund_returns_JNSAX"
       ]
      },
      {
       "output_type": "stream",
       "stream": "stdout",
       "text": [
        "\n",
        "fund_returns_JSMAX"
       ]
      },
      {
       "output_type": "stream",
       "stream": "stdout",
       "text": [
        "\n",
        "fund_returns_SRJAX"
       ]
      },
      {
       "output_type": "stream",
       "stream": "stdout",
       "text": [
        "\n",
        "fund_returns_SMTAX"
       ]
      },
      {
       "output_type": "stream",
       "stream": "stdout",
       "text": [
        "\n",
        "fund_returns_JSAAX"
       ]
      },
      {
       "output_type": "stream",
       "stream": "stdout",
       "text": [
        "\n",
        "fund_returns_JTSAX"
       ]
      },
      {
       "output_type": "stream",
       "stream": "stdout",
       "text": [
        "\n",
        "fund_returns_JFFAX"
       ]
      },
      {
       "output_type": "stream",
       "stream": "stdout",
       "text": [
        "\n",
        "fund_returns_JSBWX"
       ]
      },
      {
       "output_type": "stream",
       "stream": "stdout",
       "text": [
        "\n",
        "fund_returns_JBSRX"
       ]
      },
      {
       "output_type": "stream",
       "stream": "stdout",
       "text": [
        "\n",
        "fund_returns_JBBSX"
       ]
      },
      {
       "output_type": "stream",
       "stream": "stdout",
       "text": [
        "\n",
        "fund_returns_JRBBX"
       ]
      },
      {
       "output_type": "stream",
       "stream": "stdout",
       "text": [
        "\n",
        "fund_returns_JPBRX"
       ]
      },
      {
       "output_type": "stream",
       "stream": "stdout",
       "text": [
        "\n",
        "fund_returns_JOBBX"
       ]
      },
      {
       "output_type": "stream",
       "stream": "stdout",
       "text": [
        "\n",
        "fund_returns_JMBRX"
       ]
      },
      {
       "output_type": "stream",
       "stream": "stdout",
       "text": [
        "\n",
        "fund_returns_JNABX"
       ]
      },
      {
       "output_type": "stream",
       "stream": "stdout",
       "text": [
        "\n",
        "fund_returns_JTBBX"
       ]
      },
      {
       "output_type": "stream",
       "stream": "stdout",
       "text": [
        "\n",
        "fund_returns_JIBBX"
       ]
      },
      {
       "output_type": "stream",
       "stream": "stdout",
       "text": [
        "\n",
        "fund_returns_JSRAX"
       ]
      },
      {
       "output_type": "stream",
       "stream": "stdout",
       "text": [
        "\n",
        "fund_returns_JSOAX"
       ]
      },
      {
       "output_type": "stream",
       "stream": "stdout",
       "text": [
        "\n",
        "fund_returns_JPDEX"
       ]
      },
      {
       "output_type": "stream",
       "stream": "stdout",
       "text": [
        "\n",
        "fund_returns_JTIAX"
       ]
      },
      {
       "output_type": "stream",
       "stream": "stdout",
       "text": [
        "\n",
        "fund_returns_JTAAX"
       ]
      },
      {
       "output_type": "stream",
       "stream": "stdout",
       "text": [
        "\n",
        "fund_returns_TXRAX"
       ]
      },
      {
       "output_type": "stream",
       "stream": "stdout",
       "text": [
        "\n",
        "fund_returns_JTARX"
       ]
      },
      {
       "output_type": "stream",
       "stream": "stdout",
       "text": [
        "\n",
        "fund_returns_PMBAX"
       ]
      },
      {
       "output_type": "stream",
       "stream": "stdout",
       "text": [
        "\n",
        "fund_returns_TMGGX"
       ]
      },
      {
       "output_type": "stream",
       "stream": "stdout",
       "text": [
        "\n",
        "fund_returns_JMTAX"
       ]
      },
      {
       "output_type": "stream",
       "stream": "stdout",
       "text": [
        "\n",
        "fund_returns_OTABX"
       ]
      },
      {
       "output_type": "stream",
       "stream": "stdout",
       "text": [
        "\n",
        "fund_returns_JPSAX"
       ]
      },
      {
       "output_type": "stream",
       "stream": "stdout",
       "text": [
        "\n",
        "fund_returns_JMUEX"
       ]
      },
      {
       "output_type": "stream",
       "stream": "stdout",
       "text": [
        "\n",
        "fund_returns_JLCAX"
       ]
      },
      {
       "output_type": "stream",
       "stream": "stdout",
       "text": [
        "\n",
        "fund_returns_JEPAX"
       ]
      },
      {
       "output_type": "stream",
       "stream": "stdout",
       "text": [
        "\n",
        "fund_returns_JUSSX"
       ]
      },
      {
       "output_type": "stream",
       "stream": "stdout",
       "text": [
        "\n",
        "fund_returns_JVAAX"
       ]
      },
      {
       "output_type": "stream",
       "stream": "stdout",
       "text": [
        "\n",
        "fund_returns_UBVLX"
       ]
      },
      {
       "output_type": "stream",
       "stream": "stdout",
       "text": [
        "\n",
        "fund_returns_FFIDX"
       ]
      },
      {
       "output_type": "stream",
       "stream": "stdout",
       "text": [
        "\n",
        "fund_returns_FTAAX"
       ]
      },
      {
       "output_type": "stream",
       "stream": "stdout",
       "text": [
        "\n",
        "fund_returns_FFNAX"
       ]
      },
      {
       "output_type": "stream",
       "stream": "stdout",
       "text": [
        "\n",
        "fund_returns_FSAAX"
       ]
      },
      {
       "output_type": "stream",
       "stream": "stdout",
       "text": [
        "\n",
        "fund_returns_FFAVX"
       ]
      },
      {
       "output_type": "stream",
       "stream": "stdout",
       "text": [
        "\n",
        "fund_returns_FACFX"
       ]
      },
      {
       "output_type": "stream",
       "stream": "stdout",
       "text": [
        "\n",
        "fund_returns_FFVAX"
       ]
      },
      {
       "output_type": "stream",
       "stream": "stdout",
       "text": [
        "\n",
        "fund_returns_FDAFX"
       ]
      },
      {
       "output_type": "stream",
       "stream": "stdout",
       "text": [
        "\n",
        "fund_returns_FATWX"
       ]
      },
      {
       "output_type": "stream",
       "stream": "stdout",
       "text": [
        "\n",
        "fund_returns_FAFEX"
       ]
      },
      {
       "output_type": "stream",
       "stream": "stdout",
       "text": [
        "\n",
        "fund_returns_FATHX"
       ]
      },
      {
       "output_type": "stream",
       "stream": "stdout",
       "text": [
        "\n",
        "fund_returns_FAFFX"
       ]
      },
      {
       "output_type": "stream",
       "stream": "stdout",
       "text": [
        "\n",
        "fund_returns_FFFZX"
       ]
      },
      {
       "output_type": "stream",
       "stream": "stdout",
       "text": [
        "\n",
        "fund_returns_FFFLX"
       ]
      },
      {
       "output_type": "stream",
       "stream": "stdout",
       "text": [
        "\n",
        "fund_returns_FHFAX"
       ]
      },
      {
       "output_type": "stream",
       "stream": "stdout",
       "text": [
        "\n",
        "fund_returns_FAFAX"
       ]
      },
      {
       "output_type": "stream",
       "stream": "stdout",
       "text": [
        "\n",
        "fund_returns_FRJAX"
       ]
      },
      {
       "output_type": "stream",
       "stream": "stdout",
       "text": [
        "\n",
        "fund_returns_FRKAX"
       ]
      },
      {
       "output_type": "stream",
       "stream": "stdout",
       "text": [
        "\n",
        "fund_returns_FILAX"
       ]
      },
      {
       "output_type": "stream",
       "stream": "stdout",
       "text": [
        "\n",
        "fund_returns_FRAMX"
       ]
      },
      {
       "output_type": "stream",
       "stream": "stdout",
       "text": [
        "\n",
        "fund_returns_FRNAX"
       ]
      },
      {
       "output_type": "stream",
       "stream": "stdout",
       "text": [
        "\n",
        "fund_returns_FIOAX"
       ]
      },
      {
       "output_type": "stream",
       "stream": "stdout",
       "text": [
        "\n",
        "fund_returns_FARPX"
       ]
      },
      {
       "output_type": "stream",
       "stream": "stdout",
       "text": [
        "\n",
        "fund_returns_FRQAX"
       ]
      },
      {
       "output_type": "stream",
       "stream": "stdout",
       "text": [
        "\n",
        "fund_returns_FIARX"
       ]
      },
      {
       "output_type": "stream",
       "stream": "stdout",
       "text": [
        "\n",
        "fund_returns_FARSX"
       ]
      },
      {
       "output_type": "stream",
       "stream": "stdout",
       "text": [
        "\n",
        "fund_returns_FURAX"
       ]
      },
      {
       "output_type": "stream",
       "stream": "stdout",
       "text": [
        "\n",
        "fund_returns_FARVX"
       ]
      },
      {
       "output_type": "stream",
       "stream": "stdout",
       "text": [
        "\n",
        "fund_returns_FARWX"
       ]
      },
      {
       "output_type": "stream",
       "stream": "stdout",
       "text": [
        "\n",
        "fund_returns_FARFX"
       ]
      },
      {
       "output_type": "stream",
       "stream": "stdout",
       "text": [
        "\n",
        "fund_returns_FAIGX"
       ]
      },
      {
       "output_type": "stream",
       "stream": "stdout",
       "text": [
        "\n",
        "fund_returns_FBTAX"
       ]
      },
      {
       "output_type": "stream",
       "stream": "stdout",
       "text": [
        "\n",
        "fund_returns_FDETX"
       ]
      },
      {
       "output_type": "stream",
       "stream": "stdout",
       "text": [
        "\n",
        "fund_returns_FDMAX"
       ]
      },
      {
       "output_type": "stream",
       "stream": "stdout",
       "text": [
        "\n",
        "fund_returns_FCNAX"
       ]
      },
      {
       "output_type": "stream",
       "stream": "stdout",
       "text": [
        "\n",
        "fund_returns_FCBAX"
       ]
      },
      {
       "output_type": "stream",
       "stream": "stdout",
       "text": [
        "\n",
        "fund_returns_FDVAX"
       ]
      },
      {
       "output_type": "stream",
       "stream": "stdout",
       "text": [
        "\n",
        "fund_returns_FDESX"
       ]
      },
      {
       "output_type": "stream",
       "stream": "stdout",
       "text": [
        "\n",
        "fund_returns_FADAX"
       ]
      },
      {
       "output_type": "stream",
       "stream": "stdout",
       "text": [
        "\n",
        "fund_returns_FELAX"
       ]
      },
      {
       "output_type": "stream",
       "stream": "stdout",
       "text": [
        "\n",
        "fund_returns_FMEAX"
       ]
      },
      {
       "output_type": "stream",
       "stream": "stdout",
       "text": [
        "\n",
        "fund_returns_FEDAX"
       ]
      },
      {
       "output_type": "stream",
       "stream": "stdout",
       "text": [
        "\n",
        "fund_returns_FEAAX"
       ]
      },
      {
       "output_type": "stream",
       "stream": "stdout",
       "text": [
        "\n",
        "fund_returns_FAMKX"
       ]
      },
      {
       "output_type": "stream",
       "stream": "stdout",
       "text": [
        "\n",
        "fund_returns_FAEMX"
       ]
      },
      {
       "output_type": "stream",
       "stream": "stdout",
       "text": [
        "\n",
        "fund_returns_FAGNX"
       ]
      },
      {
       "output_type": "stream",
       "stream": "stdout",
       "text": [
        "\n",
        "fund_returns_EQPGX"
       ]
      },
      {
       "output_type": "stream",
       "stream": "stdout",
       "text": [
        "\n",
        "fund_returns_EQPIX"
       ]
      },
      {
       "output_type": "stream",
       "stream": "stdout",
       "text": [
        "\n",
        "fund_returns_FAVAX"
       ]
      },
      {
       "output_type": "stream",
       "stream": "stdout",
       "text": [
        "\n",
        "fund_returns_FCHSX"
       ]
      },
      {
       "output_type": "stream",
       "stream": "stdout",
       "text": [
        "\n",
        "fund_returns_FAFDX"
       ]
      },
      {
       "output_type": "stream",
       "stream": "stdout",
       "text": [
        "\n",
        "fund_returns_FFRAX"
       ]
      },
      {
       "output_type": "stream",
       "stream": "stdout",
       "text": [
        "\n",
        "fund_returns_FGEAX"
       ]
      },
      {
       "output_type": "stream",
       "stream": "stdout",
       "text": [
        "\n",
        "fund_returns_FGBZX"
       ]
      },
      {
       "output_type": "stream",
       "stream": "stdout",
       "text": [
        "\n",
        "fund_returns_FFGAX"
       ]
      },
      {
       "output_type": "stream",
       "stream": "stdout",
       "text": [
        "\n",
        "fund_returns_FBLYX"
       ]
      },
      {
       "output_type": "stream",
       "stream": "stdout",
       "text": [
        "\n",
        "fund_returns_FGHAX"
       ]
      },
      {
       "output_type": "stream",
       "stream": "stdout",
       "text": [
        "\n",
        "fund_returns_FDASX"
       ]
      },
      {
       "output_type": "stream",
       "stream": "stdout",
       "text": [
        "\n",
        "fund_returns_FGIRX"
       ]
      },
      {
       "output_type": "stream",
       "stream": "stdout",
       "text": [
        "\n",
        "fund_returns_FAGOX"
       ]
      },
      {
       "output_type": "stream",
       "stream": "stdout",
       "text": [
        "\n",
        "fund_returns_FACDX"
       ]
      },
      {
       "output_type": "stream",
       "stream": "stdout",
       "text": [
        "\n",
        "fund_returns_FHIAX"
       ]
      },
      {
       "output_type": "stream",
       "stream": "stdout",
       "text": [
        "\n",
        "fund_returns_FAHDX"
       ]
      },
      {
       "output_type": "stream",
       "stream": "stdout",
       "text": [
        "\n",
        "fund_returns_FCLAX"
       ]
      },
      {
       "output_type": "stream",
       "stream": "stdout",
       "text": [
        "\n",
        "fund_returns_FINWX"
       ]
      },
      {
       "output_type": "stream",
       "stream": "stdout",
       "text": [
        "\n",
        "fund_returns_FIAGX"
       ]
      },
      {
       "output_type": "stream",
       "stream": "stdout",
       "text": [
        "\n",
        "fund_returns_FIVMX"
       ]
      },
      {
       "output_type": "stream",
       "stream": "stdout",
       "text": [
        "\n",
        "fund_returns_FCPAX"
       ]
      },
      {
       "output_type": "stream",
       "stream": "stdout",
       "text": [
        "\n",
        "fund_returns_FOPAX"
       ]
      },
      {
       "output_type": "stream",
       "stream": "stdout",
       "text": [
        "\n",
        "fund_returns_FALHX"
       ]
      },
      {
       "output_type": "stream",
       "stream": "stdout",
       "text": [
        "\n",
        "fund_returns_FLSAX"
       ]
      },
      {
       "output_type": "stream",
       "stream": "stdout",
       "text": [
        "\n",
        "fund_returns_EFIPX"
       ]
      },
      {
       "output_type": "stream",
       "stream": "stdout",
       "text": [
        "\n",
        "fund_returns_FGRTX"
       ]
      },
      {
       "output_type": "stream",
       "stream": "stdout",
       "text": [
        "\n",
        "fund_returns_FIIAX"
       ]
      },
      {
       "output_type": "stream",
       "stream": "stdout",
       "text": [
        "\n",
        "fund_returns_FAMPX"
       ]
      },
      {
       "output_type": "stream",
       "stream": "stdout",
       "text": [
        "\n",
        "fund_returns_FAMMX"
       ]
      },
      {
       "output_type": "stream",
       "stream": "stdout",
       "text": [
        "\n",
        "fund_returns_FAPAX"
       ]
      },
      {
       "output_type": "stream",
       "stream": "stdout",
       "text": [
        "\n",
        "fund_returns_FOMAX"
       ]
      },
      {
       "output_type": "stream",
       "stream": "stdout",
       "text": [
        "\n",
        "fund_returns_FSODX"
       ]
      },
      {
       "output_type": "stream",
       "stream": "stdout",
       "text": [
        "\n",
        "fund_returns_FAHIX"
       ]
      },
      {
       "output_type": "stream",
       "stream": "stdout",
       "text": [
        "\n",
        "fund_returns_FNIAX"
       ]
      },
      {
       "output_type": "stream",
       "stream": "stdout",
       "text": [
        "\n",
        "fund_returns_FAERX"
       ]
      },
      {
       "output_type": "stream",
       "stream": "stdout",
       "text": [
        "\n",
        "fund_returns_FHEAX"
       ]
      },
      {
       "output_type": "stream",
       "stream": "stdout",
       "text": [
        "\n",
        "fund_returns_FLMLX"
       ]
      },
      {
       "output_type": "stream",
       "stream": "stdout",
       "text": [
        "\n",
        "fund_returns_FAMGX"
       ]
      },
      {
       "output_type": "stream",
       "stream": "stdout",
       "text": [
        "\n",
        "fund_returns_FMMLX"
       ]
      },
      {
       "output_type": "stream",
       "stream": "stdout",
       "text": [
        "\n",
        "fund_returns_FMALX"
       ]
      },
      {
       "output_type": "stream",
       "stream": "stdout",
       "text": [
        "\n",
        "fund_returns_FAOFX"
       ]
      },
      {
       "output_type": "stream",
       "stream": "stdout",
       "text": [
        "\n",
        "fund_returns_FSSFX"
       ]
      },
      {
       "output_type": "stream",
       "stream": "stdout",
       "text": [
        "\n",
        "fund_returns_FSBHX"
       ]
      },
      {
       "output_type": "stream",
       "stream": "stdout",
       "text": [
        "\n",
        "fund_returns_FASFX"
       ]
      },
      {
       "output_type": "stream",
       "stream": "stdout",
       "text": [
        "\n",
        "fund_returns_FSCDX"
       ]
      },
      {
       "output_type": "stream",
       "stream": "stdout",
       "text": [
        "\n",
        "fund_returns_FCAGX"
       ]
      },
      {
       "output_type": "stream",
       "stream": "stdout",
       "text": [
        "\n",
        "fund_returns_FCVAX"
       ]
      },
      {
       "output_type": "stream",
       "stream": "stdout",
       "text": [
        "\n",
        "fund_returns_FMCBX"
       ]
      },
      {
       "output_type": "stream",
       "stream": "stdout",
       "text": [
        "\n",
        "fund_returns_FASDX"
       ]
      },
      {
       "output_type": "stream",
       "stream": "stdout",
       "text": [
        "\n",
        "fund_returns_FSINX"
       ]
      },
      {
       "output_type": "stream",
       "stream": "stdout",
       "text": [
        "\n",
        "fund_returns_FSRAX"
       ]
      },
      {
       "output_type": "stream",
       "stream": "stdout",
       "text": [
        "\n",
        "fund_returns_FADTX"
       ]
      },
      {
       "output_type": "stream",
       "stream": "stdout",
       "text": [
        "\n",
        "fund_returns_FTEDX"
       ]
      },
      {
       "output_type": "stream",
       "stream": "stdout",
       "text": [
        "\n",
        "fund_returns_FTAEX"
       ]
      },
      {
       "output_type": "stream",
       "stream": "stdout",
       "text": [
        "\n",
        "fund_returns_FUGAX"
       ]
      },
      {
       "output_type": "stream",
       "stream": "stdout",
       "text": [
        "\n",
        "fund_returns_FAVFX"
       ]
      },
      {
       "output_type": "stream",
       "stream": "stdout",
       "text": [
        "\n",
        "fund_returns_FVLAX"
       ]
      },
      {
       "output_type": "stream",
       "stream": "stdout",
       "text": [
        "\n",
        "fund_returns_FASPX"
       ]
      },
      {
       "output_type": "stream",
       "stream": "stdout",
       "text": [
        "\n",
        "No Returns Data available for Fund : "
       ]
      },
      {
       "output_type": "stream",
       "stream": "stdout",
       "text": [
        " FASPX\n",
        "fund_returns_FASIX\n",
        "fund_returns_FASMX"
       ]
      },
      {
       "output_type": "stream",
       "stream": "stdout",
       "text": [
        "\n",
        "fund_returns_FASGX"
       ]
      },
      {
       "output_type": "stream",
       "stream": "stdout",
       "text": [
        "\n",
        "fund_returns_FAMRX"
       ]
      },
      {
       "output_type": "stream",
       "stream": "stdout",
       "text": [
        "\n",
        "fund_returns_FFKVX"
       ]
      },
      {
       "output_type": "stream",
       "stream": "stdout",
       "text": [
        "\n",
        "fund_returns_FFKCX"
       ]
      },
      {
       "output_type": "stream",
       "stream": "stdout",
       "text": [
        "\n",
        "fund_returns_FKVFX"
       ]
      },
      {
       "output_type": "stream",
       "stream": "stdout",
       "text": [
        "\n",
        "fund_returns_FFKDX"
       ]
      },
      {
       "output_type": "stream",
       "stream": "stdout",
       "text": [
        "\n",
        "fund_returns_FKTWX"
       ]
      },
      {
       "output_type": "stream",
       "stream": "stdout",
       "text": [
        "\n",
        "fund_returns_FFKEX"
       ]
      },
      {
       "output_type": "stream",
       "stream": "stdout",
       "text": [
        "\n",
        "fund_returns_FKTHX"
       ]
      },
      {
       "output_type": "stream",
       "stream": "stdout",
       "text": [
        "\n",
        "fund_returns_FFKFX"
       ]
      },
      {
       "output_type": "stream",
       "stream": "stdout",
       "text": [
        "\n",
        "fund_returns_FFKGX"
       ]
      },
      {
       "output_type": "stream",
       "stream": "stdout",
       "text": [
        "\n",
        "fund_returns_FFKHX"
       ]
      },
      {
       "output_type": "stream",
       "stream": "stdout",
       "text": [
        "\n",
        "fund_returns_FDENX"
       ]
      },
      {
       "output_type": "stream",
       "stream": "stdout",
       "text": [
        "\n",
        "fund_returns_FFKAX"
       ]
      },
      {
       "output_type": "stream",
       "stream": "stdout",
       "text": [
        "\n",
        "fund_returns_FFFVX"
       ]
      },
      {
       "output_type": "stream",
       "stream": "stdout",
       "text": [
        "\n",
        "fund_returns_FFFCX"
       ]
      },
      {
       "output_type": "stream",
       "stream": "stdout",
       "text": [
        "\n",
        "fund_returns_FFVFX"
       ]
      },
      {
       "output_type": "stream",
       "stream": "stdout",
       "text": [
        "\n",
        "fund_returns_FFFDX"
       ]
      },
      {
       "output_type": "stream",
       "stream": "stdout",
       "text": [
        "\n",
        "fund_returns_FFTWX"
       ]
      },
      {
       "output_type": "stream",
       "stream": "stdout",
       "text": [
        "\n",
        "fund_returns_FFFEX"
       ]
      },
      {
       "output_type": "stream",
       "stream": "stdout",
       "text": [
        "\n",
        "fund_returns_FFTHX"
       ]
      },
      {
       "output_type": "stream",
       "stream": "stdout",
       "text": [
        "\n",
        "fund_returns_FFFFX"
       ]
      },
      {
       "output_type": "stream",
       "stream": "stdout",
       "text": [
        "\n",
        "fund_returns_FFFGX"
       ]
      },
      {
       "output_type": "stream",
       "stream": "stdout",
       "text": [
        "\n",
        "fund_returns_FFFHX"
       ]
      },
      {
       "output_type": "stream",
       "stream": "stdout",
       "text": [
        "\n",
        "fund_returns_FDEEX"
       ]
      },
      {
       "output_type": "stream",
       "stream": "stdout",
       "text": [
        "\n",
        "fund_returns_FFFAX"
       ]
      },
      {
       "output_type": "stream",
       "stream": "stdout",
       "text": [
        "\n",
        "fund_returns_FJIFX"
       ]
      },
      {
       "output_type": "stream",
       "stream": "stdout",
       "text": [
        "\n",
        "fund_returns_FKIFX"
       ]
      },
      {
       "output_type": "stream",
       "stream": "stdout",
       "text": [
        "\n",
        "fund_returns_FLIFX"
       ]
      },
      {
       "output_type": "stream",
       "stream": "stdout",
       "text": [
        "\n",
        "fund_returns_FPIFX"
       ]
      },
      {
       "output_type": "stream",
       "stream": "stdout",
       "text": [
        "\n",
        "fund_returns_FQIFX"
       ]
      },
      {
       "output_type": "stream",
       "stream": "stdout",
       "text": [
        "\n",
        "fund_returns_FXIFX"
       ]
      },
      {
       "output_type": "stream",
       "stream": "stdout",
       "text": [
        "\n",
        "fund_returns_FIHFX"
       ]
      },
      {
       "output_type": "stream",
       "stream": "stdout",
       "text": [
        "\n",
        "fund_returns_FBIFX"
       ]
      },
      {
       "output_type": "stream",
       "stream": "stdout",
       "text": [
        "\n",
        "fund_returns_FIOFX"
       ]
      },
      {
       "output_type": "stream",
       "stream": "stdout",
       "text": [
        "\n",
        "fund_returns_FIPFX"
       ]
      },
      {
       "output_type": "stream",
       "stream": "stdout",
       "text": [
        "\n",
        "fund_returns_FDEWX"
       ]
      },
      {
       "output_type": "stream",
       "stream": "stdout",
       "text": [
        "\n",
        "fund_returns_FIKFX"
       ]
      },
      {
       "output_type": "stream",
       "stream": "stdout",
       "text": [
        "\n",
        "fund_returns_FUSEX"
       ]
      },
      {
       "output_type": "stream",
       "stream": "stdout",
       "text": [
        "\n",
        "fund_returns_FPADX"
       ]
      },
      {
       "output_type": "stream",
       "stream": "stdout",
       "text": [
        "\n",
        "fund_returns_FSEMX"
       ]
      },
      {
       "output_type": "stream",
       "stream": "stdout",
       "text": [
        "\n",
        "fund_returns_FSGGX"
       ]
      },
      {
       "output_type": "stream",
       "stream": "stdout",
       "text": [
        "\n",
        "fund_returns_FIPDX"
       ]
      },
      {
       "output_type": "stream",
       "stream": "stdout",
       "text": [
        "\n",
        "fund_returns_FIBIX"
       ]
      },
      {
       "output_type": "stream",
       "stream": "stdout",
       "text": [
        "\n",
        "fund_returns_FSIIX"
       ]
      },
      {
       "output_type": "stream",
       "stream": "stdout",
       "text": [
        "\n",
        "fund_returns_FLBIX"
       ]
      },
      {
       "output_type": "stream",
       "stream": "stdout",
       "text": [
        "\n",
        "fund_returns_FSMDX"
       ]
      },
      {
       "output_type": "stream",
       "stream": "stdout",
       "text": [
        "\n",
        "fund_returns_FSRNX"
       ]
      },
      {
       "output_type": "stream",
       "stream": "stdout",
       "text": [
        "\n",
        "fund_returns_FSBIX"
       ]
      },
      {
       "output_type": "stream",
       "stream": "stdout",
       "text": [
        "\n",
        "fund_returns_FSSNX"
       ]
      },
      {
       "output_type": "stream",
       "stream": "stdout",
       "text": [
        "\n",
        "fund_returns_FSTMX"
       ]
      },
      {
       "output_type": "stream",
       "stream": "stdout",
       "text": [
        "\n",
        "fund_returns_FBIDX"
       ]
      },
      {
       "output_type": "stream",
       "stream": "stdout",
       "text": [
        "\n",
        "fund_returns_FSAZX"
       ]
      },
      {
       "output_type": "stream",
       "stream": "stdout",
       "text": [
        "\n",
        "fund_returns_FBALX"
       ]
      },
      {
       "output_type": "stream",
       "stream": "stdout",
       "text": [
        "\n",
        "fund_returns_FBGRX"
       ]
      },
      {
       "output_type": "stream",
       "stream": "stdout",
       "text": [
        "\n",
        "fund_returns_FBCVX"
       ]
      },
      {
       "output_type": "stream",
       "stream": "stdout",
       "text": [
        "\n",
        "fund_returns_FCSTX"
       ]
      },
      {
       "output_type": "stream",
       "stream": "stdout",
       "text": [
        "\n",
        "fund_returns_FCTFX"
       ]
      },
      {
       "output_type": "stream",
       "stream": "stdout",
       "text": [
        "\n",
        "fund_returns_FICDX"
       ]
      },
      {
       "output_type": "stream",
       "stream": "stdout",
       "text": [
        "\n",
        "fund_returns_FAGIX"
       ]
      },
      {
       "output_type": "stream",
       "stream": "stdout",
       "text": [
        "\n",
        "fund_returns_FDCAX"
       ]
      },
      {
       "output_type": "stream",
       "stream": "stdout",
       "text": [
        "\n",
        "fund_returns_FHKCX"
       ]
      },
      {
       "output_type": "stream",
       "stream": "stdout",
       "text": [
        "\n",
        "fund_returns_FICNX"
       ]
      },
      {
       "output_type": "stream",
       "stream": "stdout",
       "text": [
        "\n",
        "fund_returns_FMNDX"
       ]
      },
      {
       "output_type": "stream",
       "stream": "stdout",
       "text": [
        "\n",
        "fund_returns_FCNVX"
       ]
      },
      {
       "output_type": "stream",
       "stream": "stdout",
       "text": [
        "\n",
        "fund_returns_FCNTX"
       ]
      },
      {
       "output_type": "stream",
       "stream": "stdout",
       "text": [
        "\n",
        "fund_returns_FCVSX"
       ]
      },
      {
       "output_type": "stream",
       "stream": "stdout",
       "text": [
        "\n",
        "fund_returns_FDEQX"
       ]
      },
      {
       "output_type": "stream",
       "stream": "stdout",
       "text": [
        "\n",
        "fund_returns_FDIVX"
       ]
      },
      {
       "output_type": "stream",
       "stream": "stdout",
       "text": [
        "\n",
        "fund_returns_FDGFX"
       ]
      },
      {
       "output_type": "stream",
       "stream": "stdout",
       "text": [
        "\n",
        "fund_returns_FSEAX"
       ]
      },
      {
       "output_type": "stream",
       "stream": "stdout",
       "text": [
        "\n",
        "fund_returns_FEMKX"
       ]
      },
      {
       "output_type": "stream",
       "stream": "stdout",
       "text": [
        "\n",
        "fund_returns_FEQTX"
       ]
      },
      {
       "output_type": "stream",
       "stream": "stdout",
       "text": [
        "\n",
        "fund_returns_FEQIX"
       ]
      },
      {
       "output_type": "stream",
       "stream": "stdout",
       "text": [
        "\n",
        "fund_returns_FIEUX"
       ]
      },
      {
       "output_type": "stream",
       "stream": "stdout",
       "text": [
        "\n",
        "fund_returns_FARNX"
       ]
      },
      {
       "output_type": "stream",
       "stream": "stdout",
       "text": [
        "\n",
        "fund_returns_FEXPX"
       ]
      },
      {
       "output_type": "stream",
       "stream": "stdout",
       "text": [
        "\n",
        "fund_returns_FFTYX"
       ]
      },
      {
       "output_type": "stream",
       "stream": "stdout",
       "text": [
        "\n",
        "fund_returns_FHIFX"
       ]
      },
      {
       "output_type": "stream",
       "stream": "stdout",
       "text": [
        "\n",
        "fund_returns_FTQGX"
       ]
      },
      {
       "output_type": "stream",
       "stream": "stdout",
       "text": [
        "\n",
        "fund_returns_FFNOX"
       ]
      },
      {
       "output_type": "stream",
       "stream": "stdout",
       "text": [
        "\n",
        "fund_returns_FGBLX"
       ]
      },
      {
       "output_type": "stream",
       "stream": "stdout",
       "text": [
        "\n",
        "fund_returns_FGILX"
       ]
      },
      {
       "output_type": "stream",
       "stream": "stdout",
       "text": [
        "\n",
        "fund_returns_FGMNX"
       ]
      },
      {
       "output_type": "stream",
       "stream": "stdout",
       "text": [
        "\n",
        "fund_returns_FGOVX"
       ]
      },
      {
       "output_type": "stream",
       "stream": "stdout",
       "text": [
        "\n",
        "fund_returns_FGRIX"
       ]
      },
      {
       "output_type": "stream",
       "stream": "stdout",
       "text": [
        "\n",
        "fund_returns_FDGRX"
       ]
      },
      {
       "output_type": "stream",
       "stream": "stdout",
       "text": [
        "\n",
        "fund_returns_FDSVX"
       ]
      },
      {
       "output_type": "stream",
       "stream": "stdout",
       "text": [
        "\n",
        "fund_returns_FDEGX"
       ]
      },
      {
       "output_type": "stream",
       "stream": "stdout",
       "text": [
        "\n",
        "fund_returns_SPHIX"
       ]
      },
      {
       "output_type": "stream",
       "stream": "stdout",
       "text": [
        "\n",
        "fund_returns_FDFFX"
       ]
      },
      {
       "output_type": "stream",
       "stream": "stdout",
       "text": [
        "\n",
        "fund_returns_FINPX"
       ]
      },
      {
       "output_type": "stream",
       "stream": "stdout",
       "text": [
        "\n",
        "fund_returns_FTHRX"
       ]
      },
      {
       "output_type": "stream",
       "stream": "stdout",
       "text": [
        "\n",
        "fund_returns_FSTGX"
       ]
      },
      {
       "output_type": "stream",
       "stream": "stdout",
       "text": [
        "\n",
        "fund_returns_FLTMX"
       ]
      },
      {
       "output_type": "stream",
       "stream": "stdout",
       "text": [
        "\n",
        "fund_returns_FIVFX"
       ]
      },
      {
       "output_type": "stream",
       "stream": "stdout",
       "text": [
        "\n",
        "fund_returns_FIGRX"
       ]
      },
      {
       "output_type": "stream",
       "stream": "stdout",
       "text": [
        "\n",
        "fund_returns_FIENX"
       ]
      },
      {
       "output_type": "stream",
       "stream": "stdout",
       "text": [
        "\n",
        "fund_returns_FIREX"
       ]
      },
      {
       "output_type": "stream",
       "stream": "stdout",
       "text": [
        "\n",
        "fund_returns_FISMX"
       ]
      },
      {
       "output_type": "stream",
       "stream": "stdout",
       "text": [
        "\n",
        "fund_returns_FBNDX"
       ]
      },
      {
       "output_type": "stream",
       "stream": "stdout",
       "text": [
        "\n",
        "fund_returns_FJPNX"
       ]
      },
      {
       "output_type": "stream",
       "stream": "stdout",
       "text": [
        "\n",
        "fund_returns_FJSCX"
       ]
      },
      {
       "output_type": "stream",
       "stream": "stdout",
       "text": [
        "\n",
        "fund_returns_FLCEX"
       ]
      },
      {
       "output_type": "stream",
       "stream": "stdout",
       "text": [
        "\n",
        "fund_returns_FLGEX"
       ]
      },
      {
       "output_type": "stream",
       "stream": "stdout",
       "text": [
        "\n",
        "fund_returns_FLCSX"
       ]
      },
      {
       "output_type": "stream",
       "stream": "stdout",
       "text": [
        "\n",
        "fund_returns_FLVEX"
       ]
      },
      {
       "output_type": "stream",
       "stream": "stdout",
       "text": [
        "\n",
        "fund_returns_FLATX"
       ]
      },
      {
       "output_type": "stream",
       "stream": "stdout",
       "text": [
        "\n",
        "fund_returns_FLVCX"
       ]
      },
      {
       "output_type": "stream",
       "stream": "stdout",
       "text": [
        "\n",
        "fund_returns_FFXSX"
       ]
      },
      {
       "output_type": "stream",
       "stream": "stdout",
       "text": [
        "\n",
        "fund_returns_FSTFX"
       ]
      },
      {
       "output_type": "stream",
       "stream": "stdout",
       "text": [
        "\n",
        "fund_returns_FLPSX"
       ]
      },
      {
       "output_type": "stream",
       "stream": "stdout",
       "text": [
        "\n",
        "fund_returns_FMAGX"
       ]
      },
      {
       "output_type": "stream",
       "stream": "stdout",
       "text": [
        "\n",
        "fund_returns_SMDMX"
       ]
      },
      {
       "output_type": "stream",
       "stream": "stdout",
       "text": [
        "\n",
        "fund_returns_FDMMX"
       ]
      },
      {
       "output_type": "stream",
       "stream": "stdout",
       "text": [
        "\n",
        "fund_returns_FMHTX"
       ]
      },
      {
       "output_type": "stream",
       "stream": "stdout",
       "text": [
        "\n",
        "fund_returns_FMEIX"
       ]
      },
      {
       "output_type": "stream",
       "stream": "stdout",
       "text": [
        "\n",
        "fund_returns_FSMVX"
       ]
      },
      {
       "output_type": "stream",
       "stream": "stdout",
       "text": [
        "\n",
        "No Returns Data available for Fund : "
       ]
      },
      {
       "output_type": "stream",
       "stream": "stdout",
       "text": [
        " FSMVX\n",
        "fund_returns_FMCSX\n",
        "fund_returns_FIMIX"
       ]
      },
      {
       "output_type": "stream",
       "stream": "stdout",
       "text": [
        "\n",
        "fund_returns_FMSFX"
       ]
      },
      {
       "output_type": "stream",
       "stream": "stdout",
       "text": [
        "\n",
        "fund_returns_FHIGX"
       ]
      },
      {
       "output_type": "stream",
       "stream": "stdout",
       "text": [
        "\n",
        "fund_returns_FNCMX"
       ]
      },
      {
       "output_type": "stream",
       "stream": "stdout",
       "text": [
        "\n",
        "fund_returns_FNJHX"
       ]
      },
      {
       "output_type": "stream",
       "stream": "stdout",
       "text": [
        "\n",
        "fund_returns_FNMIX"
       ]
      },
      {
       "output_type": "stream",
       "stream": "stdout",
       "text": [
        "\n",
        "fund_returns_FMILX"
       ]
      },
      {
       "output_type": "stream",
       "stream": "stdout",
       "text": [
        "\n",
        "fund_returns_FTFMX"
       ]
      },
      {
       "output_type": "stream",
       "stream": "stdout",
       "text": [
        "\n",
        "fund_returns_FNORX"
       ]
      },
      {
       "output_type": "stream",
       "stream": "stdout",
       "text": [
        "\n",
        "fund_returns_FOHFX"
       ]
      },
      {
       "output_type": "stream",
       "stream": "stdout",
       "text": [
        "\n",
        "fund_returns_FOCPX"
       ]
      },
      {
       "output_type": "stream",
       "stream": "stdout",
       "text": [
        "\n",
        "fund_returns_FOSFX"
       ]
      },
      {
       "output_type": "stream",
       "stream": "stdout",
       "text": [
        "\n",
        "fund_returns_FPBFX"
       ]
      },
      {
       "output_type": "stream",
       "stream": "stdout",
       "text": [
        "\n",
        "fund_returns_FPXTX"
       ]
      },
      {
       "output_type": "stream",
       "stream": "stdout",
       "text": [
        "\n",
        "fund_returns_FPURX"
       ]
      },
      {
       "output_type": "stream",
       "stream": "stdout",
       "text": [
        "\n",
        "fund_returns_FRIFX"
       ]
      },
      {
       "output_type": "stream",
       "stream": "stdout",
       "text": [
        "\n",
        "fund_returns_FRESX"
       ]
      },
      {
       "output_type": "stream",
       "stream": "stdout",
       "text": [
        "\n",
        "fund_returns_FSAIX"
       ]
      },
      {
       "output_type": "stream",
       "stream": "stdout",
       "text": [
        "\n",
        "fund_returns_FSAVX"
       ]
      },
      {
       "output_type": "stream",
       "stream": "stdout",
       "text": [
        "\n",
        "fund_returns_FSRBX"
       ]
      },
      {
       "output_type": "stream",
       "stream": "stdout",
       "text": [
        "\n",
        "fund_returns_FBIOX"
       ]
      },
      {
       "output_type": "stream",
       "stream": "stdout",
       "text": [
        "\n",
        "fund_returns_FSLBX"
       ]
      },
      {
       "output_type": "stream",
       "stream": "stdout",
       "text": [
        "\n",
        "fund_returns_FSCHX"
       ]
      },
      {
       "output_type": "stream",
       "stream": "stdout",
       "text": [
        "\n",
        "fund_returns_FSDCX"
       ]
      },
      {
       "output_type": "stream",
       "stream": "stdout",
       "text": [
        "\n",
        "fund_returns_FDCPX"
       ]
      },
      {
       "output_type": "stream",
       "stream": "stdout",
       "text": [
        "\n",
        "fund_returns_FSHOX"
       ]
      },
      {
       "output_type": "stream",
       "stream": "stdout",
       "text": [
        "\n",
        "fund_returns_FSCPX"
       ]
      },
      {
       "output_type": "stream",
       "stream": "stdout",
       "text": [
        "\n",
        "fund_returns_FSVLX"
       ]
      },
      {
       "output_type": "stream",
       "stream": "stdout",
       "text": [
        "\n",
        "fund_returns_FDFAX"
       ]
      },
      {
       "output_type": "stream",
       "stream": "stdout",
       "text": [
        "\n",
        "fund_returns_FSDAX"
       ]
      },
      {
       "output_type": "stream",
       "stream": "stdout",
       "text": [
        "\n",
        "fund_returns_FSELX"
       ]
      },
      {
       "output_type": "stream",
       "stream": "stdout",
       "text": [
        "\n",
        "fund_returns_FSENX"
       ]
      },
      {
       "output_type": "stream",
       "stream": "stdout",
       "text": [
        "\n",
        "fund_returns_FSESX"
       ]
      },
      {
       "output_type": "stream",
       "stream": "stdout",
       "text": [
        "\n",
        "fund_returns_FSLEX"
       ]
      },
      {
       "output_type": "stream",
       "stream": "stdout",
       "text": [
        "\n",
        "fund_returns_FIDSX"
       ]
      },
      {
       "output_type": "stream",
       "stream": "stdout",
       "text": [
        "\n",
        "fund_returns_FSAGX"
       ]
      },
      {
       "output_type": "stream",
       "stream": "stdout",
       "text": [
        "\n",
        "fund_returns_FSPHX"
       ]
      },
      {
       "output_type": "stream",
       "stream": "stdout",
       "text": [
        "\n",
        "fund_returns_FSCGX"
       ]
      },
      {
       "output_type": "stream",
       "stream": "stdout",
       "text": [
        "\n",
        "fund_returns_FCYIX"
       ]
      },
      {
       "output_type": "stream",
       "stream": "stdout",
       "text": [
        "\n",
        "fund_returns_FSPCX"
       ]
      },
      {
       "output_type": "stream",
       "stream": "stdout",
       "text": [
        "\n",
        "fund_returns_FBSOX"
       ]
      },
      {
       "output_type": "stream",
       "stream": "stdout",
       "text": [
        "\n",
        "fund_returns_FDLSX"
       ]
      },
      {
       "output_type": "stream",
       "stream": "stdout",
       "text": [
        "\n",
        "fund_returns_FSDPX"
       ]
      },
      {
       "output_type": "stream",
       "stream": "stdout",
       "text": [
        "\n",
        "fund_returns_FSHCX"
       ]
      },
      {
       "output_type": "stream",
       "stream": "stdout",
       "text": [
        "\n",
        "fund_returns_FSMEX"
       ]
      },
      {
       "output_type": "stream",
       "stream": "stdout",
       "text": [
        "\n",
        "fund_returns_FBMPX"
       ]
      },
      {
       "output_type": "stream",
       "stream": "stdout",
       "text": [
        "\n",
        "fund_returns_FSNGX"
       ]
      },
      {
       "output_type": "stream",
       "stream": "stdout",
       "text": [
        "\n",
        "fund_returns_FNARX"
       ]
      },
      {
       "output_type": "stream",
       "stream": "stdout",
       "text": [
        "\n",
        "fund_returns_FPHAX"
       ]
      },
      {
       "output_type": "stream",
       "stream": "stdout",
       "text": [
        "\n",
        "fund_returns_FSRPX"
       ]
      },
      {
       "output_type": "stream",
       "stream": "stdout",
       "text": [
        "\n",
        "fund_returns_FSCSX"
       ]
      },
      {
       "output_type": "stream",
       "stream": "stdout",
       "text": [
        "\n",
        "fund_returns_FSPTX"
       ]
      },
      {
       "output_type": "stream",
       "stream": "stdout",
       "text": [
        "\n",
        "fund_returns_FSTCX"
       ]
      },
      {
       "output_type": "stream",
       "stream": "stdout",
       "text": [
        "\n",
        "fund_returns_FSRFX"
       ]
      },
      {
       "output_type": "stream",
       "stream": "stdout",
       "text": [
        "\n",
        "fund_returns_FSUTX"
       ]
      },
      {
       "output_type": "stream",
       "stream": "stdout",
       "text": [
        "\n",
        "fund_returns_FWRLX"
       ]
      },
      {
       "output_type": "stream",
       "stream": "stdout",
       "text": [
        "\n",
        "fund_returns_FOHIX"
       ]
      },
      {
       "output_type": "stream",
       "stream": "stdout",
       "text": [
        "\n",
        "fund_returns_FIOOX"
       ]
      },
      {
       "output_type": "stream",
       "stream": "stdout",
       "text": [
        "\n",
        "fund_returns_FSAEX"
       ]
      },
      {
       "output_type": "stream",
       "stream": "stdout",
       "text": [
        "\n",
        "fund_returns_FSBDX"
       ]
      },
      {
       "output_type": "stream",
       "stream": "stdout",
       "text": [
        "\n",
        "fund_returns_FBMAX"
       ]
      },
      {
       "output_type": "stream",
       "stream": "stdout",
       "text": [
        "\n",
        "fund_returns_FCSSX"
       ]
      },
      {
       "output_type": "stream",
       "stream": "stdout",
       "text": [
        "\n",
        "fund_returns_FEMSX"
       ]
      },
      {
       "output_type": "stream",
       "stream": "stdout",
       "text": [
        "\n",
        "fund_returns_FEDCX"
       ]
      },
      {
       "output_type": "stream",
       "stream": "stdout",
       "text": [
        "\n",
        "fund_returns_FNKLX"
       ]
      },
      {
       "output_type": "stream",
       "stream": "stdout",
       "text": [
        "\n",
        "fund_returns_FFHCX"
       ]
      },
      {
       "output_type": "stream",
       "stream": "stdout",
       "text": [
        "\n",
        "fund_returns_FSGEX"
       ]
      },
      {
       "output_type": "stream",
       "stream": "stdout",
       "text": [
        "\n",
        "fund_returns_FGLGX"
       ]
      },
      {
       "output_type": "stream",
       "stream": "stdout",
       "text": [
        "\n",
        "fund_returns_FCGSX"
       ]
      },
      {
       "output_type": "stream",
       "stream": "stdout",
       "text": [
        "\n",
        "fund_returns_FSHNX"
       ]
      },
      {
       "output_type": "stream",
       "stream": "stdout",
       "text": [
        "\n",
        "fund_returns_FSIPX"
       ]
      },
      {
       "output_type": "stream",
       "stream": "stdout",
       "text": [
        "\n",
        "fund_returns_FIGSX"
       ]
      },
      {
       "output_type": "stream",
       "stream": "stdout",
       "text": [
        "\n",
        "fund_returns_FSTSX"
       ]
      },
      {
       "output_type": "stream",
       "stream": "stdout",
       "text": [
        "\n",
        "fund_returns_FINVX"
       ]
      },
      {
       "output_type": "stream",
       "stream": "stdout",
       "text": [
        "\n",
        "fund_returns_FGLLX"
       ]
      },
      {
       "output_type": "stream",
       "stream": "stdout",
       "text": [
        "\n",
        "fund_returns_FSIGX"
       ]
      },
      {
       "output_type": "stream",
       "stream": "stdout",
       "text": [
        "\n",
        "fund_returns_FVWSX"
       ]
      },
      {
       "output_type": "stream",
       "stream": "stdout",
       "text": [
        "\n",
        "fund_returns_FREDX"
       ]
      },
      {
       "output_type": "stream",
       "stream": "stdout",
       "text": [
        "\n",
        "fund_returns_FSREX"
       ]
      },
      {
       "output_type": "stream",
       "stream": "stdout",
       "text": [
        "\n",
        "fund_returns_FJACX"
       ]
      },
      {
       "output_type": "stream",
       "stream": "stdout",
       "text": [
        "\n",
        "fund_returns_FSOPX"
       ]
      },
      {
       "output_type": "stream",
       "stream": "stdout",
       "text": [
        "\n",
        "fund_returns_FBLEX"
       ]
      },
      {
       "output_type": "stream",
       "stream": "stdout",
       "text": [
        "\n",
        "fund_returns_FSHBX"
       ]
      },
      {
       "output_type": "stream",
       "stream": "stdout",
       "text": [
        "\n",
        "fund_returns_FSCRX"
       ]
      },
      {
       "output_type": "stream",
       "stream": "stdout",
       "text": [
        "\n",
        "fund_returns_FCPEX"
       ]
      },
      {
       "output_type": "stream",
       "stream": "stdout",
       "text": [
        "\n",
        "fund_returns_FSLCX"
       ]
      },
      {
       "output_type": "stream",
       "stream": "stdout",
       "text": [
        "\n",
        "fund_returns_FDSSX"
       ]
      },
      {
       "output_type": "stream",
       "stream": "stdout",
       "text": [
        "\n",
        "fund_returns_FSLVX"
       ]
      },
      {
       "output_type": "stream",
       "stream": "stdout",
       "text": [
        "\n",
        "fund_returns_FDSCX"
       ]
      },
      {
       "output_type": "stream",
       "stream": "stdout",
       "text": [
        "\n",
        "fund_returns_FSICX"
       ]
      },
      {
       "output_type": "stream",
       "stream": "stdout",
       "text": [
        "\n",
        "fund_returns_FTABX"
       ]
      },
      {
       "output_type": "stream",
       "stream": "stdout",
       "text": [
        "\n",
        "fund_returns_FIUIX"
       ]
      },
      {
       "output_type": "stream",
       "stream": "stdout",
       "text": [
        "\n",
        "fund_returns_FTBFX"
       ]
      },
      {
       "output_type": "stream",
       "stream": "stdout",
       "text": [
        "\n",
        "fund_returns_FTRNX"
       ]
      },
      {
       "output_type": "stream",
       "stream": "stdout",
       "text": [
        "\n",
        "fund_returns_FDVLX"
       ]
      },
      {
       "output_type": "stream",
       "stream": "stdout",
       "text": [
        "\n",
        "fund_returns_FVDFX"
       ]
      },
      {
       "output_type": "stream",
       "stream": "stdout",
       "text": [
        "\n",
        "fund_returns_FWWFX"
       ]
      },
      {
       "output_type": "stream",
       "stream": "stdout",
       "text": [
        "\n",
        "fund_returns_FCSAX"
       ]
      },
      {
       "output_type": "stream",
       "stream": "stdout",
       "text": [
        "\n",
        "fund_returns_FWHBX"
       ]
      },
      {
       "output_type": "stream",
       "stream": "stdout",
       "text": [
        "\n",
        "fund_returns_FPCIX"
       ]
      },
      {
       "output_type": "stream",
       "stream": "stdout",
       "text": [
        "\n",
        "fund_returns_FLAUX"
       ]
      },
      {
       "output_type": "stream",
       "stream": "stdout",
       "text": [
        "\n",
        "fund_returns_FSAMX"
       ]
      },
      {
       "output_type": "stream",
       "stream": "stdout",
       "text": [
        "\n",
        "fund_returns_FLILX"
       ]
      },
      {
       "output_type": "stream",
       "stream": "stdout",
       "text": [
        "\n",
        "fund_returns_FSGFX"
       ]
      },
      {
       "output_type": "stream",
       "stream": "stdout",
       "text": [
        "\n",
        "fund_returns_FMELX"
       ]
      },
      {
       "output_type": "stream",
       "stream": "stdout",
       "text": [
        "\n",
        "fund_returns_FSADX"
       ]
      },
      {
       "output_type": "stream",
       "stream": "stdout",
       "text": [
        "\n",
        "fund_returns_FPIOX"
       ]
      },
      {
       "output_type": "stream",
       "stream": "stdout",
       "text": [
        "\n",
        "fund_returns_FILFX"
       ]
      },
      {
       "output_type": "stream",
       "stream": "stdout",
       "text": [
        "\n",
        "fund_returns_FUSIX"
       ]
      },
      {
       "output_type": "stream",
       "stream": "stdout",
       "text": [
        "\n",
        "fund_returns_FMJDX"
       ]
      },
      {
       "output_type": "stream",
       "stream": "stdout",
       "text": [
        "\n",
        "fund_returns_FEHPX"
       ]
      },
      {
       "output_type": "stream",
       "stream": "stdout",
       "text": [
        "\n",
        "fund_returns_FEMPX"
       ]
      },
      {
       "output_type": "stream",
       "stream": "stdout",
       "text": [
        "\n",
        "fund_returns_FEJPX"
       ]
      },
      {
       "output_type": "stream",
       "stream": "stdout",
       "text": [
        "\n",
        "fund_returns_FEKPX"
       ]
      },
      {
       "output_type": "stream",
       "stream": "stdout",
       "text": [
        "\n",
        "fund_returns_FEDPX"
       ]
      },
      {
       "output_type": "stream",
       "stream": "stdout",
       "text": [
        "\n",
        "fund_returns_FECPX"
       ]
      },
      {
       "output_type": "stream",
       "stream": "stdout",
       "text": [
        "\n",
        "fund_returns_FENPX"
       ]
      },
      {
       "output_type": "stream",
       "stream": "stdout",
       "text": [
        "\n",
        "fund_returns_FEWPX"
       ]
      },
      {
       "output_type": "stream",
       "stream": "stdout",
       "text": [
        "\n",
        "fund_returns_FEZPX"
       ]
      },
      {
       "output_type": "stream",
       "stream": "stdout",
       "text": [
        "\n",
        "fund_returns_FEYPX"
       ]
      },
      {
       "output_type": "stream",
       "stream": "stdout",
       "text": [
        "\n",
        "fund_returns_FESPX"
       ]
      },
      {
       "output_type": "stream",
       "stream": "stdout",
       "text": [
        "\n",
        "fund_returns_FEBPX"
       ]
      },
      {
       "output_type": "stream",
       "stream": "stdout",
       "text": [
        "\n",
        "fund_returns_FAUDX"
       ]
      },
      {
       "output_type": "stream",
       "stream": "stdout",
       "text": [
        "\n",
        "fund_returns_FNAPX"
       ]
      },
      {
       "output_type": "stream",
       "stream": "stdout",
       "text": [
        "\n",
        "fund_returns_FSCFX"
       ]
      },
      {
       "output_type": "stream",
       "stream": "stdout",
       "text": [
        "\n",
        "fund_returns_FVSAX"
       ]
      },
      {
       "output_type": "stream",
       "stream": "stdout",
       "text": [
        "\n",
        "fund_returns_FKMOX"
       ]
      },
      {
       "output_type": "stream",
       "stream": "stdout",
       "text": [
        "\n",
        "fund_returns_FISAX"
       ]
      },
      {
       "output_type": "stream",
       "stream": "stdout",
       "text": [
        "\n",
        "fund_returns_FRALX"
       ]
      },
      {
       "output_type": "stream",
       "stream": "stdout",
       "text": [
        "\n",
        "fund_returns_FRAVX"
       ]
      },
      {
       "output_type": "stream",
       "stream": "stdout",
       "text": [
        "\n",
        "fund_returns_FTAZX"
       ]
      },
      {
       "output_type": "stream",
       "stream": "stdout",
       "text": [
        "\n",
        "fund_returns_FRBSX"
       ]
      },
      {
       "output_type": "stream",
       "stream": "stdout",
       "text": [
        "\n",
        "fund_returns_FBLAX"
       ]
      },
      {
       "output_type": "stream",
       "stream": "stdout",
       "text": [
        "\n",
        "fund_returns_FBDIX"
       ]
      },
      {
       "output_type": "stream",
       "stream": "stdout",
       "text": [
        "\n",
        "fund_returns_FCAMX"
       ]
      },
      {
       "output_type": "stream",
       "stream": "stdout",
       "text": [
        "\n",
        "fund_returns_FRCIX"
       ]
      },
      {
       "output_type": "stream",
       "stream": "stdout",
       "text": [
        "\n",
        "fund_returns_FKCIX"
       ]
      },
      {
       "output_type": "stream",
       "stream": "stdout",
       "text": [
        "\n",
        "fund_returns_FKTFX"
       ]
      },
      {
       "output_type": "stream",
       "stream": "stdout",
       "text": [
        "\n",
        "fund_returns_FRCOX"
       ]
      },
      {
       "output_type": "stream",
       "stream": "stdout",
       "text": [
        "\n",
        "fund_returns_FTCIX"
       ]
      },
      {
       "output_type": "stream",
       "stream": "stdout",
       "text": [
        "\n",
        "fund_returns_FISCX"
       ]
      },
      {
       "output_type": "stream",
       "stream": "stdout",
       "text": [
        "\n",
        "fund_returns_FTCOX"
       ]
      },
      {
       "output_type": "stream",
       "stream": "stdout",
       "text": [
        "\n",
        "fund_returns_FXCTX"
       ]
      },
      {
       "output_type": "stream",
       "stream": "stdout",
       "text": [
        "\n",
        "fund_returns_FPRTX"
       ]
      },
      {
       "output_type": "stream",
       "stream": "stdout",
       "text": [
        "\n",
        "fund_returns_FKDNX"
       ]
      },
      {
       "output_type": "stream",
       "stream": "stdout",
       "text": [
        "\n",
        "fund_returns_FEMDX"
       ]
      },
      {
       "output_type": "stream",
       "stream": "stdout",
       "text": [
        "\n",
        "fund_returns_FISEX"
       ]
      },
      {
       "output_type": "stream",
       "stream": "stdout",
       "text": [
        "\n",
        "fund_returns_FKITX"
       ]
      },
      {
       "output_type": "stream",
       "stream": "stdout",
       "text": [
        "\n",
        "fund_returns_FFTFX"
       ]
      },
      {
       "output_type": "stream",
       "stream": "stdout",
       "text": [
        "\n",
        "fund_returns_FKTIX"
       ]
      },
      {
       "output_type": "stream",
       "stream": "stdout",
       "text": [
        "\n",
        "fund_returns_FRFLX"
       ]
      },
      {
       "output_type": "stream",
       "stream": "stdout",
       "text": [
        "\n",
        "fund_returns_FKCGX"
       ]
      },
      {
       "output_type": "stream",
       "stream": "stdout",
       "text": [
        "\n",
        "fund_returns_FAFRX"
       ]
      },
      {
       "output_type": "stream",
       "stream": "stdout",
       "text": [
        "\n",
        "fund_returns_FCEQX"
       ]
      },
      {
       "output_type": "stream",
       "stream": "stdout",
       "text": [
        "\n",
        "fund_returns_FFALX"
       ]
      },
      {
       "output_type": "stream",
       "stream": "stdout",
       "text": [
        "\n",
        "fund_returns_FTGAX"
       ]
      },
      {
       "output_type": "stream",
       "stream": "stdout",
       "text": [
        "\n",
        "fund_returns_FGAAX"
       ]
      },
      {
       "output_type": "stream",
       "stream": "stdout",
       "text": [
        "\n",
        "fund_returns_FGGAX"
       ]
      },
      {
       "output_type": "stream",
       "stream": "stdout",
       "text": [
        "\n",
        "fund_returns_FLGIX"
       ]
      },
      {
       "output_type": "stream",
       "stream": "stdout",
       "text": [
        "\n",
        "fund_returns_FGRRX"
       ]
      },
      {
       "output_type": "stream",
       "stream": "stdout",
       "text": [
        "\n",
        "fund_returns_FKRCX"
       ]
      },
      {
       "output_type": "stream",
       "stream": "stdout",
       "text": [
        "\n",
        "fund_returns_FKGRX"
       ]
      },
      {
       "output_type": "stream",
       "stream": "stdout",
       "text": [
        "\n",
        "fund_returns_FGTIX"
       ]
      },
      {
       "output_type": "stream",
       "stream": "stdout",
       "text": [
        "\n",
        "fund_returns_FGRAX"
       ]
      },
      {
       "output_type": "stream",
       "stream": "stdout",
       "text": [
        "\n",
        "fund_returns_FHAIX"
       ]
      },
      {
       "output_type": "stream",
       "stream": "stdout",
       "text": [
        "\n",
        "fund_returns_FRHIX"
       ]
      },
      {
       "output_type": "stream",
       "stream": "stdout",
       "text": [
        "\n",
        "fund_returns_FKINX"
       ]
      },
      {
       "output_type": "stream",
       "stream": "stdout",
       "text": [
        "\n",
        "fund_returns_FINGX"
       ]
      },
      {
       "output_type": "stream",
       "stream": "stdout",
       "text": [
        "\n",
        "fund_returns_FTFIX"
       ]
      },
      {
       "output_type": "stream",
       "stream": "stdout",
       "text": [
        "\n",
        "fund_returns_FNGAX"
       ]
      },
      {
       "output_type": "stream",
       "stream": "stdout",
       "text": [
        "\n",
        "fund_returns_FKSCX"
       ]
      },
      {
       "output_type": "stream",
       "stream": "stdout",
       "text": [
        "\n",
        "fund_returns_FAAAX"
       ]
      },
      {
       "output_type": "stream",
       "stream": "stdout",
       "text": [
        "\n",
        "fund_returns_FRKYX"
       ]
      },
      {
       "output_type": "stream",
       "stream": "stdout",
       "text": [
        "\n",
        "fund_returns_FKLAX"
       ]
      },
      {
       "output_type": "stream",
       "stream": "stdout",
       "text": [
        "\n",
        "fund_returns_FLCIX"
       ]
      },
      {
       "output_type": "stream",
       "stream": "stdout",
       "text": [
        "\n",
        "fund_returns_FLVAX"
       ]
      },
      {
       "output_type": "stream",
       "stream": "stdout",
       "text": [
        "\n",
        "fund_returns_FTRAX"
       ]
      },
      {
       "output_type": "stream",
       "stream": "stdout",
       "text": [
        "\n",
        "fund_returns_FTRTX"
       ]
      },
      {
       "output_type": "stream",
       "stream": "stdout",
       "text": [
        "\n",
        "fund_returns_FRTAX"
       ]
      },
      {
       "output_type": "stream",
       "stream": "stdout",
       "text": [
        "\n",
        "fund_returns_FTTAX"
       ]
      },
      {
       "output_type": "stream",
       "stream": "stdout",
       "text": [
        "\n",
        "fund_returns_FLDAX"
       ]
      },
      {
       "output_type": "stream",
       "stream": "stdout",
       "text": [
        "\n",
        "fund_returns_FMISX"
       ]
      },
      {
       "output_type": "stream",
       "stream": "stdout",
       "text": [
        "\n",
        "fund_returns_FMDTX"
       ]
      },
      {
       "output_type": "stream",
       "stream": "stdout",
       "text": [
        "\n",
        "fund_returns_FTTMX"
       ]
      },
      {
       "output_type": "stream",
       "stream": "stdout",
       "text": [
        "\n",
        "fund_returns_FRMCX"
       ]
      },
      {
       "output_type": "stream",
       "stream": "stdout",
       "text": [
        "\n",
        "fund_returns_FMVAX"
       ]
      },
      {
       "output_type": "stream",
       "stream": "stdout",
       "text": [
        "\n",
        "fund_returns_FMINX"
       ]
      },
      {
       "output_type": "stream",
       "stream": "stdout",
       "text": [
        "\n",
        "fund_returns_FRMOX"
       ]
      },
      {
       "output_type": "stream",
       "stream": "stdout",
       "text": [
        "\n",
        "fund_returns_FMTIX"
       ]
      },
      {
       "output_type": "stream",
       "stream": "stdout",
       "text": [
        "\n",
        "fund_returns_FTMAX"
       ]
      },
      {
       "output_type": "stream",
       "stream": "stdout",
       "text": [
        "\n",
        "fund_returns_BEGRX"
       ]
      },
      {
       "output_type": "stream",
       "stream": "stdout",
       "text": [
        "\n",
        "fund_returns_MEURX"
       ]
      },
      {
       "output_type": "stream",
       "stream": "stdout",
       "text": [
        "\n",
        "fund_returns_TFSIX"
       ]
      },
      {
       "output_type": "stream",
       "stream": "stdout",
       "text": [
        "\n",
        "fund_returns_MDISX"
       ]
      },
      {
       "output_type": "stream",
       "stream": "stdout",
       "text": [
        "\n",
        "fund_returns_FMIAX"
       ]
      },
      {
       "output_type": "stream",
       "stream": "stdout",
       "text": [
        "\n",
        "fund_returns_MQIFX"
       ]
      },
      {
       "output_type": "stream",
       "stream": "stdout",
       "text": [
        "\n",
        "fund_returns_MUTHX"
       ]
      },
      {
       "output_type": "stream",
       "stream": "stdout",
       "text": [
        "\n",
        "fund_returns_FRNRX"
       ]
      },
      {
       "output_type": "stream",
       "stream": "stdout",
       "text": [
        "\n",
        "fund_returns_FXNCX"
       ]
      },
      {
       "output_type": "stream",
       "stream": "stdout",
       "text": [
        "\n",
        "fund_returns_FRNJX"
       ]
      },
      {
       "output_type": "stream",
       "stream": "stdout",
       "text": [
        "\n",
        "fund_returns_FKNIX"
       ]
      },
      {
       "output_type": "stream",
       "stream": "stdout",
       "text": [
        "\n",
        "fund_returns_FNYTX"
       ]
      },
      {
       "output_type": "stream",
       "stream": "stdout",
       "text": [
        "\n",
        "fund_returns_FTOIX"
       ]
      },
      {
       "output_type": "stream",
       "stream": "stdout",
       "text": [
        "\n",
        "fund_returns_FRORX"
       ]
      },
      {
       "output_type": "stream",
       "stream": "stdout",
       "text": [
        "\n",
        "fund_returns_FRPAX"
       ]
      },
      {
       "output_type": "stream",
       "stream": "stdout",
       "text": [
        "\n",
        "fund_returns_FREEX"
       ]
      },
      {
       "output_type": "stream",
       "stream": "stdout",
       "text": [
        "\n",
        "fund_returns_FRRAX"
       ]
      },
      {
       "output_type": "stream",
       "stream": "stdout",
       "text": [
        "\n",
        "fund_returns_FRDPX"
       ]
      },
      {
       "output_type": "stream",
       "stream": "stdout",
       "text": [
        "\n",
        "fund_returns_FSGRX"
       ]
      },
      {
       "output_type": "stream",
       "stream": "stdout",
       "text": [
        "\n",
        "fund_returns_FRVLX"
       ]
      },
      {
       "output_type": "stream",
       "stream": "stdout",
       "text": [
        "\n",
        "fund_returns_FRSGX"
       ]
      },
      {
       "output_type": "stream",
       "stream": "stdout",
       "text": [
        "\n",
        "fund_returns_FRSTX"
       ]
      },
      {
       "output_type": "stream",
       "stream": "stdout",
       "text": [
        "\n",
        "fund_returns_FSMIX"
       ]
      },
      {
       "output_type": "stream",
       "stream": "stdout",
       "text": [
        "\n",
        "fund_returns_FRTIX"
       ]
      },
      {
       "output_type": "stream",
       "stream": "stdout",
       "text": [
        "\n",
        "fund_returns_FKBAX"
       ]
      },
      {
       "output_type": "stream",
       "stream": "stdout",
       "text": [
        "\n",
        "fund_returns_FKUSX"
       ]
      },
      {
       "output_type": "stream",
       "stream": "stdout",
       "text": [
        "\n",
        "fund_returns_FKUTX"
       ]
      },
      {
       "output_type": "stream",
       "stream": "stdout",
       "text": [
        "\n",
        "fund_returns_FRVAX"
       ]
      },
      {
       "output_type": "stream",
       "stream": "stdout",
       "text": [
        "\n",
        "fund_returns_FWPAX"
       ]
      },
      {
       "output_type": "stream",
       "stream": "stdout",
       "text": [
        "\n",
        "fund_returns_TABRX"
       ]
      },
      {
       "output_type": "stream",
       "stream": "stdout",
       "text": [
        "\n",
        "fund_returns_TCWAX"
       ]
      },
      {
       "output_type": "stream",
       "stream": "stdout",
       "text": [
        "\n",
        "fund_returns_TEDMX"
       ]
      },
      {
       "output_type": "stream",
       "stream": "stdout",
       "text": [
        "\n",
        "fund_returns_TAEMX"
       ]
      },
      {
       "output_type": "stream",
       "stream": "stdout",
       "text": [
        "\n",
        "fund_returns_FEMGX"
       ]
      },
      {
       "output_type": "stream",
       "stream": "stdout",
       "text": [
        "\n",
        "fund_returns_TEMMX"
       ]
      },
      {
       "output_type": "stream",
       "stream": "stdout",
       "text": [
        "\n",
        "fund_returns_TEMFX"
       ]
      },
      {
       "output_type": "stream",
       "stream": "stdout",
       "text": [
        "\n",
        "fund_returns_FINEX"
       ]
      },
      {
       "output_type": "stream",
       "stream": "stdout",
       "text": [
        "\n",
        "fund_returns_TFMAX"
       ]
      },
      {
       "output_type": "stream",
       "stream": "stdout",
       "text": [
        "\n",
        "fund_returns_TINCX"
       ]
      },
      {
       "output_type": "stream",
       "stream": "stdout",
       "text": [
        "\n",
        "fund_returns_TPINX"
       ]
      },
      {
       "output_type": "stream",
       "stream": "stdout",
       "text": [
        "\n",
        "fund_returns_TEGOX"
       ]
      },
      {
       "output_type": "stream",
       "stream": "stdout",
       "text": [
        "\n",
        "fund_returns_TEMGX"
       ]
      },
      {
       "output_type": "stream",
       "stream": "stdout",
       "text": [
        "\n",
        "fund_returns_TGTRX"
       ]
      },
      {
       "output_type": "stream",
       "stream": "stdout",
       "text": [
        "\n",
        "fund_returns_TEPLX"
       ]
      },
      {
       "output_type": "stream",
       "stream": "stdout",
       "text": [
        "\n",
        "fund_returns_ICPHX"
       ]
      },
      {
       "output_type": "stream",
       "stream": "stdout",
       "text": [
        "\n",
        "fund_returns_TFSCX"
       ]
      },
      {
       "output_type": "stream",
       "stream": "stdout",
       "text": [
        "\n",
        "fund_returns_TGESX"
       ]
      },
      {
       "output_type": "stream",
       "stream": "stdout",
       "text": [
        "\n",
        "fund_returns_TEEMX"
       ]
      },
      {
       "output_type": "stream",
       "stream": "stdout",
       "text": [
        "\n",
        "fund_returns_TFEQX"
       ]
      },
      {
       "output_type": "stream",
       "stream": "stdout",
       "text": [
        "\n",
        "fund_returns_TBOAX"
       ]
      },
      {
       "output_type": "stream",
       "stream": "stdout",
       "text": [
        "\n",
        "fund_returns_TEMWX"
       ]
      },
      {
       "output_type": "stream",
       "stream": "stdout",
       "text": [
        "\n",
        "fund_returns_BDOIX"
       ]
      },
      {
       "output_type": "stream",
       "stream": "stdout",
       "text": [
        "\n",
        "fund_returns_BAAPX"
       ]
      },
      {
       "output_type": "stream",
       "stream": "stdout",
       "text": [
        "\n",
        "fund_returns_BACAX"
       ]
      },
      {
       "output_type": "stream",
       "stream": "stdout",
       "text": [
        "\n",
        "fund_returns_BRACX"
       ]
      },
      {
       "output_type": "stream",
       "stream": "stdout",
       "text": [
        "\n",
        "fund_returns_BRAMX"
       ]
      },
      {
       "output_type": "stream",
       "stream": "stdout",
       "text": [
        "\n",
        "fund_returns_BATPX"
       ]
      },
      {
       "output_type": "stream",
       "stream": "stdout",
       "text": [
        "\n",
        "fund_returns_BRASX"
       ]
      },
      {
       "output_type": "stream",
       "stream": "stdout",
       "text": [
        "\n",
        "fund_returns_MACPX"
       ]
      },
      {
       "output_type": "stream",
       "stream": "stdout",
       "text": [
        "\n",
        "fund_returns_MABAX"
       ]
      },
      {
       "output_type": "stream",
       "stream": "stdout",
       "text": [
        "\n",
        "fund_returns_WFBIX"
       ]
      },
      {
       "output_type": "stream",
       "stream": "stdout",
       "text": [
        "\n",
        "fund_returns_MBCMX"
       ]
      },
      {
       "output_type": "stream",
       "stream": "stdout",
       "text": [
        "\n",
        "fund_returns_MDFGX"
       ]
      },
      {
       "output_type": "stream",
       "stream": "stdout",
       "text": [
        "\n",
        "fund_returns_BCSAX"
       ]
      },
      {
       "output_type": "stream",
       "stream": "stdout",
       "text": [
        "\n",
        "fund_returns_BACPX"
       ]
      },
      {
       "output_type": "stream",
       "stream": "stdout",
       "text": [
        "\n",
        "fund_returns_BFMCX"
       ]
      },
      {
       "output_type": "stream",
       "stream": "stdout",
       "text": [
        "\n",
        "fund_returns_BCRIX"
       ]
      },
      {
       "output_type": "stream",
       "stream": "stdout",
       "text": [
        "\n",
        "fund_returns_BDSAX"
       ]
      },
      {
       "output_type": "stream",
       "stream": "stdout",
       "text": [
        "\n",
        "fund_returns_BAEDX"
       ]
      },
      {
       "output_type": "stream",
       "stream": "stdout",
       "text": [
        "\n",
        "fund_returns_BEEAX"
       ]
      },
      {
       "output_type": "stream",
       "stream": "stdout",
       "text": [
        "\n",
        "fund_returns_BACHX"
       ]
      },
      {
       "output_type": "stream",
       "stream": "stdout",
       "text": [
        "\n",
        "fund_returns_BLSAX"
       ]
      },
      {
       "output_type": "stream",
       "stream": "stdout",
       "text": [
        "\n",
        "fund_returns_MADCX"
       ]
      },
      {
       "output_type": "stream",
       "stream": "stdout",
       "text": [
        "\n",
        "fund_returns_SSGRX"
       ]
      },
      {
       "output_type": "stream",
       "stream": "stdout",
       "text": [
        "\n",
        "fund_returns_MBDVX"
       ]
      },
      {
       "output_type": "stream",
       "stream": "stdout",
       "text": [
        "\n",
        "fund_returns_MAEFX"
       ]
      },
      {
       "output_type": "stream",
       "stream": "stdout",
       "text": [
        "\n",
        "fund_returns_STSEX"
       ]
      },
      {
       "output_type": "stream",
       "stream": "stdout",
       "text": [
        "\n",
        "fund_returns_BMCAX"
       ]
      },
      {
       "output_type": "stream",
       "stream": "stdout",
       "text": [
        "\n",
        "fund_returns_BFRAX"
       ]
      },
      {
       "output_type": "stream",
       "stream": "stdout",
       "text": [
        "\n",
        "fund_returns_MDFOX"
       ]
      },
      {
       "output_type": "stream",
       "stream": "stdout",
       "text": [
        "\n",
        "fund_returns_MBLOX"
       ]
      },
      {
       "output_type": "stream",
       "stream": "stdout",
       "text": [
        "\n",
        "fund_returns_BABDX"
       ]
      },
      {
       "output_type": "stream",
       "stream": "stdout",
       "text": [
        "\n",
        "fund_returns_BGCAX"
       ]
      },
      {
       "output_type": "stream",
       "stream": "stdout",
       "text": [
        "\n",
        "fund_returns_BDMAX"
       ]
      },
      {
       "output_type": "stream",
       "stream": "stdout",
       "text": [
        "\n",
        "fund_returns_BROAX"
       ]
      },
      {
       "output_type": "stream",
       "stream": "stdout",
       "text": [
        "\n",
        "fund_returns_MDGCX"
       ]
      },
      {
       "output_type": "stream",
       "stream": "stdout",
       "text": [
        "\n",
        "fund_returns_BGPAX"
       ]
      },
      {
       "output_type": "stream",
       "stream": "stdout",
       "text": [
        "\n",
        "fund_returns_BAGPX"
       ]
      },
      {
       "output_type": "stream",
       "stream": "stdout",
       "text": [
        "\n",
        "fund_returns_SHSAX"
       ]
      },
      {
       "output_type": "stream",
       "stream": "stdout",
       "text": [
        "\n",
        "fund_returns_BHYAX"
       ]
      },
      {
       "output_type": "stream",
       "stream": "stdout",
       "text": [
        "\n",
        "fund_returns_MDYHX"
       ]
      },
      {
       "output_type": "stream",
       "stream": "stdout",
       "text": [
        "\n",
        "fund_returns_BPRAX"
       ]
      },
      {
       "output_type": "stream",
       "stream": "stdout",
       "text": [
        "\n",
        "fund_returns_MAIIX"
       ]
      },
      {
       "output_type": "stream",
       "stream": "stdout",
       "text": [
        "\n",
        "fund_returns_MDILX"
       ]
      },
      {
       "output_type": "stream",
       "stream": "stdout",
       "text": [
        "\n",
        "fund_returns_BREAX"
       ]
      },
      {
       "output_type": "stream",
       "stream": "stdout",
       "text": [
        "\n",
        "fund_returns_BLADX"
       ]
      },
      {
       "output_type": "stream",
       "stream": "stdout",
       "text": [
        "\n",
        "fund_returns_MDLRX"
       ]
      },
      {
       "output_type": "stream",
       "stream": "stdout",
       "text": [
        "\n",
        "fund_returns_BALPX"
       ]
      },
      {
       "output_type": "stream",
       "stream": "stdout",
       "text": [
        "\n",
        "fund_returns_MKLRX"
       ]
      },
      {
       "output_type": "stream",
       "stream": "stdout",
       "text": [
        "\n",
        "fund_returns_MDLHX"
       ]
      },
      {
       "output_type": "stream",
       "stream": "stdout",
       "text": [
        "\n",
        "fund_returns_MKLHX"
       ]
      },
      {
       "output_type": "stream",
       "stream": "stdout",
       "text": [
        "\n",
        "fund_returns_MDLVX"
       ]
      },
      {
       "output_type": "stream",
       "stream": "stdout",
       "text": [
        "\n",
        "fund_returns_MKLVX"
       ]
      },
      {
       "output_type": "stream",
       "stream": "stdout",
       "text": [
        "\n",
        "fund_returns_MDLTX"
       ]
      },
      {
       "output_type": "stream",
       "stream": "stdout",
       "text": [
        "\n",
        "fund_returns_STLCX"
       ]
      },
      {
       "output_type": "stream",
       "stream": "stdout",
       "text": [
        "\n",
        "fund_returns_LPBAX"
       ]
      },
      {
       "output_type": "stream",
       "stream": "stdout",
       "text": [
        "\n",
        "fund_returns_STLDX"
       ]
      },
      {
       "output_type": "stream",
       "stream": "stdout",
       "text": [
        "\n",
        "fund_returns_LPJAX"
       ]
      },
      {
       "output_type": "stream",
       "stream": "stdout",
       "text": [
        "\n",
        "fund_returns_STLEX"
       ]
      },
      {
       "output_type": "stream",
       "stream": "stdout",
       "text": [
        "\n",
        "fund_returns_LPHAX"
       ]
      },
      {
       "output_type": "stream",
       "stream": "stdout",
       "text": [
        "\n",
        "fund_returns_LPRFX"
       ]
      },
      {
       "output_type": "stream",
       "stream": "stdout",
       "text": [
        "\n",
        "fund_returns_LPVAX"
       ]
      },
      {
       "output_type": "stream",
       "stream": "stdout",
       "text": [
        "\n",
        "fund_returns_BAPBX"
       ]
      },
      {
       "output_type": "stream",
       "stream": "stdout",
       "text": [
        "\n",
        "fund_returns_BAPCX"
       ]
      },
      {
       "output_type": "stream",
       "stream": "stdout",
       "text": [
        "\n",
        "fund_returns_BAPDX"
       ]
      },
      {
       "output_type": "stream",
       "stream": "stdout",
       "text": [
        "\n",
        "fund_returns_BAPEX"
       ]
      },
      {
       "output_type": "stream",
       "stream": "stdout",
       "text": [
        "\n",
        "fund_returns_BAPGX"
       ]
      },
      {
       "output_type": "stream",
       "stream": "stdout",
       "text": [
        "\n",
        "fund_returns_BAPHX"
       ]
      },
      {
       "output_type": "stream",
       "stream": "stdout",
       "text": [
        "\n",
        "fund_returns_BAPJX"
       ]
      },
      {
       "output_type": "stream",
       "stream": "stdout",
       "text": [
        "\n",
        "fund_returns_BAPKX"
       ]
      },
      {
       "output_type": "stream",
       "stream": "stdout",
       "text": [
        "\n",
        "fund_returns_BAPLX"
       ]
      },
      {
       "output_type": "stream",
       "stream": "stdout",
       "text": [
        "\n",
        "fund_returns_LIQIX"
       ]
      },
      {
       "output_type": "stream",
       "stream": "stdout",
       "text": [
        "\n",
        "No Returns Data available for Fund : "
       ]
      },
      {
       "output_type": "stream",
       "stream": "stdout",
       "text": [
        " LIQIX\n",
        "fund_returns_LIBIX\n",
        "fund_returns_LINIX"
       ]
      },
      {
       "output_type": "stream",
       "stream": "stdout",
       "text": [
        "\n",
        "fund_returns_LIJIX"
       ]
      },
      {
       "output_type": "stream",
       "stream": "stdout",
       "text": [
        "\n",
        "fund_returns_LIKIX"
       ]
      },
      {
       "output_type": "stream",
       "stream": "stdout",
       "text": [
        "\n",
        "fund_returns_LIHIX"
       ]
      },
      {
       "output_type": "stream",
       "stream": "stdout",
       "text": [
        "\n",
        "fund_returns_LIPIX"
       ]
      },
      {
       "output_type": "stream",
       "stream": "stdout",
       "text": [
        "\n",
        "fund_returns_LIVIX"
       ]
      },
      {
       "output_type": "stream",
       "stream": "stdout",
       "text": [
        "\n",
        "fund_returns_LIRIX"
       ]
      },
      {
       "output_type": "stream",
       "stream": "stdout",
       "text": [
        "\n",
        "fund_returns_STLAX"
       ]
      },
      {
       "output_type": "stream",
       "stream": "stdout",
       "text": [
        "\n",
        "fund_returns_MDEGX"
       ]
      },
      {
       "output_type": "stream",
       "stream": "stdout",
       "text": [
        "\n",
        "fund_returns_BFMSX"
       ]
      },
      {
       "output_type": "stream",
       "stream": "stdout",
       "text": [
        "\n",
        "fund_returns_PCBAX"
       ]
      },
      {
       "output_type": "stream",
       "stream": "stdout",
       "text": [
        "\n",
        "fund_returns_MDRFX"
       ]
      },
      {
       "output_type": "stream",
       "stream": "stdout",
       "text": [
        "\n",
        "fund_returns_BMGAX"
       ]
      },
      {
       "output_type": "stream",
       "stream": "stdout",
       "text": [
        "\n",
        "fund_returns_BAMPX"
       ]
      },
      {
       "output_type": "stream",
       "stream": "stdout",
       "text": [
        "\n",
        "fund_returns_BAICX"
       ]
      },
      {
       "output_type": "stream",
       "stream": "stdout",
       "text": [
        "\n",
        "fund_returns_BRRAX"
       ]
      },
      {
       "output_type": "stream",
       "stream": "stdout",
       "text": [
        "\n",
        "fund_returns_MANLX"
       ]
      },
      {
       "output_type": "stream",
       "stream": "stdout",
       "text": [
        "\n",
        "fund_returns_MBGRX"
       ]
      },
      {
       "output_type": "stream",
       "stream": "stdout",
       "text": [
        "\n",
        "No Returns Data available for Fund : "
       ]
      },
      {
       "output_type": "stream",
       "stream": "stdout",
       "text": [
        " MBGRX\n",
        "fund_returns_MANJX\n",
        "fund_returns_MANKX"
       ]
      },
      {
       "output_type": "stream",
       "stream": "stdout",
       "text": [
        "\n",
        "fund_returns_MAPYX"
       ]
      },
      {
       "output_type": "stream",
       "stream": "stdout",
       "text": [
        "\n",
        "fund_returns_MAPCX"
       ]
      },
      {
       "output_type": "stream",
       "stream": "stdout",
       "text": [
        "\n",
        "fund_returns_BAREX"
       ]
      },
      {
       "output_type": "stream",
       "stream": "stdout",
       "text": [
        "\n",
        "fund_returns_BRGNX"
       ]
      },
      {
       "output_type": "stream",
       "stream": "stdout",
       "text": [
        "\n",
        "fund_returns_WFSPX"
       ]
      },
      {
       "output_type": "stream",
       "stream": "stdout",
       "text": [
        "\n",
        "fund_returns_BGSAX"
       ]
      },
      {
       "output_type": "stream",
       "stream": "stdout",
       "text": [
        "\n",
        "fund_returns_BMSAX"
       ]
      },
      {
       "output_type": "stream",
       "stream": "stdout",
       "text": [
        "\n",
        "fund_returns_BBSOX"
       ]
      },
      {
       "output_type": "stream",
       "stream": "stdout",
       "text": [
        "\n",
        "fund_returns_MALMX"
       ]
      },
      {
       "output_type": "stream",
       "stream": "stdout",
       "text": [
        "\n",
        "fund_returns_BDSTX"
       ]
      },
      {
       "output_type": "stream",
       "stream": "stdout",
       "text": [
        "\n",
        "fund_returns_PSGIX"
       ]
      },
      {
       "output_type": "stream",
       "stream": "stdout",
       "text": [
        "\n",
        "fund_returns_MDSWX"
       ]
      },
      {
       "output_type": "stream",
       "stream": "stdout",
       "text": [
        "\n",
        "fund_returns_MASKX"
       ]
      },
      {
       "output_type": "stream",
       "stream": "stdout",
       "text": [
        "\n",
        "fund_returns_BASIX"
       ]
      },
      {
       "output_type": "stream",
       "stream": "stdout",
       "text": [
        "\n",
        "fund_returns_MAMTX"
       ]
      },
      {
       "output_type": "stream",
       "stream": "stdout",
       "text": [
        "\n",
        "fund_returns_BSTAX"
       ]
      },
      {
       "output_type": "stream",
       "stream": "stdout",
       "text": [
        "\n",
        "fund_returns_MFHQX"
       ]
      },
      {
       "output_type": "stream",
       "stream": "stdout",
       "text": [
        "\n",
        "fund_returns_BBUSX"
       ]
      },
      {
       "output_type": "stream",
       "stream": "stdout",
       "text": [
        "\n",
        "fund_returns_PNIGX"
       ]
      },
      {
       "output_type": "stream",
       "stream": "stdout",
       "text": [
        "\n",
        "fund_returns_MSUMX"
       ]
      },
      {
       "output_type": "stream",
       "stream": "stdout",
       "text": [
        "\n",
        "fund_returns_BMEAX"
       ]
      },
      {
       "output_type": "stream",
       "stream": "stdout",
       "text": [
        "\n",
        "fund_returns_MASPX"
       ]
      },
      {
       "output_type": "stream",
       "stream": "stdout",
       "text": [
        "\n",
        "fund_returns_MAWIX"
       ]
      },
      {
       "output_type": "stream",
       "stream": "stdout",
       "text": [
        "\n",
        "fund_returns_MGCSX"
       ]
      },
      {
       "output_type": "stream",
       "stream": "stdout",
       "text": [
        "\n",
        "fund_returns_MMCVX"
       ]
      },
      {
       "output_type": "stream",
       "stream": "stdout",
       "text": [
        "\n",
        "fund_returns_CPASX"
       ]
      },
      {
       "output_type": "stream",
       "stream": "stdout",
       "text": [
        "\n",
        "fund_returns_CMCPX"
       ]
      },
      {
       "output_type": "stream",
       "stream": "stdout",
       "text": [
        "\n",
        "fund_returns_CSCEX"
       ]
      },
      {
       "output_type": "stream",
       "stream": "stdout",
       "text": [
        "\n",
        "fund_returns_CSLGX"
       ]
      },
      {
       "output_type": "stream",
       "stream": "stdout",
       "text": [
        "\n",
        "fund_returns_CDEIX"
       ]
      },
      {
       "output_type": "stream",
       "stream": "stdout",
       "text": [
        "\n",
        "fund_returns_CMGUX"
       ]
      },
      {
       "output_type": "stream",
       "stream": "stdout",
       "text": [
        "\n",
        "fund_returns_RARAX"
       ]
      },
      {
       "output_type": "stream",
       "stream": "stdout",
       "text": [
        "\n",
        "fund_returns_CMMAX"
       ]
      },
      {
       "output_type": "stream",
       "stream": "stdout",
       "text": [
        "\n",
        "fund_returns_CEMAX"
       ]
      },
      {
       "output_type": "stream",
       "stream": "stdout",
       "text": [
        "\n",
        "fund_returns_CMSAX"
       ]
      },
      {
       "output_type": "stream",
       "stream": "stdout",
       "text": [
        "\n",
        "fund_returns_CAGAX"
       ]
      },
      {
       "output_type": "stream",
       "stream": "stdout",
       "text": [
        "\n",
        "fund_returns_CAEAX"
       ]
      },
      {
       "output_type": "stream",
       "stream": "stdout",
       "text": [
        "\n",
        "fund_returns_ACFFX"
       ]
      },
      {
       "output_type": "stream",
       "stream": "stdout",
       "text": [
        "\n",
        "fund_returns_ACINX"
       ]
      },
      {
       "output_type": "stream",
       "stream": "stdout",
       "text": [
        "\n",
        "fund_returns_ACTWX"
       ]
      },
      {
       "output_type": "stream",
       "stream": "stdout",
       "text": [
        "\n",
        "fund_returns_AUSAX"
       ]
      },
      {
       "output_type": "stream",
       "stream": "stdout",
       "text": [
        "\n",
        "fund_returns_ACRNX"
       ]
      },
      {
       "output_type": "stream",
       "stream": "stdout",
       "text": [
        "\n",
        "fund_returns_NCMAX"
       ]
      },
      {
       "output_type": "stream",
       "stream": "stdout",
       "text": [
        "\n",
        "fund_returns_SCTEX"
       ]
      },
      {
       "output_type": "stream",
       "stream": "stdout",
       "text": [
        "\n",
        "fund_returns_NGAMX"
       ]
      },
      {
       "output_type": "stream",
       "stream": "stdout",
       "text": [
        "\n",
        "fund_returns_SETMX"
       ]
      },
      {
       "output_type": "stream",
       "stream": "stdout",
       "text": [
        "\n",
        "fund_returns_SEMAX"
       ]
      },
      {
       "output_type": "stream",
       "stream": "stdout",
       "text": [
        "\n",
        "fund_returns_NMDMX"
       ]
      },
      {
       "output_type": "stream",
       "stream": "stdout",
       "text": [
        "\n",
        "fund_returns_NNIBX"
       ]
      },
      {
       "output_type": "stream",
       "stream": "stdout",
       "text": [
        "\n",
        "fund_returns_GANYX"
       ]
      },
      {
       "output_type": "stream",
       "stream": "stdout",
       "text": [
        "\n",
        "fund_returns_CMBFX"
       ]
      },
      {
       "output_type": "stream",
       "stream": "stdout",
       "text": [
        "\n",
        "fund_returns_NSCMX"
       ]
      },
      {
       "output_type": "stream",
       "stream": "stdout",
       "text": [
        "\n",
        "fund_returns_INTAX"
       ]
      },
      {
       "output_type": "stream",
       "stream": "stdout",
       "text": [
        "\n",
        "fund_returns_NVABX"
       ]
      },
      {
       "output_type": "stream",
       "stream": "stdout",
       "text": [
        "\n",
        "fund_returns_TAPRX"
       ]
      },
      {
       "output_type": "stream",
       "stream": "stdout",
       "text": [
        "\n",
        "fund_returns_CBALX"
       ]
      },
      {
       "output_type": "stream",
       "stream": "stdout",
       "text": [
        "\n",
        "fund_returns_UMMGX"
       ]
      },
      {
       "output_type": "stream",
       "stream": "stdout",
       "text": [
        "\n",
        "fund_returns_CLMPX"
       ]
      },
      {
       "output_type": "stream",
       "stream": "stdout",
       "text": [
        "\n",
        "fund_returns_AXBAX"
       ]
      },
      {
       "output_type": "stream",
       "stream": "stdout",
       "text": [
        "\n",
        "fund_returns_ABDAX"
       ]
      },
      {
       "output_type": "stream",
       "stream": "stdout",
       "text": [
        "\n",
        "fund_returns_NBIAX"
       ]
      },
      {
       "output_type": "stream",
       "stream": "stdout",
       "text": [
        "\n",
        "fund_returns_NLGAX"
       ]
      },
      {
       "output_type": "stream",
       "stream": "stdout",
       "text": [
        "\n",
        "fund_returns_ABUAX"
       ]
      },
      {
       "output_type": "stream",
       "stream": "stdout",
       "text": [
        "\n",
        "fund_returns_CCIYX"
       ]
      },
      {
       "output_type": "stream",
       "stream": "stdout",
       "text": [
        "\n",
        "fund_returns_SMGIX"
       ]
      },
      {
       "output_type": "stream",
       "stream": "stdout",
       "text": [
        "\n",
        "fund_returns_PACIX"
       ]
      },
      {
       "output_type": "stream",
       "stream": "stdout",
       "text": [
        "\n",
        "fund_returns_SRINX"
       ]
      },
      {
       "output_type": "stream",
       "stream": "stdout",
       "text": [
        "\n",
        "fund_returns_INDZX"
       ]
      },
      {
       "output_type": "stream",
       "stream": "stdout",
       "text": [
        "\n",
        "fund_returns_CDRAX"
       ]
      },
      {
       "output_type": "stream",
       "stream": "stdout",
       "text": [
        "\n",
        "fund_returns_GEQAX"
       ]
      },
      {
       "output_type": "stream",
       "stream": "stdout",
       "text": [
        "\n",
        "fund_returns_INUTX"
       ]
      },
      {
       "output_type": "stream",
       "stream": "stdout",
       "text": [
        "\n",
        "fund_returns_REBAX"
       ]
      },
      {
       "output_type": "stream",
       "stream": "stdout",
       "text": [
        "\n",
        "fund_returns_UMEMX"
       ]
      },
      {
       "output_type": "stream",
       "stream": "stdout",
       "text": [
        "\n",
        "fund_returns_INEGX"
       ]
      },
      {
       "output_type": "stream",
       "stream": "stdout",
       "text": [
        "\n",
        "fund_returns_AXEAX"
       ]
      },
      {
       "output_type": "stream",
       "stream": "stdout",
       "text": [
        "\n",
        "fund_returns_CFIAX"
       ]
      },
      {
       "output_type": "stream",
       "stream": "stdout",
       "text": [
        "\n",
        "fund_returns_RFRAX"
       ]
      },
      {
       "output_type": "stream",
       "stream": "stdout",
       "text": [
        "\n",
        "fund_returns_IGBFX"
       ]
      },
      {
       "output_type": "stream",
       "stream": "stdout",
       "text": [
        "\n",
        "fund_returns_CSVFX"
       ]
      },
      {
       "output_type": "stream",
       "stream": "stdout",
       "text": [
        "\n",
        "fund_returns_UMESX"
       ]
      },
      {
       "output_type": "stream",
       "stream": "stdout",
       "text": [
        "\n",
        "fund_returns_IGLGX"
       ]
      },
      {
       "output_type": "stream",
       "stream": "stdout",
       "text": [
        "\n",
        "fund_returns_RRIAX"
       ]
      },
      {
       "output_type": "stream",
       "stream": "stdout",
       "text": [
        "\n",
        "No Returns Data available for Fund : "
       ]
      },
      {
       "output_type": "stream",
       "stream": "stdout",
       "text": [
        " RRIAX\n",
        "fund_returns_IMRFX\n",
        "fund_returns_CMTFX"
       ]
      },
      {
       "output_type": "stream",
       "stream": "stdout",
       "text": [
        "\n",
        "fund_returns_NGCAX"
       ]
      },
      {
       "output_type": "stream",
       "stream": "stdout",
       "text": [
        "\n",
        "fund_returns_INEAX"
       ]
      },
      {
       "output_type": "stream",
       "stream": "stdout",
       "text": [
        "\n",
        "fund_returns_SRHMX"
       ]
      },
      {
       "output_type": "stream",
       "stream": "stdout",
       "text": [
        "\n",
        "fund_returns_RBBAX"
       ]
      },
      {
       "output_type": "stream",
       "stream": "stdout",
       "text": [
        "\n",
        "fund_returns_AIOAX"
       ]
      },
      {
       "output_type": "stream",
       "stream": "stdout",
       "text": [
        "\n",
        "fund_returns_APSAX"
       ]
      },
      {
       "output_type": "stream",
       "stream": "stdout",
       "text": [
        "\n",
        "fund_returns_SRBFX"
       ]
      },
      {
       "output_type": "stream",
       "stream": "stdout",
       "text": [
        "\n",
        "fund_returns_CNBAX"
       ]
      },
      {
       "output_type": "stream",
       "stream": "stdout",
       "text": [
        "\n",
        "fund_returns_NIVLX"
       ]
      },
      {
       "output_type": "stream",
       "stream": "stdout",
       "text": [
        "\n",
        "fund_returns_NMIAX"
       ]
      },
      {
       "output_type": "stream",
       "stream": "stdout",
       "text": [
        "\n",
        "fund_returns_GAEGX"
       ]
      },
      {
       "output_type": "stream",
       "stream": "stdout",
       "text": [
        "\n",
        "fund_returns_NINDX"
       ]
      },
      {
       "output_type": "stream",
       "stream": "stdout",
       "text": [
        "\n",
        "fund_returns_AQEAX"
       ]
      },
      {
       "output_type": "stream",
       "stream": "stdout",
       "text": [
        "\n",
        "fund_returns_RDLAX"
       ]
      },
      {
       "output_type": "stream",
       "stream": "stdout",
       "text": [
        "\n",
        "fund_returns_RLCAX"
       ]
      },
      {
       "output_type": "stream",
       "stream": "stdout",
       "text": [
        "\n",
        "fund_returns_NLGIX"
       ]
      },
      {
       "output_type": "stream",
       "stream": "stdout",
       "text": [
        "\n",
        "fund_returns_ALDAX"
       ]
      },
      {
       "output_type": "stream",
       "stream": "stdout",
       "text": [
        "\n",
        "fund_returns_NMTAX"
       ]
      },
      {
       "output_type": "stream",
       "stream": "stdout",
       "text": [
        "\n",
        "fund_returns_CCMAX"
       ]
      },
      {
       "output_type": "stream",
       "stream": "stdout",
       "text": [
        "\n",
        "fund_returns_NFEAX"
       ]
      },
      {
       "output_type": "stream",
       "stream": "stdout",
       "text": [
        "\n",
        "fund_returns_COGAX"
       ]
      },
      {
       "output_type": "stream",
       "stream": "stdout",
       "text": [
        "\n",
        "fund_returns_NMGIX"
       ]
      },
      {
       "output_type": "stream",
       "stream": "stdout",
       "text": [
        "\n",
        "fund_returns_MAIOX"
       ]
      },
      {
       "output_type": "stream",
       "stream": "stdout",
       "text": [
        "\n",
        "fund_returns_CMTAX"
       ]
      },
      {
       "output_type": "stream",
       "stream": "stdout",
       "text": [
        "\n",
        "fund_returns_CLSPX"
       ]
      },
      {
       "output_type": "stream",
       "stream": "stdout",
       "text": [
        "\n",
        "fund_returns_NMPAX"
       ]
      },
      {
       "output_type": "stream",
       "stream": "stdout",
       "text": [
        "\n",
        "fund_returns_CMUAX"
       ]
      },
      {
       "output_type": "stream",
       "stream": "stdout",
       "text": [
        "\n",
        "fund_returns_IMNTX"
       ]
      },
      {
       "output_type": "stream",
       "stream": "stdout",
       "text": [
        "\n",
        "fund_returns_NIEQX"
       ]
      },
      {
       "output_type": "stream",
       "stream": "stdout",
       "text": [
        "\n",
        "fund_returns_ASVAX"
       ]
      },
      {
       "output_type": "stream",
       "stream": "stdout",
       "text": [
        "\n",
        "fund_returns_COLNX"
       ]
      },
      {
       "output_type": "stream",
       "stream": "stdout",
       "text": [
        "\n",
        "fund_returns_COSZX"
       ]
      },
      {
       "output_type": "stream",
       "stream": "stdout",
       "text": [
        "\n",
        "fund_returns_USPAX"
       ]
      },
      {
       "output_type": "stream",
       "stream": "stdout",
       "text": [
        "\n",
        "fund_returns_CREEX"
       ]
      },
      {
       "output_type": "stream",
       "stream": "stdout",
       "text": [
        "\n",
        "fund_returns_CRAAX"
       ]
      },
      {
       "output_type": "stream",
       "stream": "stdout",
       "text": [
        "\n",
        "fund_returns_NSEPX"
       ]
      },
      {
       "output_type": "stream",
       "stream": "stdout",
       "text": [
        "\n",
        "fund_returns_UMLGX"
       ]
      },
      {
       "output_type": "stream",
       "stream": "stdout",
       "text": [
        "\n",
        "fund_returns_SLVAX"
       ]
      },
      {
       "output_type": "stream",
       "stream": "stdout",
       "text": [
        "\n",
        "fund_returns_SSCVX"
       ]
      },
      {
       "output_type": "stream",
       "stream": "stdout",
       "text": [
        "\n",
        "fund_returns_SLMCX"
       ]
      },
      {
       "output_type": "stream",
       "stream": "stdout",
       "text": [
        "\n",
        "fund_returns_SHGTX"
       ]
      },
      {
       "output_type": "stream",
       "stream": "stdout",
       "text": [
        "\n",
        "fund_returns_NSTMX"
       ]
      },
      {
       "output_type": "stream",
       "stream": "stdout",
       "text": [
        "\n",
        "fund_returns_NSMIX"
       ]
      },
      {
       "output_type": "stream",
       "stream": "stdout",
       "text": [
        "\n",
        "fund_returns_SMCEX"
       ]
      },
      {
       "output_type": "stream",
       "stream": "stdout",
       "text": [
        "\n",
        "fund_returns_CMSCX"
       ]
      },
      {
       "output_type": "stream",
       "stream": "stdout",
       "text": [
        "\n",
        "fund_returns_NMSAX"
       ]
      },
      {
       "output_type": "stream",
       "stream": "stdout",
       "text": [
        "\n",
        "fund_returns_CSMIX"
       ]
      },
      {
       "output_type": "stream",
       "stream": "stdout",
       "text": [
        "\n",
        "fund_returns_COVAX"
       ]
      },
      {
       "output_type": "stream",
       "stream": "stdout",
       "text": [
        "\n",
        "fund_returns_AMVAX"
       ]
      },
      {
       "output_type": "stream",
       "stream": "stdout",
       "text": [
        "\n",
        "fund_returns_COSIX"
       ]
      },
      {
       "output_type": "stream",
       "stream": "stdout",
       "text": [
        "\n",
        "fund_returns_COLTX"
       ]
      },
      {
       "output_type": "stream",
       "stream": "stdout",
       "text": [
        "\n",
        "fund_returns_COTZX"
       ]
      },
      {
       "output_type": "stream",
       "stream": "stdout",
       "text": [
        "\n",
        "fund_returns_AUGAX"
       ]
      },
      {
       "output_type": "stream",
       "stream": "stdout",
       "text": [
        "\n",
        "fund_returns_IUTIX"
       ]
      },
      {
       "output_type": "stream",
       "stream": "stdout",
       "text": [
        "\n",
        "fund_returns_UMBIX"
       ]
      },
      {
       "output_type": "stream",
       "stream": "stdout",
       "text": [
        "\n",
        "fund_returns_OAAAX"
       ]
      },
      {
       "output_type": "stream",
       "stream": "stdout",
       "text": [
        "\n",
        "fund_returns_OPTFX"
       ]
      },
      {
       "output_type": "stream",
       "stream": "stdout",
       "text": [
        "\n",
        "fund_returns_OPPEX"
       ]
      },
      {
       "output_type": "stream",
       "stream": "stdout",
       "text": [
        "\n",
        "fund_returns_QRAAX"
       ]
      },
      {
       "output_type": "stream",
       "stream": "stdout",
       "text": [
        "\n",
        "fund_returns_OACIX"
       ]
      },
      {
       "output_type": "stream",
       "stream": "stdout",
       "text": [
        "\n",
        "fund_returns_OPIGX"
       ]
      },
      {
       "output_type": "stream",
       "stream": "stdout",
       "text": [
        "\n",
        "fund_returns_OFIAX"
       ]
      },
      {
       "output_type": "stream",
       "stream": "stdout",
       "text": [
        "\n",
        "fund_returns_ODMAX"
       ]
      },
      {
       "output_type": "stream",
       "stream": "stdout",
       "text": [
        "\n",
        "fund_returns_OPOCX"
       ]
      },
      {
       "output_type": "stream",
       "stream": "stdout",
       "text": [
        "\n",
        "fund_returns_OEGAX"
       ]
      },
      {
       "output_type": "stream",
       "stream": "stdout",
       "text": [
        "\n",
        "fund_returns_ODAAX"
       ]
      },
      {
       "output_type": "stream",
       "stream": "stdout",
       "text": [
        "\n",
        "fund_returns_OSVAX"
       ]
      },
      {
       "output_type": "stream",
       "stream": "stdout",
       "text": [
        "\n",
        "fund_returns_OEMAX"
       ]
      },
      {
       "output_type": "stream",
       "stream": "stdout",
       "text": [
        "\n",
        "fund_returns_OEQAX"
       ]
      },
      {
       "output_type": "stream",
       "stream": "stdout",
       "text": [
        "\n",
        "fund_returns_OAEIX"
       ]
      },
      {
       "output_type": "stream",
       "stream": "stdout",
       "text": [
        "\n",
        "fund_returns_OAAIX"
       ]
      },
      {
       "output_type": "stream",
       "stream": "stdout",
       "text": [
        "\n",
        "fund_returns_QVOPX"
       ]
      },
      {
       "output_type": "stream",
       "stream": "stdout",
       "text": [
        "\n",
        "fund_returns_OPPAX"
       ]
      },
      {
       "output_type": "stream",
       "stream": "stdout",
       "text": [
        "\n",
        "fund_returns_QVGIX"
       ]
      },
      {
       "output_type": "stream",
       "stream": "stdout",
       "text": [
        "\n",
        "fund_returns_OGYAX"
       ]
      },
      {
       "output_type": "stream",
       "stream": "stdout",
       "text": [
        "\n",
        "fund_returns_OARAX"
       ]
      },
      {
       "output_type": "stream",
       "stream": "stdout",
       "text": [
        "\n",
        "fund_returns_OPGIX"
       ]
      },
      {
       "output_type": "stream",
       "stream": "stdout",
       "text": [
        "\n",
        "fund_returns_OGRAX"
       ]
      },
      {
       "output_type": "stream",
       "stream": "stdout",
       "text": [
        "\n",
        "fund_returns_OPSIX"
       ]
      },
      {
       "output_type": "stream",
       "stream": "stdout",
       "text": [
        "\n",
        "fund_returns_GLVAX"
       ]
      },
      {
       "output_type": "stream",
       "stream": "stdout",
       "text": [
        "\n",
        "fund_returns_OPGSX"
       ]
      },
      {
       "output_type": "stream",
       "stream": "stdout",
       "text": [
        "\n",
        "fund_returns_OIBAX"
       ]
      },
      {
       "output_type": "stream",
       "stream": "stdout",
       "text": [
        "\n",
        "fund_returns_OIDAX"
       ]
      },
      {
       "output_type": "stream",
       "stream": "stdout",
       "text": [
        "\n",
        "fund_returns_OIGAX"
       ]
      },
      {
       "output_type": "stream",
       "stream": "stdout",
       "text": [
        "\n",
        "fund_returns_OSMAX"
       ]
      },
      {
       "output_type": "stream",
       "stream": "stdout",
       "text": [
        "\n",
        "fund_returns_QIVAX"
       ]
      },
      {
       "output_type": "stream",
       "stream": "stdout",
       "text": [
        "\n",
        "fund_returns_OUSGX"
       ]
      },
      {
       "output_type": "stream",
       "stream": "stdout",
       "text": [
        "\n",
        "fund_returns_OPGVX"
       ]
      },
      {
       "output_type": "stream",
       "stream": "stdout",
       "text": [
        "\n",
        "fund_returns_MSIGX"
       ]
      },
      {
       "output_type": "stream",
       "stream": "stdout",
       "text": [
        "\n",
        "fund_returns_OPMSX"
       ]
      },
      {
       "output_type": "stream",
       "stream": "stdout",
       "text": [
        "\n",
        "fund_returns_OMSOX"
       ]
      },
      {
       "output_type": "stream",
       "stream": "stdout",
       "text": [
        "\n",
        "fund_returns_OSCAX"
       ]
      },
      {
       "output_type": "stream",
       "stream": "stdout",
       "text": [
        "\n",
        "fund_returns_OAMIX"
       ]
      },
      {
       "output_type": "stream",
       "stream": "stdout",
       "text": [
        "\n",
        "fund_returns_OREAX"
       ]
      },
      {
       "output_type": "stream",
       "stream": "stdout",
       "text": [
        "\n",
        "fund_returns_OARDX"
       ]
      },
      {
       "output_type": "stream",
       "stream": "stdout",
       "text": [
        "\n",
        "fund_returns_OPTAX"
       ]
      },
      {
       "output_type": "stream",
       "stream": "stdout",
       "text": [
        "\n",
        "fund_returns_OPNYX"
       ]
      },
      {
       "output_type": "stream",
       "stream": "stdout",
       "text": [
        "\n",
        "fund_returns_ORAZX"
       ]
      },
      {
       "output_type": "stream",
       "stream": "stdout",
       "text": [
        "\n",
        "fund_returns_OPCAX"
       ]
      },
      {
       "output_type": "stream",
       "stream": "stdout",
       "text": [
        "\n",
        "fund_returns_RMUNX"
       ]
      },
      {
       "output_type": "stream",
       "stream": "stdout",
       "text": [
        "\n",
        "fund_returns_ORNAX"
       ]
      },
      {
       "output_type": "stream",
       "stream": "stdout",
       "text": [
        "\n",
        "fund_returns_ORRWX"
       ]
      },
      {
       "output_type": "stream",
       "stream": "stdout",
       "text": [
        "\n",
        "fund_returns_OLCAX"
       ]
      },
      {
       "output_type": "stream",
       "stream": "stdout",
       "text": [
        "\n",
        "fund_returns_OPITX"
       ]
      },
      {
       "output_type": "stream",
       "stream": "stdout",
       "text": [
        "\n",
        "fund_returns_LTNYX"
       ]
      },
      {
       "output_type": "stream",
       "stream": "stdout",
       "text": [
        "\n",
        "fund_returns_ORMAX"
       ]
      },
      {
       "output_type": "stream",
       "stream": "stdout",
       "text": [
        "\n",
        "fund_returns_ORMDX"
       ]
      },
      {
       "output_type": "stream",
       "stream": "stdout",
       "text": [
        "\n",
        "fund_returns_ORMIX"
       ]
      },
      {
       "output_type": "stream",
       "stream": "stdout",
       "text": [
        "\n",
        "fund_returns_OPAMX"
       ]
      },
      {
       "output_type": "stream",
       "stream": "stdout",
       "text": [
        "\n",
        "fund_returns_OPNCX"
       ]
      },
      {
       "output_type": "stream",
       "stream": "stdout",
       "text": [
        "\n",
        "fund_returns_ONJAX"
       ]
      },
      {
       "output_type": "stream",
       "stream": "stdout",
       "text": [
        "\n",
        "fund_returns_OROHX"
       ]
      },
      {
       "output_type": "stream",
       "stream": "stdout",
       "text": [
        "\n",
        "fund_returns_OPATX"
       ]
      },
      {
       "output_type": "stream",
       "stream": "stdout",
       "text": [
        "\n",
        "fund_returns_ORSTX"
       ]
      },
      {
       "output_type": "stream",
       "stream": "stdout",
       "text": [
        "\n",
        "fund_returns_ORVAX"
       ]
      },
      {
       "output_type": "stream",
       "stream": "stdout",
       "text": [
        "\n",
        "fund_returns_OOSAX"
       ]
      },
      {
       "output_type": "stream",
       "stream": "stdout",
       "text": [
        "\n",
        "fund_returns_OSFAX"
       ]
      },
      {
       "output_type": "stream",
       "stream": "stdout",
       "text": [
        "\n",
        "fund_returns_QVSCX"
       ]
      },
      {
       "output_type": "stream",
       "stream": "stdout",
       "text": [
        "\n",
        "fund_returns_MLPAX"
       ]
      },
      {
       "output_type": "stream",
       "stream": "stdout",
       "text": [
        "\n",
        "fund_returns_MLPNX"
       ]
      },
      {
       "output_type": "stream",
       "stream": "stdout",
       "text": [
        "\n",
        "fund_returns_MLPDX"
       ]
      },
      {
       "output_type": "stream",
       "stream": "stdout",
       "text": [
        "\n",
        "fund_returns_MLPFX"
       ]
      },
      {
       "output_type": "stream",
       "stream": "stdout",
       "text": [
        "\n",
        "fund_returns_OSDYX"
       ]
      },
      {
       "output_type": "stream",
       "stream": "stdout",
       "text": [
        "\n",
        "fund_returns_CGRWX"
       ]
      },
      {
       "output_type": "stream",
       "stream": "stdout",
       "text": [
        "\n"
       ]
      }
     ],
     "prompt_number": 309
    },
    {
     "cell_type": "code",
     "collapsed": false,
     "input": [
      "fund_returns['fund_returns_FCNTX']"
     ],
     "language": "python",
     "metadata": {},
     "outputs": [
      {
       "html": [
        "<div style=\"max-height:1000px;max-width:1500px;overflow:auto;\">\n",
        "<table border=\"1\" class=\"dataframe\">\n",
        "  <thead>\n",
        "    <tr style=\"text-align: right;\">\n",
        "      <th></th>\n",
        "      <th>Year</th>\n",
        "      <th>FCNTX_Returns</th>\n",
        "      <th>S&amp;P 500 TR USD</th>\n",
        "      <th>Category (LB)</th>\n",
        "      <th>+/- S&amp;P 500 TR USD</th>\n",
        "      <th>+/- Category (LB)</th>\n",
        "      <th>Annual_Net_Exp_Ratio</th>\n",
        "      <th>Turnover_Ratio</th>\n",
        "      <th>Rank_In_Category</th>\n",
        "    </tr>\n",
        "  </thead>\n",
        "  <tbody>\n",
        "    <tr>\n",
        "      <th>0 </th>\n",
        "      <td> 1999</td>\n",
        "      <td> 25.03</td>\n",
        "      <td> 21.04</td>\n",
        "      <td> 38.87</td>\n",
        "      <td>  3.99</td>\n",
        "      <td>-13.84</td>\n",
        "      <td> 0.62</td>\n",
        "      <td> 177.00</td>\n",
        "      <td> 21</td>\n",
        "    </tr>\n",
        "    <tr>\n",
        "      <th>1 </th>\n",
        "      <td> 2000</td>\n",
        "      <td> -6.80</td>\n",
        "      <td> -9.10</td>\n",
        "      <td>-13.05</td>\n",
        "      <td>  2.30</td>\n",
        "      <td>  6.24</td>\n",
        "      <td> 0.84</td>\n",
        "      <td> 166.00</td>\n",
        "      <td> 40</td>\n",
        "    </tr>\n",
        "    <tr>\n",
        "      <th>2 </th>\n",
        "      <td> 2001</td>\n",
        "      <td>-12.59</td>\n",
        "      <td>-11.89</td>\n",
        "      <td>-22.30</td>\n",
        "      <td> -0.70</td>\n",
        "      <td>  9.71</td>\n",
        "      <td> 0.91</td>\n",
        "      <td> 141.00</td>\n",
        "      <td> 51</td>\n",
        "    </tr>\n",
        "    <tr>\n",
        "      <th>3 </th>\n",
        "      <td> 2002</td>\n",
        "      <td> -9.63</td>\n",
        "      <td>-22.10</td>\n",
        "      <td>-27.64</td>\n",
        "      <td> 12.47</td>\n",
        "      <td> 18.01</td>\n",
        "      <td> 0.99</td>\n",
        "      <td>  80.00</td>\n",
        "      <td>  2</td>\n",
        "    </tr>\n",
        "    <tr>\n",
        "      <th>4 </th>\n",
        "      <td> 2003</td>\n",
        "      <td> 27.95</td>\n",
        "      <td> 28.68</td>\n",
        "      <td> 28.66</td>\n",
        "      <td> -0.73</td>\n",
        "      <td> -0.70</td>\n",
        "      <td> 0.98</td>\n",
        "      <td>   0.98</td>\n",
        "      <td> 39</td>\n",
        "    </tr>\n",
        "    <tr>\n",
        "      <th>5 </th>\n",
        "      <td> 2004</td>\n",
        "      <td> 15.07</td>\n",
        "      <td> 10.88</td>\n",
        "      <td>  7.81</td>\n",
        "      <td>  4.19</td>\n",
        "      <td>  7.26</td>\n",
        "      <td> 0.92</td>\n",
        "      <td>   0.92</td>\n",
        "      <td>  5</td>\n",
        "    </tr>\n",
        "    <tr>\n",
        "      <th>6 </th>\n",
        "      <td> 2005</td>\n",
        "      <td> 16.23</td>\n",
        "      <td>  4.91</td>\n",
        "      <td>  6.71</td>\n",
        "      <td> 11.32</td>\n",
        "      <td>  9.52</td>\n",
        "      <td> 0.88</td>\n",
        "      <td>  60.00</td>\n",
        "      <td>  3</td>\n",
        "    </tr>\n",
        "    <tr>\n",
        "      <th>7 </th>\n",
        "      <td> 2006</td>\n",
        "      <td> 11.54</td>\n",
        "      <td> 15.79</td>\n",
        "      <td>  7.05</td>\n",
        "      <td> -4.26</td>\n",
        "      <td>  4.48</td>\n",
        "      <td> 0.89</td>\n",
        "      <td>  76.00</td>\n",
        "      <td> 14</td>\n",
        "    </tr>\n",
        "    <tr>\n",
        "      <th>8 </th>\n",
        "      <td> 2007</td>\n",
        "      <td> 19.78</td>\n",
        "      <td>  5.49</td>\n",
        "      <td> 13.35</td>\n",
        "      <td> 14.29</td>\n",
        "      <td>  6.43</td>\n",
        "      <td> 0.89</td>\n",
        "      <td>  56.00</td>\n",
        "      <td> 19</td>\n",
        "    </tr>\n",
        "    <tr>\n",
        "      <th>9 </th>\n",
        "      <td> 2008</td>\n",
        "      <td>-37.16</td>\n",
        "      <td>-37.00</td>\n",
        "      <td>-40.67</td>\n",
        "      <td> -0.17</td>\n",
        "      <td>  3.50</td>\n",
        "      <td> 0.94</td>\n",
        "      <td>  78.00</td>\n",
        "      <td> 21</td>\n",
        "    </tr>\n",
        "    <tr>\n",
        "      <th>10</th>\n",
        "      <td> 2009</td>\n",
        "      <td> 29.23</td>\n",
        "      <td> 26.46</td>\n",
        "      <td> 35.68</td>\n",
        "      <td>  2.76</td>\n",
        "      <td> -6.46</td>\n",
        "      <td> 1.01</td>\n",
        "      <td>  58.00</td>\n",
        "      <td> 76</td>\n",
        "    </tr>\n",
        "    <tr>\n",
        "      <th>11</th>\n",
        "      <td> 2010</td>\n",
        "      <td> 16.93</td>\n",
        "      <td> 15.06</td>\n",
        "      <td> 15.53</td>\n",
        "      <td>  1.87</td>\n",
        "      <td>  1.40</td>\n",
        "      <td> 0.91</td>\n",
        "      <td>  46.00</td>\n",
        "      <td> 35</td>\n",
        "    </tr>\n",
        "    <tr>\n",
        "      <th>12</th>\n",
        "      <td> 2011</td>\n",
        "      <td> -0.14</td>\n",
        "      <td>  2.11</td>\n",
        "      <td> -2.46</td>\n",
        "      <td> -2.25</td>\n",
        "      <td>  2.32</td>\n",
        "      <td> 0.81</td>\n",
        "      <td>  55.00</td>\n",
        "      <td> 30</td>\n",
        "    </tr>\n",
        "    <tr>\n",
        "      <th>13</th>\n",
        "      <td> 2012</td>\n",
        "      <td> 16.26</td>\n",
        "      <td> 16.00</td>\n",
        "      <td> 15.34</td>\n",
        "      <td>  0.25</td>\n",
        "      <td>  0.92</td>\n",
        "      <td> 0.74</td>\n",
        "      <td>  48.00</td>\n",
        "      <td> 36</td>\n",
        "    </tr>\n",
        "    <tr>\n",
        "      <th>14</th>\n",
        "      <td> 2013</td>\n",
        "      <td> 34.15</td>\n",
        "      <td> 32.39</td>\n",
        "      <td> 33.92</td>\n",
        "      <td>  1.76</td>\n",
        "      <td>  0.23</td>\n",
        "      <td> 0.66</td>\n",
        "      <td>  46.00</td>\n",
        "      <td> 46</td>\n",
        "    </tr>\n",
        "    <tr>\n",
        "      <th>15</th>\n",
        "      <td>  YTD</td>\n",
        "      <td> 10.14</td>\n",
        "      <td> 13.98</td>\n",
        "      <td> 10.79</td>\n",
        "      <td> -3.84</td>\n",
        "      <td> -0.65</td>\n",
        "      <td>-0.65</td>\n",
        "      <td>  -0.65</td>\n",
        "      <td> 61</td>\n",
        "    </tr>\n",
        "  </tbody>\n",
        "</table>\n",
        "</div>"
       ],
       "metadata": {},
       "output_type": "pyout",
       "prompt_number": 314,
       "text": [
        "    Year  FCNTX_Returns  S&P 500 TR USD  Category (LB)  +/- S&P 500 TR USD  \\\n",
        "0   1999          25.03           21.04          38.87                3.99   \n",
        "1   2000          -6.80           -9.10         -13.05                2.30   \n",
        "2   2001         -12.59          -11.89         -22.30               -0.70   \n",
        "3   2002          -9.63          -22.10         -27.64               12.47   \n",
        "4   2003          27.95           28.68          28.66               -0.73   \n",
        "5   2004          15.07           10.88           7.81                4.19   \n",
        "6   2005          16.23            4.91           6.71               11.32   \n",
        "7   2006          11.54           15.79           7.05               -4.26   \n",
        "8   2007          19.78            5.49          13.35               14.29   \n",
        "9   2008         -37.16          -37.00         -40.67               -0.17   \n",
        "10  2009          29.23           26.46          35.68                2.76   \n",
        "11  2010          16.93           15.06          15.53                1.87   \n",
        "12  2011          -0.14            2.11          -2.46               -2.25   \n",
        "13  2012          16.26           16.00          15.34                0.25   \n",
        "14  2013          34.15           32.39          33.92                1.76   \n",
        "15   YTD          10.14           13.98          10.79               -3.84   \n",
        "\n",
        "    +/- Category (LB)  Annual_Net_Exp_Ratio  Turnover_Ratio  Rank_In_Category  \n",
        "0              -13.84                  0.62          177.00                21  \n",
        "1                6.24                  0.84          166.00                40  \n",
        "2                9.71                  0.91          141.00                51  \n",
        "3               18.01                  0.99           80.00                 2  \n",
        "4               -0.70                  0.98            0.98                39  \n",
        "5                7.26                  0.92            0.92                 5  \n",
        "6                9.52                  0.88           60.00                 3  \n",
        "7                4.48                  0.89           76.00                14  \n",
        "8                6.43                  0.89           56.00                19  \n",
        "9                3.50                  0.94           78.00                21  \n",
        "10              -6.46                  1.01           58.00                76  \n",
        "11               1.40                  0.91           46.00                35  \n",
        "12               2.32                  0.81           55.00                30  \n",
        "13               0.92                  0.74           48.00                36  \n",
        "14               0.23                  0.66           46.00                46  \n",
        "15              -0.65                 -0.65           -0.65                61  "
       ]
      }
     ],
     "prompt_number": 314
    },
    {
     "cell_type": "code",
     "collapsed": false,
     "input": [
      "fund_returns1 = {}\n",
      "# 15 year returns data \n",
      "for i in range(0,1):\n",
      "    fund_name1 = \"OMEAX\"\n",
      "    fund_benchmark_var1 = \"Barclays Municipal TR USD\"\n",
      "    print fund_name1, fund_benchmark_var1\n",
      "    symbol1 = (mstar_benchmark_symbol[mstar_benchmark_symbol['Benchmark_Index'] == fund_benchmark_var1]['Mstar_Symbol']).values[0]\n",
      "    fund_ret_url1 = \"http://performance.morningstar.com/Performance/fund/performance-history-1.action?&t=XNAS:\"+fund_name1+\"&region=usa&culture=en-US&cur=&ops=clear&s=\"+symbol1+\"&ndec=2&ep=true&align=m&y=15&comparisonRemove=false&loccat=&taxadj=&benchmarkSecId=&benchmarktype=\"\n",
      "    fund_history1 = get_performance_data(fund_ret_url1)\n",
      "    fund_history1 = fnc_transpose(fund_history1)\n",
      "    fund_history1 = fund_history1.reset_index()\n",
      "    fund_history1.columns = ['Year',fund_name1+'_Returns',fund_benchmark_var1,'Category (LB)','+/- S&P 500 TR USD','+/- Category (LB)','Annual_Net_Exp_Ratio','Turnover_Ratio','Rank_In_Category']\n",
      "    #print \"No Returns Data available for Fund : \",fund_name\n",
      "    # Creating an Empty DataFrame for fund with no returns\n",
      "    #fund_history = pd.DataFrame()\n",
      "    key = \"fund_returns_\"+fund_name1\n",
      "    fund_returns1[key] = fund_history1"
     ],
     "language": "python",
     "metadata": {},
     "outputs": [
      {
       "output_type": "stream",
       "stream": "stdout",
       "text": [
        "OMEAX Barclays Municipal TR USD\n"
       ]
      }
     ],
     "prompt_number": 310
    },
    {
     "cell_type": "code",
     "collapsed": false,
     "input": [
      "fund_history1"
     ],
     "language": "python",
     "metadata": {},
     "outputs": [
      {
       "html": [
        "<div style=\"max-height:1000px;max-width:1500px;overflow:auto;\">\n",
        "<table border=\"1\" class=\"dataframe\">\n",
        "  <thead>\n",
        "    <tr style=\"text-align: right;\">\n",
        "      <th></th>\n",
        "      <th>Year</th>\n",
        "      <th>OMEAX_Returns</th>\n",
        "      <th>Barclays Municipal TR USD</th>\n",
        "      <th>Category (LB)</th>\n",
        "      <th>+/- S&amp;P 500 TR USD</th>\n",
        "      <th>+/- Category (LB)</th>\n",
        "      <th>Annual_Net_Exp_Ratio</th>\n",
        "      <th>Turnover_Ratio</th>\n",
        "      <th>Rank_In_Category</th>\n",
        "    </tr>\n",
        "  </thead>\n",
        "  <tbody>\n",
        "    <tr>\n",
        "      <th>0 </th>\n",
        "      <td> 1999</td>\n",
        "      <td> 11.27</td>\n",
        "      <td> -2.06</td>\n",
        "      <td> 20.92</td>\n",
        "      <td> 13.33</td>\n",
        "      <td>-9.65</td>\n",
        "      <td>-9.65</td>\n",
        "      <td> -9.65</td>\n",
        "      <td> 66</td>\n",
        "    </tr>\n",
        "    <tr>\n",
        "      <th>1 </th>\n",
        "      <td> 2000</td>\n",
        "      <td> 13.85</td>\n",
        "      <td> 11.68</td>\n",
        "      <td>  6.36</td>\n",
        "      <td>  2.16</td>\n",
        "      <td> 7.49</td>\n",
        "      <td> 0.82</td>\n",
        "      <td> 64.00</td>\n",
        "      <td> 32</td>\n",
        "    </tr>\n",
        "    <tr>\n",
        "      <th>2 </th>\n",
        "      <td> 2001</td>\n",
        "      <td>  1.29</td>\n",
        "      <td>  5.13</td>\n",
        "      <td> -3.12</td>\n",
        "      <td> -3.83</td>\n",
        "      <td> 4.41</td>\n",
        "      <td> 0.82</td>\n",
        "      <td> 37.00</td>\n",
        "      <td> 29</td>\n",
        "    </tr>\n",
        "    <tr>\n",
        "      <th>3 </th>\n",
        "      <td> 2002</td>\n",
        "      <td>-14.93</td>\n",
        "      <td>  9.60</td>\n",
        "      <td>-16.55</td>\n",
        "      <td>-24.54</td>\n",
        "      <td> 1.61</td>\n",
        "      <td> 0.82</td>\n",
        "      <td> 74.00</td>\n",
        "      <td> 44</td>\n",
        "    </tr>\n",
        "    <tr>\n",
        "      <th>4 </th>\n",
        "      <td> 2003</td>\n",
        "      <td> 36.19</td>\n",
        "      <td>  5.31</td>\n",
        "      <td> 36.28</td>\n",
        "      <td> 30.87</td>\n",
        "      <td>-0.10</td>\n",
        "      <td> 0.82</td>\n",
        "      <td> 54.00</td>\n",
        "      <td> 40</td>\n",
        "    </tr>\n",
        "    <tr>\n",
        "      <th>5 </th>\n",
        "      <td> 2004</td>\n",
        "      <td> 18.23</td>\n",
        "      <td>  4.48</td>\n",
        "      <td> 16.30</td>\n",
        "      <td> 13.75</td>\n",
        "      <td> 1.92</td>\n",
        "      <td> 0.77</td>\n",
        "      <td>  0.77</td>\n",
        "      <td> 28</td>\n",
        "    </tr>\n",
        "    <tr>\n",
        "      <th>6 </th>\n",
        "      <td> 2005</td>\n",
        "      <td> 10.81</td>\n",
        "      <td>  3.51</td>\n",
        "      <td>  9.25</td>\n",
        "      <td>  7.29</td>\n",
        "      <td> 1.56</td>\n",
        "      <td> 0.75</td>\n",
        "      <td> 64.00</td>\n",
        "      <td> 39</td>\n",
        "    </tr>\n",
        "    <tr>\n",
        "      <th>7 </th>\n",
        "      <td> 2006</td>\n",
        "      <td> 13.38</td>\n",
        "      <td>  4.84</td>\n",
        "      <td> 14.03</td>\n",
        "      <td>  8.54</td>\n",
        "      <td>-0.65</td>\n",
        "      <td> 0.66</td>\n",
        "      <td> 53.00</td>\n",
        "      <td> 49</td>\n",
        "    </tr>\n",
        "    <tr>\n",
        "      <th>8 </th>\n",
        "      <td> 2007</td>\n",
        "      <td>  3.01</td>\n",
        "      <td>  3.36</td>\n",
        "      <td>  4.85</td>\n",
        "      <td> -0.35</td>\n",
        "      <td>-1.85</td>\n",
        "      <td> 0.70</td>\n",
        "      <td> 44.00</td>\n",
        "      <td> 63</td>\n",
        "    </tr>\n",
        "    <tr>\n",
        "      <th>9 </th>\n",
        "      <td> 2008</td>\n",
        "      <td>-35.62</td>\n",
        "      <td> -2.47</td>\n",
        "      <td>-39.18</td>\n",
        "      <td>-33.14</td>\n",
        "      <td> 3.57</td>\n",
        "      <td> 0.70</td>\n",
        "      <td> 65.00</td>\n",
        "      <td> 27</td>\n",
        "    </tr>\n",
        "    <tr>\n",
        "      <th>10</th>\n",
        "      <td> 2009</td>\n",
        "      <td> 34.28</td>\n",
        "      <td> 12.91</td>\n",
        "      <td> 37.39</td>\n",
        "      <td> 21.37</td>\n",
        "      <td>-3.11</td>\n",
        "      <td> 0.75</td>\n",
        "      <td> 70.00</td>\n",
        "      <td> 51</td>\n",
        "    </tr>\n",
        "    <tr>\n",
        "      <th>11</th>\n",
        "      <td> 2010</td>\n",
        "      <td> 24.38</td>\n",
        "      <td>  2.38</td>\n",
        "      <td> 22.52</td>\n",
        "      <td> 22.00</td>\n",
        "      <td> 1.86</td>\n",
        "      <td> 0.69</td>\n",
        "      <td> 61.00</td>\n",
        "      <td> 41</td>\n",
        "    </tr>\n",
        "    <tr>\n",
        "      <th>12</th>\n",
        "      <td> 2011</td>\n",
        "      <td> -1.90</td>\n",
        "      <td> 10.70</td>\n",
        "      <td> -3.81</td>\n",
        "      <td>-12.60</td>\n",
        "      <td> 1.92</td>\n",
        "      <td> 0.69</td>\n",
        "      <td> 78.00</td>\n",
        "      <td> 31</td>\n",
        "    </tr>\n",
        "    <tr>\n",
        "      <th>13</th>\n",
        "      <td> 2012</td>\n",
        "      <td> 16.99</td>\n",
        "      <td>  6.78</td>\n",
        "      <td> 16.15</td>\n",
        "      <td> 10.21</td>\n",
        "      <td> 0.83</td>\n",
        "      <td> 0.69</td>\n",
        "      <td> 77.00</td>\n",
        "      <td> 44</td>\n",
        "    </tr>\n",
        "    <tr>\n",
        "      <th>14</th>\n",
        "      <td> 2013</td>\n",
        "      <td> 35.90</td>\n",
        "      <td> -2.55</td>\n",
        "      <td> 34.10</td>\n",
        "      <td> 38.46</td>\n",
        "      <td> 1.80</td>\n",
        "      <td> 0.69</td>\n",
        "      <td> 51.00</td>\n",
        "      <td> 34</td>\n",
        "    </tr>\n",
        "    <tr>\n",
        "      <th>15</th>\n",
        "      <td>  YTD</td>\n",
        "      <td>  7.64</td>\n",
        "      <td>  8.50</td>\n",
        "      <td>  7.43</td>\n",
        "      <td> -0.87</td>\n",
        "      <td> 0.21</td>\n",
        "      <td> 0.69</td>\n",
        "      <td> 25.00</td>\n",
        "      <td> 53</td>\n",
        "    </tr>\n",
        "  </tbody>\n",
        "</table>\n",
        "</div>"
       ],
       "metadata": {},
       "output_type": "pyout",
       "prompt_number": 311,
       "text": [
        "    Year  OMEAX_Returns  Barclays Municipal TR USD  Category (LB)  \\\n",
        "0   1999          11.27                      -2.06          20.92   \n",
        "1   2000          13.85                      11.68           6.36   \n",
        "2   2001           1.29                       5.13          -3.12   \n",
        "3   2002         -14.93                       9.60         -16.55   \n",
        "4   2003          36.19                       5.31          36.28   \n",
        "5   2004          18.23                       4.48          16.30   \n",
        "6   2005          10.81                       3.51           9.25   \n",
        "7   2006          13.38                       4.84          14.03   \n",
        "8   2007           3.01                       3.36           4.85   \n",
        "9   2008         -35.62                      -2.47         -39.18   \n",
        "10  2009          34.28                      12.91          37.39   \n",
        "11  2010          24.38                       2.38          22.52   \n",
        "12  2011          -1.90                      10.70          -3.81   \n",
        "13  2012          16.99                       6.78          16.15   \n",
        "14  2013          35.90                      -2.55          34.10   \n",
        "15   YTD           7.64                       8.50           7.43   \n",
        "\n",
        "    +/- S&P 500 TR USD  +/- Category (LB)  Annual_Net_Exp_Ratio  \\\n",
        "0                13.33              -9.65                 -9.65   \n",
        "1                 2.16               7.49                  0.82   \n",
        "2                -3.83               4.41                  0.82   \n",
        "3               -24.54               1.61                  0.82   \n",
        "4                30.87              -0.10                  0.82   \n",
        "5                13.75               1.92                  0.77   \n",
        "6                 7.29               1.56                  0.75   \n",
        "7                 8.54              -0.65                  0.66   \n",
        "8                -0.35              -1.85                  0.70   \n",
        "9               -33.14               3.57                  0.70   \n",
        "10               21.37              -3.11                  0.75   \n",
        "11               22.00               1.86                  0.69   \n",
        "12              -12.60               1.92                  0.69   \n",
        "13               10.21               0.83                  0.69   \n",
        "14               38.46               1.80                  0.69   \n",
        "15               -0.87               0.21                  0.69   \n",
        "\n",
        "    Turnover_Ratio  Rank_In_Category  \n",
        "0            -9.65                66  \n",
        "1            64.00                32  \n",
        "2            37.00                29  \n",
        "3            74.00                44  \n",
        "4            54.00                40  \n",
        "5             0.77                28  \n",
        "6            64.00                39  \n",
        "7            53.00                49  \n",
        "8            44.00                63  \n",
        "9            65.00                27  \n",
        "10           70.00                51  \n",
        "11           61.00                41  \n",
        "12           78.00                31  \n",
        "13           77.00                44  \n",
        "14           51.00                34  \n",
        "15           25.00                53  "
       ]
      }
     ],
     "prompt_number": 311
    },
    {
     "cell_type": "code",
     "collapsed": false,
     "input": [
      "mstar_benchmark_symbol[mstar_benchmark_symbol['Benchmark_Index'] == 'Barclays Municipal TR USD']"
     ],
     "language": "python",
     "metadata": {},
     "outputs": [
      {
       "html": [
        "<div style=\"max-height:1000px;max-width:1500px;overflow:auto;\">\n",
        "<table border=\"1\" class=\"dataframe\">\n",
        "  <thead>\n",
        "    <tr style=\"text-align: right;\">\n",
        "      <th></th>\n",
        "      <th>Benchmark_Index</th>\n",
        "      <th>Mstar_Symbol</th>\n",
        "    </tr>\n",
        "  </thead>\n",
        "  <tbody>\n",
        "    <tr>\n",
        "      <th>2</th>\n",
        "      <td> Barclays Municipal TR USD</td>\n",
        "      <td> 0P00001G5X</td>\n",
        "    </tr>\n",
        "  </tbody>\n",
        "</table>\n",
        "</div>"
       ],
       "metadata": {},
       "output_type": "pyout",
       "prompt_number": 136,
       "text": [
        "             Benchmark_Index Mstar_Symbol\n",
        "2  Barclays Municipal TR USD   0P00001G5X"
       ]
      }
     ],
     "prompt_number": 136
    },
    {
     "cell_type": "code",
     "collapsed": false,
     "input": [
      "fund_returns[\"fund_returns_OMEAX\"]"
     ],
     "language": "python",
     "metadata": {},
     "outputs": [
      {
       "html": [
        "<div style=\"max-height:1000px;max-width:1500px;overflow:auto;\">\n",
        "<table border=\"1\" class=\"dataframe\">\n",
        "  <thead>\n",
        "    <tr style=\"text-align: right;\">\n",
        "      <th></th>\n",
        "    </tr>\n",
        "  </thead>\n",
        "  <tbody>\n",
        "  </tbody>\n",
        "</table>\n",
        "</div>"
       ],
       "metadata": {},
       "output_type": "pyout",
       "prompt_number": 316,
       "text": [
        "Empty DataFrame\n",
        "Columns: []\n",
        "Index: []"
       ]
      }
     ],
     "prompt_number": 316
    },
    {
     "cell_type": "code",
     "collapsed": false,
     "input": [
      "# Export to csv files:\n",
      "\n",
      "for i in range(0, len(fund_returns)):\n",
      "    fund_key = fund_returns.keys()[i]\n",
      "    fund_filename = fund_returns.keys()[i][-5:]+\"_RETURNS.csv\"\n",
      "    fund_returns[fund_key].replace(to_replace=u'\\u2014',value='').to_csv(fund_filename)"
     ],
     "language": "python",
     "metadata": {},
     "outputs": [
      {
       "output_type": "stream",
       "stream": "stderr",
       "text": [
        "//anaconda/lib/python2.7/site-packages/pandas/core/common.py:381: UnicodeWarning: Unicode equal comparison failed to convert both arguments to Unicode - interpreting them as being unequal\n",
        "  mask = arr == x\n"
       ]
      }
     ],
     "prompt_number": 317
    },
    {
     "cell_type": "code",
     "collapsed": false,
     "input": [
      "fund_benchmark_fcntx = fund_returns['fund_returns_VNJTX'].columns[2]\n",
      "print fund_benchmark_fcntx\n",
      "\n",
      "#print fund_benchmark_fcntx"
     ],
     "language": "python",
     "metadata": {},
     "outputs": [
      {
       "output_type": "stream",
       "stream": "stdout",
       "text": [
        "S&P 500 TR USD\n"
       ]
      }
     ],
     "prompt_number": 12
    },
    {
     "cell_type": "code",
     "collapsed": false,
     "input": [
      "fund_returns['fund_returns_VMRGX']"
     ],
     "language": "python",
     "metadata": {},
     "outputs": [
      {
       "html": [
        "<div style=\"max-height:1000px;max-width:1500px;overflow:auto;\">\n",
        "<table border=\"1\" class=\"dataframe\">\n",
        "  <thead>\n",
        "    <tr style=\"text-align: right;\">\n",
        "      <th></th>\n",
        "      <th>Year</th>\n",
        "      <th>VMRGX_Returns</th>\n",
        "      <th>S&amp;P 500 TR USD</th>\n",
        "      <th>Category (LB)</th>\n",
        "      <th>+/- S&amp;P 500 TR USD</th>\n",
        "      <th>+/- Category (LB)</th>\n",
        "      <th>Annual_Net_Exp_Ratio</th>\n",
        "      <th>Turnover_Ratio</th>\n",
        "      <th>Rank_In_Category</th>\n",
        "    </tr>\n",
        "  </thead>\n",
        "  <tbody>\n",
        "    <tr>\n",
        "      <th>0 </th>\n",
        "      <td> 1999</td>\n",
        "      <td> 34.10</td>\n",
        "      <td> 21.04</td>\n",
        "      <td> 38.87</td>\n",
        "      <td> 13.06</td>\n",
        "      <td>-4.77</td>\n",
        "      <td> 0.00</td>\n",
        "      <td>  65</td>\n",
        "      <td>  9</td>\n",
        "    </tr>\n",
        "    <tr>\n",
        "      <th>1 </th>\n",
        "      <td> 2000</td>\n",
        "      <td>-12.51</td>\n",
        "      <td> -9.10</td>\n",
        "      <td>-13.05</td>\n",
        "      <td> -3.41</td>\n",
        "      <td> 0.54</td>\n",
        "      <td> 0.40</td>\n",
        "      <td>  94</td>\n",
        "      <td> 86</td>\n",
        "    </tr>\n",
        "    <tr>\n",
        "      <th>2 </th>\n",
        "      <td> 2001</td>\n",
        "      <td>-13.60</td>\n",
        "      <td>-11.89</td>\n",
        "      <td>-22.30</td>\n",
        "      <td> -1.72</td>\n",
        "      <td> 8.70</td>\n",
        "      <td> 0.41</td>\n",
        "      <td>  53</td>\n",
        "      <td> 61</td>\n",
        "    </tr>\n",
        "    <tr>\n",
        "      <th>3 </th>\n",
        "      <td> 2002</td>\n",
        "      <td>-23.52</td>\n",
        "      <td>-22.10</td>\n",
        "      <td>-27.64</td>\n",
        "      <td> -1.42</td>\n",
        "      <td> 4.13</td>\n",
        "      <td> 0.48</td>\n",
        "      <td> 104</td>\n",
        "      <td> 24</td>\n",
        "    </tr>\n",
        "    <tr>\n",
        "      <th>4 </th>\n",
        "      <td> 2003</td>\n",
        "      <td> 33.73</td>\n",
        "      <td> 28.68</td>\n",
        "      <td> 28.66</td>\n",
        "      <td>  5.05</td>\n",
        "      <td> 5.07</td>\n",
        "      <td> 0.50</td>\n",
        "      <td>  91</td>\n",
        "      <td> 16</td>\n",
        "    </tr>\n",
        "    <tr>\n",
        "      <th>5 </th>\n",
        "      <td> 2004</td>\n",
        "      <td> 10.47</td>\n",
        "      <td> 10.88</td>\n",
        "      <td>  7.81</td>\n",
        "      <td> -0.41</td>\n",
        "      <td> 2.66</td>\n",
        "      <td> 0.44</td>\n",
        "      <td>   0</td>\n",
        "      <td> 26</td>\n",
        "    </tr>\n",
        "    <tr>\n",
        "      <th>6 </th>\n",
        "      <td> 2005</td>\n",
        "      <td>  9.09</td>\n",
        "      <td>  4.91</td>\n",
        "      <td>  6.71</td>\n",
        "      <td>  4.18</td>\n",
        "      <td> 2.38</td>\n",
        "      <td> 0.39</td>\n",
        "      <td>  88</td>\n",
        "      <td> 28</td>\n",
        "    </tr>\n",
        "    <tr>\n",
        "      <th>7 </th>\n",
        "      <td> 2006</td>\n",
        "      <td> 11.09</td>\n",
        "      <td> 15.79</td>\n",
        "      <td>  7.05</td>\n",
        "      <td> -4.70</td>\n",
        "      <td> 4.04</td>\n",
        "      <td> 0.41</td>\n",
        "      <td>  90</td>\n",
        "      <td> 16</td>\n",
        "    </tr>\n",
        "    <tr>\n",
        "      <th>8 </th>\n",
        "      <td> 2007</td>\n",
        "      <td> 11.22</td>\n",
        "      <td>  5.49</td>\n",
        "      <td> 13.35</td>\n",
        "      <td>  5.72</td>\n",
        "      <td>-2.14</td>\n",
        "      <td> 0.37</td>\n",
        "      <td>  79</td>\n",
        "      <td> 62</td>\n",
        "    </tr>\n",
        "    <tr>\n",
        "      <th>9 </th>\n",
        "      <td> 2008</td>\n",
        "      <td>-41.43</td>\n",
        "      <td>-37.00</td>\n",
        "      <td>-40.67</td>\n",
        "      <td> -4.43</td>\n",
        "      <td>-0.76</td>\n",
        "      <td> 0.38</td>\n",
        "      <td>  88</td>\n",
        "      <td> 58</td>\n",
        "    </tr>\n",
        "    <tr>\n",
        "      <th>10</th>\n",
        "      <td> 2009</td>\n",
        "      <td> 36.10</td>\n",
        "      <td> 26.46</td>\n",
        "      <td> 35.68</td>\n",
        "      <td>  9.63</td>\n",
        "      <td> 0.41</td>\n",
        "      <td> 0.48</td>\n",
        "      <td>  87</td>\n",
        "      <td> 40</td>\n",
        "    </tr>\n",
        "    <tr>\n",
        "      <th>11</th>\n",
        "      <td> 2010</td>\n",
        "      <td> 18.70</td>\n",
        "      <td> 15.06</td>\n",
        "      <td> 15.53</td>\n",
        "      <td>  3.64</td>\n",
        "      <td> 3.17</td>\n",
        "      <td> 0.43</td>\n",
        "      <td>  60</td>\n",
        "      <td> 23</td>\n",
        "    </tr>\n",
        "    <tr>\n",
        "      <th>12</th>\n",
        "      <td> 2011</td>\n",
        "      <td> -2.56</td>\n",
        "      <td>  2.11</td>\n",
        "      <td> -2.46</td>\n",
        "      <td> -4.67</td>\n",
        "      <td>-0.09</td>\n",
        "      <td> 0.41</td>\n",
        "      <td>  55</td>\n",
        "      <td> 55</td>\n",
        "    </tr>\n",
        "    <tr>\n",
        "      <th>13</th>\n",
        "      <td> 2012</td>\n",
        "      <td> 15.09</td>\n",
        "      <td> 16.00</td>\n",
        "      <td> 15.34</td>\n",
        "      <td> -0.91</td>\n",
        "      <td>-0.25</td>\n",
        "      <td> 0.40</td>\n",
        "      <td>  49</td>\n",
        "      <td> 50</td>\n",
        "    </tr>\n",
        "    <tr>\n",
        "      <th>14</th>\n",
        "      <td> 2013</td>\n",
        "      <td> 34.76</td>\n",
        "      <td> 32.39</td>\n",
        "      <td> 33.92</td>\n",
        "      <td>  2.38</td>\n",
        "      <td> 0.85</td>\n",
        "      <td> 0.39</td>\n",
        "      <td>  53</td>\n",
        "      <td> 40</td>\n",
        "    </tr>\n",
        "    <tr>\n",
        "      <th>15</th>\n",
        "      <td>  YTD</td>\n",
        "      <td> 12.03</td>\n",
        "      <td> 13.98</td>\n",
        "      <td> 10.80</td>\n",
        "      <td> -1.95</td>\n",
        "      <td> 1.23</td>\n",
        "      <td> 0.40</td>\n",
        "      <td>  52</td>\n",
        "      <td> 36</td>\n",
        "    </tr>\n",
        "  </tbody>\n",
        "</table>\n",
        "</div>"
       ],
       "metadata": {},
       "output_type": "pyout",
       "prompt_number": 39,
       "text": [
        "    Year  VMRGX_Returns  S&P 500 TR USD  Category (LB)  +/- S&P 500 TR USD  \\\n",
        "0   1999          34.10           21.04          38.87               13.06   \n",
        "1   2000         -12.51           -9.10         -13.05               -3.41   \n",
        "2   2001         -13.60          -11.89         -22.30               -1.72   \n",
        "3   2002         -23.52          -22.10         -27.64               -1.42   \n",
        "4   2003          33.73           28.68          28.66                5.05   \n",
        "5   2004          10.47           10.88           7.81               -0.41   \n",
        "6   2005           9.09            4.91           6.71                4.18   \n",
        "7   2006          11.09           15.79           7.05               -4.70   \n",
        "8   2007          11.22            5.49          13.35                5.72   \n",
        "9   2008         -41.43          -37.00         -40.67               -4.43   \n",
        "10  2009          36.10           26.46          35.68                9.63   \n",
        "11  2010          18.70           15.06          15.53                3.64   \n",
        "12  2011          -2.56            2.11          -2.46               -4.67   \n",
        "13  2012          15.09           16.00          15.34               -0.91   \n",
        "14  2013          34.76           32.39          33.92                2.38   \n",
        "15   YTD          12.03           13.98          10.80               -1.95   \n",
        "\n",
        "    +/- Category (LB)  Annual_Net_Exp_Ratio  Turnover_Ratio  Rank_In_Category  \n",
        "0               -4.77                  0.00              65                 9  \n",
        "1                0.54                  0.40              94                86  \n",
        "2                8.70                  0.41              53                61  \n",
        "3                4.13                  0.48             104                24  \n",
        "4                5.07                  0.50              91                16  \n",
        "5                2.66                  0.44               0                26  \n",
        "6                2.38                  0.39              88                28  \n",
        "7                4.04                  0.41              90                16  \n",
        "8               -2.14                  0.37              79                62  \n",
        "9               -0.76                  0.38              88                58  \n",
        "10               0.41                  0.48              87                40  \n",
        "11               3.17                  0.43              60                23  \n",
        "12              -0.09                  0.41              55                55  \n",
        "13              -0.25                  0.40              49                50  \n",
        "14               0.85                  0.39              53                40  \n",
        "15               1.23                  0.40              52                36  "
       ]
      }
     ],
     "prompt_number": 39
    },
    {
     "cell_type": "code",
     "collapsed": false,
     "input": [
      "Year_trailing = ['3','5','10','15']\n",
      "mpt_stats_columns = ['Fund_Ticker','Benchmark_Index', 'R_Squared','Beta','Alpha','Treynor_Ratio','Currency','Year_Trailing']\n",
      "volatility_measures_columns = ['Fund_Ticker','Std_Dev','Return','Sharpe_Ratio','Sortino_Ratio','Bear_MktPercentile_Rank']\n",
      "\n",
      "fund_statistics = {}\n",
      "\n",
      "for yt in range(0,10):\n",
      "    fund_name = fund_df['Fund_Ticker'][yt]\n",
      "    #print fund_name\n",
      "    fund_stats_benchmark = fund_df['Benchmark_Index'][yt]\n",
      "    #print fund_stats_benchmark\n",
      "    key = \"fund_statistics_\"+fund_name\n",
      "    print key\n",
      "    symbol = (mstar_benchmark_symbol[mstar_benchmark_symbol['Benchmark_Index'] == fund_stats_benchmark]['Mstar_Symbol']).values[0]   \n",
      "    #print symbol\n",
      "    mpt_statistics = pd.DataFrame()\n",
      "    for i in Year_trailing:\n",
      "        mptstatsurl = \"http://performance.morningstar.com/RatingRisk/fund/mpt-statistics.action?&t=XNAS:\"+fund_name+\"&region=usa&culture=en-US&cur=&ops=clear&s=\"+fund_stats_benchmark+\"&y=\"+i+\"&ep=true&comparisonRemove=null&benchmarkSecId=&benchmarktype=\"\n",
      "        volmeasuresurl = \"http://performance.morningstar.com/RatingRisk/fund/volatility-measurements.action?&t=XNAS:\"+fund_name+\"&region=usa&culture=en-US&cur=&ops=clear&s=\"+fund_stats_benchmark+\"&y=\"+i+\"&ep=true&comparisonRemove=null&benchmarkSecId=&benchmarktype=\"\n",
      "        try:\n",
      "            mpt_statistics_sub = pd.read_html(mptstatsurl)[0]\n",
      "            mpt_statistics_sub = mpt_statistics_sub[mpt_statistics_sub.Alpha.notnull()]\n",
      "            mpt_statistics_sub['Year_Trailing'] = i\n",
      "            mpt_statistics_sub.columns = mpt_stats_columns\n",
      "            #print mpt_statistics_sub\n",
      "            mpt_statistics_sub = mpt_statistics_sub[(mpt_statistics_sub['Fund_Ticker'] == fund_name) & (mpt_statistics_sub['Benchmark_Index'] == fund_stats_benchmark)].reset_index(drop=True).tail(1)\n",
      "            #print mpt_statistics_sub\n",
      "            volatility_measures = pd.read_html(volmeasuresurl)[0]\n",
      "            volatility_measures = volatility_measures[volatility_measures.Return.notnull()].reset_index(drop = True)\n",
      "            volatility_measures.columns = volatility_measures_columns\n",
      "            #print volatility_measures\n",
      "            mpt_statistics_sub = pd.merge(mpt_statistics_sub,volatility_measures,on='Fund_Ticker',how='inner')\n",
      "            #print mpt_statistics_sub\n",
      "            mpt_statistics = mpt_statistics.append(mpt_statistics_sub)\n",
      "        except:\n",
      "            print \"No Statitics available for Fund : \",fund_name,\" for \",i,\" years\"\n",
      "            mpt_statistics = pd.DataFrame()\n",
      "    fund_statistics[key] = mpt_statistics.reset_index(drop=True)"
     ],
     "language": "python",
     "metadata": {},
     "outputs": [
      {
       "output_type": "stream",
       "stream": "stdout",
       "text": [
        "fund_statistics_VFINX\n",
        "fund_statistics_VBINX"
       ]
      },
      {
       "output_type": "stream",
       "stream": "stdout",
       "text": [
        "\n",
        "fund_statistics_VCAIX"
       ]
      },
      {
       "output_type": "stream",
       "stream": "stdout",
       "text": [
        "\n",
        "fund_statistics_VCITX"
       ]
      },
      {
       "output_type": "stream",
       "stream": "stdout",
       "text": [
        "\n",
        "fund_statistics_VHCOX"
       ]
      },
      {
       "output_type": "stream",
       "stream": "stdout",
       "text": [
        "\n",
        "fund_statistics_VCVLX"
       ]
      },
      {
       "output_type": "stream",
       "stream": "stdout",
       "text": [
        "\n",
        "fund_statistics_VCVSX"
       ]
      },
      {
       "output_type": "stream",
       "stream": "stdout",
       "text": [
        "\n",
        "fund_statistics_VTMGX"
       ]
      },
      {
       "output_type": "stream",
       "stream": "stdout",
       "text": [
        "\n",
        "fund_statistics_VDEQX"
       ]
      },
      {
       "output_type": "stream",
       "stream": "stdout",
       "text": [
        "\n",
        "fund_statistics_VDIGX"
       ]
      },
      {
       "output_type": "stream",
       "stream": "stdout",
       "text": [
        "\n"
       ]
      }
     ],
     "prompt_number": 342
    },
    {
     "cell_type": "code",
     "collapsed": false,
     "input": [
      "#fund_statistics.keys()\n",
      "fund_statistics['fund_statistics_VHCOX']"
     ],
     "language": "python",
     "metadata": {},
     "outputs": [
      {
       "html": [
        "<div style=\"max-height:1000px;max-width:1500px;overflow:auto;\">\n",
        "<table border=\"1\" class=\"dataframe\">\n",
        "  <thead>\n",
        "    <tr style=\"text-align: right;\">\n",
        "      <th></th>\n",
        "      <th>Fund_Ticker</th>\n",
        "      <th>Benchmark_Index</th>\n",
        "      <th>R_Squared</th>\n",
        "      <th>Beta</th>\n",
        "      <th>Alpha</th>\n",
        "      <th>Treynor_Ratio</th>\n",
        "      <th>Currency</th>\n",
        "      <th>Year_Trailing</th>\n",
        "      <th>Std_Dev</th>\n",
        "      <th>Return</th>\n",
        "      <th>Sharpe_Ratio</th>\n",
        "      <th>Sortino_Ratio</th>\n",
        "      <th>Bear_MktPercentile_Rank</th>\n",
        "    </tr>\n",
        "  </thead>\n",
        "  <tbody>\n",
        "    <tr>\n",
        "      <th>0</th>\n",
        "      <td> VHCOX</td>\n",
        "      <td> S&amp;P 500 TR USD</td>\n",
        "      <td> 69.49</td>\n",
        "      <td> 1.01</td>\n",
        "      <td> 4.26</td>\n",
        "      <td> 25.78</td>\n",
        "      <td> USD</td>\n",
        "      <td>  3</td>\n",
        "      <td> 10.99</td>\n",
        "      <td> 26.19</td>\n",
        "      <td> 2.18</td>\n",
        "      <td> 4.92</td>\n",
        "      <td>     \u2014</td>\n",
        "    </tr>\n",
        "    <tr>\n",
        "      <th>1</th>\n",
        "      <td> VHCOX</td>\n",
        "      <td> S&amp;P 500 TR USD</td>\n",
        "      <td> 69.49</td>\n",
        "      <td> 1.01</td>\n",
        "      <td> 4.26</td>\n",
        "      <td> 25.78</td>\n",
        "      <td> USD</td>\n",
        "      <td>  5</td>\n",
        "      <td> 16.02</td>\n",
        "      <td> 17.57</td>\n",
        "      <td> 1.09</td>\n",
        "      <td> 1.86</td>\n",
        "      <td> 65.00</td>\n",
        "    </tr>\n",
        "    <tr>\n",
        "      <th>2</th>\n",
        "      <td> VHCOX</td>\n",
        "      <td> S&amp;P 500 TR USD</td>\n",
        "      <td> 69.49</td>\n",
        "      <td> 1.01</td>\n",
        "      <td> 4.26</td>\n",
        "      <td> 25.78</td>\n",
        "      <td> USD</td>\n",
        "      <td> 10</td>\n",
        "      <td> 17.78</td>\n",
        "      <td> 10.66</td>\n",
        "      <td> 0.58</td>\n",
        "      <td> 0.85</td>\n",
        "      <td>     \u2014</td>\n",
        "    </tr>\n",
        "    <tr>\n",
        "      <th>3</th>\n",
        "      <td> VHCOX</td>\n",
        "      <td> S&amp;P 500 TR USD</td>\n",
        "      <td> 69.49</td>\n",
        "      <td> 1.01</td>\n",
        "      <td> 4.26</td>\n",
        "      <td> 25.78</td>\n",
        "      <td> USD</td>\n",
        "      <td> 15</td>\n",
        "      <td> 20.38</td>\n",
        "      <td> 10.16</td>\n",
        "      <td> 0.48</td>\n",
        "      <td> 0.73</td>\n",
        "      <td>     \u2014</td>\n",
        "    </tr>\n",
        "  </tbody>\n",
        "</table>\n",
        "</div>"
       ],
       "metadata": {},
       "output_type": "pyout",
       "prompt_number": 344,
       "text": [
        "  Fund_Ticker Benchmark_Index R_Squared  Beta Alpha Treynor_Ratio Currency  \\\n",
        "0       VHCOX  S&P 500 TR USD     69.49  1.01  4.26         25.78      USD   \n",
        "1       VHCOX  S&P 500 TR USD     69.49  1.01  4.26         25.78      USD   \n",
        "2       VHCOX  S&P 500 TR USD     69.49  1.01  4.26         25.78      USD   \n",
        "3       VHCOX  S&P 500 TR USD     69.49  1.01  4.26         25.78      USD   \n",
        "\n",
        "  Year_Trailing Std_Dev Return Sharpe_Ratio Sortino_Ratio  \\\n",
        "0             3   10.99  26.19         2.18          4.92   \n",
        "1             5   16.02  17.57         1.09          1.86   \n",
        "2            10   17.78  10.66         0.58          0.85   \n",
        "3            15   20.38  10.16         0.48          0.73   \n",
        "\n",
        "  Bear_MktPercentile_Rank  \n",
        "0                       \u2014  \n",
        "1                   65.00  \n",
        "2                       \u2014  \n",
        "3                       \u2014  "
       ]
      }
     ],
     "prompt_number": 344
    },
    {
     "cell_type": "code",
     "collapsed": false,
     "input": [
      "mpt_statistics_sub2"
     ],
     "language": "python",
     "metadata": {},
     "outputs": [
      {
       "html": [
        "<div style=\"max-height:1000px;max-width:1500px;overflow:auto;\">\n",
        "<table border=\"1\" class=\"dataframe\">\n",
        "  <thead>\n",
        "    <tr style=\"text-align: right;\">\n",
        "      <th></th>\n",
        "      <th>Fund_Ticker</th>\n",
        "      <th>Benchmark_Index</th>\n",
        "    </tr>\n",
        "  </thead>\n",
        "  <tbody>\n",
        "    <tr>\n",
        "      <th>0   </th>\n",
        "      <td> VFINX</td>\n",
        "      <td>                   S&amp;P 500 TR USD</td>\n",
        "    </tr>\n",
        "    <tr>\n",
        "      <th>1   </th>\n",
        "      <td> VBINX</td>\n",
        "      <td> Morningstar Moderate Target Risk</td>\n",
        "    </tr>\n",
        "    <tr>\n",
        "      <th>2   </th>\n",
        "      <td> VCAIX</td>\n",
        "      <td>        Barclays Municipal TR USD</td>\n",
        "    </tr>\n",
        "    <tr>\n",
        "      <th>3   </th>\n",
        "      <td> VCITX</td>\n",
        "      <td>        Barclays Municipal TR USD</td>\n",
        "    </tr>\n",
        "    <tr>\n",
        "      <th>4   </th>\n",
        "      <td> VHCOX</td>\n",
        "      <td>                   S&amp;P 500 TR USD</td>\n",
        "    </tr>\n",
        "    <tr>\n",
        "      <th>5   </th>\n",
        "      <td> VCVLX</td>\n",
        "      <td>                   S&amp;P 500 TR USD</td>\n",
        "    </tr>\n",
        "    <tr>\n",
        "      <th>6   </th>\n",
        "      <td> VCVSX</td>\n",
        "      <td> Morningstar Moderate Target Risk</td>\n",
        "    </tr>\n",
        "    <tr>\n",
        "      <th>7   </th>\n",
        "      <td> VTMGX</td>\n",
        "      <td>          MSCI ACWI Ex USA NR USD</td>\n",
        "    </tr>\n",
        "    <tr>\n",
        "      <th>8   </th>\n",
        "      <td> VDEQX</td>\n",
        "      <td>                   S&amp;P 500 TR USD</td>\n",
        "    </tr>\n",
        "    <tr>\n",
        "      <th>9   </th>\n",
        "      <td> VDIGX</td>\n",
        "      <td>                   S&amp;P 500 TR USD</td>\n",
        "    </tr>\n",
        "    <tr>\n",
        "      <th>10  </th>\n",
        "      <td> VGOVX</td>\n",
        "      <td>      Barclays US Agg Bond TR USD</td>\n",
        "    </tr>\n",
        "    <tr>\n",
        "      <th>11  </th>\n",
        "      <td> VMMSX</td>\n",
        "      <td>          MSCI ACWI Ex USA NR USD</td>\n",
        "    </tr>\n",
        "    <tr>\n",
        "      <th>12  </th>\n",
        "      <td> VEIEX</td>\n",
        "      <td>          MSCI ACWI Ex USA NR USD</td>\n",
        "    </tr>\n",
        "    <tr>\n",
        "      <th>13  </th>\n",
        "      <td> VGENX</td>\n",
        "      <td>                 MSCI ACWI NR USD</td>\n",
        "    </tr>\n",
        "    <tr>\n",
        "      <th>14  </th>\n",
        "      <td> VEIPX</td>\n",
        "      <td>                   S&amp;P 500 TR USD</td>\n",
        "    </tr>\n",
        "    <tr>\n",
        "      <th>15  </th>\n",
        "      <td> VEURX</td>\n",
        "      <td>          MSCI ACWI Ex USA NR USD</td>\n",
        "    </tr>\n",
        "    <tr>\n",
        "      <th>16  </th>\n",
        "      <td> VEXPX</td>\n",
        "      <td>                   S&amp;P 500 TR USD</td>\n",
        "    </tr>\n",
        "    <tr>\n",
        "      <th>17  </th>\n",
        "      <td> VEVFX</td>\n",
        "      <td>                   S&amp;P 500 TR USD</td>\n",
        "    </tr>\n",
        "    <tr>\n",
        "      <th>18  </th>\n",
        "      <td> VEDTX</td>\n",
        "      <td>      Barclays US Agg Bond TR USD</td>\n",
        "    </tr>\n",
        "    <tr>\n",
        "      <th>19  </th>\n",
        "      <td> VEXMX</td>\n",
        "      <td>                   S&amp;P 500 TR USD</td>\n",
        "    </tr>\n",
        "    <tr>\n",
        "      <th>20  </th>\n",
        "      <td> VFSNX</td>\n",
        "      <td>          MSCI ACWI Ex USA NR USD</td>\n",
        "    </tr>\n",
        "    <tr>\n",
        "      <th>21  </th>\n",
        "      <td> VFTSX</td>\n",
        "      <td>                   S&amp;P 500 TR USD</td>\n",
        "    </tr>\n",
        "    <tr>\n",
        "      <th>22  </th>\n",
        "      <td> VHGEX</td>\n",
        "      <td>          MSCI ACWI Ex USA NR USD</td>\n",
        "    </tr>\n",
        "    <tr>\n",
        "      <th>23  </th>\n",
        "      <td> VGXRX</td>\n",
        "      <td>                 MSCI ACWI NR USD</td>\n",
        "    </tr>\n",
        "    <tr>\n",
        "      <th>24  </th>\n",
        "      <td> VMNVX</td>\n",
        "      <td>          MSCI ACWI Ex USA NR USD</td>\n",
        "    </tr>\n",
        "    <tr>\n",
        "      <th>25  </th>\n",
        "      <td> VFIIX</td>\n",
        "      <td>      Barclays US Agg Bond TR USD</td>\n",
        "    </tr>\n",
        "    <tr>\n",
        "      <th>26  </th>\n",
        "      <td> VQNPX</td>\n",
        "      <td>                   S&amp;P 500 TR USD</td>\n",
        "    </tr>\n",
        "    <tr>\n",
        "      <th>27  </th>\n",
        "      <td> VIGRX</td>\n",
        "      <td>                   S&amp;P 500 TR USD</td>\n",
        "    </tr>\n",
        "    <tr>\n",
        "      <th>28  </th>\n",
        "      <td> VGHCX</td>\n",
        "      <td>                 MSCI ACWI NR USD</td>\n",
        "    </tr>\n",
        "    <tr>\n",
        "      <th>29  </th>\n",
        "      <td> VWEHX</td>\n",
        "      <td>      Barclays US Agg Bond TR USD</td>\n",
        "    </tr>\n",
        "    <tr>\n",
        "      <th>...</th>\n",
        "      <td>...</td>\n",
        "      <td>...</td>\n",
        "    </tr>\n",
        "    <tr>\n",
        "      <th>1240</th>\n",
        "      <td> OARDX</td>\n",
        "      <td>                   S&amp;P 500 TR USD</td>\n",
        "    </tr>\n",
        "    <tr>\n",
        "      <th>1241</th>\n",
        "      <td> OPTAX</td>\n",
        "      <td>        Barclays Municipal TR USD</td>\n",
        "    </tr>\n",
        "    <tr>\n",
        "      <th>1242</th>\n",
        "      <td> OPNYX</td>\n",
        "      <td>        Barclays Municipal TR USD</td>\n",
        "    </tr>\n",
        "    <tr>\n",
        "      <th>1243</th>\n",
        "      <td> ORAZX</td>\n",
        "      <td>        Barclays Municipal TR USD</td>\n",
        "    </tr>\n",
        "    <tr>\n",
        "      <th>1244</th>\n",
        "      <td> OPCAX</td>\n",
        "      <td>        Barclays Municipal TR USD</td>\n",
        "    </tr>\n",
        "    <tr>\n",
        "      <th>1245</th>\n",
        "      <td> RMUNX</td>\n",
        "      <td>        Barclays Municipal TR USD</td>\n",
        "    </tr>\n",
        "    <tr>\n",
        "      <th>1246</th>\n",
        "      <td> ORNAX</td>\n",
        "      <td>        Barclays Municipal TR USD</td>\n",
        "    </tr>\n",
        "    <tr>\n",
        "      <th>1247</th>\n",
        "      <td> ORRWX</td>\n",
        "      <td>        Barclays Municipal TR USD</td>\n",
        "    </tr>\n",
        "    <tr>\n",
        "      <th>1248</th>\n",
        "      <td> OLCAX</td>\n",
        "      <td>        Barclays Municipal TR USD</td>\n",
        "    </tr>\n",
        "    <tr>\n",
        "      <th>1249</th>\n",
        "      <td> OPITX</td>\n",
        "      <td>        Barclays Municipal TR USD</td>\n",
        "    </tr>\n",
        "    <tr>\n",
        "      <th>1250</th>\n",
        "      <td> LTNYX</td>\n",
        "      <td>        Barclays Municipal TR USD</td>\n",
        "    </tr>\n",
        "    <tr>\n",
        "      <th>1251</th>\n",
        "      <td> ORMAX</td>\n",
        "      <td>        Barclays Municipal TR USD</td>\n",
        "    </tr>\n",
        "    <tr>\n",
        "      <th>1252</th>\n",
        "      <td> ORMDX</td>\n",
        "      <td>        Barclays Municipal TR USD</td>\n",
        "    </tr>\n",
        "    <tr>\n",
        "      <th>1253</th>\n",
        "      <td> ORMIX</td>\n",
        "      <td>        Barclays Municipal TR USD</td>\n",
        "    </tr>\n",
        "    <tr>\n",
        "      <th>1254</th>\n",
        "      <td> OPAMX</td>\n",
        "      <td>        Barclays Municipal TR USD</td>\n",
        "    </tr>\n",
        "    <tr>\n",
        "      <th>1255</th>\n",
        "      <td> OPNCX</td>\n",
        "      <td>        Barclays Municipal TR USD</td>\n",
        "    </tr>\n",
        "    <tr>\n",
        "      <th>1256</th>\n",
        "      <td> ONJAX</td>\n",
        "      <td>        Barclays Municipal TR USD</td>\n",
        "    </tr>\n",
        "    <tr>\n",
        "      <th>1257</th>\n",
        "      <td> OROHX</td>\n",
        "      <td>        Barclays Municipal TR USD</td>\n",
        "    </tr>\n",
        "    <tr>\n",
        "      <th>1258</th>\n",
        "      <td> OPATX</td>\n",
        "      <td>        Barclays Municipal TR USD</td>\n",
        "    </tr>\n",
        "    <tr>\n",
        "      <th>1259</th>\n",
        "      <td> ORSTX</td>\n",
        "      <td>        Barclays Municipal TR USD</td>\n",
        "    </tr>\n",
        "    <tr>\n",
        "      <th>1260</th>\n",
        "      <td> ORVAX</td>\n",
        "      <td>        Barclays Municipal TR USD</td>\n",
        "    </tr>\n",
        "    <tr>\n",
        "      <th>1261</th>\n",
        "      <td> OOSAX</td>\n",
        "      <td>      Barclays US Agg Bond TR USD</td>\n",
        "    </tr>\n",
        "    <tr>\n",
        "      <th>1262</th>\n",
        "      <td> OSFAX</td>\n",
        "      <td>      Barclays US Agg Bond TR USD</td>\n",
        "    </tr>\n",
        "    <tr>\n",
        "      <th>1263</th>\n",
        "      <td> QVSCX</td>\n",
        "      <td>                   S&amp;P 500 TR USD</td>\n",
        "    </tr>\n",
        "    <tr>\n",
        "      <th>1264</th>\n",
        "      <td> MLPAX</td>\n",
        "      <td>                 MSCI ACWI NR USD</td>\n",
        "    </tr>\n",
        "    <tr>\n",
        "      <th>1265</th>\n",
        "      <td> MLPNX</td>\n",
        "      <td>                 MSCI ACWI NR USD</td>\n",
        "    </tr>\n",
        "    <tr>\n",
        "      <th>1266</th>\n",
        "      <td> MLPDX</td>\n",
        "      <td>                 MSCI ACWI NR USD</td>\n",
        "    </tr>\n",
        "    <tr>\n",
        "      <th>1267</th>\n",
        "      <td> MLPFX</td>\n",
        "      <td>                 MSCI ACWI NR USD</td>\n",
        "    </tr>\n",
        "    <tr>\n",
        "      <th>1268</th>\n",
        "      <td> OSDYX</td>\n",
        "      <td>      Barclays US Agg Bond TR USD</td>\n",
        "    </tr>\n",
        "    <tr>\n",
        "      <th>1269</th>\n",
        "      <td> CGRWX</td>\n",
        "      <td>                   S&amp;P 500 TR USD</td>\n",
        "    </tr>\n",
        "  </tbody>\n",
        "</table>\n",
        "<p>1270 rows \u00d7 2 columns</p>\n",
        "</div>"
       ],
       "metadata": {},
       "output_type": "pyout",
       "prompt_number": 495,
       "text": [
        "     Fund_Ticker                   Benchmark_Index\n",
        "0          VFINX                    S&P 500 TR USD\n",
        "1          VBINX  Morningstar Moderate Target Risk\n",
        "2          VCAIX         Barclays Municipal TR USD\n",
        "3          VCITX         Barclays Municipal TR USD\n",
        "4          VHCOX                    S&P 500 TR USD\n",
        "5          VCVLX                    S&P 500 TR USD\n",
        "6          VCVSX  Morningstar Moderate Target Risk\n",
        "7          VTMGX           MSCI ACWI Ex USA NR USD\n",
        "8          VDEQX                    S&P 500 TR USD\n",
        "9          VDIGX                    S&P 500 TR USD\n",
        "10         VGOVX       Barclays US Agg Bond TR USD\n",
        "11         VMMSX           MSCI ACWI Ex USA NR USD\n",
        "12         VEIEX           MSCI ACWI Ex USA NR USD\n",
        "13         VGENX                  MSCI ACWI NR USD\n",
        "14         VEIPX                    S&P 500 TR USD\n",
        "15         VEURX           MSCI ACWI Ex USA NR USD\n",
        "16         VEXPX                    S&P 500 TR USD\n",
        "17         VEVFX                    S&P 500 TR USD\n",
        "18         VEDTX       Barclays US Agg Bond TR USD\n",
        "19         VEXMX                    S&P 500 TR USD\n",
        "20         VFSNX           MSCI ACWI Ex USA NR USD\n",
        "21         VFTSX                    S&P 500 TR USD\n",
        "22         VHGEX           MSCI ACWI Ex USA NR USD\n",
        "23         VGXRX                  MSCI ACWI NR USD\n",
        "24         VMNVX           MSCI ACWI Ex USA NR USD\n",
        "25         VFIIX       Barclays US Agg Bond TR USD\n",
        "26         VQNPX                    S&P 500 TR USD\n",
        "27         VIGRX                    S&P 500 TR USD\n",
        "28         VGHCX                  MSCI ACWI NR USD\n",
        "29         VWEHX       Barclays US Agg Bond TR USD\n",
        "...          ...                               ...\n",
        "1240       OARDX                    S&P 500 TR USD\n",
        "1241       OPTAX         Barclays Municipal TR USD\n",
        "1242       OPNYX         Barclays Municipal TR USD\n",
        "1243       ORAZX         Barclays Municipal TR USD\n",
        "1244       OPCAX         Barclays Municipal TR USD\n",
        "1245       RMUNX         Barclays Municipal TR USD\n",
        "1246       ORNAX         Barclays Municipal TR USD\n",
        "1247       ORRWX         Barclays Municipal TR USD\n",
        "1248       OLCAX         Barclays Municipal TR USD\n",
        "1249       OPITX         Barclays Municipal TR USD\n",
        "1250       LTNYX         Barclays Municipal TR USD\n",
        "1251       ORMAX         Barclays Municipal TR USD\n",
        "1252       ORMDX         Barclays Municipal TR USD\n",
        "1253       ORMIX         Barclays Municipal TR USD\n",
        "1254       OPAMX         Barclays Municipal TR USD\n",
        "1255       OPNCX         Barclays Municipal TR USD\n",
        "1256       ONJAX         Barclays Municipal TR USD\n",
        "1257       OROHX         Barclays Municipal TR USD\n",
        "1258       OPATX         Barclays Municipal TR USD\n",
        "1259       ORSTX         Barclays Municipal TR USD\n",
        "1260       ORVAX         Barclays Municipal TR USD\n",
        "1261       OOSAX       Barclays US Agg Bond TR USD\n",
        "1262       OSFAX       Barclays US Agg Bond TR USD\n",
        "1263       QVSCX                    S&P 500 TR USD\n",
        "1264       MLPAX                  MSCI ACWI NR USD\n",
        "1265       MLPNX                  MSCI ACWI NR USD\n",
        "1266       MLPDX                  MSCI ACWI NR USD\n",
        "1267       MLPFX                  MSCI ACWI NR USD\n",
        "1268       OSDYX       Barclays US Agg Bond TR USD\n",
        "1269       CGRWX                    S&P 500 TR USD\n",
        "\n",
        "[1270 rows x 2 columns]"
       ]
      }
     ],
     "prompt_number": 495
    },
    {
     "cell_type": "code",
     "collapsed": false,
     "input": [
      "fund_statistics1[\"fund_statistics_FFNAX\"]"
     ],
     "language": "python",
     "metadata": {},
     "outputs": [
      {
       "html": [
        "<div style=\"max-height:1000px;max-width:1500px;overflow:auto;\">\n",
        "<table border=\"1\" class=\"dataframe\">\n",
        "  <thead>\n",
        "    <tr style=\"text-align: right;\">\n",
        "      <th></th>\n",
        "      <th>Benchmark_Index</th>\n",
        "      <th>R_Squared</th>\n",
        "      <th>Beta</th>\n",
        "      <th>Alpha</th>\n",
        "      <th>Treynor_Ratio</th>\n",
        "      <th>Currency</th>\n",
        "      <th>Year_Trailing</th>\n",
        "      <th>Fund_Ticker</th>\n",
        "      <th>Std_Dev</th>\n",
        "      <th>Return</th>\n",
        "      <th>Sharpe_Ratio</th>\n",
        "      <th>Sortino_Ratio</th>\n",
        "      <th>Bear_MktPercentile_Rank</th>\n",
        "    </tr>\n",
        "  </thead>\n",
        "  <tbody>\n",
        "  </tbody>\n",
        "</table>\n",
        "</div>"
       ],
       "metadata": {},
       "output_type": "pyout",
       "prompt_number": 96,
       "text": [
        "Empty DataFrame\n",
        "Columns: [Benchmark_Index, R_Squared, Beta, Alpha, Treynor_Ratio, Currency, Year_Trailing, Fund_Ticker, Std_Dev, Return, Sharpe_Ratio, Sortino_Ratio, Bear_MktPercentile_Rank]\n",
        "Index: []"
       ]
      }
     ],
     "prompt_number": 96
    },
    {
     "cell_type": "code",
     "collapsed": false,
     "input": [
      "Year_trailing = ['3','5','10','15']\n",
      "mpt_stats_columns = ['Fund_Ticker','Benchmark_Index', 'R_Squared','Beta','Alpha','Treynor_Ratio','Currency','Year_Trailing']\n",
      "volatility_measures_columns = ['Fund_Ticker','Std_Dev','Return','Sharpe_Ratio','Sortino_Ratio','Bear_MktPercentile_Rank']\n",
      "\n",
      "fund_statistics = {}\n",
      "\n",
      "for yt in range(0,len(fund_df)):\n",
      "    fund_name = fund_df['Fund_Ticker'][yt]\n",
      "    fund_stats_benchmark = fund_df['Benchmark_Index'][yt]\n",
      "    key = \"fund_statistics_\"+fund_name\n",
      "    print key\n",
      "    symbol = (mstar_benchmark_symbol[mstar_benchmark_symbol['Benchmark_Index'] == fund_stats_benchmark]['Mstar_Symbol']).values[0]   \n",
      "    mpt_statistics = pd.DataFrame()\n",
      "    for i in Year_trailing:\n",
      "        mptstatsurl = \"http://performance.morningstar.com/RatingRisk/fund/mpt-statistics.action?&t=XNAS:\"+fund_name+\"&region=usa&culture=en-US&cur=&ops=clear&s=\"+fund_stats_benchmark+\"&y=\"+i+\"&ep=true&comparisonRemove=null&benchmarkSecId=&benchmarktype=\"\n",
      "        volmeasuresurl = \"http://performance.morningstar.com/RatingRisk/fund/volatility-measurements.action?&t=XNAS:\"+fund_name+\"&region=usa&culture=en-US&cur=&ops=clear&s=\"+fund_stats_benchmark+\"&y=\"+i+\"&ep=true&comparisonRemove=null&benchmarkSecId=&benchmarktype=\"\n",
      "        try:\n",
      "            mpt_statistics_sub = pd.read_html(mptstatsurl)[0]\n",
      "            mpt_statistics_sub = mpt_statistics_sub[mpt_statistics_sub.Alpha.notnull()]\n",
      "            mpt_statistics_sub['Year_Trailing'] = i\n",
      "            mpt_statistics_sub.columns = mpt_stats_columns\n",
      "            mpt_statistics_sub = mpt_statistics_sub[(mpt_statistics_sub['Fund_Ticker'] == fund_name) & (mpt_statistics_sub['Benchmark_Index'] == fund_stats_benchmark)].reset_index(drop=True).tail(1)\n",
      "            volatility_measures = pd.read_html(volmeasuresurl)[0]\n",
      "            volatility_measures = volatility_measures[volatility_measures.Return.notnull()].reset_index(drop = True)\n",
      "            volatility_measures.columns = volatility_measures_columns\n",
      "            mpt_statistics_sub = pd.merge(mpt_statistics_sub,volatility_measures,on='Fund_Ticker',how='inner')\n",
      "            mpt_statistics = mpt_statistics.append(mpt_statistics_sub)\n",
      "        except:\n",
      "            print \"Index : \",yt,\", No Statitics available for Fund : \",fund_name,\" for \",i,\" years\"\n",
      "            mpt_statistics = pd.DataFrame()\n",
      "    fund_statistics[key] = mpt_statistics.reset_index(drop=True)"
     ],
     "language": "python",
     "metadata": {},
     "outputs": [
      {
       "output_type": "stream",
       "stream": "stdout",
       "text": [
        "fund_statistics_VFINX\n",
        "fund_statistics_VBINX"
       ]
      },
      {
       "output_type": "stream",
       "stream": "stdout",
       "text": [
        "\n",
        "fund_statistics_VCAIX"
       ]
      },
      {
       "output_type": "stream",
       "stream": "stdout",
       "text": [
        "\n",
        "fund_statistics_VCITX"
       ]
      },
      {
       "output_type": "stream",
       "stream": "stdout",
       "text": [
        "\n",
        "fund_statistics_VHCOX"
       ]
      },
      {
       "output_type": "stream",
       "stream": "stdout",
       "text": [
        "\n",
        "fund_statistics_VCVLX"
       ]
      },
      {
       "output_type": "stream",
       "stream": "stdout",
       "text": [
        "\n",
        "fund_statistics_VCVSX"
       ]
      },
      {
       "output_type": "stream",
       "stream": "stdout",
       "text": [
        "\n",
        "fund_statistics_VTMGX"
       ]
      },
      {
       "output_type": "stream",
       "stream": "stdout",
       "text": [
        "\n",
        "fund_statistics_VDEQX"
       ]
      },
      {
       "output_type": "stream",
       "stream": "stdout",
       "text": [
        "\n",
        "fund_statistics_VDIGX"
       ]
      },
      {
       "output_type": "stream",
       "stream": "stdout",
       "text": [
        "\n",
        "fund_statistics_VGOVX"
       ]
      },
      {
       "output_type": "stream",
       "stream": "stdout",
       "text": [
        "\n",
        "fund_statistics_VMMSX"
       ]
      },
      {
       "output_type": "stream",
       "stream": "stdout",
       "text": [
        "\n",
        "fund_statistics_VEIEX"
       ]
      },
      {
       "output_type": "stream",
       "stream": "stdout",
       "text": [
        "\n",
        "fund_statistics_VGENX"
       ]
      },
      {
       "output_type": "stream",
       "stream": "stdout",
       "text": [
        "\n",
        "fund_statistics_VEIPX"
       ]
      },
      {
       "output_type": "stream",
       "stream": "stdout",
       "text": [
        "\n",
        "fund_statistics_VEURX"
       ]
      },
      {
       "output_type": "stream",
       "stream": "stdout",
       "text": [
        "\n",
        "fund_statistics_VEXPX"
       ]
      },
      {
       "output_type": "stream",
       "stream": "stdout",
       "text": [
        "\n",
        "fund_statistics_VEVFX"
       ]
      },
      {
       "output_type": "stream",
       "stream": "stdout",
       "text": [
        "\n",
        "fund_statistics_VEDTX"
       ]
      },
      {
       "output_type": "stream",
       "stream": "stdout",
       "text": [
        "\n",
        "fund_statistics_VEXMX"
       ]
      },
      {
       "output_type": "stream",
       "stream": "stdout",
       "text": [
        "\n",
        "fund_statistics_VFSNX"
       ]
      },
      {
       "output_type": "stream",
       "stream": "stdout",
       "text": [
        "\n",
        "fund_statistics_VFTSX"
       ]
      },
      {
       "output_type": "stream",
       "stream": "stdout",
       "text": [
        "\n",
        "fund_statistics_VHGEX"
       ]
      },
      {
       "output_type": "stream",
       "stream": "stdout",
       "text": [
        "\n",
        "fund_statistics_VGXRX"
       ]
      },
      {
       "output_type": "stream",
       "stream": "stdout",
       "text": [
        "\n",
        "fund_statistics_VMNVX"
       ]
      },
      {
       "output_type": "stream",
       "stream": "stdout",
       "text": [
        "\n",
        "fund_statistics_VFIIX"
       ]
      },
      {
       "output_type": "stream",
       "stream": "stdout",
       "text": [
        "\n",
        "fund_statistics_VQNPX"
       ]
      },
      {
       "output_type": "stream",
       "stream": "stdout",
       "text": [
        "\n",
        "fund_statistics_VIGRX"
       ]
      },
      {
       "output_type": "stream",
       "stream": "stdout",
       "text": [
        "\n",
        "fund_statistics_VGHCX"
       ]
      },
      {
       "output_type": "stream",
       "stream": "stdout",
       "text": [
        "\n",
        "fund_statistics_VWEHX"
       ]
      },
      {
       "output_type": "stream",
       "stream": "stdout",
       "text": [
        "\n",
        "fund_statistics_VWAHX"
       ]
      },
      {
       "output_type": "stream",
       "stream": "stdout",
       "text": [
        "\n",
        "fund_statistics_VIPSX"
       ]
      },
      {
       "output_type": "stream",
       "stream": "stdout",
       "text": [
        "\n",
        "fund_statistics_VINIX"
       ]
      },
      {
       "output_type": "stream",
       "stream": "stdout",
       "text": [
        "\n",
        "fund_statistics_VITPX"
       ]
      },
      {
       "output_type": "stream",
       "stream": "stdout",
       "text": [
        "\n",
        "fund_statistics_VBIIX"
       ]
      },
      {
       "output_type": "stream",
       "stream": "stdout",
       "text": [
        "\n",
        "fund_statistics_VFICX"
       ]
      },
      {
       "output_type": "stream",
       "stream": "stdout",
       "text": [
        "\n",
        "fund_statistics_VFITX"
       ]
      },
      {
       "output_type": "stream",
       "stream": "stdout",
       "text": [
        "\n",
        "fund_statistics_VWITX"
       ]
      },
      {
       "output_type": "stream",
       "stream": "stdout",
       "text": [
        "\n",
        "fund_statistics_VINEX"
       ]
      },
      {
       "output_type": "stream",
       "stream": "stdout",
       "text": [
        "\n",
        "fund_statistics_VWIGX"
       ]
      },
      {
       "output_type": "stream",
       "stream": "stdout",
       "text": [
        "\n",
        "fund_statistics_VTRIX"
       ]
      },
      {
       "output_type": "stream",
       "stream": "stdout",
       "text": [
        "\n",
        "fund_statistics_VSCGX"
       ]
      },
      {
       "output_type": "stream",
       "stream": "stdout",
       "text": [
        "\n",
        "fund_statistics_VASGX"
       ]
      },
      {
       "output_type": "stream",
       "stream": "stdout",
       "text": [
        "\n",
        "fund_statistics_VASIX"
       ]
      },
      {
       "output_type": "stream",
       "stream": "stdout",
       "text": [
        "\n",
        "fund_statistics_VSMGX"
       ]
      },
      {
       "output_type": "stream",
       "stream": "stdout",
       "text": [
        "\n",
        "fund_statistics_VBLTX"
       ]
      },
      {
       "output_type": "stream",
       "stream": "stdout",
       "text": [
        "\n",
        "fund_statistics_VLCIX"
       ]
      },
      {
       "output_type": "stream",
       "stream": "stdout",
       "text": [
        "\n",
        "fund_statistics_VLGIX"
       ]
      },
      {
       "output_type": "stream",
       "stream": "stdout",
       "text": [
        "\n",
        "fund_statistics_VWESX"
       ]
      },
      {
       "output_type": "stream",
       "stream": "stdout",
       "text": [
        "\n",
        "fund_statistics_VWLTX"
       ]
      },
      {
       "output_type": "stream",
       "stream": "stdout",
       "text": [
        "\n",
        "fund_statistics_VUSTX"
       ]
      },
      {
       "output_type": "stream",
       "stream": "stdout",
       "text": [
        "\n",
        "fund_statistics_VMLTX"
       ]
      },
      {
       "output_type": "stream",
       "stream": "stdout",
       "text": [
        "\n",
        "fund_statistics_VMATX"
       ]
      },
      {
       "output_type": "stream",
       "stream": "stdout",
       "text": [
        "\n",
        "fund_statistics_VPGDX"
       ]
      },
      {
       "output_type": "stream",
       "stream": "stdout",
       "text": [
        "\n",
        "fund_statistics_VMNIX"
       ]
      },
      {
       "output_type": "stream",
       "stream": "stdout",
       "text": [
        "\n",
        "fund_statistics_VMGRX"
       ]
      },
      {
       "output_type": "stream",
       "stream": "stdout",
       "text": [
        "\n",
        "fund_statistics_VMCIX"
       ]
      },
      {
       "output_type": "stream",
       "stream": "stdout",
       "text": [
        "\n",
        "fund_statistics_VMRGX"
       ]
      },
      {
       "output_type": "stream",
       "stream": "stdout",
       "text": [
        "\n",
        "fund_statistics_VNJTX"
       ]
      },
      {
       "output_type": "stream",
       "stream": "stdout",
       "text": [
        "\n",
        "fund_statistics_VNYTX"
       ]
      },
      {
       "output_type": "stream",
       "stream": "stdout",
       "text": [
        "\n",
        "fund_statistics_VOHIX"
       ]
      },
      {
       "output_type": "stream",
       "stream": "stdout",
       "text": [
        "\n",
        "fund_statistics_VPAIX"
       ]
      },
      {
       "output_type": "stream",
       "stream": "stdout",
       "text": [
        "\n",
        "fund_statistics_VPACX"
       ]
      },
      {
       "output_type": "stream",
       "stream": "stdout",
       "text": [
        "\n",
        "fund_statistics_VGPMX"
       ]
      },
      {
       "output_type": "stream",
       "stream": "stdout",
       "text": [
        "\n",
        "fund_statistics_VPCCX"
       ]
      },
      {
       "output_type": "stream",
       "stream": "stdout",
       "text": [
        "\n",
        "fund_statistics_VPMCX"
       ]
      },
      {
       "output_type": "stream",
       "stream": "stdout",
       "text": [
        "\n",
        "fund_statistics_VGSIX"
       ]
      },
      {
       "output_type": "stream",
       "stream": "stdout",
       "text": [
        "\n",
        "fund_statistics_VASVX"
       ]
      },
      {
       "output_type": "stream",
       "stream": "stdout",
       "text": [
        "\n",
        "fund_statistics_VBISX"
       ]
      },
      {
       "output_type": "stream",
       "stream": "stdout",
       "text": [
        "\n",
        "fund_statistics_VSTBX"
       ]
      },
      {
       "output_type": "stream",
       "stream": "stdout",
       "text": [
        "\n",
        "fund_statistics_VSGBX"
       ]
      },
      {
       "output_type": "stream",
       "stream": "stdout",
       "text": [
        "\n",
        "fund_statistics_VFSTX"
       ]
      },
      {
       "output_type": "stream",
       "stream": "stdout",
       "text": [
        "\n",
        "fund_statistics_VFISX"
       ]
      },
      {
       "output_type": "stream",
       "stream": "stdout",
       "text": [
        "\n",
        "fund_statistics_VWSTX"
       ]
      },
      {
       "output_type": "stream",
       "stream": "stdout",
       "text": [
        "\n",
        "fund_statistics_VISGX"
       ]
      },
      {
       "output_type": "stream",
       "stream": "stdout",
       "text": [
        "\n",
        "fund_statistics_NAESX"
       ]
      },
      {
       "output_type": "stream",
       "stream": "stdout",
       "text": [
        "\n",
        "fund_statistics_VISVX"
       ]
      },
      {
       "output_type": "stream",
       "stream": "stdout",
       "text": [
        "\n",
        "fund_statistics_VGSTX"
       ]
      },
      {
       "output_type": "stream",
       "stream": "stdout",
       "text": [
        "\n",
        "fund_statistics_VSEQX"
       ]
      },
      {
       "output_type": "stream",
       "stream": "stdout",
       "text": [
        "\n",
        "fund_statistics_VSTCX"
       ]
      },
      {
       "output_type": "stream",
       "stream": "stdout",
       "text": [
        "\n",
        "fund_statistics_VSLPX"
       ]
      },
      {
       "output_type": "stream",
       "stream": "stdout",
       "text": [
        "\n",
        "fund_statistics_VSBPX"
       ]
      },
      {
       "output_type": "stream",
       "stream": "stdout",
       "text": [
        "\n",
        "fund_statistics_VTENX"
       ]
      },
      {
       "output_type": "stream",
       "stream": "stdout",
       "text": [
        "\n",
        "fund_statistics_VTXVX"
       ]
      },
      {
       "output_type": "stream",
       "stream": "stdout",
       "text": [
        "\n",
        "fund_statistics_VTWNX"
       ]
      },
      {
       "output_type": "stream",
       "stream": "stdout",
       "text": [
        "\n",
        "fund_statistics_VTTVX"
       ]
      },
      {
       "output_type": "stream",
       "stream": "stdout",
       "text": [
        "\n",
        "fund_statistics_VTHRX"
       ]
      },
      {
       "output_type": "stream",
       "stream": "stdout",
       "text": [
        "\n",
        "fund_statistics_VTTHX"
       ]
      },
      {
       "output_type": "stream",
       "stream": "stdout",
       "text": [
        "\n",
        "fund_statistics_VFORX"
       ]
      },
      {
       "output_type": "stream",
       "stream": "stdout",
       "text": [
        "\n",
        "fund_statistics_VTIVX"
       ]
      },
      {
       "output_type": "stream",
       "stream": "stdout",
       "text": [
        "\n",
        "fund_statistics_VFIFX"
       ]
      },
      {
       "output_type": "stream",
       "stream": "stdout",
       "text": [
        "\n",
        "fund_statistics_VFFVX"
       ]
      },
      {
       "output_type": "stream",
       "stream": "stdout",
       "text": [
        "\n",
        "fund_statistics_VTTSX"
       ]
      },
      {
       "output_type": "stream",
       "stream": "stdout",
       "text": [
        "\n",
        "fund_statistics_VTINX"
       ]
      },
      {
       "output_type": "stream",
       "stream": "stdout",
       "text": [
        "\n",
        "fund_statistics_VTMFX"
       ]
      },
      {
       "output_type": "stream",
       "stream": "stdout",
       "text": [
        "\n",
        "fund_statistics_VTCIX"
       ]
      },
      {
       "output_type": "stream",
       "stream": "stdout",
       "text": [
        "\n",
        "fund_statistics_VTMSX"
       ]
      },
      {
       "output_type": "stream",
       "stream": "stdout",
       "text": [
        "\n",
        "fund_statistics_VTBIX"
       ]
      },
      {
       "output_type": "stream",
       "stream": "stdout",
       "text": [
        "\n",
        "fund_statistics_VBMFX"
       ]
      },
      {
       "output_type": "stream",
       "stream": "stdout",
       "text": [
        "\n",
        "fund_statistics_VTIFX"
       ]
      },
      {
       "output_type": "stream",
       "stream": "stdout",
       "text": [
        "\n",
        "fund_statistics_VGTSX"
       ]
      },
      {
       "output_type": "stream",
       "stream": "stdout",
       "text": [
        "\n",
        "fund_statistics_VTSMX"
       ]
      },
      {
       "output_type": "stream",
       "stream": "stdout",
       "text": [
        "\n",
        "fund_statistics_VWUSX"
       ]
      },
      {
       "output_type": "stream",
       "stream": "stdout",
       "text": [
        "\n",
        "fund_statistics_VUVLX"
       ]
      },
      {
       "output_type": "stream",
       "stream": "stdout",
       "text": [
        "\n",
        "fund_statistics_VIVAX"
       ]
      },
      {
       "output_type": "stream",
       "stream": "stdout",
       "text": [
        "\n",
        "fund_statistics_VWINX"
       ]
      },
      {
       "output_type": "stream",
       "stream": "stdout",
       "text": [
        "\n",
        "fund_statistics_VWELX"
       ]
      },
      {
       "output_type": "stream",
       "stream": "stdout",
       "text": [
        "\n",
        "fund_statistics_VWNFX"
       ]
      },
      {
       "output_type": "stream",
       "stream": "stdout",
       "text": [
        "\n",
        "fund_statistics_VWNDX"
       ]
      },
      {
       "output_type": "stream",
       "stream": "stdout",
       "text": [
        "\n",
        "fund_statistics_AAATX"
       ]
      },
      {
       "output_type": "stream",
       "stream": "stdout",
       "text": [
        "\n",
        "fund_statistics_AABTX"
       ]
      },
      {
       "output_type": "stream",
       "stream": "stdout",
       "text": [
        "\n",
        "fund_statistics_AACTX"
       ]
      },
      {
       "output_type": "stream",
       "stream": "stdout",
       "text": [
        "\n",
        "fund_statistics_AADTX"
       ]
      },
      {
       "output_type": "stream",
       "stream": "stdout",
       "text": [
        "\n",
        "fund_statistics_AAETX"
       ]
      },
      {
       "output_type": "stream",
       "stream": "stdout",
       "text": [
        "\n",
        "fund_statistics_AAFTX"
       ]
      },
      {
       "output_type": "stream",
       "stream": "stdout",
       "text": [
        "\n",
        "fund_statistics_AAGTX"
       ]
      },
      {
       "output_type": "stream",
       "stream": "stdout",
       "text": [
        "\n",
        "fund_statistics_AAHTX"
       ]
      },
      {
       "output_type": "stream",
       "stream": "stdout",
       "text": [
        "\n",
        "fund_statistics_AALTX"
       ]
      },
      {
       "output_type": "stream",
       "stream": "stdout",
       "text": [
        "\n",
        "fund_statistics_AAMTX"
       ]
      },
      {
       "output_type": "stream",
       "stream": "stdout",
       "text": [
        "\n",
        "fund_statistics_AMCPX"
       ]
      },
      {
       "output_type": "stream",
       "stream": "stdout",
       "text": [
        "\n",
        "fund_statistics_ABALX"
       ]
      },
      {
       "output_type": "stream",
       "stream": "stdout",
       "text": [
        "\n",
        "fund_statistics_AHITX"
       ]
      },
      {
       "output_type": "stream",
       "stream": "stdout",
       "text": [
        "\n",
        "fund_statistics_AMRMX"
       ]
      },
      {
       "output_type": "stream",
       "stream": "stdout",
       "text": [
        "\n",
        "fund_statistics_CBAAX"
       ]
      },
      {
       "output_type": "stream",
       "stream": "stdout",
       "text": [
        "\n",
        "fund_statistics_ABNDX"
       ]
      },
      {
       "output_type": "stream",
       "stream": "stdout",
       "text": [
        "\n",
        "fund_statistics_CAIBX"
       ]
      },
      {
       "output_type": "stream",
       "stream": "stdout",
       "text": [
        "\n",
        "fund_statistics_CWBFX"
       ]
      },
      {
       "output_type": "stream",
       "stream": "stdout",
       "text": [
        "\n",
        "fund_statistics_CWGIX"
       ]
      },
      {
       "output_type": "stream",
       "stream": "stdout",
       "text": [
        "\n",
        "fund_statistics_CFFAX"
       ]
      },
      {
       "output_type": "stream",
       "stream": "stdout",
       "text": [
        "\n",
        "fund_statistics_CNEAX"
       ]
      },
      {
       "output_type": "stream",
       "stream": "stdout",
       "text": [
        "\n",
        "fund_statistics_CTOAX"
       ]
      },
      {
       "output_type": "stream",
       "stream": "stdout",
       "text": [
        "\n",
        "fund_statistics_CFTAX"
       ]
      },
      {
       "output_type": "stream",
       "stream": "stdout",
       "text": [
        "\n",
        "fund_statistics_CSTAX"
       ]
      },
      {
       "output_type": "stream",
       "stream": "stdout",
       "text": [
        "\n",
        "fund_statistics_CTHAX"
       ]
      },
      {
       "output_type": "stream",
       "stream": "stdout",
       "text": [
        "\n",
        "fund_statistics_CENAX"
       ]
      },
      {
       "output_type": "stream",
       "stream": "stdout",
       "text": [
        "\n",
        "fund_statistics_DWGAX"
       ]
      },
      {
       "output_type": "stream",
       "stream": "stdout",
       "text": [
        "\n",
        "fund_statistics_AEPGX"
       ]
      },
      {
       "output_type": "stream",
       "stream": "stdout",
       "text": [
        "\n",
        "fund_statistics_ANCFX"
       ]
      },
      {
       "output_type": "stream",
       "stream": "stdout",
       "text": [
        "\n",
        "fund_statistics_CBFAX"
       ]
      },
      {
       "output_type": "stream",
       "stream": "stdout",
       "text": [
        "\n",
        "fund_statistics_CPGAX"
       ]
      },
      {
       "output_type": "stream",
       "stream": "stdout",
       "text": [
        "\n",
        "fund_statistics_CGNAX"
       ]
      },
      {
       "output_type": "stream",
       "stream": "stdout",
       "text": [
        "\n",
        "fund_statistics_AGTHX"
       ]
      },
      {
       "output_type": "stream",
       "stream": "stdout",
       "text": [
        "\n",
        "fund_statistics_CGPAX"
       ]
      },
      {
       "output_type": "stream",
       "stream": "stdout",
       "text": [
        "\n",
        "fund_statistics_AMECX"
       ]
      },
      {
       "output_type": "stream",
       "stream": "stdout",
       "text": [
        "\n",
        "fund_statistics_INPAX"
       ]
      },
      {
       "output_type": "stream",
       "stream": "stdout",
       "text": [
        "\n",
        "fund_statistics_AIBAX"
       ]
      },
      {
       "output_type": "stream",
       "stream": "stdout",
       "text": [
        "\n",
        "fund_statistics_CGIAX"
       ]
      },
      {
       "output_type": "stream",
       "stream": "stdout",
       "text": [
        "\n",
        "fund_statistics_AIVSX"
       ]
      },
      {
       "output_type": "stream",
       "stream": "stdout",
       "text": [
        "\n",
        "fund_statistics_LTEBX"
       ]
      },
      {
       "output_type": "stream",
       "stream": "stdout",
       "text": [
        "\n",
        "fund_statistics_CMFAX"
       ]
      },
      {
       "output_type": "stream",
       "stream": "stdout",
       "text": [
        "\n",
        "fund_statistics_ANEFX"
       ]
      },
      {
       "output_type": "stream",
       "stream": "stdout",
       "text": [
        "\n",
        "fund_statistics_ANWPX"
       ]
      },
      {
       "output_type": "stream",
       "stream": "stdout",
       "text": [
        "\n",
        "fund_statistics_NEWFX"
       ]
      },
      {
       "output_type": "stream",
       "stream": "stdout",
       "text": [
        "\n",
        "fund_statistics_PPVAX"
       ]
      },
      {
       "output_type": "stream",
       "stream": "stdout",
       "text": [
        "\n",
        "fund_statistics_ASTEX"
       ]
      },
      {
       "output_type": "stream",
       "stream": "stdout",
       "text": [
        "\n",
        "fund_statistics_SMCWX"
       ]
      },
      {
       "output_type": "stream",
       "stream": "stdout",
       "text": [
        "\n",
        "fund_statistics_ASBAX"
       ]
      },
      {
       "output_type": "stream",
       "stream": "stdout",
       "text": [
        "\n",
        "fund_statistics_AFTEX"
       ]
      },
      {
       "output_type": "stream",
       "stream": "stdout",
       "text": [
        "\n",
        "fund_statistics_TAFTX"
       ]
      },
      {
       "output_type": "stream",
       "stream": "stdout",
       "text": [
        "\n",
        "fund_statistics_NYAAX"
       ]
      },
      {
       "output_type": "stream",
       "stream": "stdout",
       "text": [
        "\n",
        "fund_statistics_TMMDX"
       ]
      },
      {
       "output_type": "stream",
       "stream": "stdout",
       "text": [
        "\n",
        "fund_statistics_TEPAX"
       ]
      },
      {
       "output_type": "stream",
       "stream": "stdout",
       "text": [
        "\n",
        "fund_statistics_TFVAX"
       ]
      },
      {
       "output_type": "stream",
       "stream": "stdout",
       "text": [
        "\n",
        "fund_statistics_TAIAX"
       ]
      },
      {
       "output_type": "stream",
       "stream": "stdout",
       "text": [
        "\n",
        "fund_statistics_AMUSX"
       ]
      },
      {
       "output_type": "stream",
       "stream": "stdout",
       "text": [
        "\n",
        "fund_statistics_AWSHX"
       ]
      },
      {
       "output_type": "stream",
       "stream": "stdout",
       "text": [
        "\n",
        "fund_statistics_AMHIX"
       ]
      },
      {
       "output_type": "stream",
       "stream": "stdout",
       "text": [
        "\n",
        "fund_statistics_PAUIX"
       ]
      },
      {
       "output_type": "stream",
       "stream": "stdout",
       "text": [
        "\n",
        "fund_statistics_PAAIX"
       ]
      },
      {
       "output_type": "stream",
       "stream": "stdout",
       "text": [
        "\n",
        "fund_statistics_PBIAX"
       ]
      },
      {
       "output_type": "stream",
       "stream": "stdout",
       "text": [
        "\n",
        "fund_statistics_PCIMX"
       ]
      },
      {
       "output_type": "stream",
       "stream": "stdout",
       "text": [
        "\n",
        "fund_statistics_PCDAX"
       ]
      },
      {
       "output_type": "stream",
       "stream": "stdout",
       "text": [
        "\n",
        "fund_statistics_PCTTX"
       ]
      },
      {
       "output_type": "stream",
       "stream": "stdout",
       "text": [
        "\n",
        "fund_statistics_PCLAX"
       ]
      },
      {
       "output_type": "stream",
       "stream": "stdout",
       "text": [
        "\n",
        "fund_statistics_PCRIX"
       ]
      },
      {
       "output_type": "stream",
       "stream": "stdout",
       "text": [
        "\n",
        "fund_statistics_PFCIX"
       ]
      },
      {
       "output_type": "stream",
       "stream": "stdout",
       "text": [
        "\n",
        "fund_statistics_PZCRX"
       ]
      },
      {
       "output_type": "stream",
       "stream": "stdout",
       "text": [
        "\n",
        "fund_statistics_PDVAX"
       ]
      },
      {
       "output_type": "stream",
       "stream": "stdout",
       "text": [
        "\n",
        "fund_statistics_PQIZX"
       ]
      },
      {
       "output_type": "stream",
       "stream": "stdout",
       "text": [
        "\n",
        "fund_statistics_PEFIX"
       ]
      },
      {
       "output_type": "stream",
       "stream": "stdout",
       "text": [
        "\n",
        "fund_statistics_PFSSX"
       ]
      },
      {
       "output_type": "stream",
       "stream": "stdout",
       "text": [
        "\n",
        "fund_statistics_PELBX"
       ]
      },
      {
       "output_type": "stream",
       "stream": "stdout",
       "text": [
        "\n",
        "fund_statistics_PAEMX"
       ]
      },
      {
       "output_type": "stream",
       "stream": "stdout",
       "text": [
        "\n",
        "fund_statistics_PEMIX"
       ]
      },
      {
       "output_type": "stream",
       "stream": "stdout",
       "text": [
        "\n",
        "fund_statistics_PLMAX"
       ]
      },
      {
       "output_type": "stream",
       "stream": "stdout",
       "text": [
        "\n",
        "fund_statistics_PEAAX"
       ]
      },
      {
       "output_type": "stream",
       "stream": "stdout",
       "text": [
        "\n",
        "fund_statistics_PLVVX"
       ]
      },
      {
       "output_type": "stream",
       "stream": "stdout",
       "text": [
        "\n",
        "fund_statistics_PATHX"
       ]
      },
      {
       "output_type": "stream",
       "stream": "stdout",
       "text": [
        "\n",
        "fund_statistics_PQDAX"
       ]
      },
      {
       "output_type": "stream",
       "stream": "stdout",
       "text": [
        "\n",
        "fund_statistics_PEQAX"
       ]
      },
      {
       "output_type": "stream",
       "stream": "stdout",
       "text": [
        "\n",
        "fund_statistics_PMHIX"
       ]
      },
      {
       "output_type": "stream",
       "stream": "stdout",
       "text": [
        "\n",
        "fund_statistics_PEDIX"
       ]
      },
      {
       "output_type": "stream",
       "stream": "stdout",
       "text": [
        "\n",
        "fund_statistics_PFIAX"
       ]
      },
      {
       "output_type": "stream",
       "stream": "stdout",
       "text": [
        "\n",
        "fund_statistics_PFUIX"
       ]
      },
      {
       "output_type": "stream",
       "stream": "stdout",
       "text": [
        "\n",
        "fund_statistics_PFORX"
       ]
      },
      {
       "output_type": "stream",
       "stream": "stdout",
       "text": [
        "\n",
        "fund_statistics_PFATX"
       ]
      },
      {
       "output_type": "stream",
       "stream": "stdout",
       "text": [
        "\n",
        "fund_statistics_PIXAX"
       ]
      },
      {
       "output_type": "stream",
       "stream": "stdout",
       "text": [
        "\n",
        "fund_statistics_PGSAX"
       ]
      },
      {
       "output_type": "stream",
       "stream": "stdout",
       "text": [
        "\n",
        "fund_statistics_PIGLX"
       ]
      },
      {
       "output_type": "stream",
       "stream": "stdout",
       "text": [
        "\n",
        "fund_statistics_PAIIX"
       ]
      },
      {
       "output_type": "stream",
       "stream": "stdout",
       "text": [
        "\n",
        "fund_statistics_PGMAX"
       ]
      },
      {
       "output_type": "stream",
       "stream": "stdout",
       "text": [
        "\n",
        "fund_statistics_PDMIX"
       ]
      },
      {
       "output_type": "stream",
       "stream": "stdout",
       "text": [
        "\n",
        "fund_statistics_PHIYX"
       ]
      },
      {
       "output_type": "stream",
       "stream": "stdout",
       "text": [
        "\n",
        "fund_statistics_PYMAX"
       ]
      },
      {
       "output_type": "stream",
       "stream": "stdout",
       "text": [
        "\n",
        "fund_statistics_PHSAX"
       ]
      },
      {
       "output_type": "stream",
       "stream": "stdout",
       "text": [
        "\n",
        "fund_statistics_PONAX"
       ]
      },
      {
       "output_type": "stream",
       "stream": "stdout",
       "text": [
        "\n",
        "fund_statistics_PZRMX"
       ]
      },
      {
       "output_type": "stream",
       "stream": "stdout",
       "text": [
        "\n",
        "fund_statistics_PTSIX"
       ]
      },
      {
       "output_type": "stream",
       "stream": "stdout",
       "text": [
        "\n",
        "fund_statistics_PLVBX"
       ]
      },
      {
       "output_type": "stream",
       "stream": "stdout",
       "text": [
        "\n",
        "fund_statistics_PPUAX"
       ]
      },
      {
       "output_type": "stream",
       "stream": "stdout",
       "text": [
        "\n",
        "fund_statistics_PIPAX"
       ]
      },
      {
       "output_type": "stream",
       "stream": "stdout",
       "text": [
        "\n",
        "fund_statistics_PIGIX"
       ]
      },
      {
       "output_type": "stream",
       "stream": "stdout",
       "text": [
        "\n",
        "fund_statistics_PLRIX"
       ]
      },
      {
       "output_type": "stream",
       "stream": "stdout",
       "text": [
        "\n",
        "fund_statistics_PTCIX"
       ]
      },
      {
       "output_type": "stream",
       "stream": "stdout",
       "text": [
        "\n",
        "fund_statistics_PGOVX"
       ]
      },
      {
       "output_type": "stream",
       "stream": "stdout",
       "text": [
        "\n",
        "fund_statistics_PLDTX"
       ]
      },
      {
       "output_type": "stream",
       "stream": "stdout",
       "text": [
        "\n",
        "fund_statistics_PLDIX"
       ]
      },
      {
       "output_type": "stream",
       "stream": "stdout",
       "text": [
        "\n",
        "fund_statistics_PTLDX"
       ]
      },
      {
       "output_type": "stream",
       "stream": "stdout",
       "text": [
        "\n",
        "fund_statistics_PXLVX"
       ]
      },
      {
       "output_type": "stream",
       "stream": "stdout",
       "text": [
        "\n",
        "fund_statistics_PMDRX"
       ]
      },
      {
       "output_type": "stream",
       "stream": "stdout",
       "text": [
        "\n",
        "fund_statistics_PMZAX"
       ]
      },
      {
       "output_type": "stream",
       "stream": "stdout",
       "text": [
        "\n",
        "fund_statistics_PTRIX"
       ]
      },
      {
       "output_type": "stream",
       "stream": "stdout",
       "text": [
        "\n",
        "fund_statistics_PFMIX"
       ]
      },
      {
       "output_type": "stream",
       "stream": "stdout",
       "text": [
        "\n",
        "fund_statistics_PMNTX"
       ]
      },
      {
       "output_type": "stream",
       "stream": "stdout",
       "text": [
        "\n",
        "fund_statistics_PNYIX"
       ]
      },
      {
       "output_type": "stream",
       "stream": "stdout",
       "text": [
        "\n",
        "fund_statistics_PETAX"
       ]
      },
      {
       "output_type": "stream",
       "stream": "stdout",
       "text": [
        "\n",
        "fund_statistics_PRTNX"
       ]
      },
      {
       "output_type": "stream",
       "stream": "stdout",
       "text": [
        "\n",
        "fund_statistics_PRAIX"
       ]
      },
      {
       "output_type": "stream",
       "stream": "stdout",
       "text": [
        "\n",
        "fund_statistics_PTNYX"
       ]
      },
      {
       "output_type": "stream",
       "stream": "stdout",
       "text": [
        "\n",
        "fund_statistics_PTYAX"
       ]
      },
      {
       "output_type": "stream",
       "stream": "stdout",
       "text": [
        "\n",
        "fund_statistics_PENZX"
       ]
      },
      {
       "output_type": "stream",
       "stream": "stdout",
       "text": [
        "\n",
        "fund_statistics_PEHAX"
       ]
      },
      {
       "output_type": "stream",
       "stream": "stdout",
       "text": [
        "\n",
        "fund_statistics_PIVAX"
       ]
      },
      {
       "output_type": "stream",
       "stream": "stdout",
       "text": [
        "\n",
        "fund_statistics_POFAX"
       ]
      },
      {
       "output_type": "stream",
       "stream": "stdout",
       "text": [
        "\n",
        "fund_statistics_PFZAX"
       ]
      },
      {
       "output_type": "stream",
       "stream": "stdout",
       "text": [
        "\n",
        "fund_statistics_PFYAX"
       ]
      },
      {
       "output_type": "stream",
       "stream": "stdout",
       "text": [
        "\n",
        "fund_statistics_PTNAX"
       ]
      },
      {
       "output_type": "stream",
       "stream": "stdout",
       "text": [
        "\n",
        "fund_statistics_PSRZX"
       ]
      },
      {
       "output_type": "stream",
       "stream": "stdout",
       "text": [
        "\n",
        "fund_statistics_PAIAX"
       ]
      },
      {
       "output_type": "stream",
       "stream": "stdout",
       "text": [
        "\n",
        "fund_statistics_PSDIX"
       ]
      },
      {
       "output_type": "stream",
       "stream": "stdout",
       "text": [
        "\n",
        "fund_statistics_PTSHX"
       ]
      },
      {
       "output_type": "stream",
       "stream": "stdout",
       "text": [
        "\n",
        "fund_statistics_PCFIX"
       ]
      },
      {
       "output_type": "stream",
       "stream": "stdout",
       "text": [
        "\n",
        "fund_statistics_PSCSX"
       ]
      },
      {
       "output_type": "stream",
       "stream": "stdout",
       "text": [
        "\n",
        "fund_statistics_PSPTX"
       ]
      },
      {
       "output_type": "stream",
       "stream": "stdout",
       "text": [
        "\n",
        "fund_statistics_PSTIX"
       ]
      },
      {
       "output_type": "stream",
       "stream": "stdout",
       "text": [
        "\n",
        "fund_statistics_PSTKX"
       ]
      },
      {
       "output_type": "stream",
       "stream": "stdout",
       "text": [
        "\n",
        "fund_statistics_PSLDX"
       ]
      },
      {
       "output_type": "stream",
       "stream": "stdout",
       "text": [
        "\n",
        "fund_statistics_PTXAX"
       ]
      },
      {
       "output_type": "stream",
       "stream": "stdout",
       "text": [
        "\n",
        "fund_statistics_PMBIX"
       ]
      },
      {
       "output_type": "stream",
       "stream": "stdout",
       "text": [
        "\n",
        "fund_statistics_PTSAX"
       ]
      },
      {
       "output_type": "stream",
       "stream": "stdout",
       "text": [
        "\n",
        "fund_statistics_PTTRX"
       ]
      },
      {
       "output_type": "stream",
       "stream": "stdout",
       "text": [
        "\n",
        "fund_statistics_PTUZX"
       ]
      },
      {
       "output_type": "stream",
       "stream": "stdout",
       "text": [
        "\n",
        "fund_statistics_PQTAX"
       ]
      },
      {
       "output_type": "stream",
       "stream": "stdout",
       "text": [
        "\n",
        "fund_statistics_PUBAX"
       ]
      },
      {
       "output_type": "stream",
       "stream": "stdout",
       "text": [
        "\n",
        "fund_statistics_ATMAX"
       ]
      },
      {
       "output_type": "stream",
       "stream": "stdout",
       "text": [
        "\n",
        "fund_statistics_PWWIX"
       ]
      },
      {
       "output_type": "stream",
       "stream": "stdout",
       "text": [
        "\n",
        "fund_statistics_TRAMX"
       ]
      },
      {
       "output_type": "stream",
       "stream": "stdout",
       "text": [
        "\n",
        "fund_statistics_PAAOX"
       ]
      },
      {
       "output_type": "stream",
       "stream": "stdout",
       "text": [
        "\n",
        "fund_statistics_RPBAX"
       ]
      },
      {
       "output_type": "stream",
       "stream": "stdout",
       "text": [
        "\n",
        "fund_statistics_TRBCX"
       ]
      },
      {
       "output_type": "stream",
       "stream": "stdout",
       "text": [
        "\n",
        "fund_statistics_PRXCX"
       ]
      },
      {
       "output_type": "stream",
       "stream": "stdout",
       "text": [
        "\n",
        "fund_statistics_PRWCX"
       ]
      },
      {
       "output_type": "stream",
       "stream": "stdout",
       "text": [
        "\n",
        "fund_statistics_PRCOX"
       ]
      },
      {
       "output_type": "stream",
       "stream": "stdout",
       "text": [
        "\n",
        "fund_statistics_PRPIX"
       ]
      },
      {
       "output_type": "stream",
       "stream": "stdout",
       "text": [
        "\n",
        "fund_statistics_PAOPX"
       ]
      },
      {
       "output_type": "stream",
       "stream": "stdout",
       "text": [
        "\n",
        "fund_statistics_PRDMX"
       ]
      },
      {
       "output_type": "stream",
       "stream": "stdout",
       "text": [
        "\n",
        "fund_statistics_PRDSX"
       ]
      },
      {
       "output_type": "stream",
       "stream": "stdout",
       "text": [
        "\n",
        "fund_statistics_PRDGX"
       ]
      },
      {
       "output_type": "stream",
       "stream": "stdout",
       "text": [
        "\n",
        "fund_statistics_PAELX"
       ]
      },
      {
       "output_type": "stream",
       "stream": "stdout",
       "text": [
        "\n",
        "fund_statistics_TREMX"
       ]
      },
      {
       "output_type": "stream",
       "stream": "stdout",
       "text": [
        "\n",
        "fund_statistics_PREMX"
       ]
      },
      {
       "output_type": "stream",
       "stream": "stdout",
       "text": [
        "\n",
        "fund_statistics_PRMSX"
       ]
      },
      {
       "output_type": "stream",
       "stream": "stdout",
       "text": [
        "\n",
        "fund_statistics_PACEX"
       ]
      },
      {
       "output_type": "stream",
       "stream": "stdout",
       "text": [
        "\n",
        "fund_statistics_PRFDX"
       ]
      },
      {
       "output_type": "stream",
       "stream": "stdout",
       "text": [
        "\n",
        "fund_statistics_PREIX"
       ]
      },
      {
       "output_type": "stream",
       "stream": "stdout",
       "text": [
        "\n",
        "fund_statistics_PRESX"
       ]
      },
      {
       "output_type": "stream",
       "stream": "stdout",
       "text": [
        "\n",
        "fund_statistics_PEXMX"
       ]
      },
      {
       "output_type": "stream",
       "stream": "stdout",
       "text": [
        "\n",
        "fund_statistics_PRISX"
       ]
      },
      {
       "output_type": "stream",
       "stream": "stdout",
       "text": [
        "\n",
        "fund_statistics_PAFRX"
       ]
      },
      {
       "output_type": "stream",
       "stream": "stdout",
       "text": [
        "\n",
        "fund_statistics_GTFBX"
       ]
      },
      {
       "output_type": "stream",
       "stream": "stdout",
       "text": [
        "\n",
        "fund_statistics_PAGLX"
       ]
      },
      {
       "output_type": "stream",
       "stream": "stdout",
       "text": [
        "\n",
        "fund_statistics_PAFGX"
       ]
      },
      {
       "output_type": "stream",
       "stream": "stdout",
       "text": [
        "\n",
        "fund_statistics_RPGIX"
       ]
      },
      {
       "output_type": "stream",
       "stream": "stdout",
       "text": [
        "\n",
        "fund_statistics_PAGEX"
       ]
      },
      {
       "output_type": "stream",
       "stream": "stdout",
       "text": [
        "\n",
        "fund_statistics_PRGSX"
       ]
      },
      {
       "output_type": "stream",
       "stream": "stdout",
       "text": [
        "\n",
        "fund_statistics_PRGTX"
       ]
      },
      {
       "output_type": "stream",
       "stream": "stdout",
       "text": [
        "\n",
        "fund_statistics_PRGMX"
       ]
      },
      {
       "output_type": "stream",
       "stream": "stdout",
       "text": [
        "\n",
        "fund_statistics_PRGIX"
       ]
      },
      {
       "output_type": "stream",
       "stream": "stdout",
       "text": [
        "\n",
        "fund_statistics_PRGFX"
       ]
      },
      {
       "output_type": "stream",
       "stream": "stdout",
       "text": [
        "\n",
        "fund_statistics_PRHSX"
       ]
      },
      {
       "output_type": "stream",
       "stream": "stdout",
       "text": [
        "\n",
        "fund_statistics_PRHYX"
       ]
      },
      {
       "output_type": "stream",
       "stream": "stdout",
       "text": [
        "\n",
        "fund_statistics_PRIPX"
       ]
      },
      {
       "output_type": "stream",
       "stream": "stdout",
       "text": [
        "\n",
        "fund_statistics_TRIAX"
       ]
      },
      {
       "output_type": "stream",
       "stream": "stdout",
       "text": [
        "\n",
        "fund_statistics_RPICX"
       ]
      },
      {
       "output_type": "stream",
       "stream": "stdout",
       "text": [
        "\n",
        "fund_statistics_TRXPX"
       ]
      },
      {
       "output_type": "stream",
       "stream": "stdout",
       "text": [
        "\n",
        "fund_statistics_TICPX"
       ]
      },
      {
       "output_type": "stream",
       "stream": "stdout",
       "text": [
        "\n",
        "fund_statistics_TREBX"
       ]
      },
      {
       "output_type": "stream",
       "stream": "stdout",
       "text": [
        "\n",
        "fund_statistics_IEMFX"
       ]
      },
      {
       "output_type": "stream",
       "stream": "stdout",
       "text": [
        "\n",
        "fund_statistics_RPIFX"
       ]
      },
      {
       "output_type": "stream",
       "stream": "stdout",
       "text": [
        "\n",
        "fund_statistics_TRGSX"
       ]
      },
      {
       "output_type": "stream",
       "stream": "stdout",
       "text": [
        "\n",
        "fund_statistics_RPIGX"
       ]
      },
      {
       "output_type": "stream",
       "stream": "stdout",
       "text": [
        "\n",
        "fund_statistics_RPGMX"
       ]
      },
      {
       "output_type": "stream",
       "stream": "stdout",
       "text": [
        "\n",
        "fund_statistics_PRIGX"
       ]
      },
      {
       "output_type": "stream",
       "stream": "stdout",
       "text": [
        "\n",
        "fund_statistics_TRHYX"
       ]
      },
      {
       "output_type": "stream",
       "stream": "stdout",
       "text": [
        "\n",
        "fund_statistics_RPIIX"
       ]
      },
      {
       "output_type": "stream",
       "stream": "stdout",
       "text": [
        "\n",
        "fund_statistics_TRCEX"
       ]
      },
      {
       "output_type": "stream",
       "stream": "stdout",
       "text": [
        "\n",
        "fund_statistics_PRFEX"
       ]
      },
      {
       "output_type": "stream",
       "stream": "stdout",
       "text": [
        "\n",
        "fund_statistics_TPLGX"
       ]
      },
      {
       "output_type": "stream",
       "stream": "stdout",
       "text": [
        "\n",
        "fund_statistics_TRLGX"
       ]
      },
      {
       "output_type": "stream",
       "stream": "stdout",
       "text": [
        "\n",
        "fund_statistics_TILCX"
       ]
      },
      {
       "output_type": "stream",
       "stream": "stdout",
       "text": [
        "\n",
        "fund_statistics_RPLCX"
       ]
      },
      {
       "output_type": "stream",
       "stream": "stdout",
       "text": [
        "\n",
        "fund_statistics_PMEGX"
       ]
      },
      {
       "output_type": "stream",
       "stream": "stdout",
       "text": [
        "\n",
        "fund_statistics_TRSSX"
       ]
      },
      {
       "output_type": "stream",
       "stream": "stdout",
       "text": [
        "\n",
        "fund_statistics_TRISX"
       ]
      },
      {
       "output_type": "stream",
       "stream": "stdout",
       "text": [
        "\n",
        "fund_statistics_RPIBX"
       ]
      },
      {
       "output_type": "stream",
       "stream": "stdout",
       "text": [
        "\n",
        "fund_statistics_PRIDX"
       ]
      },
      {
       "output_type": "stream",
       "stream": "stdout",
       "text": [
        "\n",
        "fund_statistics_PIEQX"
       ]
      },
      {
       "output_type": "stream",
       "stream": "stdout",
       "text": [
        "\n",
        "fund_statistics_PRITX"
       ]
      },
      {
       "output_type": "stream",
       "stream": "stdout",
       "text": [
        "\n",
        "fund_statistics_TRIGX"
       ]
      },
      {
       "output_type": "stream",
       "stream": "stdout",
       "text": [
        "\n",
        "fund_statistics_PRJPX"
       ]
      },
      {
       "output_type": "stream",
       "stream": "stdout",
       "text": [
        "\n",
        "fund_statistics_PRLAX"
       ]
      },
      {
       "output_type": "stream",
       "stream": "stdout",
       "text": [
        "\n",
        "fund_statistics_PRMDX"
       ]
      },
      {
       "output_type": "stream",
       "stream": "stdout",
       "text": [
        "\n",
        "fund_statistics_MDXBX"
       ]
      },
      {
       "output_type": "stream",
       "stream": "stdout",
       "text": [
        "\n",
        "fund_statistics_PRMTX"
       ]
      },
      {
       "output_type": "stream",
       "stream": "stdout",
       "text": [
        "\n",
        "fund_statistics_RPMGX"
       ]
      },
      {
       "output_type": "stream",
       "stream": "stdout",
       "text": [
        "\n",
        "fund_statistics_TRMCX"
       ]
      },
      {
       "output_type": "stream",
       "stream": "stdout",
       "text": [
        "\n",
        "fund_statistics_PRWAX"
       ]
      },
      {
       "output_type": "stream",
       "stream": "stdout",
       "text": [
        "\n",
        "fund_statistics_PRASX"
       ]
      },
      {
       "output_type": "stream",
       "stream": "stdout",
       "text": [
        "\n",
        "fund_statistics_PRNEX"
       ]
      },
      {
       "output_type": "stream",
       "stream": "stdout",
       "text": [
        "\n",
        "fund_statistics_PRNHX"
       ]
      },
      {
       "output_type": "stream",
       "stream": "stdout",
       "text": [
        "\n",
        "fund_statistics_PRCIX"
       ]
      },
      {
       "output_type": "stream",
       "stream": "stdout",
       "text": [
        "\n",
        "fund_statistics_NJTFX"
       ]
      },
      {
       "output_type": "stream",
       "stream": "stdout",
       "text": [
        "\n",
        "fund_statistics_PRNYX"
       ]
      },
      {
       "output_type": "stream",
       "stream": "stdout",
       "text": [
        "\n",
        "fund_statistics_TROSX"
       ]
      },
      {
       "output_type": "stream",
       "stream": "stdout",
       "text": [
        "\n",
        "fund_statistics_TRPBX"
       ]
      },
      {
       "output_type": "stream",
       "stream": "stdout",
       "text": [
        "\n",
        "fund_statistics_TRSGX"
       ]
      },
      {
       "output_type": "stream",
       "stream": "stdout",
       "text": [
        "\n",
        "fund_statistics_PRSIX"
       ]
      },
      {
       "output_type": "stream",
       "stream": "stdout",
       "text": [
        "\n",
        "fund_statistics_PRAFX"
       ]
      },
      {
       "output_type": "stream",
       "stream": "stdout",
       "text": [
        "\n",
        "fund_statistics_TRREX"
       ]
      },
      {
       "output_type": "stream",
       "stream": "stdout",
       "text": [
        "\n",
        "fund_statistics_TRRFX"
       ]
      },
      {
       "output_type": "stream",
       "stream": "stdout",
       "text": [
        "\n",
        "fund_statistics_TRRAX"
       ]
      },
      {
       "output_type": "stream",
       "stream": "stdout",
       "text": [
        "\n",
        "fund_statistics_TRRGX"
       ]
      },
      {
       "output_type": "stream",
       "stream": "stdout",
       "text": [
        "\n",
        "fund_statistics_TRRBX"
       ]
      },
      {
       "output_type": "stream",
       "stream": "stdout",
       "text": [
        "\n",
        "fund_statistics_TRRHX"
       ]
      },
      {
       "output_type": "stream",
       "stream": "stdout",
       "text": [
        "\n",
        "fund_statistics_TRRCX"
       ]
      },
      {
       "output_type": "stream",
       "stream": "stdout",
       "text": [
        "\n",
        "fund_statistics_TRRJX"
       ]
      },
      {
       "output_type": "stream",
       "stream": "stdout",
       "text": [
        "\n",
        "fund_statistics_TRRDX"
       ]
      },
      {
       "output_type": "stream",
       "stream": "stdout",
       "text": [
        "\n",
        "fund_statistics_TRRKX"
       ]
      },
      {
       "output_type": "stream",
       "stream": "stdout",
       "text": [
        "\n",
        "fund_statistics_PARFX"
       ]
      },
      {
       "output_type": "stream",
       "stream": "stdout",
       "text": [
        "\n",
        "fund_statistics_TRRNX"
       ]
      },
      {
       "output_type": "stream",
       "stream": "stdout",
       "text": [
        "\n",
        "fund_statistics_TRRYX"
       ]
      },
      {
       "output_type": "stream",
       "stream": "stdout",
       "text": [
        "\n",
        "fund_statistics_TRRIX"
       ]
      },
      {
       "output_type": "stream",
       "stream": "stdout",
       "text": [
        "\n",
        "fund_statistics_PRSCX"
       ]
      },
      {
       "output_type": "stream",
       "stream": "stdout",
       "text": [
        "\n",
        "fund_statistics_PRWBX"
       ]
      },
      {
       "output_type": "stream",
       "stream": "stdout",
       "text": [
        "\n",
        "fund_statistics_OTCFX"
       ]
      },
      {
       "output_type": "stream",
       "stream": "stdout",
       "text": [
        "\n",
        "fund_statistics_PRSVX"
       ]
      },
      {
       "output_type": "stream",
       "stream": "stdout",
       "text": [
        "\n",
        "fund_statistics_PRSGX"
       ]
      },
      {
       "output_type": "stream",
       "stream": "stdout",
       "text": [
        "\n",
        "fund_statistics_RPSIX"
       ]
      },
      {
       "output_type": "stream",
       "stream": "stdout",
       "text": [
        "\n",
        "fund_statistics_PSILX"
       ]
      },
      {
       "output_type": "stream",
       "stream": "stdout",
       "text": [
        "\n",
        "fund_statistics_PRSAX"
       ]
      },
      {
       "output_type": "stream",
       "stream": "stdout",
       "text": [
        "\n",
        "fund_statistics_PRINX"
       ]
      },
      {
       "output_type": "stream",
       "stream": "stdout",
       "text": [
        "\n",
        "fund_statistics_PRSMX"
       ]
      },
      {
       "output_type": "stream",
       "stream": "stdout",
       "text": [
        "\n",
        "fund_statistics_PANRX"
       ]
      },
      {
       "output_type": "stream",
       "stream": "stdout",
       "text": [
        "\n",
        "fund_statistics_PAERX"
       ]
      },
      {
       "output_type": "stream",
       "stream": "stdout",
       "text": [
        "\n",
        "fund_statistics_PAHRX"
       ]
      },
      {
       "output_type": "stream",
       "stream": "stdout",
       "text": [
        "\n",
        "fund_statistics_PAIRX"
       ]
      },
      {
       "output_type": "stream",
       "stream": "stdout",
       "text": [
        "\n",
        "fund_statistics_PAJRX"
       ]
      },
      {
       "output_type": "stream",
       "stream": "stdout",
       "text": [
        "\n",
        "fund_statistics_PAKRX"
       ]
      },
      {
       "output_type": "stream",
       "stream": "stdout",
       "text": [
        "\n",
        "fund_statistics_PATVX"
       ]
      },
      {
       "output_type": "stream",
       "stream": "stdout",
       "text": [
        "\n",
        "fund_statistics_PAHHX"
       ]
      },
      {
       "output_type": "stream",
       "stream": "stdout",
       "text": [
        "\n",
        "fund_statistics_PAFFX"
       ]
      },
      {
       "output_type": "stream",
       "stream": "stdout",
       "text": [
        "\n",
        "fund_statistics_PAOFX"
       ]
      },
      {
       "output_type": "stream",
       "stream": "stdout",
       "text": [
        "\n",
        "fund_statistics_PAFTX"
       ]
      },
      {
       "output_type": "stream",
       "stream": "stdout",
       "text": [
        "\n",
        "fund_statistics_TRTGX"
       ]
      },
      {
       "output_type": "stream",
       "stream": "stdout",
       "text": [
        "\n",
        "fund_statistics_PREFX"
       ]
      },
      {
       "output_type": "stream",
       "stream": "stdout",
       "text": [
        "\n",
        "fund_statistics_PRFHX"
       ]
      },
      {
       "output_type": "stream",
       "stream": "stdout",
       "text": [
        "\n",
        "fund_statistics_PRTAX"
       ]
      },
      {
       "output_type": "stream",
       "stream": "stdout",
       "text": [
        "\n",
        "fund_statistics_PRFSX"
       ]
      },
      {
       "output_type": "stream",
       "stream": "stdout",
       "text": [
        "\n",
        "fund_statistics_POMIX"
       ]
      },
      {
       "output_type": "stream",
       "stream": "stdout",
       "text": [
        "\n",
        "fund_statistics_PBDIX"
       ]
      },
      {
       "output_type": "stream",
       "stream": "stdout",
       "text": [
        "\n",
        "fund_statistics_TRBUX"
       ]
      },
      {
       "output_type": "stream",
       "stream": "stdout",
       "text": [
        "\n",
        "fund_statistics_PAULX"
       ]
      },
      {
       "output_type": "stream",
       "stream": "stdout",
       "text": [
        "\n",
        "fund_statistics_PRTIX"
       ]
      },
      {
       "output_type": "stream",
       "stream": "stdout",
       "text": [
        "\n",
        "fund_statistics_PRULX"
       ]
      },
      {
       "output_type": "stream",
       "stream": "stdout",
       "text": [
        "\n",
        "fund_statistics_PRVAX"
       ]
      },
      {
       "output_type": "stream",
       "stream": "stdout",
       "text": [
        "\n",
        "fund_statistics_TRVLX"
       ]
      },
      {
       "output_type": "stream",
       "stream": "stdout",
       "text": [
        "\n",
        "fund_statistics_JASAX"
       ]
      },
      {
       "output_type": "stream",
       "stream": "stdout",
       "text": [
        "\n",
        "fund_statistics_JAPFX"
       ]
      },
      {
       "output_type": "stream",
       "stream": "stdout",
       "text": [
        "\n",
        "fund_statistics_JPICX"
       ]
      },
      {
       "output_type": "stream",
       "stream": "stdout",
       "text": [
        "\n",
        "fund_statistics_JCHAX"
       ]
      },
      {
       "output_type": "stream",
       "stream": "stdout",
       "text": [
        "\n",
        "fund_statistics_CSAFX"
       ]
      },
      {
       "output_type": "stream",
       "stream": "stdout",
       "text": [
        "\n",
        "fund_statistics_WOBDX"
       ]
      },
      {
       "output_type": "stream",
       "stream": "stdout",
       "text": [
        "\n",
        "fund_statistics_ONIAX"
       ]
      },
      {
       "output_type": "stream",
       "stream": "stdout",
       "text": [
        "\n",
        "fund_statistics_CBRAX"
       ]
      },
      {
       "output_type": "stream",
       "stream": "stdout",
       "text": [
        "\n",
        "fund_statistics_JPCIX"
       ]
      },
      {
       "output_type": "stream",
       "stream": "stdout",
       "text": [
        "\n",
        "fund_statistics_JPIEX"
       ]
      },
      {
       "output_type": "stream",
       "stream": "stdout",
       "text": [
        "\n",
        "fund_statistics_JPDVX"
       ]
      },
      {
       "output_type": "stream",
       "stream": "stdout",
       "text": [
        "\n",
        "fund_statistics_JRNAX"
       ]
      },
      {
       "output_type": "stream",
       "stream": "stdout",
       "text": [
        "\n",
        "fund_statistics_DGAAX"
       ]
      },
      {
       "output_type": "stream",
       "stream": "stdout",
       "text": [
        "\n",
        "fund_statistics_VSCOX"
       ]
      },
      {
       "output_type": "stream",
       "stream": "stdout",
       "text": [
        "\n",
        "fund_statistics_JEEAX"
       ]
      },
      {
       "output_type": "stream",
       "stream": "stdout",
       "text": [
        "\n",
        "fund_statistics_JEMDX"
       ]
      },
      {
       "output_type": "stream",
       "stream": "stdout",
       "text": [
        "\n",
        "fund_statistics_JMIEX"
       ]
      },
      {
       "output_type": "stream",
       "stream": "stdout",
       "text": [
        "\n",
        "fund_statistics_JECAX"
       ]
      },
      {
       "output_type": "stream",
       "stream": "stdout",
       "text": [
        "\n",
        "fund_statistics_JPFAX"
       ]
      },
      {
       "output_type": "stream",
       "stream": "stdout",
       "text": [
        "\n",
        "fund_statistics_HLIEX"
       ]
      },
      {
       "output_type": "stream",
       "stream": "stdout",
       "text": [
        "\n",
        "fund_statistics_HLEIX"
       ]
      },
      {
       "output_type": "stream",
       "stream": "stdout",
       "text": [
        "\n",
        "fund_statistics_JPHAX"
       ]
      },
      {
       "output_type": "stream",
       "stream": "stdout",
       "text": [
        "\n",
        "fund_statistics_GAOAX"
       ]
      },
      {
       "output_type": "stream",
       "stream": "stdout",
       "text": [
        "\n",
        "fund_statistics_GBOAX"
       ]
      },
      {
       "output_type": "stream",
       "stream": "stdout",
       "text": [
        "\n",
        "fund_statistics_JEIAX"
       ]
      },
      {
       "output_type": "stream",
       "stream": "stdout",
       "text": [
        "\n",
        "fund_statistics_JGNAX"
       ]
      },
      {
       "output_type": "stream",
       "stream": "stdout",
       "text": [
        "\n",
        "fund_statistics_JEITX"
       ]
      },
      {
       "output_type": "stream",
       "stream": "stdout",
       "text": [
        "\n",
        "fund_statistics_HLGAX"
       ]
      },
      {
       "output_type": "stream",
       "stream": "stdout",
       "text": [
        "\n",
        "fund_statistics_VGRIX"
       ]
      },
      {
       "output_type": "stream",
       "stream": "stdout",
       "text": [
        "\n",
        "fund_statistics_VHIAX"
       ]
      },
      {
       "output_type": "stream",
       "stream": "stdout",
       "text": [
        "\n",
        "fund_statistics_OHYAX"
       ]
      },
      {
       "output_type": "stream",
       "stream": "stdout",
       "text": [
        "\n",
        "fund_statistics_JNBAX"
       ]
      },
      {
       "output_type": "stream",
       "stream": "stdout",
       "text": [
        "\n",
        "fund_statistics_JIMAX"
       ]
      },
      {
       "output_type": "stream",
       "stream": "stdout",
       "text": [
        "\n",
        "fund_statistics_VSITX"
       ]
      },
      {
       "output_type": "stream",
       "stream": "stdout",
       "text": [
        "\n",
        "fund_statistics_JCIAX"
       ]
      },
      {
       "output_type": "stream",
       "stream": "stdout",
       "text": [
        "\n",
        "fund_statistics_VSIEX"
       ]
      },
      {
       "output_type": "stream",
       "stream": "stdout",
       "text": [
        "\n",
        "fund_statistics_OIEAX"
       ]
      },
      {
       "output_type": "stream",
       "stream": "stdout",
       "text": [
        "\n",
        "fund_statistics_IUAEX"
       ]
      },
      {
       "output_type": "stream",
       "stream": "stdout",
       "text": [
        "\n",
        "fund_statistics_JNUSX"
       ]
      },
      {
       "output_type": "stream",
       "stream": "stdout",
       "text": [
        "\n",
        "fund_statistics_JPIOX"
       ]
      },
      {
       "output_type": "stream",
       "stream": "stdout",
       "text": [
        "\n",
        "fund_statistics_JIISX"
       ]
      },
      {
       "output_type": "stream",
       "stream": "stdout",
       "text": [
        "\n",
        "fund_statistics_JPIAX"
       ]
      },
      {
       "output_type": "stream",
       "stream": "stdout",
       "text": [
        "\n",
        "fund_statistics_VEUAX"
       ]
      },
      {
       "output_type": "stream",
       "stream": "stdout",
       "text": [
        "\n",
        "fund_statistics_JPGSX"
       ]
      },
      {
       "output_type": "stream",
       "stream": "stdout",
       "text": [
        "\n",
        "fund_statistics_JFTAX"
       ]
      },
      {
       "output_type": "stream",
       "stream": "stdout",
       "text": [
        "\n",
        "fund_statistics_WOOPX"
       ]
      },
      {
       "output_type": "stream",
       "stream": "stdout",
       "text": [
        "\n",
        "fund_statistics_JPIVX"
       ]
      },
      {
       "output_type": "stream",
       "stream": "stdout",
       "text": [
        "\n",
        "fund_statistics_OGIAX"
       ]
      },
      {
       "output_type": "stream",
       "stream": "stdout",
       "text": [
        "\n",
        "fund_statistics_OICAX"
       ]
      },
      {
       "output_type": "stream",
       "stream": "stdout",
       "text": [
        "\n",
        "fund_statistics_ONGIX"
       ]
      },
      {
       "output_type": "stream",
       "stream": "stdout",
       "text": [
        "\n",
        "fund_statistics_ONGAX"
       ]
      },
      {
       "output_type": "stream",
       "stream": "stdout",
       "text": [
        "\n",
        "fund_statistics_SEEGX"
       ]
      },
      {
       "output_type": "stream",
       "stream": "stdout",
       "text": [
        "\n",
        "fund_statistics_HLQVX"
       ]
      },
      {
       "output_type": "stream",
       "stream": "stdout",
       "text": [
        "\n",
        "fund_statistics_JLTAX"
       ]
      },
      {
       "output_type": "stream",
       "stream": "stdout",
       "text": [
        "\n",
        "fund_statistics_HLGFX"
       ]
      },
      {
       "output_type": "stream",
       "stream": "stdout",
       "text": [
        "\n",
        "fund_statistics_JMGIX"
       ]
      },
      {
       "output_type": "stream",
       "stream": "stdout",
       "text": [
        "\n",
        "fund_statistics_OMEAX"
       ]
      },
      {
       "output_type": "stream",
       "stream": "stdout",
       "text": [
        "\n",
        "fund_statistics_HSKAX"
       ]
      },
      {
       "output_type": "stream",
       "stream": "stdout",
       "text": [
        "\n",
        "fund_statistics_VSNGX"
       ]
      },
      {
       "output_type": "stream",
       "stream": "stdout",
       "text": [
        "\n",
        "fund_statistics_HLGEX"
       ]
      },
      {
       "output_type": "stream",
       "stream": "stdout",
       "text": [
        "\n",
        "fund_statistics_FLMVX"
       ]
      },
      {
       "output_type": "stream",
       "stream": "stdout",
       "text": [
        "\n",
        "fund_statistics_OMBAX"
       ]
      },
      {
       "output_type": "stream",
       "stream": "stdout",
       "text": [
        "\n",
        "fund_statistics_OGNAX"
       ]
      },
      {
       "output_type": "stream",
       "stream": "stdout",
       "text": [
        "\n",
        "fund_statistics_JSIAX"
       ]
      },
      {
       "output_type": "stream",
       "stream": "stdout",
       "text": [
        "\n",
        "fund_statistics_HLTAX"
       ]
      },
      {
       "output_type": "stream",
       "stream": "stdout",
       "text": [
        "\n",
        "fund_statistics_VINTX"
       ]
      },
      {
       "output_type": "stream",
       "stream": "stdout",
       "text": [
        "\n",
        "fund_statistics_HLOMX"
       ]
      },
      {
       "output_type": "stream",
       "stream": "stdout",
       "text": [
        "\n",
        "fund_statistics_RRNAX"
       ]
      },
      {
       "output_type": "stream",
       "stream": "stdout",
       "text": [
        "\n",
        "fund_statistics_URTLX"
       ]
      },
      {
       "output_type": "stream",
       "stream": "stdout",
       "text": [
        "\n",
        "fund_statistics_JLSAX"
       ]
      },
      {
       "output_type": "stream",
       "stream": "stdout",
       "text": [
        "\n",
        "fund_statistics_JPMNX"
       ]
      },
      {
       "output_type": "stream",
       "stream": "stdout",
       "text": [
        "\n",
        "fund_statistics_CEEAX"
       ]
      },
      {
       "output_type": "stream",
       "stream": "stdout",
       "text": [
        "\n",
        "fund_statistics_HLLVX"
       ]
      },
      {
       "output_type": "stream",
       "stream": "stdout",
       "text": [
        "\n",
        "fund_statistics_JSDHX"
       ]
      },
      {
       "output_type": "stream",
       "stream": "stdout",
       "text": [
        "\n",
        "fund_statistics_OSTAX"
       ]
      },
      {
       "output_type": "stream",
       "stream": "stdout",
       "text": [
        "\n",
        "fund_statistics_VSSCX"
       ]
      },
      {
       "output_type": "stream",
       "stream": "stdout",
       "text": [
        "\n",
        "fund_statistics_VSEAX"
       ]
      },
      {
       "output_type": "stream",
       "stream": "stdout",
       "text": [
        "\n",
        "fund_statistics_PGSGX"
       ]
      },
      {
       "output_type": "stream",
       "stream": "stdout",
       "text": [
        "\n",
        "fund_statistics_PSOAX"
       ]
      },
      {
       "output_type": "stream",
       "stream": "stdout",
       "text": [
        "\n",
        "fund_statistics_SAEAX"
       ]
      },
      {
       "output_type": "stream",
       "stream": "stdout",
       "text": [
        "\n",
        "fund_statistics_SAIAX"
       ]
      },
      {
       "output_type": "stream",
       "stream": "stdout",
       "text": [
        "\n",
        "fund_statistics_JSFAX"
       ]
      },
      {
       "output_type": "stream",
       "stream": "stdout",
       "text": [
        "\n",
        "fund_statistics_JTTAX"
       ]
      },
      {
       "output_type": "stream",
       "stream": "stdout",
       "text": [
        "\n",
        "fund_statistics_JNSAX"
       ]
      },
      {
       "output_type": "stream",
       "stream": "stdout",
       "text": [
        "\n",
        "fund_statistics_JSMAX"
       ]
      },
      {
       "output_type": "stream",
       "stream": "stdout",
       "text": [
        "\n",
        "fund_statistics_SRJAX"
       ]
      },
      {
       "output_type": "stream",
       "stream": "stdout",
       "text": [
        "\n",
        "fund_statistics_SMTAX"
       ]
      },
      {
       "output_type": "stream",
       "stream": "stdout",
       "text": [
        "\n",
        "fund_statistics_JSAAX"
       ]
      },
      {
       "output_type": "stream",
       "stream": "stdout",
       "text": [
        "\n",
        "fund_statistics_JTSAX"
       ]
      },
      {
       "output_type": "stream",
       "stream": "stdout",
       "text": [
        "\n",
        "fund_statistics_JFFAX"
       ]
      },
      {
       "output_type": "stream",
       "stream": "stdout",
       "text": [
        "\n",
        "fund_statistics_JSBWX"
       ]
      },
      {
       "output_type": "stream",
       "stream": "stdout",
       "text": [
        "\n",
        "fund_statistics_JBSRX"
       ]
      },
      {
       "output_type": "stream",
       "stream": "stdout",
       "text": [
        "\n",
        "fund_statistics_JBBSX"
       ]
      },
      {
       "output_type": "stream",
       "stream": "stdout",
       "text": [
        "\n",
        "fund_statistics_JRBBX"
       ]
      },
      {
       "output_type": "stream",
       "stream": "stdout",
       "text": [
        "\n",
        "fund_statistics_JPBRX"
       ]
      },
      {
       "output_type": "stream",
       "stream": "stdout",
       "text": [
        "\n",
        "fund_statistics_JOBBX"
       ]
      },
      {
       "output_type": "stream",
       "stream": "stdout",
       "text": [
        "\n",
        "fund_statistics_JMBRX"
       ]
      },
      {
       "output_type": "stream",
       "stream": "stdout",
       "text": [
        "\n",
        "fund_statistics_JNABX"
       ]
      },
      {
       "output_type": "stream",
       "stream": "stdout",
       "text": [
        "\n",
        "fund_statistics_JTBBX"
       ]
      },
      {
       "output_type": "stream",
       "stream": "stdout",
       "text": [
        "\n",
        "fund_statistics_JIBBX"
       ]
      },
      {
       "output_type": "stream",
       "stream": "stdout",
       "text": [
        "\n",
        "fund_statistics_JSRAX"
       ]
      },
      {
       "output_type": "stream",
       "stream": "stdout",
       "text": [
        "\n",
        "fund_statistics_JSOAX"
       ]
      },
      {
       "output_type": "stream",
       "stream": "stdout",
       "text": [
        "\n",
        "fund_statistics_JPDEX"
       ]
      },
      {
       "output_type": "stream",
       "stream": "stdout",
       "text": [
        "\n",
        "fund_statistics_JTIAX"
       ]
      },
      {
       "output_type": "stream",
       "stream": "stdout",
       "text": [
        "\n",
        "fund_statistics_JTAAX"
       ]
      },
      {
       "output_type": "stream",
       "stream": "stdout",
       "text": [
        "\n",
        "fund_statistics_TXRAX"
       ]
      },
      {
       "output_type": "stream",
       "stream": "stdout",
       "text": [
        "\n",
        "fund_statistics_JTARX"
       ]
      },
      {
       "output_type": "stream",
       "stream": "stdout",
       "text": [
        "\n",
        "fund_statistics_PMBAX"
       ]
      },
      {
       "output_type": "stream",
       "stream": "stdout",
       "text": [
        "\n",
        "fund_statistics_TMGGX"
       ]
      },
      {
       "output_type": "stream",
       "stream": "stdout",
       "text": [
        "\n",
        "fund_statistics_JMTAX"
       ]
      },
      {
       "output_type": "stream",
       "stream": "stdout",
       "text": [
        "\n",
        "fund_statistics_OTABX"
       ]
      },
      {
       "output_type": "stream",
       "stream": "stdout",
       "text": [
        "\n",
        "fund_statistics_JPSAX"
       ]
      },
      {
       "output_type": "stream",
       "stream": "stdout",
       "text": [
        "\n",
        "fund_statistics_JMUEX"
       ]
      },
      {
       "output_type": "stream",
       "stream": "stdout",
       "text": [
        "\n",
        "fund_statistics_JLCAX"
       ]
      },
      {
       "output_type": "stream",
       "stream": "stdout",
       "text": [
        "\n",
        "fund_statistics_JEPAX"
       ]
      },
      {
       "output_type": "stream",
       "stream": "stdout",
       "text": [
        "\n",
        "fund_statistics_JUSSX"
       ]
      },
      {
       "output_type": "stream",
       "stream": "stdout",
       "text": [
        "\n",
        "fund_statistics_JVAAX"
       ]
      },
      {
       "output_type": "stream",
       "stream": "stdout",
       "text": [
        "\n",
        "fund_statistics_UBVLX"
       ]
      },
      {
       "output_type": "stream",
       "stream": "stdout",
       "text": [
        "\n",
        "fund_statistics_FFIDX"
       ]
      },
      {
       "output_type": "stream",
       "stream": "stdout",
       "text": [
        "\n",
        "fund_statistics_FTAAX"
       ]
      },
      {
       "output_type": "stream",
       "stream": "stdout",
       "text": [
        "\n",
        "fund_statistics_FFNAX"
       ]
      },
      {
       "output_type": "stream",
       "stream": "stdout",
       "text": [
        "\n",
        "fund_statistics_FSAAX"
       ]
      },
      {
       "output_type": "stream",
       "stream": "stdout",
       "text": [
        "\n",
        "fund_statistics_FFAVX"
       ]
      },
      {
       "output_type": "stream",
       "stream": "stdout",
       "text": [
        "\n",
        "fund_statistics_FACFX"
       ]
      },
      {
       "output_type": "stream",
       "stream": "stdout",
       "text": [
        "\n",
        "fund_statistics_FFVAX"
       ]
      },
      {
       "output_type": "stream",
       "stream": "stdout",
       "text": [
        "\n",
        "fund_statistics_FDAFX"
       ]
      },
      {
       "output_type": "stream",
       "stream": "stdout",
       "text": [
        "\n",
        "fund_statistics_FATWX"
       ]
      },
      {
       "output_type": "stream",
       "stream": "stdout",
       "text": [
        "\n",
        "fund_statistics_FAFEX"
       ]
      },
      {
       "output_type": "stream",
       "stream": "stdout",
       "text": [
        "\n",
        "fund_statistics_FATHX"
       ]
      },
      {
       "output_type": "stream",
       "stream": "stdout",
       "text": [
        "\n",
        "fund_statistics_FAFFX"
       ]
      },
      {
       "output_type": "stream",
       "stream": "stdout",
       "text": [
        "\n",
        "fund_statistics_FFFZX"
       ]
      },
      {
       "output_type": "stream",
       "stream": "stdout",
       "text": [
        "\n",
        "fund_statistics_FFFLX"
       ]
      },
      {
       "output_type": "stream",
       "stream": "stdout",
       "text": [
        "\n",
        "fund_statistics_FHFAX"
       ]
      },
      {
       "output_type": "stream",
       "stream": "stdout",
       "text": [
        "\n",
        "fund_statistics_FAFAX"
       ]
      },
      {
       "output_type": "stream",
       "stream": "stdout",
       "text": [
        "\n",
        "fund_statistics_FRJAX"
       ]
      },
      {
       "output_type": "stream",
       "stream": "stdout",
       "text": [
        "\n",
        "fund_statistics_FRKAX"
       ]
      },
      {
       "output_type": "stream",
       "stream": "stdout",
       "text": [
        "\n",
        "fund_statistics_FILAX"
       ]
      },
      {
       "output_type": "stream",
       "stream": "stdout",
       "text": [
        "\n",
        "fund_statistics_FRAMX"
       ]
      },
      {
       "output_type": "stream",
       "stream": "stdout",
       "text": [
        "\n",
        "fund_statistics_FRNAX"
       ]
      },
      {
       "output_type": "stream",
       "stream": "stdout",
       "text": [
        "\n",
        "fund_statistics_FIOAX"
       ]
      },
      {
       "output_type": "stream",
       "stream": "stdout",
       "text": [
        "\n",
        "fund_statistics_FARPX"
       ]
      },
      {
       "output_type": "stream",
       "stream": "stdout",
       "text": [
        "\n",
        "fund_statistics_FRQAX"
       ]
      },
      {
       "output_type": "stream",
       "stream": "stdout",
       "text": [
        "\n",
        "fund_statistics_FIARX"
       ]
      },
      {
       "output_type": "stream",
       "stream": "stdout",
       "text": [
        "\n",
        "fund_statistics_FARSX"
       ]
      },
      {
       "output_type": "stream",
       "stream": "stdout",
       "text": [
        "\n",
        "fund_statistics_FURAX"
       ]
      },
      {
       "output_type": "stream",
       "stream": "stdout",
       "text": [
        "\n",
        "fund_statistics_FARVX"
       ]
      },
      {
       "output_type": "stream",
       "stream": "stdout",
       "text": [
        "\n",
        "fund_statistics_FARWX"
       ]
      },
      {
       "output_type": "stream",
       "stream": "stdout",
       "text": [
        "\n",
        "fund_statistics_FARFX"
       ]
      },
      {
       "output_type": "stream",
       "stream": "stdout",
       "text": [
        "\n",
        "fund_statistics_FAIGX"
       ]
      },
      {
       "output_type": "stream",
       "stream": "stdout",
       "text": [
        "\n",
        "fund_statistics_FBTAX"
       ]
      },
      {
       "output_type": "stream",
       "stream": "stdout",
       "text": [
        "\n",
        "fund_statistics_FDETX"
       ]
      },
      {
       "output_type": "stream",
       "stream": "stdout",
       "text": [
        "\n",
        "fund_statistics_FDMAX"
       ]
      },
      {
       "output_type": "stream",
       "stream": "stdout",
       "text": [
        "\n",
        "fund_statistics_FCNAX"
       ]
      },
      {
       "output_type": "stream",
       "stream": "stdout",
       "text": [
        "\n",
        "fund_statistics_FCBAX"
       ]
      },
      {
       "output_type": "stream",
       "stream": "stdout",
       "text": [
        "\n",
        "fund_statistics_FDVAX"
       ]
      },
      {
       "output_type": "stream",
       "stream": "stdout",
       "text": [
        "\n",
        "fund_statistics_FDESX"
       ]
      },
      {
       "output_type": "stream",
       "stream": "stdout",
       "text": [
        "\n",
        "fund_statistics_FADAX"
       ]
      },
      {
       "output_type": "stream",
       "stream": "stdout",
       "text": [
        "\n",
        "fund_statistics_FELAX"
       ]
      },
      {
       "output_type": "stream",
       "stream": "stdout",
       "text": [
        "\n",
        "fund_statistics_FMEAX"
       ]
      },
      {
       "output_type": "stream",
       "stream": "stdout",
       "text": [
        "\n",
        "fund_statistics_FEDAX"
       ]
      },
      {
       "output_type": "stream",
       "stream": "stdout",
       "text": [
        "\n",
        "fund_statistics_FEAAX"
       ]
      },
      {
       "output_type": "stream",
       "stream": "stdout",
       "text": [
        "\n",
        "fund_statistics_FAMKX"
       ]
      },
      {
       "output_type": "stream",
       "stream": "stdout",
       "text": [
        "\n",
        "fund_statistics_FAEMX"
       ]
      },
      {
       "output_type": "stream",
       "stream": "stdout",
       "text": [
        "\n",
        "fund_statistics_FAGNX"
       ]
      },
      {
       "output_type": "stream",
       "stream": "stdout",
       "text": [
        "\n",
        "fund_statistics_EQPGX"
       ]
      },
      {
       "output_type": "stream",
       "stream": "stdout",
       "text": [
        "\n",
        "fund_statistics_EQPIX"
       ]
      },
      {
       "output_type": "stream",
       "stream": "stdout",
       "text": [
        "\n",
        "fund_statistics_FAVAX"
       ]
      },
      {
       "output_type": "stream",
       "stream": "stdout",
       "text": [
        "\n",
        "fund_statistics_FCHSX"
       ]
      },
      {
       "output_type": "stream",
       "stream": "stdout",
       "text": [
        "\n",
        "fund_statistics_FAFDX"
       ]
      },
      {
       "output_type": "stream",
       "stream": "stdout",
       "text": [
        "\n",
        "fund_statistics_FFRAX"
       ]
      },
      {
       "output_type": "stream",
       "stream": "stdout",
       "text": [
        "\n",
        "fund_statistics_FGEAX"
       ]
      },
      {
       "output_type": "stream",
       "stream": "stdout",
       "text": [
        "\n",
        "fund_statistics_FGBZX"
       ]
      },
      {
       "output_type": "stream",
       "stream": "stdout",
       "text": [
        "\n",
        "fund_statistics_FFGAX"
       ]
      },
      {
       "output_type": "stream",
       "stream": "stdout",
       "text": [
        "\n",
        "fund_statistics_FBLYX"
       ]
      },
      {
       "output_type": "stream",
       "stream": "stdout",
       "text": [
        "\n",
        "fund_statistics_FGHAX"
       ]
      },
      {
       "output_type": "stream",
       "stream": "stdout",
       "text": [
        "\n",
        "fund_statistics_FDASX"
       ]
      },
      {
       "output_type": "stream",
       "stream": "stdout",
       "text": [
        "\n",
        "fund_statistics_FGIRX"
       ]
      },
      {
       "output_type": "stream",
       "stream": "stdout",
       "text": [
        "\n",
        "fund_statistics_FAGOX"
       ]
      },
      {
       "output_type": "stream",
       "stream": "stdout",
       "text": [
        "\n",
        "fund_statistics_FACDX"
       ]
      },
      {
       "output_type": "stream",
       "stream": "stdout",
       "text": [
        "\n",
        "fund_statistics_FHIAX"
       ]
      },
      {
       "output_type": "stream",
       "stream": "stdout",
       "text": [
        "\n",
        "fund_statistics_FAHDX"
       ]
      },
      {
       "output_type": "stream",
       "stream": "stdout",
       "text": [
        "\n",
        "fund_statistics_FCLAX"
       ]
      },
      {
       "output_type": "stream",
       "stream": "stdout",
       "text": [
        "\n",
        "fund_statistics_FINWX"
       ]
      },
      {
       "output_type": "stream",
       "stream": "stdout",
       "text": [
        "\n",
        "fund_statistics_FIAGX"
       ]
      },
      {
       "output_type": "stream",
       "stream": "stdout",
       "text": [
        "\n",
        "fund_statistics_FIVMX"
       ]
      },
      {
       "output_type": "stream",
       "stream": "stdout",
       "text": [
        "\n",
        "fund_statistics_FCPAX"
       ]
      },
      {
       "output_type": "stream",
       "stream": "stdout",
       "text": [
        "\n",
        "fund_statistics_FOPAX"
       ]
      },
      {
       "output_type": "stream",
       "stream": "stdout",
       "text": [
        "\n",
        "fund_statistics_FALHX"
       ]
      },
      {
       "output_type": "stream",
       "stream": "stdout",
       "text": [
        "\n",
        "fund_statistics_FLSAX"
       ]
      },
      {
       "output_type": "stream",
       "stream": "stdout",
       "text": [
        "\n",
        "fund_statistics_EFIPX"
       ]
      },
      {
       "output_type": "stream",
       "stream": "stdout",
       "text": [
        "\n",
        "fund_statistics_FGRTX"
       ]
      },
      {
       "output_type": "stream",
       "stream": "stdout",
       "text": [
        "\n",
        "fund_statistics_FIIAX"
       ]
      },
      {
       "output_type": "stream",
       "stream": "stdout",
       "text": [
        "\n",
        "fund_statistics_FAMPX"
       ]
      },
      {
       "output_type": "stream",
       "stream": "stdout",
       "text": [
        "\n",
        "fund_statistics_FAMMX"
       ]
      },
      {
       "output_type": "stream",
       "stream": "stdout",
       "text": [
        "\n",
        "fund_statistics_FAPAX"
       ]
      },
      {
       "output_type": "stream",
       "stream": "stdout",
       "text": [
        "\n",
        "fund_statistics_FOMAX"
       ]
      },
      {
       "output_type": "stream",
       "stream": "stdout",
       "text": [
        "\n",
        "fund_statistics_FSODX"
       ]
      },
      {
       "output_type": "stream",
       "stream": "stdout",
       "text": [
        "\n",
        "fund_statistics_FAHIX"
       ]
      },
      {
       "output_type": "stream",
       "stream": "stdout",
       "text": [
        "\n",
        "fund_statistics_FNIAX"
       ]
      },
      {
       "output_type": "stream",
       "stream": "stdout",
       "text": [
        "\n",
        "fund_statistics_FAERX"
       ]
      },
      {
       "output_type": "stream",
       "stream": "stdout",
       "text": [
        "\n",
        "fund_statistics_FHEAX"
       ]
      },
      {
       "output_type": "stream",
       "stream": "stdout",
       "text": [
        "\n",
        "fund_statistics_FLMLX"
       ]
      },
      {
       "output_type": "stream",
       "stream": "stdout",
       "text": [
        "\n",
        "fund_statistics_FAMGX"
       ]
      },
      {
       "output_type": "stream",
       "stream": "stdout",
       "text": [
        "\n",
        "fund_statistics_FMMLX"
       ]
      },
      {
       "output_type": "stream",
       "stream": "stdout",
       "text": [
        "\n",
        "fund_statistics_FMALX"
       ]
      },
      {
       "output_type": "stream",
       "stream": "stdout",
       "text": [
        "\n",
        "fund_statistics_FAOFX"
       ]
      },
      {
       "output_type": "stream",
       "stream": "stdout",
       "text": [
        "\n",
        "fund_statistics_FSSFX"
       ]
      },
      {
       "output_type": "stream",
       "stream": "stdout",
       "text": [
        "\n",
        "fund_statistics_FSBHX"
       ]
      },
      {
       "output_type": "stream",
       "stream": "stdout",
       "text": [
        "\n",
        "fund_statistics_FASFX"
       ]
      },
      {
       "output_type": "stream",
       "stream": "stdout",
       "text": [
        "\n",
        "fund_statistics_FSCDX"
       ]
      },
      {
       "output_type": "stream",
       "stream": "stdout",
       "text": [
        "\n",
        "fund_statistics_FCAGX"
       ]
      },
      {
       "output_type": "stream",
       "stream": "stdout",
       "text": [
        "\n",
        "fund_statistics_FCVAX"
       ]
      },
      {
       "output_type": "stream",
       "stream": "stdout",
       "text": [
        "\n",
        "fund_statistics_FMCBX"
       ]
      },
      {
       "output_type": "stream",
       "stream": "stdout",
       "text": [
        "\n",
        "fund_statistics_FASDX"
       ]
      },
      {
       "output_type": "stream",
       "stream": "stdout",
       "text": [
        "\n",
        "fund_statistics_FSINX"
       ]
      },
      {
       "output_type": "stream",
       "stream": "stdout",
       "text": [
        "\n",
        "fund_statistics_FSRAX"
       ]
      },
      {
       "output_type": "stream",
       "stream": "stdout",
       "text": [
        "\n",
        "fund_statistics_FADTX"
       ]
      },
      {
       "output_type": "stream",
       "stream": "stdout",
       "text": [
        "\n",
        "fund_statistics_FTEDX"
       ]
      },
      {
       "output_type": "stream",
       "stream": "stdout",
       "text": [
        "\n",
        "fund_statistics_FTAEX"
       ]
      },
      {
       "output_type": "stream",
       "stream": "stdout",
       "text": [
        "\n",
        "fund_statistics_FUGAX"
       ]
      },
      {
       "output_type": "stream",
       "stream": "stdout",
       "text": [
        "\n",
        "fund_statistics_FAVFX"
       ]
      },
      {
       "output_type": "stream",
       "stream": "stdout",
       "text": [
        "\n",
        "fund_statistics_FVLAX"
       ]
      },
      {
       "output_type": "stream",
       "stream": "stdout",
       "text": [
        "\n",
        "fund_statistics_FASPX"
       ]
      },
      {
       "output_type": "stream",
       "stream": "stdout",
       "text": [
        "\n",
        "fund_statistics_FASIX"
       ]
      },
      {
       "output_type": "stream",
       "stream": "stdout",
       "text": [
        "\n",
        "fund_statistics_FASMX"
       ]
      },
      {
       "output_type": "stream",
       "stream": "stdout",
       "text": [
        "\n",
        "fund_statistics_FASGX"
       ]
      },
      {
       "output_type": "stream",
       "stream": "stdout",
       "text": [
        "\n",
        "fund_statistics_FAMRX"
       ]
      },
      {
       "output_type": "stream",
       "stream": "stdout",
       "text": [
        "\n",
        "fund_statistics_FFKVX"
       ]
      },
      {
       "output_type": "stream",
       "stream": "stdout",
       "text": [
        "\n",
        "fund_statistics_FFKCX"
       ]
      },
      {
       "output_type": "stream",
       "stream": "stdout",
       "text": [
        "\n",
        "fund_statistics_FKVFX"
       ]
      },
      {
       "output_type": "stream",
       "stream": "stdout",
       "text": [
        "\n",
        "fund_statistics_FFKDX"
       ]
      },
      {
       "output_type": "stream",
       "stream": "stdout",
       "text": [
        "\n",
        "fund_statistics_FKTWX"
       ]
      },
      {
       "output_type": "stream",
       "stream": "stdout",
       "text": [
        "\n",
        "fund_statistics_FFKEX"
       ]
      },
      {
       "output_type": "stream",
       "stream": "stdout",
       "text": [
        "\n",
        "fund_statistics_FKTHX"
       ]
      },
      {
       "output_type": "stream",
       "stream": "stdout",
       "text": [
        "\n",
        "fund_statistics_FFKFX"
       ]
      },
      {
       "output_type": "stream",
       "stream": "stdout",
       "text": [
        "\n",
        "fund_statistics_FFKGX"
       ]
      },
      {
       "output_type": "stream",
       "stream": "stdout",
       "text": [
        "\n",
        "fund_statistics_FFKHX"
       ]
      },
      {
       "output_type": "stream",
       "stream": "stdout",
       "text": [
        "\n",
        "fund_statistics_FDENX"
       ]
      },
      {
       "output_type": "stream",
       "stream": "stdout",
       "text": [
        "\n",
        "fund_statistics_FFKAX"
       ]
      },
      {
       "output_type": "stream",
       "stream": "stdout",
       "text": [
        "\n",
        "fund_statistics_FFFVX"
       ]
      },
      {
       "output_type": "stream",
       "stream": "stdout",
       "text": [
        "\n",
        "fund_statistics_FFFCX"
       ]
      },
      {
       "output_type": "stream",
       "stream": "stdout",
       "text": [
        "\n",
        "fund_statistics_FFVFX"
       ]
      },
      {
       "output_type": "stream",
       "stream": "stdout",
       "text": [
        "\n",
        "fund_statistics_FFFDX"
       ]
      },
      {
       "output_type": "stream",
       "stream": "stdout",
       "text": [
        "\n",
        "fund_statistics_FFTWX"
       ]
      },
      {
       "output_type": "stream",
       "stream": "stdout",
       "text": [
        "\n",
        "fund_statistics_FFFEX"
       ]
      },
      {
       "output_type": "stream",
       "stream": "stdout",
       "text": [
        "\n",
        "fund_statistics_FFTHX"
       ]
      },
      {
       "output_type": "stream",
       "stream": "stdout",
       "text": [
        "\n",
        "fund_statistics_FFFFX"
       ]
      },
      {
       "output_type": "stream",
       "stream": "stdout",
       "text": [
        "\n",
        "fund_statistics_FFFGX"
       ]
      },
      {
       "output_type": "stream",
       "stream": "stdout",
       "text": [
        "\n",
        "fund_statistics_FFFHX"
       ]
      },
      {
       "output_type": "stream",
       "stream": "stdout",
       "text": [
        "\n",
        "fund_statistics_FDEEX"
       ]
      },
      {
       "output_type": "stream",
       "stream": "stdout",
       "text": [
        "\n",
        "fund_statistics_FFFAX"
       ]
      },
      {
       "output_type": "stream",
       "stream": "stdout",
       "text": [
        "\n",
        "fund_statistics_FJIFX"
       ]
      },
      {
       "output_type": "stream",
       "stream": "stdout",
       "text": [
        "\n",
        "fund_statistics_FKIFX"
       ]
      },
      {
       "output_type": "stream",
       "stream": "stdout",
       "text": [
        "\n",
        "fund_statistics_FLIFX"
       ]
      },
      {
       "output_type": "stream",
       "stream": "stdout",
       "text": [
        "\n",
        "fund_statistics_FPIFX"
       ]
      },
      {
       "output_type": "stream",
       "stream": "stdout",
       "text": [
        "\n",
        "fund_statistics_FQIFX"
       ]
      },
      {
       "output_type": "stream",
       "stream": "stdout",
       "text": [
        "\n",
        "fund_statistics_FXIFX"
       ]
      },
      {
       "output_type": "stream",
       "stream": "stdout",
       "text": [
        "\n",
        "fund_statistics_FIHFX"
       ]
      },
      {
       "output_type": "stream",
       "stream": "stdout",
       "text": [
        "\n",
        "fund_statistics_FBIFX"
       ]
      },
      {
       "output_type": "stream",
       "stream": "stdout",
       "text": [
        "\n",
        "fund_statistics_FIOFX"
       ]
      },
      {
       "output_type": "stream",
       "stream": "stdout",
       "text": [
        "\n",
        "fund_statistics_FIPFX"
       ]
      },
      {
       "output_type": "stream",
       "stream": "stdout",
       "text": [
        "\n",
        "fund_statistics_FDEWX"
       ]
      },
      {
       "output_type": "stream",
       "stream": "stdout",
       "text": [
        "\n",
        "fund_statistics_FIKFX"
       ]
      },
      {
       "output_type": "stream",
       "stream": "stdout",
       "text": [
        "\n",
        "fund_statistics_FUSEX"
       ]
      },
      {
       "output_type": "stream",
       "stream": "stdout",
       "text": [
        "\n",
        "fund_statistics_FPADX"
       ]
      },
      {
       "output_type": "stream",
       "stream": "stdout",
       "text": [
        "\n",
        "fund_statistics_FSEMX"
       ]
      },
      {
       "output_type": "stream",
       "stream": "stdout",
       "text": [
        "\n",
        "fund_statistics_FSGGX"
       ]
      },
      {
       "output_type": "stream",
       "stream": "stdout",
       "text": [
        "\n",
        "fund_statistics_FIPDX"
       ]
      },
      {
       "output_type": "stream",
       "stream": "stdout",
       "text": [
        "\n",
        "fund_statistics_FIBIX"
       ]
      },
      {
       "output_type": "stream",
       "stream": "stdout",
       "text": [
        "\n",
        "fund_statistics_FSIIX"
       ]
      },
      {
       "output_type": "stream",
       "stream": "stdout",
       "text": [
        "\n",
        "fund_statistics_FLBIX"
       ]
      },
      {
       "output_type": "stream",
       "stream": "stdout",
       "text": [
        "\n",
        "fund_statistics_FSMDX"
       ]
      },
      {
       "output_type": "stream",
       "stream": "stdout",
       "text": [
        "\n",
        "fund_statistics_FSRNX"
       ]
      },
      {
       "output_type": "stream",
       "stream": "stdout",
       "text": [
        "\n",
        "fund_statistics_FSBIX"
       ]
      },
      {
       "output_type": "stream",
       "stream": "stdout",
       "text": [
        "\n",
        "fund_statistics_FSSNX"
       ]
      },
      {
       "output_type": "stream",
       "stream": "stdout",
       "text": [
        "\n",
        "fund_statistics_FSTMX"
       ]
      },
      {
       "output_type": "stream",
       "stream": "stdout",
       "text": [
        "\n",
        "fund_statistics_FBIDX"
       ]
      },
      {
       "output_type": "stream",
       "stream": "stdout",
       "text": [
        "\n",
        "fund_statistics_FSAZX"
       ]
      },
      {
       "output_type": "stream",
       "stream": "stdout",
       "text": [
        "\n",
        "fund_statistics_FBALX"
       ]
      },
      {
       "output_type": "stream",
       "stream": "stdout",
       "text": [
        "\n",
        "fund_statistics_FBGRX"
       ]
      },
      {
       "output_type": "stream",
       "stream": "stdout",
       "text": [
        "\n",
        "fund_statistics_FBCVX"
       ]
      },
      {
       "output_type": "stream",
       "stream": "stdout",
       "text": [
        "\n",
        "fund_statistics_FCSTX"
       ]
      },
      {
       "output_type": "stream",
       "stream": "stdout",
       "text": [
        "\n",
        "fund_statistics_FCTFX"
       ]
      },
      {
       "output_type": "stream",
       "stream": "stdout",
       "text": [
        "\n",
        "fund_statistics_FICDX"
       ]
      },
      {
       "output_type": "stream",
       "stream": "stdout",
       "text": [
        "\n",
        "fund_statistics_FAGIX"
       ]
      },
      {
       "output_type": "stream",
       "stream": "stdout",
       "text": [
        "\n",
        "fund_statistics_FDCAX"
       ]
      },
      {
       "output_type": "stream",
       "stream": "stdout",
       "text": [
        "\n",
        "fund_statistics_FHKCX"
       ]
      },
      {
       "output_type": "stream",
       "stream": "stdout",
       "text": [
        "\n",
        "fund_statistics_FICNX"
       ]
      },
      {
       "output_type": "stream",
       "stream": "stdout",
       "text": [
        "\n",
        "fund_statistics_FMNDX"
       ]
      },
      {
       "output_type": "stream",
       "stream": "stdout",
       "text": [
        "\n",
        "fund_statistics_FCNVX"
       ]
      },
      {
       "output_type": "stream",
       "stream": "stdout",
       "text": [
        "\n",
        "fund_statistics_FCNTX"
       ]
      },
      {
       "output_type": "stream",
       "stream": "stdout",
       "text": [
        "\n",
        "fund_statistics_FCVSX"
       ]
      },
      {
       "output_type": "stream",
       "stream": "stdout",
       "text": [
        "\n",
        "fund_statistics_FDEQX"
       ]
      },
      {
       "output_type": "stream",
       "stream": "stdout",
       "text": [
        "\n",
        "fund_statistics_FDIVX"
       ]
      },
      {
       "output_type": "stream",
       "stream": "stdout",
       "text": [
        "\n",
        "fund_statistics_FDGFX"
       ]
      },
      {
       "output_type": "stream",
       "stream": "stdout",
       "text": [
        "\n",
        "fund_statistics_FSEAX"
       ]
      },
      {
       "output_type": "stream",
       "stream": "stdout",
       "text": [
        "\n",
        "fund_statistics_FEMKX"
       ]
      },
      {
       "output_type": "stream",
       "stream": "stdout",
       "text": [
        "\n",
        "fund_statistics_FEQTX"
       ]
      },
      {
       "output_type": "stream",
       "stream": "stdout",
       "text": [
        "\n",
        "fund_statistics_FEQIX"
       ]
      },
      {
       "output_type": "stream",
       "stream": "stdout",
       "text": [
        "\n",
        "fund_statistics_FIEUX"
       ]
      },
      {
       "output_type": "stream",
       "stream": "stdout",
       "text": [
        "\n",
        "fund_statistics_FARNX"
       ]
      },
      {
       "output_type": "stream",
       "stream": "stdout",
       "text": [
        "\n",
        "fund_statistics_FEXPX"
       ]
      },
      {
       "output_type": "stream",
       "stream": "stdout",
       "text": [
        "\n",
        "fund_statistics_FFTYX"
       ]
      },
      {
       "output_type": "stream",
       "stream": "stdout",
       "text": [
        "\n",
        "fund_statistics_FHIFX"
       ]
      },
      {
       "output_type": "stream",
       "stream": "stdout",
       "text": [
        "\n",
        "fund_statistics_FTQGX"
       ]
      },
      {
       "output_type": "stream",
       "stream": "stdout",
       "text": [
        "\n",
        "fund_statistics_FFNOX"
       ]
      },
      {
       "output_type": "stream",
       "stream": "stdout",
       "text": [
        "\n",
        "fund_statistics_FGBLX"
       ]
      },
      {
       "output_type": "stream",
       "stream": "stdout",
       "text": [
        "\n",
        "fund_statistics_FGILX"
       ]
      },
      {
       "output_type": "stream",
       "stream": "stdout",
       "text": [
        "\n",
        "fund_statistics_FGMNX"
       ]
      },
      {
       "output_type": "stream",
       "stream": "stdout",
       "text": [
        "\n",
        "fund_statistics_FGOVX"
       ]
      },
      {
       "output_type": "stream",
       "stream": "stdout",
       "text": [
        "\n",
        "fund_statistics_FGRIX"
       ]
      },
      {
       "output_type": "stream",
       "stream": "stdout",
       "text": [
        "\n",
        "fund_statistics_FDGRX"
       ]
      },
      {
       "output_type": "stream",
       "stream": "stdout",
       "text": [
        "\n",
        "fund_statistics_FDSVX"
       ]
      },
      {
       "output_type": "stream",
       "stream": "stdout",
       "text": [
        "\n",
        "fund_statistics_FDEGX"
       ]
      },
      {
       "output_type": "stream",
       "stream": "stdout",
       "text": [
        "\n",
        "fund_statistics_SPHIX"
       ]
      },
      {
       "output_type": "stream",
       "stream": "stdout",
       "text": [
        "\n",
        "fund_statistics_FDFFX"
       ]
      },
      {
       "output_type": "stream",
       "stream": "stdout",
       "text": [
        "\n",
        "fund_statistics_FINPX"
       ]
      },
      {
       "output_type": "stream",
       "stream": "stdout",
       "text": [
        "\n",
        "fund_statistics_FTHRX"
       ]
      },
      {
       "output_type": "stream",
       "stream": "stdout",
       "text": [
        "\n",
        "fund_statistics_FSTGX"
       ]
      },
      {
       "output_type": "stream",
       "stream": "stdout",
       "text": [
        "\n",
        "fund_statistics_FLTMX"
       ]
      },
      {
       "output_type": "stream",
       "stream": "stdout",
       "text": [
        "\n",
        "fund_statistics_FIVFX"
       ]
      },
      {
       "output_type": "stream",
       "stream": "stdout",
       "text": [
        "\n",
        "fund_statistics_FIGRX"
       ]
      },
      {
       "output_type": "stream",
       "stream": "stdout",
       "text": [
        "\n",
        "fund_statistics_FIENX"
       ]
      },
      {
       "output_type": "stream",
       "stream": "stdout",
       "text": [
        "\n",
        "fund_statistics_FIREX"
       ]
      },
      {
       "output_type": "stream",
       "stream": "stdout",
       "text": [
        "\n",
        "fund_statistics_FISMX"
       ]
      },
      {
       "output_type": "stream",
       "stream": "stdout",
       "text": [
        "\n",
        "fund_statistics_FBNDX"
       ]
      },
      {
       "output_type": "stream",
       "stream": "stdout",
       "text": [
        "\n",
        "fund_statistics_FJPNX"
       ]
      },
      {
       "output_type": "stream",
       "stream": "stdout",
       "text": [
        "\n",
        "fund_statistics_FJSCX"
       ]
      },
      {
       "output_type": "stream",
       "stream": "stdout",
       "text": [
        "\n",
        "fund_statistics_FLCEX"
       ]
      },
      {
       "output_type": "stream",
       "stream": "stdout",
       "text": [
        "\n",
        "fund_statistics_FLGEX"
       ]
      },
      {
       "output_type": "stream",
       "stream": "stdout",
       "text": [
        "\n",
        "fund_statistics_FLCSX"
       ]
      },
      {
       "output_type": "stream",
       "stream": "stdout",
       "text": [
        "\n",
        "fund_statistics_FLVEX"
       ]
      },
      {
       "output_type": "stream",
       "stream": "stdout",
       "text": [
        "\n",
        "fund_statistics_FLATX"
       ]
      },
      {
       "output_type": "stream",
       "stream": "stdout",
       "text": [
        "\n",
        "fund_statistics_FLVCX"
       ]
      },
      {
       "output_type": "stream",
       "stream": "stdout",
       "text": [
        "\n",
        "fund_statistics_FFXSX"
       ]
      },
      {
       "output_type": "stream",
       "stream": "stdout",
       "text": [
        "\n",
        "fund_statistics_FSTFX"
       ]
      },
      {
       "output_type": "stream",
       "stream": "stdout",
       "text": [
        "\n",
        "fund_statistics_FLPSX"
       ]
      },
      {
       "output_type": "stream",
       "stream": "stdout",
       "text": [
        "\n",
        "fund_statistics_FMAGX"
       ]
      },
      {
       "output_type": "stream",
       "stream": "stdout",
       "text": [
        "\n",
        "fund_statistics_SMDMX"
       ]
      },
      {
       "output_type": "stream",
       "stream": "stdout",
       "text": [
        "\n",
        "fund_statistics_FDMMX"
       ]
      },
      {
       "output_type": "stream",
       "stream": "stdout",
       "text": [
        "\n",
        "fund_statistics_FMHTX"
       ]
      },
      {
       "output_type": "stream",
       "stream": "stdout",
       "text": [
        "\n",
        "fund_statistics_FMEIX"
       ]
      },
      {
       "output_type": "stream",
       "stream": "stdout",
       "text": [
        "\n",
        "fund_statistics_FSMVX"
       ]
      },
      {
       "output_type": "stream",
       "stream": "stdout",
       "text": [
        "\n",
        "fund_statistics_FMCSX"
       ]
      },
      {
       "output_type": "stream",
       "stream": "stdout",
       "text": [
        "\n",
        "fund_statistics_FIMIX"
       ]
      },
      {
       "output_type": "stream",
       "stream": "stdout",
       "text": [
        "\n",
        "fund_statistics_FMSFX"
       ]
      },
      {
       "output_type": "stream",
       "stream": "stdout",
       "text": [
        "\n",
        "fund_statistics_FHIGX"
       ]
      },
      {
       "output_type": "stream",
       "stream": "stdout",
       "text": [
        "\n",
        "fund_statistics_FNCMX"
       ]
      },
      {
       "output_type": "stream",
       "stream": "stdout",
       "text": [
        "\n",
        "fund_statistics_FNJHX"
       ]
      },
      {
       "output_type": "stream",
       "stream": "stdout",
       "text": [
        "\n",
        "fund_statistics_FNMIX"
       ]
      },
      {
       "output_type": "stream",
       "stream": "stdout",
       "text": [
        "\n",
        "fund_statistics_FMILX"
       ]
      },
      {
       "output_type": "stream",
       "stream": "stdout",
       "text": [
        "\n",
        "fund_statistics_FTFMX"
       ]
      },
      {
       "output_type": "stream",
       "stream": "stdout",
       "text": [
        "\n",
        "fund_statistics_FNORX"
       ]
      },
      {
       "output_type": "stream",
       "stream": "stdout",
       "text": [
        "\n",
        "fund_statistics_FOHFX"
       ]
      },
      {
       "output_type": "stream",
       "stream": "stdout",
       "text": [
        "\n",
        "fund_statistics_FOCPX"
       ]
      },
      {
       "output_type": "stream",
       "stream": "stdout",
       "text": [
        "\n",
        "fund_statistics_FOSFX"
       ]
      },
      {
       "output_type": "stream",
       "stream": "stdout",
       "text": [
        "\n",
        "fund_statistics_FPBFX"
       ]
      },
      {
       "output_type": "stream",
       "stream": "stdout",
       "text": [
        "\n",
        "fund_statistics_FPXTX"
       ]
      },
      {
       "output_type": "stream",
       "stream": "stdout",
       "text": [
        "\n",
        "fund_statistics_FPURX"
       ]
      },
      {
       "output_type": "stream",
       "stream": "stdout",
       "text": [
        "\n",
        "fund_statistics_FRIFX"
       ]
      },
      {
       "output_type": "stream",
       "stream": "stdout",
       "text": [
        "\n",
        "fund_statistics_FRESX"
       ]
      },
      {
       "output_type": "stream",
       "stream": "stdout",
       "text": [
        "\n",
        "fund_statistics_FSAIX"
       ]
      },
      {
       "output_type": "stream",
       "stream": "stdout",
       "text": [
        "\n",
        "fund_statistics_FSAVX"
       ]
      },
      {
       "output_type": "stream",
       "stream": "stdout",
       "text": [
        "\n",
        "fund_statistics_FSRBX"
       ]
      },
      {
       "output_type": "stream",
       "stream": "stdout",
       "text": [
        "\n",
        "fund_statistics_FBIOX"
       ]
      },
      {
       "output_type": "stream",
       "stream": "stdout",
       "text": [
        "\n",
        "fund_statistics_FSLBX"
       ]
      },
      {
       "output_type": "stream",
       "stream": "stdout",
       "text": [
        "\n",
        "fund_statistics_FSCHX"
       ]
      },
      {
       "output_type": "stream",
       "stream": "stdout",
       "text": [
        "\n",
        "fund_statistics_FSDCX"
       ]
      },
      {
       "output_type": "stream",
       "stream": "stdout",
       "text": [
        "\n",
        "fund_statistics_FDCPX"
       ]
      },
      {
       "output_type": "stream",
       "stream": "stdout",
       "text": [
        "\n",
        "fund_statistics_FSHOX"
       ]
      },
      {
       "output_type": "stream",
       "stream": "stdout",
       "text": [
        "\n",
        "fund_statistics_FSCPX"
       ]
      },
      {
       "output_type": "stream",
       "stream": "stdout",
       "text": [
        "\n",
        "fund_statistics_FSVLX"
       ]
      },
      {
       "output_type": "stream",
       "stream": "stdout",
       "text": [
        "\n",
        "fund_statistics_FDFAX"
       ]
      },
      {
       "output_type": "stream",
       "stream": "stdout",
       "text": [
        "\n",
        "fund_statistics_FSDAX"
       ]
      },
      {
       "output_type": "stream",
       "stream": "stdout",
       "text": [
        "\n",
        "fund_statistics_FSELX"
       ]
      },
      {
       "output_type": "stream",
       "stream": "stdout",
       "text": [
        "\n",
        "fund_statistics_FSENX"
       ]
      },
      {
       "output_type": "stream",
       "stream": "stdout",
       "text": [
        "\n",
        "fund_statistics_FSESX"
       ]
      },
      {
       "output_type": "stream",
       "stream": "stdout",
       "text": [
        "\n",
        "fund_statistics_FSLEX"
       ]
      },
      {
       "output_type": "stream",
       "stream": "stdout",
       "text": [
        "\n",
        "fund_statistics_FIDSX"
       ]
      },
      {
       "output_type": "stream",
       "stream": "stdout",
       "text": [
        "\n",
        "fund_statistics_FSAGX"
       ]
      },
      {
       "output_type": "stream",
       "stream": "stdout",
       "text": [
        "\n",
        "fund_statistics_FSPHX"
       ]
      },
      {
       "output_type": "stream",
       "stream": "stdout",
       "text": [
        "\n",
        "fund_statistics_FSCGX"
       ]
      },
      {
       "output_type": "stream",
       "stream": "stdout",
       "text": [
        "\n",
        "fund_statistics_FCYIX"
       ]
      },
      {
       "output_type": "stream",
       "stream": "stdout",
       "text": [
        "\n",
        "fund_statistics_FSPCX"
       ]
      },
      {
       "output_type": "stream",
       "stream": "stdout",
       "text": [
        "\n",
        "fund_statistics_FBSOX"
       ]
      },
      {
       "output_type": "stream",
       "stream": "stdout",
       "text": [
        "\n",
        "fund_statistics_FDLSX"
       ]
      },
      {
       "output_type": "stream",
       "stream": "stdout",
       "text": [
        "\n",
        "fund_statistics_FSDPX"
       ]
      },
      {
       "output_type": "stream",
       "stream": "stdout",
       "text": [
        "\n",
        "fund_statistics_FSHCX"
       ]
      },
      {
       "output_type": "stream",
       "stream": "stdout",
       "text": [
        "\n",
        "fund_statistics_FSMEX"
       ]
      },
      {
       "output_type": "stream",
       "stream": "stdout",
       "text": [
        "\n",
        "fund_statistics_FBMPX"
       ]
      },
      {
       "output_type": "stream",
       "stream": "stdout",
       "text": [
        "\n",
        "fund_statistics_FSNGX"
       ]
      },
      {
       "output_type": "stream",
       "stream": "stdout",
       "text": [
        "\n",
        "fund_statistics_FNARX"
       ]
      },
      {
       "output_type": "stream",
       "stream": "stdout",
       "text": [
        "\n",
        "fund_statistics_FPHAX"
       ]
      },
      {
       "output_type": "stream",
       "stream": "stdout",
       "text": [
        "\n",
        "fund_statistics_FSRPX"
       ]
      },
      {
       "output_type": "stream",
       "stream": "stdout",
       "text": [
        "\n",
        "fund_statistics_FSCSX"
       ]
      },
      {
       "output_type": "stream",
       "stream": "stdout",
       "text": [
        "\n",
        "fund_statistics_FSPTX"
       ]
      },
      {
       "output_type": "stream",
       "stream": "stdout",
       "text": [
        "\n",
        "fund_statistics_FSTCX"
       ]
      },
      {
       "output_type": "stream",
       "stream": "stdout",
       "text": [
        "\n",
        "fund_statistics_FSRFX"
       ]
      },
      {
       "output_type": "stream",
       "stream": "stdout",
       "text": [
        "\n",
        "fund_statistics_FSUTX"
       ]
      },
      {
       "output_type": "stream",
       "stream": "stdout",
       "text": [
        "\n",
        "fund_statistics_FWRLX"
       ]
      },
      {
       "output_type": "stream",
       "stream": "stdout",
       "text": [
        "\n",
        "fund_statistics_FOHIX"
       ]
      },
      {
       "output_type": "stream",
       "stream": "stdout",
       "text": [
        "\n",
        "fund_statistics_FIOOX"
       ]
      },
      {
       "output_type": "stream",
       "stream": "stdout",
       "text": [
        "\n",
        "fund_statistics_FSAEX"
       ]
      },
      {
       "output_type": "stream",
       "stream": "stdout",
       "text": [
        "\n",
        "fund_statistics_FSBDX"
       ]
      },
      {
       "output_type": "stream",
       "stream": "stdout",
       "text": [
        "\n",
        "fund_statistics_FBMAX"
       ]
      },
      {
       "output_type": "stream",
       "stream": "stdout",
       "text": [
        "\n",
        "fund_statistics_FCSSX"
       ]
      },
      {
       "output_type": "stream",
       "stream": "stdout",
       "text": [
        "\n",
        "fund_statistics_FEMSX"
       ]
      },
      {
       "output_type": "stream",
       "stream": "stdout",
       "text": [
        "\n",
        "fund_statistics_FEDCX"
       ]
      },
      {
       "output_type": "stream",
       "stream": "stdout",
       "text": [
        "\n",
        "fund_statistics_FNKLX"
       ]
      },
      {
       "output_type": "stream",
       "stream": "stdout",
       "text": [
        "\n",
        "fund_statistics_FFHCX"
       ]
      },
      {
       "output_type": "stream",
       "stream": "stdout",
       "text": [
        "\n",
        "fund_statistics_FSGEX"
       ]
      },
      {
       "output_type": "stream",
       "stream": "stdout",
       "text": [
        "\n",
        "fund_statistics_FGLGX"
       ]
      },
      {
       "output_type": "stream",
       "stream": "stdout",
       "text": [
        "\n",
        "fund_statistics_FCGSX"
       ]
      },
      {
       "output_type": "stream",
       "stream": "stdout",
       "text": [
        "\n",
        "fund_statistics_FSHNX"
       ]
      },
      {
       "output_type": "stream",
       "stream": "stdout",
       "text": [
        "\n",
        "fund_statistics_FSIPX"
       ]
      },
      {
       "output_type": "stream",
       "stream": "stdout",
       "text": [
        "\n",
        "fund_statistics_FIGSX"
       ]
      },
      {
       "output_type": "stream",
       "stream": "stdout",
       "text": [
        "\n",
        "fund_statistics_FSTSX"
       ]
      },
      {
       "output_type": "stream",
       "stream": "stdout",
       "text": [
        "\n",
        "fund_statistics_FINVX"
       ]
      },
      {
       "output_type": "stream",
       "stream": "stdout",
       "text": [
        "\n",
        "fund_statistics_FGLLX"
       ]
      },
      {
       "output_type": "stream",
       "stream": "stdout",
       "text": [
        "\n",
        "fund_statistics_FSIGX"
       ]
      },
      {
       "output_type": "stream",
       "stream": "stdout",
       "text": [
        "\n",
        "fund_statistics_FVWSX"
       ]
      },
      {
       "output_type": "stream",
       "stream": "stdout",
       "text": [
        "\n",
        "fund_statistics_FREDX"
       ]
      },
      {
       "output_type": "stream",
       "stream": "stdout",
       "text": [
        "\n",
        "fund_statistics_FSREX"
       ]
      },
      {
       "output_type": "stream",
       "stream": "stdout",
       "text": [
        "\n",
        "fund_statistics_FJACX"
       ]
      },
      {
       "output_type": "stream",
       "stream": "stdout",
       "text": [
        "\n",
        "fund_statistics_FSOPX"
       ]
      },
      {
       "output_type": "stream",
       "stream": "stdout",
       "text": [
        "\n",
        "fund_statistics_FBLEX"
       ]
      },
      {
       "output_type": "stream",
       "stream": "stdout",
       "text": [
        "\n",
        "fund_statistics_FSHBX"
       ]
      },
      {
       "output_type": "stream",
       "stream": "stdout",
       "text": [
        "\n",
        "fund_statistics_FSCRX"
       ]
      },
      {
       "output_type": "stream",
       "stream": "stdout",
       "text": [
        "\n",
        "fund_statistics_FCPEX"
       ]
      },
      {
       "output_type": "stream",
       "stream": "stdout",
       "text": [
        "\n",
        "fund_statistics_FSLCX"
       ]
      },
      {
       "output_type": "stream",
       "stream": "stdout",
       "text": [
        "\n",
        "fund_statistics_FDSSX"
       ]
      },
      {
       "output_type": "stream",
       "stream": "stdout",
       "text": [
        "\n",
        "fund_statistics_FSLVX"
       ]
      },
      {
       "output_type": "stream",
       "stream": "stdout",
       "text": [
        "\n",
        "fund_statistics_FDSCX"
       ]
      },
      {
       "output_type": "stream",
       "stream": "stdout",
       "text": [
        "\n",
        "fund_statistics_FSICX"
       ]
      },
      {
       "output_type": "stream",
       "stream": "stdout",
       "text": [
        "\n",
        "fund_statistics_FTABX"
       ]
      },
      {
       "output_type": "stream",
       "stream": "stdout",
       "text": [
        "\n",
        "fund_statistics_FIUIX"
       ]
      },
      {
       "output_type": "stream",
       "stream": "stdout",
       "text": [
        "\n",
        "fund_statistics_FTBFX"
       ]
      },
      {
       "output_type": "stream",
       "stream": "stdout",
       "text": [
        "\n",
        "fund_statistics_FTRNX"
       ]
      },
      {
       "output_type": "stream",
       "stream": "stdout",
       "text": [
        "\n",
        "fund_statistics_FDVLX"
       ]
      },
      {
       "output_type": "stream",
       "stream": "stdout",
       "text": [
        "\n",
        "fund_statistics_FVDFX"
       ]
      },
      {
       "output_type": "stream",
       "stream": "stdout",
       "text": [
        "\n",
        "fund_statistics_FWWFX"
       ]
      },
      {
       "output_type": "stream",
       "stream": "stdout",
       "text": [
        "\n",
        "fund_statistics_FCSAX"
       ]
      },
      {
       "output_type": "stream",
       "stream": "stdout",
       "text": [
        "\n",
        "fund_statistics_FWHBX"
       ]
      },
      {
       "output_type": "stream",
       "stream": "stdout",
       "text": [
        "\n",
        "fund_statistics_FPCIX"
       ]
      },
      {
       "output_type": "stream",
       "stream": "stdout",
       "text": [
        "\n",
        "fund_statistics_FLAUX"
       ]
      },
      {
       "output_type": "stream",
       "stream": "stdout",
       "text": [
        "\n",
        "fund_statistics_FSAMX"
       ]
      },
      {
       "output_type": "stream",
       "stream": "stdout",
       "text": [
        "\n",
        "fund_statistics_FLILX"
       ]
      },
      {
       "output_type": "stream",
       "stream": "stdout",
       "text": [
        "\n",
        "fund_statistics_FSGFX"
       ]
      },
      {
       "output_type": "stream",
       "stream": "stdout",
       "text": [
        "\n",
        "fund_statistics_FMELX"
       ]
      },
      {
       "output_type": "stream",
       "stream": "stdout",
       "text": [
        "\n",
        "fund_statistics_FSADX"
       ]
      },
      {
       "output_type": "stream",
       "stream": "stdout",
       "text": [
        "\n",
        "fund_statistics_FPIOX"
       ]
      },
      {
       "output_type": "stream",
       "stream": "stdout",
       "text": [
        "\n",
        "fund_statistics_FILFX"
       ]
      },
      {
       "output_type": "stream",
       "stream": "stdout",
       "text": [
        "\n",
        "fund_statistics_FUSIX"
       ]
      },
      {
       "output_type": "stream",
       "stream": "stdout",
       "text": [
        "\n",
        "fund_statistics_FMJDX"
       ]
      },
      {
       "output_type": "stream",
       "stream": "stdout",
       "text": [
        "\n",
        "fund_statistics_FEHPX"
       ]
      },
      {
       "output_type": "stream",
       "stream": "stdout",
       "text": [
        "\n",
        "fund_statistics_FEMPX"
       ]
      },
      {
       "output_type": "stream",
       "stream": "stdout",
       "text": [
        "\n",
        "fund_statistics_FEJPX"
       ]
      },
      {
       "output_type": "stream",
       "stream": "stdout",
       "text": [
        "\n",
        "fund_statistics_FEKPX"
       ]
      },
      {
       "output_type": "stream",
       "stream": "stdout",
       "text": [
        "\n",
        "fund_statistics_FEDPX"
       ]
      },
      {
       "output_type": "stream",
       "stream": "stdout",
       "text": [
        "\n",
        "fund_statistics_FECPX"
       ]
      },
      {
       "output_type": "stream",
       "stream": "stdout",
       "text": [
        "\n",
        "fund_statistics_FENPX"
       ]
      },
      {
       "output_type": "stream",
       "stream": "stdout",
       "text": [
        "\n",
        "fund_statistics_FEWPX"
       ]
      },
      {
       "output_type": "stream",
       "stream": "stdout",
       "text": [
        "\n",
        "fund_statistics_FEZPX"
       ]
      },
      {
       "output_type": "stream",
       "stream": "stdout",
       "text": [
        "\n",
        "fund_statistics_FEYPX"
       ]
      },
      {
       "output_type": "stream",
       "stream": "stdout",
       "text": [
        "\n",
        "fund_statistics_FESPX"
       ]
      },
      {
       "output_type": "stream",
       "stream": "stdout",
       "text": [
        "\n",
        "fund_statistics_FEBPX"
       ]
      },
      {
       "output_type": "stream",
       "stream": "stdout",
       "text": [
        "\n",
        "fund_statistics_FAUDX"
       ]
      },
      {
       "output_type": "stream",
       "stream": "stdout",
       "text": [
        "\n",
        "fund_statistics_FNAPX"
       ]
      },
      {
       "output_type": "stream",
       "stream": "stdout",
       "text": [
        "\n",
        "fund_statistics_FSCFX"
       ]
      },
      {
       "output_type": "stream",
       "stream": "stdout",
       "text": [
        "\n",
        "fund_statistics_FVSAX"
       ]
      },
      {
       "output_type": "stream",
       "stream": "stdout",
       "text": [
        "\n",
        "fund_statistics_FKMOX"
       ]
      },
      {
       "output_type": "stream",
       "stream": "stdout",
       "text": [
        "\n",
        "fund_statistics_FISAX"
       ]
      },
      {
       "output_type": "stream",
       "stream": "stdout",
       "text": [
        "\n",
        "fund_statistics_FRALX"
       ]
      },
      {
       "output_type": "stream",
       "stream": "stdout",
       "text": [
        "\n",
        "fund_statistics_FRAVX"
       ]
      },
      {
       "output_type": "stream",
       "stream": "stdout",
       "text": [
        "\n",
        "fund_statistics_FTAZX"
       ]
      },
      {
       "output_type": "stream",
       "stream": "stdout",
       "text": [
        "\n",
        "fund_statistics_FRBSX"
       ]
      },
      {
       "output_type": "stream",
       "stream": "stdout",
       "text": [
        "\n",
        "fund_statistics_FBLAX"
       ]
      },
      {
       "output_type": "stream",
       "stream": "stdout",
       "text": [
        "\n",
        "fund_statistics_FBDIX"
       ]
      },
      {
       "output_type": "stream",
       "stream": "stdout",
       "text": [
        "\n",
        "fund_statistics_FCAMX"
       ]
      },
      {
       "output_type": "stream",
       "stream": "stdout",
       "text": [
        "\n",
        "fund_statistics_FRCIX"
       ]
      },
      {
       "output_type": "stream",
       "stream": "stdout",
       "text": [
        "\n",
        "fund_statistics_FKCIX"
       ]
      },
      {
       "output_type": "stream",
       "stream": "stdout",
       "text": [
        "\n",
        "fund_statistics_FKTFX"
       ]
      },
      {
       "output_type": "stream",
       "stream": "stdout",
       "text": [
        "\n",
        "fund_statistics_FRCOX"
       ]
      },
      {
       "output_type": "stream",
       "stream": "stdout",
       "text": [
        "\n",
        "fund_statistics_FTCIX"
       ]
      },
      {
       "output_type": "stream",
       "stream": "stdout",
       "text": [
        "\n",
        "fund_statistics_FISCX"
       ]
      },
      {
       "output_type": "stream",
       "stream": "stdout",
       "text": [
        "\n",
        "fund_statistics_FTCOX"
       ]
      },
      {
       "output_type": "stream",
       "stream": "stdout",
       "text": [
        "\n",
        "fund_statistics_FXCTX"
       ]
      },
      {
       "output_type": "stream",
       "stream": "stdout",
       "text": [
        "\n",
        "fund_statistics_FPRTX"
       ]
      },
      {
       "output_type": "stream",
       "stream": "stdout",
       "text": [
        "\n",
        "fund_statistics_FKDNX"
       ]
      },
      {
       "output_type": "stream",
       "stream": "stdout",
       "text": [
        "\n",
        "fund_statistics_FEMDX"
       ]
      },
      {
       "output_type": "stream",
       "stream": "stdout",
       "text": [
        "\n",
        "fund_statistics_FISEX"
       ]
      },
      {
       "output_type": "stream",
       "stream": "stdout",
       "text": [
        "\n",
        "fund_statistics_FKITX"
       ]
      },
      {
       "output_type": "stream",
       "stream": "stdout",
       "text": [
        "\n",
        "fund_statistics_FFTFX"
       ]
      },
      {
       "output_type": "stream",
       "stream": "stdout",
       "text": [
        "\n",
        "fund_statistics_FKTIX"
       ]
      },
      {
       "output_type": "stream",
       "stream": "stdout",
       "text": [
        "\n",
        "fund_statistics_FRFLX"
       ]
      },
      {
       "output_type": "stream",
       "stream": "stdout",
       "text": [
        "\n",
        "fund_statistics_FKCGX"
       ]
      },
      {
       "output_type": "stream",
       "stream": "stdout",
       "text": [
        "\n",
        "fund_statistics_FAFRX"
       ]
      },
      {
       "output_type": "stream",
       "stream": "stdout",
       "text": [
        "\n",
        "fund_statistics_FCEQX"
       ]
      },
      {
       "output_type": "stream",
       "stream": "stdout",
       "text": [
        "\n",
        "fund_statistics_FFALX"
       ]
      },
      {
       "output_type": "stream",
       "stream": "stdout",
       "text": [
        "\n",
        "fund_statistics_FTGAX"
       ]
      },
      {
       "output_type": "stream",
       "stream": "stdout",
       "text": [
        "\n",
        "fund_statistics_FGAAX"
       ]
      },
      {
       "output_type": "stream",
       "stream": "stdout",
       "text": [
        "\n",
        "fund_statistics_FGGAX"
       ]
      },
      {
       "output_type": "stream",
       "stream": "stdout",
       "text": [
        "\n",
        "fund_statistics_FLGIX"
       ]
      },
      {
       "output_type": "stream",
       "stream": "stdout",
       "text": [
        "\n",
        "fund_statistics_FGRRX"
       ]
      },
      {
       "output_type": "stream",
       "stream": "stdout",
       "text": [
        "\n",
        "fund_statistics_FKRCX"
       ]
      },
      {
       "output_type": "stream",
       "stream": "stdout",
       "text": [
        "\n",
        "fund_statistics_FKGRX"
       ]
      },
      {
       "output_type": "stream",
       "stream": "stdout",
       "text": [
        "\n",
        "fund_statistics_FGTIX"
       ]
      },
      {
       "output_type": "stream",
       "stream": "stdout",
       "text": [
        "\n",
        "fund_statistics_FGRAX"
       ]
      },
      {
       "output_type": "stream",
       "stream": "stdout",
       "text": [
        "\n",
        "fund_statistics_FHAIX"
       ]
      },
      {
       "output_type": "stream",
       "stream": "stdout",
       "text": [
        "\n",
        "fund_statistics_FRHIX"
       ]
      },
      {
       "output_type": "stream",
       "stream": "stdout",
       "text": [
        "\n",
        "fund_statistics_FKINX"
       ]
      },
      {
       "output_type": "stream",
       "stream": "stdout",
       "text": [
        "\n",
        "fund_statistics_FINGX"
       ]
      },
      {
       "output_type": "stream",
       "stream": "stdout",
       "text": [
        "\n",
        "fund_statistics_FTFIX"
       ]
      },
      {
       "output_type": "stream",
       "stream": "stdout",
       "text": [
        "\n",
        "fund_statistics_FNGAX"
       ]
      },
      {
       "output_type": "stream",
       "stream": "stdout",
       "text": [
        "\n",
        "fund_statistics_FKSCX"
       ]
      },
      {
       "output_type": "stream",
       "stream": "stdout",
       "text": [
        "\n",
        "fund_statistics_FAAAX"
       ]
      },
      {
       "output_type": "stream",
       "stream": "stdout",
       "text": [
        "\n",
        "fund_statistics_FRKYX"
       ]
      },
      {
       "output_type": "stream",
       "stream": "stdout",
       "text": [
        "\n",
        "fund_statistics_FKLAX"
       ]
      },
      {
       "output_type": "stream",
       "stream": "stdout",
       "text": [
        "\n",
        "fund_statistics_FLCIX"
       ]
      },
      {
       "output_type": "stream",
       "stream": "stdout",
       "text": [
        "\n",
        "fund_statistics_FLVAX"
       ]
      },
      {
       "output_type": "stream",
       "stream": "stdout",
       "text": [
        "\n",
        "fund_statistics_FTRAX"
       ]
      },
      {
       "output_type": "stream",
       "stream": "stdout",
       "text": [
        "\n",
        "fund_statistics_FTRTX"
       ]
      },
      {
       "output_type": "stream",
       "stream": "stdout",
       "text": [
        "\n",
        "fund_statistics_FRTAX"
       ]
      },
      {
       "output_type": "stream",
       "stream": "stdout",
       "text": [
        "\n",
        "fund_statistics_FTTAX"
       ]
      },
      {
       "output_type": "stream",
       "stream": "stdout",
       "text": [
        "\n",
        "fund_statistics_FLDAX"
       ]
      },
      {
       "output_type": "stream",
       "stream": "stdout",
       "text": [
        "\n",
        "fund_statistics_FMISX"
       ]
      },
      {
       "output_type": "stream",
       "stream": "stdout",
       "text": [
        "\n",
        "fund_statistics_FMDTX"
       ]
      },
      {
       "output_type": "stream",
       "stream": "stdout",
       "text": [
        "\n",
        "fund_statistics_FTTMX"
       ]
      },
      {
       "output_type": "stream",
       "stream": "stdout",
       "text": [
        "\n",
        "fund_statistics_FRMCX"
       ]
      },
      {
       "output_type": "stream",
       "stream": "stdout",
       "text": [
        "\n",
        "fund_statistics_FMVAX"
       ]
      },
      {
       "output_type": "stream",
       "stream": "stdout",
       "text": [
        "\n",
        "fund_statistics_FMINX"
       ]
      },
      {
       "output_type": "stream",
       "stream": "stdout",
       "text": [
        "\n",
        "fund_statistics_FRMOX"
       ]
      },
      {
       "output_type": "stream",
       "stream": "stdout",
       "text": [
        "\n",
        "fund_statistics_FMTIX"
       ]
      },
      {
       "output_type": "stream",
       "stream": "stdout",
       "text": [
        "\n",
        "fund_statistics_FTMAX"
       ]
      },
      {
       "output_type": "stream",
       "stream": "stdout",
       "text": [
        "\n",
        "fund_statistics_BEGRX"
       ]
      },
      {
       "output_type": "stream",
       "stream": "stdout",
       "text": [
        "\n",
        "fund_statistics_MEURX"
       ]
      },
      {
       "output_type": "stream",
       "stream": "stdout",
       "text": [
        "\n",
        "fund_statistics_TFSIX"
       ]
      },
      {
       "output_type": "stream",
       "stream": "stdout",
       "text": [
        "\n",
        "fund_statistics_MDISX"
       ]
      },
      {
       "output_type": "stream",
       "stream": "stdout",
       "text": [
        "\n",
        "fund_statistics_FMIAX"
       ]
      },
      {
       "output_type": "stream",
       "stream": "stdout",
       "text": [
        "\n",
        "fund_statistics_MQIFX"
       ]
      },
      {
       "output_type": "stream",
       "stream": "stdout",
       "text": [
        "\n",
        "fund_statistics_MUTHX"
       ]
      },
      {
       "output_type": "stream",
       "stream": "stdout",
       "text": [
        "\n",
        "fund_statistics_FRNRX"
       ]
      },
      {
       "output_type": "stream",
       "stream": "stdout",
       "text": [
        "\n",
        "fund_statistics_FXNCX"
       ]
      },
      {
       "output_type": "stream",
       "stream": "stdout",
       "text": [
        "\n",
        "fund_statistics_FRNJX"
       ]
      },
      {
       "output_type": "stream",
       "stream": "stdout",
       "text": [
        "\n",
        "fund_statistics_FKNIX"
       ]
      },
      {
       "output_type": "stream",
       "stream": "stdout",
       "text": [
        "\n",
        "fund_statistics_FNYTX"
       ]
      },
      {
       "output_type": "stream",
       "stream": "stdout",
       "text": [
        "\n",
        "fund_statistics_FTOIX"
       ]
      },
      {
       "output_type": "stream",
       "stream": "stdout",
       "text": [
        "\n",
        "fund_statistics_FRORX"
       ]
      },
      {
       "output_type": "stream",
       "stream": "stdout",
       "text": [
        "\n",
        "fund_statistics_FRPAX"
       ]
      },
      {
       "output_type": "stream",
       "stream": "stdout",
       "text": [
        "\n",
        "fund_statistics_FREEX"
       ]
      },
      {
       "output_type": "stream",
       "stream": "stdout",
       "text": [
        "\n",
        "fund_statistics_FRRAX"
       ]
      },
      {
       "output_type": "stream",
       "stream": "stdout",
       "text": [
        "\n",
        "fund_statistics_FRDPX"
       ]
      },
      {
       "output_type": "stream",
       "stream": "stdout",
       "text": [
        "\n",
        "fund_statistics_FSGRX"
       ]
      },
      {
       "output_type": "stream",
       "stream": "stdout",
       "text": [
        "\n",
        "fund_statistics_FRVLX"
       ]
      },
      {
       "output_type": "stream",
       "stream": "stdout",
       "text": [
        "\n",
        "fund_statistics_FRSGX"
       ]
      },
      {
       "output_type": "stream",
       "stream": "stdout",
       "text": [
        "\n",
        "fund_statistics_FRSTX"
       ]
      },
      {
       "output_type": "stream",
       "stream": "stdout",
       "text": [
        "\n",
        "fund_statistics_FSMIX"
       ]
      },
      {
       "output_type": "stream",
       "stream": "stdout",
       "text": [
        "\n",
        "fund_statistics_FRTIX"
       ]
      },
      {
       "output_type": "stream",
       "stream": "stdout",
       "text": [
        "\n",
        "fund_statistics_FKBAX"
       ]
      },
      {
       "output_type": "stream",
       "stream": "stdout",
       "text": [
        "\n",
        "fund_statistics_FKUSX"
       ]
      },
      {
       "output_type": "stream",
       "stream": "stdout",
       "text": [
        "\n",
        "fund_statistics_FKUTX"
       ]
      },
      {
       "output_type": "stream",
       "stream": "stdout",
       "text": [
        "\n",
        "fund_statistics_FRVAX"
       ]
      },
      {
       "output_type": "stream",
       "stream": "stdout",
       "text": [
        "\n",
        "fund_statistics_FWPAX"
       ]
      },
      {
       "output_type": "stream",
       "stream": "stdout",
       "text": [
        "\n",
        "fund_statistics_TABRX"
       ]
      },
      {
       "output_type": "stream",
       "stream": "stdout",
       "text": [
        "\n",
        "fund_statistics_TCWAX"
       ]
      },
      {
       "output_type": "stream",
       "stream": "stdout",
       "text": [
        "\n",
        "fund_statistics_TEDMX"
       ]
      },
      {
       "output_type": "stream",
       "stream": "stdout",
       "text": [
        "\n",
        "fund_statistics_TAEMX"
       ]
      },
      {
       "output_type": "stream",
       "stream": "stdout",
       "text": [
        "\n",
        "fund_statistics_FEMGX"
       ]
      },
      {
       "output_type": "stream",
       "stream": "stdout",
       "text": [
        "\n",
        "fund_statistics_TEMMX"
       ]
      },
      {
       "output_type": "stream",
       "stream": "stdout",
       "text": [
        "\n",
        "fund_statistics_TEMFX"
       ]
      },
      {
       "output_type": "stream",
       "stream": "stdout",
       "text": [
        "\n",
        "fund_statistics_FINEX"
       ]
      },
      {
       "output_type": "stream",
       "stream": "stdout",
       "text": [
        "\n",
        "fund_statistics_TFMAX"
       ]
      },
      {
       "output_type": "stream",
       "stream": "stdout",
       "text": [
        "\n",
        "fund_statistics_TINCX"
       ]
      },
      {
       "output_type": "stream",
       "stream": "stdout",
       "text": [
        "\n",
        "fund_statistics_TPINX"
       ]
      },
      {
       "output_type": "stream",
       "stream": "stdout",
       "text": [
        "\n",
        "fund_statistics_TEGOX"
       ]
      },
      {
       "output_type": "stream",
       "stream": "stdout",
       "text": [
        "\n",
        "fund_statistics_TEMGX"
       ]
      },
      {
       "output_type": "stream",
       "stream": "stdout",
       "text": [
        "\n",
        "fund_statistics_TGTRX"
       ]
      },
      {
       "output_type": "stream",
       "stream": "stdout",
       "text": [
        "\n",
        "fund_statistics_TEPLX"
       ]
      },
      {
       "output_type": "stream",
       "stream": "stdout",
       "text": [
        "\n",
        "fund_statistics_ICPHX"
       ]
      },
      {
       "output_type": "stream",
       "stream": "stdout",
       "text": [
        "\n",
        "fund_statistics_TFSCX"
       ]
      },
      {
       "output_type": "stream",
       "stream": "stdout",
       "text": [
        "\n",
        "fund_statistics_TGESX"
       ]
      },
      {
       "output_type": "stream",
       "stream": "stdout",
       "text": [
        "\n",
        "fund_statistics_TEEMX"
       ]
      },
      {
       "output_type": "stream",
       "stream": "stdout",
       "text": [
        "\n",
        "fund_statistics_TFEQX"
       ]
      },
      {
       "output_type": "stream",
       "stream": "stdout",
       "text": [
        "\n",
        "fund_statistics_TBOAX"
       ]
      },
      {
       "output_type": "stream",
       "stream": "stdout",
       "text": [
        "\n",
        "fund_statistics_TEMWX"
       ]
      },
      {
       "output_type": "stream",
       "stream": "stdout",
       "text": [
        "\n",
        "fund_statistics_BDOIX"
       ]
      },
      {
       "output_type": "stream",
       "stream": "stdout",
       "text": [
        "\n",
        "fund_statistics_BAAPX"
       ]
      },
      {
       "output_type": "stream",
       "stream": "stdout",
       "text": [
        "\n",
        "fund_statistics_BACAX"
       ]
      },
      {
       "output_type": "stream",
       "stream": "stdout",
       "text": [
        "\n",
        "fund_statistics_BRACX"
       ]
      },
      {
       "output_type": "stream",
       "stream": "stdout",
       "text": [
        "\n",
        "fund_statistics_BRAMX"
       ]
      },
      {
       "output_type": "stream",
       "stream": "stdout",
       "text": [
        "\n",
        "fund_statistics_BATPX"
       ]
      },
      {
       "output_type": "stream",
       "stream": "stdout",
       "text": [
        "\n",
        "fund_statistics_BRASX"
       ]
      },
      {
       "output_type": "stream",
       "stream": "stdout",
       "text": [
        "\n",
        "fund_statistics_MACPX"
       ]
      },
      {
       "output_type": "stream",
       "stream": "stdout",
       "text": [
        "\n",
        "fund_statistics_MABAX"
       ]
      },
      {
       "output_type": "stream",
       "stream": "stdout",
       "text": [
        "\n",
        "fund_statistics_WFBIX"
       ]
      },
      {
       "output_type": "stream",
       "stream": "stdout",
       "text": [
        "\n",
        "fund_statistics_MBCMX"
       ]
      },
      {
       "output_type": "stream",
       "stream": "stdout",
       "text": [
        "\n",
        "fund_statistics_MDFGX"
       ]
      },
      {
       "output_type": "stream",
       "stream": "stdout",
       "text": [
        "\n",
        "fund_statistics_BCSAX"
       ]
      },
      {
       "output_type": "stream",
       "stream": "stdout",
       "text": [
        "\n",
        "fund_statistics_BACPX"
       ]
      },
      {
       "output_type": "stream",
       "stream": "stdout",
       "text": [
        "\n",
        "fund_statistics_BFMCX"
       ]
      },
      {
       "output_type": "stream",
       "stream": "stdout",
       "text": [
        "\n",
        "fund_statistics_BCRIX"
       ]
      },
      {
       "output_type": "stream",
       "stream": "stdout",
       "text": [
        "\n",
        "fund_statistics_BDSAX"
       ]
      },
      {
       "output_type": "stream",
       "stream": "stdout",
       "text": [
        "\n",
        "fund_statistics_BAEDX"
       ]
      },
      {
       "output_type": "stream",
       "stream": "stdout",
       "text": [
        "\n",
        "fund_statistics_BEEAX"
       ]
      },
      {
       "output_type": "stream",
       "stream": "stdout",
       "text": [
        "\n",
        "fund_statistics_BACHX"
       ]
      },
      {
       "output_type": "stream",
       "stream": "stdout",
       "text": [
        "\n",
        "fund_statistics_BLSAX"
       ]
      },
      {
       "output_type": "stream",
       "stream": "stdout",
       "text": [
        "\n",
        "fund_statistics_MADCX"
       ]
      },
      {
       "output_type": "stream",
       "stream": "stdout",
       "text": [
        "\n",
        "fund_statistics_SSGRX"
       ]
      },
      {
       "output_type": "stream",
       "stream": "stdout",
       "text": [
        "\n",
        "fund_statistics_MBDVX"
       ]
      },
      {
       "output_type": "stream",
       "stream": "stdout",
       "text": [
        "\n",
        "fund_statistics_MAEFX"
       ]
      },
      {
       "output_type": "stream",
       "stream": "stdout",
       "text": [
        "\n",
        "fund_statistics_STSEX"
       ]
      },
      {
       "output_type": "stream",
       "stream": "stdout",
       "text": [
        "\n",
        "fund_statistics_BMCAX"
       ]
      },
      {
       "output_type": "stream",
       "stream": "stdout",
       "text": [
        "\n",
        "fund_statistics_BFRAX"
       ]
      },
      {
       "output_type": "stream",
       "stream": "stdout",
       "text": [
        "\n",
        "fund_statistics_MDFOX"
       ]
      },
      {
       "output_type": "stream",
       "stream": "stdout",
       "text": [
        "\n",
        "fund_statistics_MBLOX"
       ]
      },
      {
       "output_type": "stream",
       "stream": "stdout",
       "text": [
        "\n",
        "fund_statistics_BABDX"
       ]
      },
      {
       "output_type": "stream",
       "stream": "stdout",
       "text": [
        "\n",
        "fund_statistics_BGCAX"
       ]
      },
      {
       "output_type": "stream",
       "stream": "stdout",
       "text": [
        "\n",
        "fund_statistics_BDMAX"
       ]
      },
      {
       "output_type": "stream",
       "stream": "stdout",
       "text": [
        "\n",
        "fund_statistics_BROAX"
       ]
      },
      {
       "output_type": "stream",
       "stream": "stdout",
       "text": [
        "\n",
        "fund_statistics_MDGCX"
       ]
      },
      {
       "output_type": "stream",
       "stream": "stdout",
       "text": [
        "\n",
        "fund_statistics_BGPAX"
       ]
      },
      {
       "output_type": "stream",
       "stream": "stdout",
       "text": [
        "\n",
        "fund_statistics_BAGPX"
       ]
      },
      {
       "output_type": "stream",
       "stream": "stdout",
       "text": [
        "\n",
        "fund_statistics_SHSAX"
       ]
      },
      {
       "output_type": "stream",
       "stream": "stdout",
       "text": [
        "\n",
        "fund_statistics_BHYAX"
       ]
      },
      {
       "output_type": "stream",
       "stream": "stdout",
       "text": [
        "\n",
        "fund_statistics_MDYHX"
       ]
      },
      {
       "output_type": "stream",
       "stream": "stdout",
       "text": [
        "\n",
        "fund_statistics_BPRAX"
       ]
      },
      {
       "output_type": "stream",
       "stream": "stdout",
       "text": [
        "\n",
        "fund_statistics_MAIIX"
       ]
      },
      {
       "output_type": "stream",
       "stream": "stdout",
       "text": [
        "\n",
        "fund_statistics_MDILX"
       ]
      },
      {
       "output_type": "stream",
       "stream": "stdout",
       "text": [
        "\n",
        "fund_statistics_BREAX"
       ]
      },
      {
       "output_type": "stream",
       "stream": "stdout",
       "text": [
        "\n",
        "fund_statistics_BLADX"
       ]
      },
      {
       "output_type": "stream",
       "stream": "stdout",
       "text": [
        "\n",
        "fund_statistics_MDLRX"
       ]
      },
      {
       "output_type": "stream",
       "stream": "stdout",
       "text": [
        "\n",
        "fund_statistics_BALPX"
       ]
      },
      {
       "output_type": "stream",
       "stream": "stdout",
       "text": [
        "\n",
        "fund_statistics_MKLRX"
       ]
      },
      {
       "output_type": "stream",
       "stream": "stdout",
       "text": [
        "\n",
        "fund_statistics_MDLHX"
       ]
      },
      {
       "output_type": "stream",
       "stream": "stdout",
       "text": [
        "\n",
        "fund_statistics_MKLHX"
       ]
      },
      {
       "output_type": "stream",
       "stream": "stdout",
       "text": [
        "\n",
        "fund_statistics_MDLVX"
       ]
      },
      {
       "output_type": "stream",
       "stream": "stdout",
       "text": [
        "\n",
        "fund_statistics_MKLVX"
       ]
      },
      {
       "output_type": "stream",
       "stream": "stdout",
       "text": [
        "\n",
        "fund_statistics_MDLTX"
       ]
      },
      {
       "output_type": "stream",
       "stream": "stdout",
       "text": [
        "\n",
        "fund_statistics_STLCX"
       ]
      },
      {
       "output_type": "stream",
       "stream": "stdout",
       "text": [
        "\n",
        "fund_statistics_LPBAX"
       ]
      },
      {
       "output_type": "stream",
       "stream": "stdout",
       "text": [
        "\n",
        "fund_statistics_STLDX"
       ]
      },
      {
       "output_type": "stream",
       "stream": "stdout",
       "text": [
        "\n",
        "fund_statistics_LPJAX"
       ]
      },
      {
       "output_type": "stream",
       "stream": "stdout",
       "text": [
        "\n",
        "fund_statistics_STLEX"
       ]
      },
      {
       "output_type": "stream",
       "stream": "stdout",
       "text": [
        "\n",
        "fund_statistics_LPHAX"
       ]
      },
      {
       "output_type": "stream",
       "stream": "stdout",
       "text": [
        "\n",
        "fund_statistics_LPRFX"
       ]
      },
      {
       "output_type": "stream",
       "stream": "stdout",
       "text": [
        "\n",
        "fund_statistics_LPVAX"
       ]
      },
      {
       "output_type": "stream",
       "stream": "stdout",
       "text": [
        "\n",
        "fund_statistics_BAPBX"
       ]
      },
      {
       "output_type": "stream",
       "stream": "stdout",
       "text": [
        "\n",
        "fund_statistics_BAPCX"
       ]
      },
      {
       "output_type": "stream",
       "stream": "stdout",
       "text": [
        "\n",
        "fund_statistics_BAPDX"
       ]
      },
      {
       "output_type": "stream",
       "stream": "stdout",
       "text": [
        "\n",
        "fund_statistics_BAPEX"
       ]
      },
      {
       "output_type": "stream",
       "stream": "stdout",
       "text": [
        "\n",
        "fund_statistics_BAPGX"
       ]
      },
      {
       "output_type": "stream",
       "stream": "stdout",
       "text": [
        "\n",
        "fund_statistics_BAPHX"
       ]
      },
      {
       "output_type": "stream",
       "stream": "stdout",
       "text": [
        "\n",
        "fund_statistics_BAPJX"
       ]
      },
      {
       "output_type": "stream",
       "stream": "stdout",
       "text": [
        "\n",
        "fund_statistics_BAPKX"
       ]
      },
      {
       "output_type": "stream",
       "stream": "stdout",
       "text": [
        "\n",
        "fund_statistics_BAPLX"
       ]
      },
      {
       "output_type": "stream",
       "stream": "stdout",
       "text": [
        "\n",
        "fund_statistics_LIQIX"
       ]
      },
      {
       "output_type": "stream",
       "stream": "stdout",
       "text": [
        "\n",
        "fund_statistics_LIBIX"
       ]
      },
      {
       "output_type": "stream",
       "stream": "stdout",
       "text": [
        "\n",
        "fund_statistics_LINIX"
       ]
      },
      {
       "output_type": "stream",
       "stream": "stdout",
       "text": [
        "\n",
        "fund_statistics_LIJIX"
       ]
      },
      {
       "output_type": "stream",
       "stream": "stdout",
       "text": [
        "\n",
        "fund_statistics_LIKIX"
       ]
      },
      {
       "output_type": "stream",
       "stream": "stdout",
       "text": [
        "\n",
        "fund_statistics_LIHIX"
       ]
      },
      {
       "output_type": "stream",
       "stream": "stdout",
       "text": [
        "\n",
        "fund_statistics_LIPIX"
       ]
      },
      {
       "output_type": "stream",
       "stream": "stdout",
       "text": [
        "\n",
        "fund_statistics_LIVIX"
       ]
      },
      {
       "output_type": "stream",
       "stream": "stdout",
       "text": [
        "\n",
        "fund_statistics_LIRIX"
       ]
      },
      {
       "output_type": "stream",
       "stream": "stdout",
       "text": [
        "\n",
        "fund_statistics_STLAX"
       ]
      },
      {
       "output_type": "stream",
       "stream": "stdout",
       "text": [
        "\n",
        "fund_statistics_MDEGX"
       ]
      },
      {
       "output_type": "stream",
       "stream": "stdout",
       "text": [
        "\n",
        "fund_statistics_BFMSX"
       ]
      },
      {
       "output_type": "stream",
       "stream": "stdout",
       "text": [
        "\n",
        "fund_statistics_PCBAX"
       ]
      },
      {
       "output_type": "stream",
       "stream": "stdout",
       "text": [
        "\n",
        "fund_statistics_MDRFX"
       ]
      },
      {
       "output_type": "stream",
       "stream": "stdout",
       "text": [
        "\n",
        "fund_statistics_BMGAX"
       ]
      },
      {
       "output_type": "stream",
       "stream": "stdout",
       "text": [
        "\n",
        "fund_statistics_BAMPX"
       ]
      },
      {
       "output_type": "stream",
       "stream": "stdout",
       "text": [
        "\n",
        "fund_statistics_BAICX"
       ]
      },
      {
       "output_type": "stream",
       "stream": "stdout",
       "text": [
        "\n",
        "fund_statistics_BRRAX"
       ]
      },
      {
       "output_type": "stream",
       "stream": "stdout",
       "text": [
        "\n",
        "fund_statistics_MANLX"
       ]
      },
      {
       "output_type": "stream",
       "stream": "stdout",
       "text": [
        "\n",
        "fund_statistics_MBGRX"
       ]
      },
      {
       "output_type": "stream",
       "stream": "stdout",
       "text": [
        "\n",
        "fund_statistics_MANJX"
       ]
      },
      {
       "output_type": "stream",
       "stream": "stdout",
       "text": [
        "\n",
        "fund_statistics_MANKX"
       ]
      },
      {
       "output_type": "stream",
       "stream": "stdout",
       "text": [
        "\n",
        "fund_statistics_MAPYX"
       ]
      },
      {
       "output_type": "stream",
       "stream": "stdout",
       "text": [
        "\n",
        "fund_statistics_MAPCX"
       ]
      },
      {
       "output_type": "stream",
       "stream": "stdout",
       "text": [
        "\n",
        "fund_statistics_BAREX"
       ]
      },
      {
       "output_type": "stream",
       "stream": "stdout",
       "text": [
        "\n",
        "fund_statistics_BRGNX"
       ]
      },
      {
       "output_type": "stream",
       "stream": "stdout",
       "text": [
        "\n",
        "fund_statistics_WFSPX"
       ]
      },
      {
       "output_type": "stream",
       "stream": "stdout",
       "text": [
        "\n",
        "fund_statistics_BGSAX"
       ]
      },
      {
       "output_type": "stream",
       "stream": "stdout",
       "text": [
        "\n",
        "fund_statistics_BMSAX"
       ]
      },
      {
       "output_type": "stream",
       "stream": "stdout",
       "text": [
        "\n",
        "fund_statistics_BBSOX"
       ]
      },
      {
       "output_type": "stream",
       "stream": "stdout",
       "text": [
        "\n",
        "fund_statistics_MALMX"
       ]
      },
      {
       "output_type": "stream",
       "stream": "stdout",
       "text": [
        "\n",
        "fund_statistics_BDSTX"
       ]
      },
      {
       "output_type": "stream",
       "stream": "stdout",
       "text": [
        "\n",
        "fund_statistics_PSGIX"
       ]
      },
      {
       "output_type": "stream",
       "stream": "stdout",
       "text": [
        "\n",
        "fund_statistics_MDSWX"
       ]
      },
      {
       "output_type": "stream",
       "stream": "stdout",
       "text": [
        "\n",
        "fund_statistics_MASKX"
       ]
      },
      {
       "output_type": "stream",
       "stream": "stdout",
       "text": [
        "\n",
        "fund_statistics_BASIX"
       ]
      },
      {
       "output_type": "stream",
       "stream": "stdout",
       "text": [
        "\n",
        "fund_statistics_MAMTX"
       ]
      },
      {
       "output_type": "stream",
       "stream": "stdout",
       "text": [
        "\n",
        "fund_statistics_BSTAX"
       ]
      },
      {
       "output_type": "stream",
       "stream": "stdout",
       "text": [
        "\n",
        "fund_statistics_MFHQX"
       ]
      },
      {
       "output_type": "stream",
       "stream": "stdout",
       "text": [
        "\n",
        "fund_statistics_BBUSX"
       ]
      },
      {
       "output_type": "stream",
       "stream": "stdout",
       "text": [
        "\n",
        "fund_statistics_PNIGX"
       ]
      },
      {
       "output_type": "stream",
       "stream": "stdout",
       "text": [
        "\n",
        "fund_statistics_MSUMX"
       ]
      },
      {
       "output_type": "stream",
       "stream": "stdout",
       "text": [
        "\n",
        "fund_statistics_BMEAX"
       ]
      },
      {
       "output_type": "stream",
       "stream": "stdout",
       "text": [
        "\n",
        "fund_statistics_MASPX"
       ]
      },
      {
       "output_type": "stream",
       "stream": "stdout",
       "text": [
        "\n",
        "fund_statistics_MAWIX"
       ]
      },
      {
       "output_type": "stream",
       "stream": "stdout",
       "text": [
        "\n",
        "fund_statistics_MGCSX"
       ]
      },
      {
       "output_type": "stream",
       "stream": "stdout",
       "text": [
        "\n",
        "fund_statistics_MMCVX"
       ]
      },
      {
       "output_type": "stream",
       "stream": "stdout",
       "text": [
        "\n",
        "fund_statistics_CPASX"
       ]
      },
      {
       "output_type": "stream",
       "stream": "stdout",
       "text": [
        "\n",
        "fund_statistics_CMCPX"
       ]
      },
      {
       "output_type": "stream",
       "stream": "stdout",
       "text": [
        "\n",
        "fund_statistics_CSCEX"
       ]
      },
      {
       "output_type": "stream",
       "stream": "stdout",
       "text": [
        "\n",
        "fund_statistics_CSLGX"
       ]
      },
      {
       "output_type": "stream",
       "stream": "stdout",
       "text": [
        "\n",
        "fund_statistics_CDEIX"
       ]
      },
      {
       "output_type": "stream",
       "stream": "stdout",
       "text": [
        "\n",
        "fund_statistics_CMGUX"
       ]
      },
      {
       "output_type": "stream",
       "stream": "stdout",
       "text": [
        "\n",
        "fund_statistics_RARAX"
       ]
      },
      {
       "output_type": "stream",
       "stream": "stdout",
       "text": [
        "\n",
        "fund_statistics_CMMAX"
       ]
      },
      {
       "output_type": "stream",
       "stream": "stdout",
       "text": [
        "\n",
        "fund_statistics_CEMAX"
       ]
      },
      {
       "output_type": "stream",
       "stream": "stdout",
       "text": [
        "\n",
        "fund_statistics_CMSAX"
       ]
      },
      {
       "output_type": "stream",
       "stream": "stdout",
       "text": [
        "\n",
        "fund_statistics_CAGAX"
       ]
      },
      {
       "output_type": "stream",
       "stream": "stdout",
       "text": [
        "\n",
        "fund_statistics_CAEAX"
       ]
      },
      {
       "output_type": "stream",
       "stream": "stdout",
       "text": [
        "\n",
        "fund_statistics_ACFFX"
       ]
      },
      {
       "output_type": "stream",
       "stream": "stdout",
       "text": [
        "\n",
        "fund_statistics_ACINX"
       ]
      },
      {
       "output_type": "stream",
       "stream": "stdout",
       "text": [
        "\n",
        "fund_statistics_ACTWX"
       ]
      },
      {
       "output_type": "stream",
       "stream": "stdout",
       "text": [
        "\n",
        "fund_statistics_AUSAX"
       ]
      },
      {
       "output_type": "stream",
       "stream": "stdout",
       "text": [
        "\n",
        "fund_statistics_ACRNX"
       ]
      },
      {
       "output_type": "stream",
       "stream": "stdout",
       "text": [
        "\n",
        "fund_statistics_NCMAX"
       ]
      },
      {
       "output_type": "stream",
       "stream": "stdout",
       "text": [
        "\n",
        "fund_statistics_SCTEX"
       ]
      },
      {
       "output_type": "stream",
       "stream": "stdout",
       "text": [
        "\n",
        "fund_statistics_NGAMX"
       ]
      },
      {
       "output_type": "stream",
       "stream": "stdout",
       "text": [
        "\n",
        "fund_statistics_SETMX"
       ]
      },
      {
       "output_type": "stream",
       "stream": "stdout",
       "text": [
        "\n",
        "fund_statistics_SEMAX"
       ]
      },
      {
       "output_type": "stream",
       "stream": "stdout",
       "text": [
        "\n",
        "fund_statistics_NMDMX"
       ]
      },
      {
       "output_type": "stream",
       "stream": "stdout",
       "text": [
        "\n",
        "fund_statistics_NNIBX"
       ]
      },
      {
       "output_type": "stream",
       "stream": "stdout",
       "text": [
        "\n",
        "fund_statistics_GANYX"
       ]
      },
      {
       "output_type": "stream",
       "stream": "stdout",
       "text": [
        "\n",
        "fund_statistics_CMBFX"
       ]
      },
      {
       "output_type": "stream",
       "stream": "stdout",
       "text": [
        "\n",
        "fund_statistics_NSCMX"
       ]
      },
      {
       "output_type": "stream",
       "stream": "stdout",
       "text": [
        "\n",
        "fund_statistics_INTAX"
       ]
      },
      {
       "output_type": "stream",
       "stream": "stdout",
       "text": [
        "\n",
        "fund_statistics_NVABX"
       ]
      },
      {
       "output_type": "stream",
       "stream": "stdout",
       "text": [
        "\n",
        "fund_statistics_TAPRX"
       ]
      },
      {
       "output_type": "stream",
       "stream": "stdout",
       "text": [
        "\n",
        "fund_statistics_CBALX"
       ]
      },
      {
       "output_type": "stream",
       "stream": "stdout",
       "text": [
        "\n",
        "fund_statistics_UMMGX"
       ]
      },
      {
       "output_type": "stream",
       "stream": "stdout",
       "text": [
        "\n",
        "fund_statistics_CLMPX"
       ]
      },
      {
       "output_type": "stream",
       "stream": "stdout",
       "text": [
        "\n",
        "fund_statistics_AXBAX"
       ]
      },
      {
       "output_type": "stream",
       "stream": "stdout",
       "text": [
        "\n",
        "fund_statistics_ABDAX"
       ]
      },
      {
       "output_type": "stream",
       "stream": "stdout",
       "text": [
        "\n",
        "fund_statistics_NBIAX"
       ]
      },
      {
       "output_type": "stream",
       "stream": "stdout",
       "text": [
        "\n",
        "fund_statistics_NLGAX"
       ]
      },
      {
       "output_type": "stream",
       "stream": "stdout",
       "text": [
        "\n",
        "fund_statistics_ABUAX"
       ]
      },
      {
       "output_type": "stream",
       "stream": "stdout",
       "text": [
        "\n",
        "fund_statistics_CCIYX"
       ]
      },
      {
       "output_type": "stream",
       "stream": "stdout",
       "text": [
        "\n",
        "fund_statistics_SMGIX"
       ]
      },
      {
       "output_type": "stream",
       "stream": "stdout",
       "text": [
        "\n",
        "fund_statistics_PACIX"
       ]
      },
      {
       "output_type": "stream",
       "stream": "stdout",
       "text": [
        "\n",
        "fund_statistics_SRINX"
       ]
      },
      {
       "output_type": "stream",
       "stream": "stdout",
       "text": [
        "\n",
        "fund_statistics_INDZX"
       ]
      },
      {
       "output_type": "stream",
       "stream": "stdout",
       "text": [
        "\n",
        "fund_statistics_CDRAX"
       ]
      },
      {
       "output_type": "stream",
       "stream": "stdout",
       "text": [
        "\n",
        "fund_statistics_GEQAX"
       ]
      },
      {
       "output_type": "stream",
       "stream": "stdout",
       "text": [
        "\n",
        "fund_statistics_INUTX"
       ]
      },
      {
       "output_type": "stream",
       "stream": "stdout",
       "text": [
        "\n",
        "fund_statistics_REBAX"
       ]
      },
      {
       "output_type": "stream",
       "stream": "stdout",
       "text": [
        "\n",
        "fund_statistics_UMEMX"
       ]
      },
      {
       "output_type": "stream",
       "stream": "stdout",
       "text": [
        "\n",
        "fund_statistics_INEGX"
       ]
      },
      {
       "output_type": "stream",
       "stream": "stdout",
       "text": [
        "\n",
        "fund_statistics_AXEAX"
       ]
      },
      {
       "output_type": "stream",
       "stream": "stdout",
       "text": [
        "\n",
        "fund_statistics_CFIAX"
       ]
      },
      {
       "output_type": "stream",
       "stream": "stdout",
       "text": [
        "\n",
        "fund_statistics_RFRAX"
       ]
      },
      {
       "output_type": "stream",
       "stream": "stdout",
       "text": [
        "\n",
        "fund_statistics_IGBFX"
       ]
      },
      {
       "output_type": "stream",
       "stream": "stdout",
       "text": [
        "\n",
        "fund_statistics_CSVFX"
       ]
      },
      {
       "output_type": "stream",
       "stream": "stdout",
       "text": [
        "\n",
        "fund_statistics_UMESX"
       ]
      },
      {
       "output_type": "stream",
       "stream": "stdout",
       "text": [
        "\n",
        "fund_statistics_IGLGX"
       ]
      },
      {
       "output_type": "stream",
       "stream": "stdout",
       "text": [
        "\n",
        "fund_statistics_RRIAX"
       ]
      },
      {
       "output_type": "stream",
       "stream": "stdout",
       "text": [
        "\n",
        "fund_statistics_IMRFX"
       ]
      },
      {
       "output_type": "stream",
       "stream": "stdout",
       "text": [
        "\n",
        "fund_statistics_CMTFX"
       ]
      },
      {
       "output_type": "stream",
       "stream": "stdout",
       "text": [
        "\n",
        "fund_statistics_NGCAX"
       ]
      },
      {
       "output_type": "stream",
       "stream": "stdout",
       "text": [
        "\n",
        "fund_statistics_INEAX"
       ]
      },
      {
       "output_type": "stream",
       "stream": "stdout",
       "text": [
        "\n",
        "fund_statistics_SRHMX"
       ]
      },
      {
       "output_type": "stream",
       "stream": "stdout",
       "text": [
        "\n",
        "fund_statistics_RBBAX"
       ]
      },
      {
       "output_type": "stream",
       "stream": "stdout",
       "text": [
        "\n",
        "fund_statistics_AIOAX"
       ]
      },
      {
       "output_type": "stream",
       "stream": "stdout",
       "text": [
        "\n",
        "fund_statistics_APSAX"
       ]
      },
      {
       "output_type": "stream",
       "stream": "stdout",
       "text": [
        "\n",
        "fund_statistics_SRBFX"
       ]
      },
      {
       "output_type": "stream",
       "stream": "stdout",
       "text": [
        "\n",
        "fund_statistics_CNBAX"
       ]
      },
      {
       "output_type": "stream",
       "stream": "stdout",
       "text": [
        "\n",
        "fund_statistics_NIVLX"
       ]
      },
      {
       "output_type": "stream",
       "stream": "stdout",
       "text": [
        "\n",
        "fund_statistics_NMIAX"
       ]
      },
      {
       "output_type": "stream",
       "stream": "stdout",
       "text": [
        "\n",
        "fund_statistics_GAEGX"
       ]
      },
      {
       "output_type": "stream",
       "stream": "stdout",
       "text": [
        "\n",
        "fund_statistics_NINDX"
       ]
      },
      {
       "output_type": "stream",
       "stream": "stdout",
       "text": [
        "\n",
        "fund_statistics_AQEAX"
       ]
      },
      {
       "output_type": "stream",
       "stream": "stdout",
       "text": [
        "\n",
        "fund_statistics_RDLAX"
       ]
      },
      {
       "output_type": "stream",
       "stream": "stdout",
       "text": [
        "\n",
        "fund_statistics_RLCAX"
       ]
      },
      {
       "output_type": "stream",
       "stream": "stdout",
       "text": [
        "\n",
        "fund_statistics_NLGIX"
       ]
      },
      {
       "output_type": "stream",
       "stream": "stdout",
       "text": [
        "\n",
        "fund_statistics_ALDAX"
       ]
      },
      {
       "output_type": "stream",
       "stream": "stdout",
       "text": [
        "\n",
        "fund_statistics_NMTAX"
       ]
      },
      {
       "output_type": "stream",
       "stream": "stdout",
       "text": [
        "\n",
        "fund_statistics_CCMAX"
       ]
      },
      {
       "output_type": "stream",
       "stream": "stdout",
       "text": [
        "\n",
        "fund_statistics_NFEAX"
       ]
      },
      {
       "output_type": "stream",
       "stream": "stdout",
       "text": [
        "\n",
        "fund_statistics_COGAX"
       ]
      },
      {
       "output_type": "stream",
       "stream": "stdout",
       "text": [
        "\n",
        "fund_statistics_NMGIX"
       ]
      },
      {
       "output_type": "stream",
       "stream": "stdout",
       "text": [
        "\n",
        "fund_statistics_MAIOX"
       ]
      },
      {
       "output_type": "stream",
       "stream": "stdout",
       "text": [
        "\n",
        "fund_statistics_CMTAX"
       ]
      },
      {
       "output_type": "stream",
       "stream": "stdout",
       "text": [
        "\n",
        "fund_statistics_CLSPX"
       ]
      },
      {
       "output_type": "stream",
       "stream": "stdout",
       "text": [
        "\n",
        "fund_statistics_NMPAX"
       ]
      },
      {
       "output_type": "stream",
       "stream": "stdout",
       "text": [
        "\n",
        "fund_statistics_CMUAX"
       ]
      },
      {
       "output_type": "stream",
       "stream": "stdout",
       "text": [
        "\n",
        "fund_statistics_IMNTX"
       ]
      },
      {
       "output_type": "stream",
       "stream": "stdout",
       "text": [
        "\n",
        "fund_statistics_NIEQX"
       ]
      },
      {
       "output_type": "stream",
       "stream": "stdout",
       "text": [
        "\n",
        "fund_statistics_ASVAX"
       ]
      },
      {
       "output_type": "stream",
       "stream": "stdout",
       "text": [
        "\n",
        "fund_statistics_COLNX"
       ]
      },
      {
       "output_type": "stream",
       "stream": "stdout",
       "text": [
        "\n",
        "fund_statistics_COSZX"
       ]
      },
      {
       "output_type": "stream",
       "stream": "stdout",
       "text": [
        "\n",
        "fund_statistics_USPAX"
       ]
      },
      {
       "output_type": "stream",
       "stream": "stdout",
       "text": [
        "\n",
        "fund_statistics_CREEX"
       ]
      },
      {
       "output_type": "stream",
       "stream": "stdout",
       "text": [
        "\n",
        "fund_statistics_CRAAX"
       ]
      },
      {
       "output_type": "stream",
       "stream": "stdout",
       "text": [
        "\n",
        "fund_statistics_NSEPX"
       ]
      },
      {
       "output_type": "stream",
       "stream": "stdout",
       "text": [
        "\n",
        "fund_statistics_UMLGX"
       ]
      },
      {
       "output_type": "stream",
       "stream": "stdout",
       "text": [
        "\n",
        "fund_statistics_SLVAX"
       ]
      },
      {
       "output_type": "stream",
       "stream": "stdout",
       "text": [
        "\n",
        "fund_statistics_SSCVX"
       ]
      },
      {
       "output_type": "stream",
       "stream": "stdout",
       "text": [
        "\n",
        "fund_statistics_SLMCX"
       ]
      },
      {
       "output_type": "stream",
       "stream": "stdout",
       "text": [
        "\n",
        "fund_statistics_SHGTX"
       ]
      },
      {
       "output_type": "stream",
       "stream": "stdout",
       "text": [
        "\n",
        "fund_statistics_NSTMX"
       ]
      },
      {
       "output_type": "stream",
       "stream": "stdout",
       "text": [
        "\n",
        "fund_statistics_NSMIX"
       ]
      },
      {
       "output_type": "stream",
       "stream": "stdout",
       "text": [
        "\n",
        "fund_statistics_SMCEX"
       ]
      },
      {
       "output_type": "stream",
       "stream": "stdout",
       "text": [
        "\n",
        "fund_statistics_CMSCX"
       ]
      },
      {
       "output_type": "stream",
       "stream": "stdout",
       "text": [
        "\n",
        "fund_statistics_NMSAX"
       ]
      },
      {
       "output_type": "stream",
       "stream": "stdout",
       "text": [
        "\n",
        "fund_statistics_CSMIX"
       ]
      },
      {
       "output_type": "stream",
       "stream": "stdout",
       "text": [
        "\n",
        "fund_statistics_COVAX"
       ]
      },
      {
       "output_type": "stream",
       "stream": "stdout",
       "text": [
        "\n",
        "fund_statistics_AMVAX"
       ]
      },
      {
       "output_type": "stream",
       "stream": "stdout",
       "text": [
        "\n",
        "fund_statistics_COSIX"
       ]
      },
      {
       "output_type": "stream",
       "stream": "stdout",
       "text": [
        "\n",
        "fund_statistics_COLTX"
       ]
      },
      {
       "output_type": "stream",
       "stream": "stdout",
       "text": [
        "\n",
        "fund_statistics_COTZX"
       ]
      },
      {
       "output_type": "stream",
       "stream": "stdout",
       "text": [
        "\n",
        "fund_statistics_AUGAX"
       ]
      },
      {
       "output_type": "stream",
       "stream": "stdout",
       "text": [
        "\n",
        "fund_statistics_IUTIX"
       ]
      },
      {
       "output_type": "stream",
       "stream": "stdout",
       "text": [
        "\n",
        "fund_statistics_UMBIX"
       ]
      },
      {
       "output_type": "stream",
       "stream": "stdout",
       "text": [
        "\n",
        "fund_statistics_OAAAX"
       ]
      },
      {
       "output_type": "stream",
       "stream": "stdout",
       "text": [
        "\n",
        "fund_statistics_OPTFX"
       ]
      },
      {
       "output_type": "stream",
       "stream": "stdout",
       "text": [
        "\n",
        "fund_statistics_OPPEX"
       ]
      },
      {
       "output_type": "stream",
       "stream": "stdout",
       "text": [
        "\n",
        "fund_statistics_QRAAX"
       ]
      },
      {
       "output_type": "stream",
       "stream": "stdout",
       "text": [
        "\n",
        "fund_statistics_OACIX"
       ]
      },
      {
       "output_type": "stream",
       "stream": "stdout",
       "text": [
        "\n",
        "fund_statistics_OPIGX"
       ]
      },
      {
       "output_type": "stream",
       "stream": "stdout",
       "text": [
        "\n",
        "fund_statistics_OFIAX"
       ]
      },
      {
       "output_type": "stream",
       "stream": "stdout",
       "text": [
        "\n",
        "fund_statistics_ODMAX"
       ]
      },
      {
       "output_type": "stream",
       "stream": "stdout",
       "text": [
        "\n",
        "fund_statistics_OPOCX"
       ]
      },
      {
       "output_type": "stream",
       "stream": "stdout",
       "text": [
        "\n",
        "fund_statistics_OEGAX"
       ]
      },
      {
       "output_type": "stream",
       "stream": "stdout",
       "text": [
        "\n",
        "fund_statistics_ODAAX"
       ]
      },
      {
       "output_type": "stream",
       "stream": "stdout",
       "text": [
        "\n",
        "fund_statistics_OSVAX"
       ]
      },
      {
       "output_type": "stream",
       "stream": "stdout",
       "text": [
        "\n",
        "fund_statistics_OEMAX"
       ]
      },
      {
       "output_type": "stream",
       "stream": "stdout",
       "text": [
        "\n",
        "fund_statistics_OEQAX"
       ]
      },
      {
       "output_type": "stream",
       "stream": "stdout",
       "text": [
        "\n",
        "fund_statistics_OAEIX"
       ]
      },
      {
       "output_type": "stream",
       "stream": "stdout",
       "text": [
        "\n",
        "fund_statistics_OAAIX"
       ]
      },
      {
       "output_type": "stream",
       "stream": "stdout",
       "text": [
        "\n",
        "fund_statistics_QVOPX"
       ]
      },
      {
       "output_type": "stream",
       "stream": "stdout",
       "text": [
        "\n",
        "fund_statistics_OPPAX"
       ]
      },
      {
       "output_type": "stream",
       "stream": "stdout",
       "text": [
        "\n",
        "fund_statistics_QVGIX"
       ]
      },
      {
       "output_type": "stream",
       "stream": "stdout",
       "text": [
        "\n",
        "fund_statistics_OGYAX"
       ]
      },
      {
       "output_type": "stream",
       "stream": "stdout",
       "text": [
        "\n",
        "fund_statistics_OARAX"
       ]
      },
      {
       "output_type": "stream",
       "stream": "stdout",
       "text": [
        "\n",
        "fund_statistics_OPGIX"
       ]
      },
      {
       "output_type": "stream",
       "stream": "stdout",
       "text": [
        "\n",
        "fund_statistics_OGRAX"
       ]
      },
      {
       "output_type": "stream",
       "stream": "stdout",
       "text": [
        "\n",
        "fund_statistics_OPSIX"
       ]
      },
      {
       "output_type": "stream",
       "stream": "stdout",
       "text": [
        "\n",
        "fund_statistics_GLVAX"
       ]
      },
      {
       "output_type": "stream",
       "stream": "stdout",
       "text": [
        "\n",
        "fund_statistics_OPGSX"
       ]
      },
      {
       "output_type": "stream",
       "stream": "stdout",
       "text": [
        "\n",
        "fund_statistics_OIBAX"
       ]
      },
      {
       "output_type": "stream",
       "stream": "stdout",
       "text": [
        "\n",
        "fund_statistics_OIDAX"
       ]
      },
      {
       "output_type": "stream",
       "stream": "stdout",
       "text": [
        "\n",
        "fund_statistics_OIGAX"
       ]
      },
      {
       "output_type": "stream",
       "stream": "stdout",
       "text": [
        "\n",
        "fund_statistics_OSMAX"
       ]
      },
      {
       "output_type": "stream",
       "stream": "stdout",
       "text": [
        "\n",
        "fund_statistics_QIVAX"
       ]
      },
      {
       "output_type": "stream",
       "stream": "stdout",
       "text": [
        "\n",
        "fund_statistics_OUSGX"
       ]
      },
      {
       "output_type": "stream",
       "stream": "stdout",
       "text": [
        "\n",
        "fund_statistics_OPGVX"
       ]
      },
      {
       "output_type": "stream",
       "stream": "stdout",
       "text": [
        "\n",
        "fund_statistics_MSIGX"
       ]
      },
      {
       "output_type": "stream",
       "stream": "stdout",
       "text": [
        "\n",
        "fund_statistics_OPMSX"
       ]
      },
      {
       "output_type": "stream",
       "stream": "stdout",
       "text": [
        "\n",
        "fund_statistics_OMSOX"
       ]
      },
      {
       "output_type": "stream",
       "stream": "stdout",
       "text": [
        "\n",
        "fund_statistics_OSCAX"
       ]
      },
      {
       "output_type": "stream",
       "stream": "stdout",
       "text": [
        "\n",
        "fund_statistics_OAMIX"
       ]
      },
      {
       "output_type": "stream",
       "stream": "stdout",
       "text": [
        "\n",
        "fund_statistics_OREAX"
       ]
      },
      {
       "output_type": "stream",
       "stream": "stdout",
       "text": [
        "\n",
        "fund_statistics_OARDX"
       ]
      },
      {
       "output_type": "stream",
       "stream": "stdout",
       "text": [
        "\n",
        "fund_statistics_OPTAX"
       ]
      },
      {
       "output_type": "stream",
       "stream": "stdout",
       "text": [
        "\n",
        "fund_statistics_OPNYX"
       ]
      },
      {
       "output_type": "stream",
       "stream": "stdout",
       "text": [
        "\n",
        "fund_statistics_ORAZX"
       ]
      },
      {
       "output_type": "stream",
       "stream": "stdout",
       "text": [
        "\n",
        "fund_statistics_OPCAX"
       ]
      },
      {
       "output_type": "stream",
       "stream": "stdout",
       "text": [
        "\n",
        "fund_statistics_RMUNX"
       ]
      },
      {
       "output_type": "stream",
       "stream": "stdout",
       "text": [
        "\n",
        "fund_statistics_ORNAX"
       ]
      },
      {
       "output_type": "stream",
       "stream": "stdout",
       "text": [
        "\n",
        "fund_statistics_ORRWX"
       ]
      },
      {
       "output_type": "stream",
       "stream": "stdout",
       "text": [
        "\n",
        "fund_statistics_OLCAX"
       ]
      },
      {
       "output_type": "stream",
       "stream": "stdout",
       "text": [
        "\n",
        "fund_statistics_OPITX"
       ]
      },
      {
       "output_type": "stream",
       "stream": "stdout",
       "text": [
        "\n",
        "fund_statistics_LTNYX"
       ]
      },
      {
       "output_type": "stream",
       "stream": "stdout",
       "text": [
        "\n",
        "fund_statistics_ORMAX"
       ]
      },
      {
       "output_type": "stream",
       "stream": "stdout",
       "text": [
        "\n",
        "fund_statistics_ORMDX"
       ]
      },
      {
       "output_type": "stream",
       "stream": "stdout",
       "text": [
        "\n",
        "fund_statistics_ORMIX"
       ]
      },
      {
       "output_type": "stream",
       "stream": "stdout",
       "text": [
        "\n",
        "fund_statistics_OPAMX"
       ]
      },
      {
       "output_type": "stream",
       "stream": "stdout",
       "text": [
        "\n",
        "fund_statistics_OPNCX"
       ]
      },
      {
       "output_type": "stream",
       "stream": "stdout",
       "text": [
        "\n",
        "fund_statistics_ONJAX"
       ]
      },
      {
       "output_type": "stream",
       "stream": "stdout",
       "text": [
        "\n",
        "fund_statistics_OROHX"
       ]
      },
      {
       "output_type": "stream",
       "stream": "stdout",
       "text": [
        "\n",
        "fund_statistics_OPATX"
       ]
      },
      {
       "output_type": "stream",
       "stream": "stdout",
       "text": [
        "\n",
        "fund_statistics_ORSTX"
       ]
      },
      {
       "output_type": "stream",
       "stream": "stdout",
       "text": [
        "\n",
        "fund_statistics_ORVAX"
       ]
      },
      {
       "output_type": "stream",
       "stream": "stdout",
       "text": [
        "\n",
        "fund_statistics_OOSAX"
       ]
      },
      {
       "output_type": "stream",
       "stream": "stdout",
       "text": [
        "\n",
        "fund_statistics_OSFAX"
       ]
      },
      {
       "output_type": "stream",
       "stream": "stdout",
       "text": [
        "\n",
        "fund_statistics_QVSCX"
       ]
      },
      {
       "output_type": "stream",
       "stream": "stdout",
       "text": [
        "\n",
        "fund_statistics_MLPAX"
       ]
      },
      {
       "output_type": "stream",
       "stream": "stdout",
       "text": [
        "\n",
        "fund_statistics_MLPNX"
       ]
      },
      {
       "output_type": "stream",
       "stream": "stdout",
       "text": [
        "\n",
        "fund_statistics_MLPDX"
       ]
      },
      {
       "output_type": "stream",
       "stream": "stdout",
       "text": [
        "\n",
        "fund_statistics_MLPFX"
       ]
      },
      {
       "output_type": "stream",
       "stream": "stdout",
       "text": [
        "\n",
        "fund_statistics_OSDYX"
       ]
      },
      {
       "output_type": "stream",
       "stream": "stdout",
       "text": [
        "\n",
        "fund_statistics_CGRWX"
       ]
      },
      {
       "output_type": "stream",
       "stream": "stdout",
       "text": [
        "\n"
       ]
      }
     ],
     "prompt_number": 345
    },
    {
     "cell_type": "code",
     "collapsed": false,
     "input": [
      "fund_statistics[\"fund_statistics_FCNTX\"]"
     ],
     "language": "python",
     "metadata": {},
     "outputs": [
      {
       "html": [
        "<div style=\"max-height:1000px;max-width:1500px;overflow:auto;\">\n",
        "<table border=\"1\" class=\"dataframe\">\n",
        "  <thead>\n",
        "    <tr style=\"text-align: right;\">\n",
        "      <th></th>\n",
        "      <th>Fund_Ticker</th>\n",
        "      <th>Benchmark_Index</th>\n",
        "      <th>R_Squared</th>\n",
        "      <th>Beta</th>\n",
        "      <th>Alpha</th>\n",
        "      <th>Treynor_Ratio</th>\n",
        "      <th>Currency</th>\n",
        "      <th>Year_Trailing</th>\n",
        "      <th>Std_Dev</th>\n",
        "      <th>Return</th>\n",
        "      <th>Sharpe_Ratio</th>\n",
        "      <th>Sortino_Ratio</th>\n",
        "      <th>Bear_MktPercentile_Rank</th>\n",
        "    </tr>\n",
        "  </thead>\n",
        "  <tbody>\n",
        "    <tr>\n",
        "      <th>0</th>\n",
        "      <td> FCNTX</td>\n",
        "      <td> S&amp;P 500 TR USD</td>\n",
        "      <td> 83.49</td>\n",
        "      <td> 1.00</td>\n",
        "      <td> -1.23</td>\n",
        "      <td> 19.31</td>\n",
        "      <td> USD</td>\n",
        "      <td>  3</td>\n",
        "      <td>  9.88</td>\n",
        "      <td> 19.33</td>\n",
        "      <td> 1.84</td>\n",
        "      <td> 3.78</td>\n",
        "      <td>     \u2014</td>\n",
        "    </tr>\n",
        "    <tr>\n",
        "      <th>1</th>\n",
        "      <td> FCNTX</td>\n",
        "      <td> S&amp;P 500 TR USD</td>\n",
        "      <td> 83.49</td>\n",
        "      <td> 1.00</td>\n",
        "      <td> -1.23</td>\n",
        "      <td> 19.31</td>\n",
        "      <td> USD</td>\n",
        "      <td>  5</td>\n",
        "      <td> 12.57</td>\n",
        "      <td> 15.61</td>\n",
        "      <td> 1.22</td>\n",
        "      <td> 2.22</td>\n",
        "      <td> 27.00</td>\n",
        "    </tr>\n",
        "    <tr>\n",
        "      <th>2</th>\n",
        "      <td> FCNTX</td>\n",
        "      <td> S&amp;P 500 TR USD</td>\n",
        "      <td> 83.49</td>\n",
        "      <td> 1.00</td>\n",
        "      <td> -1.23</td>\n",
        "      <td> 19.31</td>\n",
        "      <td> USD</td>\n",
        "      <td> 10</td>\n",
        "      <td> 14.10</td>\n",
        "      <td> 10.01</td>\n",
        "      <td> 0.64</td>\n",
        "      <td> 0.94</td>\n",
        "      <td>     \u2014</td>\n",
        "    </tr>\n",
        "    <tr>\n",
        "      <th>3</th>\n",
        "      <td> FCNTX</td>\n",
        "      <td> S&amp;P 500 TR USD</td>\n",
        "      <td> 83.49</td>\n",
        "      <td> 1.00</td>\n",
        "      <td> -1.23</td>\n",
        "      <td> 19.31</td>\n",
        "      <td> USD</td>\n",
        "      <td> 15</td>\n",
        "      <td> 13.62</td>\n",
        "      <td>  7.56</td>\n",
        "      <td> 0.46</td>\n",
        "      <td> 0.66</td>\n",
        "      <td>     \u2014</td>\n",
        "    </tr>\n",
        "  </tbody>\n",
        "</table>\n",
        "</div>"
       ],
       "metadata": {},
       "output_type": "pyout",
       "prompt_number": 354,
       "text": [
        "  Fund_Ticker Benchmark_Index R_Squared  Beta  Alpha Treynor_Ratio Currency  \\\n",
        "0       FCNTX  S&P 500 TR USD     83.49  1.00  -1.23         19.31      USD   \n",
        "1       FCNTX  S&P 500 TR USD     83.49  1.00  -1.23         19.31      USD   \n",
        "2       FCNTX  S&P 500 TR USD     83.49  1.00  -1.23         19.31      USD   \n",
        "3       FCNTX  S&P 500 TR USD     83.49  1.00  -1.23         19.31      USD   \n",
        "\n",
        "  Year_Trailing Std_Dev Return Sharpe_Ratio Sortino_Ratio  \\\n",
        "0             3    9.88  19.33         1.84          3.78   \n",
        "1             5   12.57  15.61         1.22          2.22   \n",
        "2            10   14.10  10.01         0.64          0.94   \n",
        "3            15   13.62   7.56         0.46          0.66   \n",
        "\n",
        "  Bear_MktPercentile_Rank  \n",
        "0                       \u2014  \n",
        "1                   27.00  \n",
        "2                       \u2014  \n",
        "3                       \u2014  "
       ]
      }
     ],
     "prompt_number": 354
    },
    {
     "cell_type": "code",
     "collapsed": false,
     "input": [
      "# Export Data for Statistics in CSV files\n",
      "for i in range(0, len(fund_statistics)):\n",
      "    fund_key = fund_statistics.keys()[i]\n",
      "    fund_filename = fund_statistics.keys()[i][-5:]+\"_STATS.csv\"\n",
      "    fund_statistics[fund_key].replace(to_replace=u'\\u2014',value='').to_csv(fund_filename)"
     ],
     "language": "python",
     "metadata": {},
     "outputs": [],
     "prompt_number": 349
    },
    {
     "cell_type": "code",
     "collapsed": false,
     "input": [
      "fund_statistics.keys()[1]\n",
      "fund_statistics[\"fund_statistics_VTWNX\"]"
     ],
     "language": "python",
     "metadata": {},
     "outputs": [
      {
       "html": [
        "<div style=\"max-height:1000px;max-width:1500px;overflow:auto;\">\n",
        "<table border=\"1\" class=\"dataframe\">\n",
        "  <thead>\n",
        "    <tr style=\"text-align: right;\">\n",
        "      <th></th>\n",
        "      <th>Fund_Ticker</th>\n",
        "      <th>Benchmark_Index</th>\n",
        "      <th>R_Squared</th>\n",
        "      <th>Beta</th>\n",
        "      <th>Alpha</th>\n",
        "      <th>Treynor_Ratio</th>\n",
        "      <th>Currency</th>\n",
        "      <th>Year_Trailing</th>\n",
        "      <th>Std_Dev</th>\n",
        "      <th>Return</th>\n",
        "      <th>Sharpe_Ratio</th>\n",
        "      <th>Sortino_Ratio</th>\n",
        "      <th>Bear_MktPercentile_Rank</th>\n",
        "    </tr>\n",
        "  </thead>\n",
        "  <tbody>\n",
        "    <tr>\n",
        "      <th>0</th>\n",
        "      <td> VTWNX</td>\n",
        "      <td> Morningstar Moderate Target Risk</td>\n",
        "      <td> 98.55</td>\n",
        "      <td>    1</td>\n",
        "      <td>  1.1</td>\n",
        "      <td> 11.98</td>\n",
        "      <td> USD</td>\n",
        "      <td>  3</td>\n",
        "      <td> 6.41</td>\n",
        "      <td> 12.01</td>\n",
        "      <td> 1.8</td>\n",
        "      <td> 3.29</td>\n",
        "      <td>     \u2014</td>\n",
        "    </tr>\n",
        "    <tr>\n",
        "      <th>1</th>\n",
        "      <td> VTWNX</td>\n",
        "      <td> Morningstar Moderate Target Risk</td>\n",
        "      <td> 98.97</td>\n",
        "      <td> 1.06</td>\n",
        "      <td> 0.35</td>\n",
        "      <td>  9.38</td>\n",
        "      <td> USD</td>\n",
        "      <td>  5</td>\n",
        "      <td> 9.03</td>\n",
        "      <td> 10.06</td>\n",
        "      <td> 1.1</td>\n",
        "      <td> 1.91</td>\n",
        "      <td> 18.00</td>\n",
        "    </tr>\n",
        "    <tr>\n",
        "      <th>2</th>\n",
        "      <td> VTWNX</td>\n",
        "      <td> Morningstar Moderate Target Risk</td>\n",
        "      <td>     \u2014</td>\n",
        "      <td>    \u2014</td>\n",
        "      <td>    \u2014</td>\n",
        "      <td>     \u2014</td>\n",
        "      <td> USD</td>\n",
        "      <td> 10</td>\n",
        "      <td>    \u2014</td>\n",
        "      <td>     \u2014</td>\n",
        "      <td>   \u2014</td>\n",
        "      <td>    \u2014</td>\n",
        "      <td>     \u2014</td>\n",
        "    </tr>\n",
        "    <tr>\n",
        "      <th>3</th>\n",
        "      <td> VTWNX</td>\n",
        "      <td> Morningstar Moderate Target Risk</td>\n",
        "      <td>     \u2014</td>\n",
        "      <td>    \u2014</td>\n",
        "      <td>    \u2014</td>\n",
        "      <td>     \u2014</td>\n",
        "      <td> USD</td>\n",
        "      <td> 15</td>\n",
        "      <td>    \u2014</td>\n",
        "      <td>     \u2014</td>\n",
        "      <td>   \u2014</td>\n",
        "      <td>    \u2014</td>\n",
        "      <td>     \u2014</td>\n",
        "    </tr>\n",
        "  </tbody>\n",
        "</table>\n",
        "</div>"
       ],
       "metadata": {},
       "output_type": "pyout",
       "prompt_number": 355,
       "text": [
        "  Fund_Ticker                   Benchmark_Index R_Squared  Beta Alpha  \\\n",
        "0       VTWNX  Morningstar Moderate Target Risk     98.55     1   1.1   \n",
        "1       VTWNX  Morningstar Moderate Target Risk     98.97  1.06  0.35   \n",
        "2       VTWNX  Morningstar Moderate Target Risk         \u2014     \u2014     \u2014   \n",
        "3       VTWNX  Morningstar Moderate Target Risk         \u2014     \u2014     \u2014   \n",
        "\n",
        "  Treynor_Ratio Currency Year_Trailing Std_Dev Return Sharpe_Ratio  \\\n",
        "0         11.98      USD             3    6.41  12.01          1.8   \n",
        "1          9.38      USD             5    9.03  10.06          1.1   \n",
        "2             \u2014      USD            10       \u2014      \u2014            \u2014   \n",
        "3             \u2014      USD            15       \u2014      \u2014            \u2014   \n",
        "\n",
        "  Sortino_Ratio Bear_MktPercentile_Rank  \n",
        "0          3.29                       \u2014  \n",
        "1          1.91                   18.00  \n",
        "2             \u2014                       \u2014  \n",
        "3             \u2014                       \u2014  "
       ]
      }
     ],
     "prompt_number": 355
    },
    {
     "cell_type": "code",
     "collapsed": false,
     "input": [
      "# DataFrame for 3 years:\n",
      "\n",
      "columns = fund_statistics[\"fund_statistics_FCNTX\"].columns\n",
      "\n",
      "Fund_param_3 = pd.DataFrame(columns = columns)\n",
      "\n",
      "for i in range(0,len(fund_statistics)):\n",
      "    fund_stat_keys = fund_statistics.keys()[i]\n",
      "    Fund_param_3_sub = fund_statistics[fund_stat_keys][fund_statistics[fund_stat_keys]['Year_Trailing'] == '3']\n",
      "    Fund_param_3 = Fund_param_3.append(Fund_param_3_sub)\n",
      "    \n",
      "Fund_param_3 = Fund_param_3.drop('Bear_MktPercentile_Rank',1)\n",
      "Fund_param_3 = Fund_param_3.reset_index(drop=True)"
     ],
     "language": "python",
     "metadata": {},
     "outputs": [],
     "prompt_number": 488
    },
    {
     "cell_type": "code",
     "collapsed": false,
     "input": [
      "Fund_param_3[Fund_param_3['R_Squared'] == 0]\n",
      "Fund_param_3['Treynor_Ratio'][102] = 1954.64\n",
      "Fund_param_3[['R_Squared','Beta','Alpha','Std_Dev','Return','Sharpe_Ratio','Sortino_Ratio']] = Fund_param_3[['R_Squared','Beta','Alpha','Std_Dev','Return','Sharpe_Ratio','Sortino_Ratio']].replace(to_replace=u'\\u2014',value=-10001).astype(float)\n",
      "Fund_param_3 = Fund_param_3[Fund_param_3['R_Squared'] != -10001.0]\n",
      "#Fund_param_3\n",
      "#Fund_param_3 = Fund_param_3.drop(Fund_param_3.index[[102]])\n",
      "#Fund_param_3[Fund_param_3['Beta'] == 0]\n",
      "#Fund_param_3[['R_Squared','Beta','Alpha','Treynor_Ratio','Std_Dev','Return','Sharpe_Ratio','Sortino_Ratio']] = Fund_param_3[['R_Squared','Beta','Alpha','Treynor_Ratio','Std_Dev','Return','Sharpe_Ratio','Sortino_Ratio']].replace(to_replace=u'\\u2014',value=0).astype(float)\n",
      "#Fund_param_3[Fund_param_3['Beta'] == 0]\n"
     ],
     "language": "python",
     "metadata": {},
     "outputs": [
      {
       "html": [
        "<div style=\"max-height:1000px;max-width:1500px;overflow:auto;\">\n",
        "<table border=\"1\" class=\"dataframe\">\n",
        "  <thead>\n",
        "    <tr style=\"text-align: right;\">\n",
        "      <th></th>\n",
        "      <th>Fund_Ticker</th>\n",
        "      <th>Benchmark_Index</th>\n",
        "      <th>R_Squared</th>\n",
        "      <th>Beta</th>\n",
        "      <th>Alpha</th>\n",
        "      <th>Treynor_Ratio</th>\n",
        "      <th>Currency</th>\n",
        "      <th>Year_Trailing</th>\n",
        "      <th>Std_Dev</th>\n",
        "      <th>Return</th>\n",
        "      <th>Sharpe_Ratio</th>\n",
        "      <th>Sortino_Ratio</th>\n",
        "    </tr>\n",
        "  </thead>\n",
        "  <tbody>\n",
        "    <tr>\n",
        "      <th>2   </th>\n",
        "      <td> JNBAX</td>\n",
        "      <td> Morningstar Moderate Target Risk</td>\n",
        "      <td>    86.54</td>\n",
        "      <td>     0.92</td>\n",
        "      <td>     0.93</td>\n",
        "      <td>  11.82</td>\n",
        "      <td> USD</td>\n",
        "      <td> 3</td>\n",
        "      <td>     6.30</td>\n",
        "      <td>    10.92</td>\n",
        "      <td>     1.67</td>\n",
        "      <td>     3.00</td>\n",
        "    </tr>\n",
        "    <tr>\n",
        "      <th>3   </th>\n",
        "      <td> FIOFX</td>\n",
        "      <td> Morningstar Moderate Target Risk</td>\n",
        "      <td>    97.12</td>\n",
        "      <td>     1.29</td>\n",
        "      <td>    -0.77</td>\n",
        "      <td>  10.17</td>\n",
        "      <td> USD</td>\n",
        "      <td> 3</td>\n",
        "      <td>     8.35</td>\n",
        "      <td>    13.18</td>\n",
        "      <td>     1.52</td>\n",
        "      <td>     2.60</td>\n",
        "    </tr>\n",
        "    <tr>\n",
        "      <th>4   </th>\n",
        "      <td> FGLLX</td>\n",
        "      <td>          MSCI ACWI Ex USA NR USD</td>\n",
        "      <td>-10001.00</td>\n",
        "      <td>-10001.00</td>\n",
        "      <td>-10001.00</td>\n",
        "      <td>      \u2014</td>\n",
        "      <td> USD</td>\n",
        "      <td> 3</td>\n",
        "      <td>-10001.00</td>\n",
        "      <td>-10001.00</td>\n",
        "      <td>-10001.00</td>\n",
        "      <td>-10001.00</td>\n",
        "    </tr>\n",
        "    <tr>\n",
        "      <th>5   </th>\n",
        "      <td> PTTRX</td>\n",
        "      <td>      Barclays US Agg Bond TR USD</td>\n",
        "      <td>    83.35</td>\n",
        "      <td>     1.24</td>\n",
        "      <td>     1.28</td>\n",
        "      <td>   4.00</td>\n",
        "      <td> USD</td>\n",
        "      <td> 3</td>\n",
        "      <td>     3.68</td>\n",
        "      <td>     5.03</td>\n",
        "      <td>     1.34</td>\n",
        "      <td>     2.18</td>\n",
        "    </tr>\n",
        "    <tr>\n",
        "      <th>6   </th>\n",
        "      <td> TAEMX</td>\n",
        "      <td>          MSCI ACWI Ex USA NR USD</td>\n",
        "      <td>    79.80</td>\n",
        "      <td>     0.91</td>\n",
        "      <td>    -7.68</td>\n",
        "      <td>   0.90</td>\n",
        "      <td> USD</td>\n",
        "      <td> 3</td>\n",
        "      <td>    13.02</td>\n",
        "      <td>     0.88</td>\n",
        "      <td>     0.13</td>\n",
        "      <td>     0.18</td>\n",
        "    </tr>\n",
        "    <tr>\n",
        "      <th>7   </th>\n",
        "      <td> VGPMX</td>\n",
        "      <td>                 MSCI ACWI NR USD</td>\n",
        "      <td>    29.24</td>\n",
        "      <td>     1.31</td>\n",
        "      <td>   -43.33</td>\n",
        "      <td> -18.80</td>\n",
        "      <td> USD</td>\n",
        "      <td> 3</td>\n",
        "      <td>    25.40</td>\n",
        "      <td>   -24.48</td>\n",
        "      <td>    -0.97</td>\n",
        "      <td>    -1.14</td>\n",
        "    </tr>\n",
        "    <tr>\n",
        "      <th>8   </th>\n",
        "      <td> FEKPX</td>\n",
        "      <td> Morningstar Moderate Target Risk</td>\n",
        "      <td>-10001.00</td>\n",
        "      <td>-10001.00</td>\n",
        "      <td>-10001.00</td>\n",
        "      <td>      \u2014</td>\n",
        "      <td> USD</td>\n",
        "      <td> 3</td>\n",
        "      <td>-10001.00</td>\n",
        "      <td>-10001.00</td>\n",
        "      <td>-10001.00</td>\n",
        "      <td>-10001.00</td>\n",
        "    </tr>\n",
        "    <tr>\n",
        "      <th>9   </th>\n",
        "      <td> PRGTX</td>\n",
        "      <td>                 MSCI ACWI NR USD</td>\n",
        "      <td>    56.49</td>\n",
        "      <td>     1.05</td>\n",
        "      <td>    10.49</td>\n",
        "      <td>  26.14</td>\n",
        "      <td> USD</td>\n",
        "      <td> 3</td>\n",
        "      <td>    14.70</td>\n",
        "      <td>    27.52</td>\n",
        "      <td>     1.74</td>\n",
        "      <td>     3.39</td>\n",
        "    </tr>\n",
        "    <tr>\n",
        "      <th>10  </th>\n",
        "      <td> FOSFX</td>\n",
        "      <td>          MSCI ACWI Ex USA NR USD</td>\n",
        "      <td>    90.80</td>\n",
        "      <td>     0.95</td>\n",
        "      <td>     4.53</td>\n",
        "      <td>  15.09</td>\n",
        "      <td> USD</td>\n",
        "      <td> 3</td>\n",
        "      <td>    12.76</td>\n",
        "      <td>    14.42</td>\n",
        "      <td>     1.12</td>\n",
        "      <td>     1.88</td>\n",
        "    </tr>\n",
        "    <tr>\n",
        "      <th>11  </th>\n",
        "      <td> OARAX</td>\n",
        "      <td> Morningstar Moderate Target Risk</td>\n",
        "      <td>    33.27</td>\n",
        "      <td>     0.36</td>\n",
        "      <td>     1.90</td>\n",
        "      <td>  15.94</td>\n",
        "      <td> USD</td>\n",
        "      <td> 3</td>\n",
        "      <td>     3.98</td>\n",
        "      <td>     5.79</td>\n",
        "      <td>     1.42</td>\n",
        "      <td>     2.57</td>\n",
        "    </tr>\n",
        "    <tr>\n",
        "      <th>12  </th>\n",
        "      <td> VMRGX</td>\n",
        "      <td>                   S&amp;P 500 TR USD</td>\n",
        "      <td>    83.25</td>\n",
        "      <td>     1.12</td>\n",
        "      <td>    -3.23</td>\n",
        "      <td>  17.46</td>\n",
        "      <td> USD</td>\n",
        "      <td> 3</td>\n",
        "      <td>    11.07</td>\n",
        "      <td>    19.56</td>\n",
        "      <td>     1.67</td>\n",
        "      <td>     3.26</td>\n",
        "    </tr>\n",
        "    <tr>\n",
        "      <th>13  </th>\n",
        "      <td> FSTFX</td>\n",
        "      <td>        Barclays Municipal TR USD</td>\n",
        "      <td>    86.77</td>\n",
        "      <td>     0.32</td>\n",
        "      <td>     0.28</td>\n",
        "      <td>   5.60</td>\n",
        "      <td> USD</td>\n",
        "      <td> 3</td>\n",
        "      <td>     1.32</td>\n",
        "      <td>     1.87</td>\n",
        "      <td>     1.36</td>\n",
        "      <td>     2.39</td>\n",
        "    </tr>\n",
        "    <tr>\n",
        "      <th>14  </th>\n",
        "      <td> OIBAX</td>\n",
        "      <td>      Barclays US Agg Bond TR USD</td>\n",
        "      <td>    36.07</td>\n",
        "      <td>     1.21</td>\n",
        "      <td>    -0.79</td>\n",
        "      <td>   2.19</td>\n",
        "      <td> USD</td>\n",
        "      <td> 3</td>\n",
        "      <td>     5.46</td>\n",
        "      <td>     2.71</td>\n",
        "      <td>     0.51</td>\n",
        "      <td>     0.70</td>\n",
        "    </tr>\n",
        "    <tr>\n",
        "      <th>15  </th>\n",
        "      <td> PDVAX</td>\n",
        "      <td>      Barclays US Agg Bond TR USD</td>\n",
        "      <td>    58.16</td>\n",
        "      <td>     1.41</td>\n",
        "      <td>     2.14</td>\n",
        "      <td>   4.50</td>\n",
        "      <td> USD</td>\n",
        "      <td> 3</td>\n",
        "      <td>     5.02</td>\n",
        "      <td>     6.41</td>\n",
        "      <td>     1.25</td>\n",
        "      <td>     1.93</td>\n",
        "    </tr>\n",
        "    <tr>\n",
        "      <th>16  </th>\n",
        "      <td> VIVAX</td>\n",
        "      <td>                   S&amp;P 500 TR USD</td>\n",
        "      <td>    92.85</td>\n",
        "      <td>     0.96</td>\n",
        "      <td>     0.66</td>\n",
        "      <td>  21.58</td>\n",
        "      <td> USD</td>\n",
        "      <td> 3</td>\n",
        "      <td>     9.02</td>\n",
        "      <td>    20.80</td>\n",
        "      <td>     2.15</td>\n",
        "      <td>     4.10</td>\n",
        "    </tr>\n",
        "    <tr>\n",
        "      <th>17  </th>\n",
        "      <td> VSMGX</td>\n",
        "      <td> Morningstar Moderate Target Risk</td>\n",
        "      <td>    98.52</td>\n",
        "      <td>     0.95</td>\n",
        "      <td>     1.20</td>\n",
        "      <td>  12.14</td>\n",
        "      <td> USD</td>\n",
        "      <td> 3</td>\n",
        "      <td>     6.10</td>\n",
        "      <td>    11.58</td>\n",
        "      <td>     1.82</td>\n",
        "      <td>     3.36</td>\n",
        "    </tr>\n",
        "    <tr>\n",
        "      <th>18  </th>\n",
        "      <td> FSRAX</td>\n",
        "      <td> Morningstar Moderate Target Risk</td>\n",
        "      <td>    51.68</td>\n",
        "      <td>     0.56</td>\n",
        "      <td>    -3.07</td>\n",
        "      <td>   4.86</td>\n",
        "      <td> USD</td>\n",
        "      <td> 3</td>\n",
        "      <td>     5.01</td>\n",
        "      <td>     2.81</td>\n",
        "      <td>     0.56</td>\n",
        "      <td>     0.83</td>\n",
        "    </tr>\n",
        "    <tr>\n",
        "      <th>19  </th>\n",
        "      <td> PSILX</td>\n",
        "      <td>          MSCI ACWI Ex USA NR USD</td>\n",
        "      <td>    96.59</td>\n",
        "      <td>     0.94</td>\n",
        "      <td>     1.76</td>\n",
        "      <td>  11.91</td>\n",
        "      <td> USD</td>\n",
        "      <td> 3</td>\n",
        "      <td>    12.25</td>\n",
        "      <td>    11.28</td>\n",
        "      <td>     0.93</td>\n",
        "      <td>     1.50</td>\n",
        "    </tr>\n",
        "    <tr>\n",
        "      <th>20  </th>\n",
        "      <td> PRTIX</td>\n",
        "      <td>      Barclays US Agg Bond TR USD</td>\n",
        "      <td>    88.53</td>\n",
        "      <td>     1.22</td>\n",
        "      <td>    -2.21</td>\n",
        "      <td>   1.08</td>\n",
        "      <td> USD</td>\n",
        "      <td> 3</td>\n",
        "      <td>     3.52</td>\n",
        "      <td>     1.38</td>\n",
        "      <td>     0.39</td>\n",
        "      <td>     0.59</td>\n",
        "    </tr>\n",
        "    <tr>\n",
        "      <th>21  </th>\n",
        "      <td> FDGFX</td>\n",
        "      <td>                   S&amp;P 500 TR USD</td>\n",
        "      <td>    91.50</td>\n",
        "      <td>     1.13</td>\n",
        "      <td>    -2.59</td>\n",
        "      <td>  18.24</td>\n",
        "      <td> USD</td>\n",
        "      <td> 3</td>\n",
        "      <td>    10.66</td>\n",
        "      <td>    20.63</td>\n",
        "      <td>     1.82</td>\n",
        "      <td>     3.33</td>\n",
        "    </tr>\n",
        "    <tr>\n",
        "      <th>22  </th>\n",
        "      <td> ABALX</td>\n",
        "      <td> Morningstar Moderate Target Risk</td>\n",
        "      <td>    89.57</td>\n",
        "      <td>     0.99</td>\n",
        "      <td>     4.06</td>\n",
        "      <td>  15.33</td>\n",
        "      <td> USD</td>\n",
        "      <td> 3</td>\n",
        "      <td>     6.68</td>\n",
        "      <td>    15.24</td>\n",
        "      <td>     2.16</td>\n",
        "      <td>     4.06</td>\n",
        "    </tr>\n",
        "    <tr>\n",
        "      <th>23  </th>\n",
        "      <td> PRDMX</td>\n",
        "      <td>                   S&amp;P 500 TR USD</td>\n",
        "      <td>    76.94</td>\n",
        "      <td>     1.14</td>\n",
        "      <td>    -3.57</td>\n",
        "      <td>  17.16</td>\n",
        "      <td> USD</td>\n",
        "      <td> 3</td>\n",
        "      <td>    11.77</td>\n",
        "      <td>    19.65</td>\n",
        "      <td>     1.59</td>\n",
        "      <td>     3.13</td>\n",
        "    </tr>\n",
        "    <tr>\n",
        "      <th>24  </th>\n",
        "      <td> EQPIX</td>\n",
        "      <td>                   S&amp;P 500 TR USD</td>\n",
        "      <td>    90.70</td>\n",
        "      <td>     0.90</td>\n",
        "      <td>     0.01</td>\n",
        "      <td>  20.70</td>\n",
        "      <td> USD</td>\n",
        "      <td> 3</td>\n",
        "      <td>     8.55</td>\n",
        "      <td>    18.70</td>\n",
        "      <td>     2.05</td>\n",
        "      <td>     3.75</td>\n",
        "    </tr>\n",
        "    <tr>\n",
        "      <th>25  </th>\n",
        "      <td> PRFDX</td>\n",
        "      <td>                   S&amp;P 500 TR USD</td>\n",
        "      <td>    93.59</td>\n",
        "      <td>     0.94</td>\n",
        "      <td>    -1.00</td>\n",
        "      <td>  19.50</td>\n",
        "      <td> USD</td>\n",
        "      <td> 3</td>\n",
        "      <td>     8.75</td>\n",
        "      <td>    18.32</td>\n",
        "      <td>     1.97</td>\n",
        "      <td>     3.53</td>\n",
        "    </tr>\n",
        "    <tr>\n",
        "      <th>26  </th>\n",
        "      <td> CCMAX</td>\n",
        "      <td>                   S&amp;P 500 TR USD</td>\n",
        "      <td>    72.11</td>\n",
        "      <td>     1.00</td>\n",
        "      <td>    -0.83</td>\n",
        "      <td>  19.71</td>\n",
        "      <td> USD</td>\n",
        "      <td> 3</td>\n",
        "      <td>    10.69</td>\n",
        "      <td>    19.84</td>\n",
        "      <td>     1.75</td>\n",
        "      <td>     3.62</td>\n",
        "    </tr>\n",
        "    <tr>\n",
        "      <th>27  </th>\n",
        "      <td> FNCMX</td>\n",
        "      <td>                   S&amp;P 500 TR USD</td>\n",
        "      <td>    80.89</td>\n",
        "      <td>     1.14</td>\n",
        "      <td>    -0.21</td>\n",
        "      <td>  20.71</td>\n",
        "      <td> USD</td>\n",
        "      <td> 3</td>\n",
        "      <td>    11.45</td>\n",
        "      <td>    23.65</td>\n",
        "      <td>     1.92</td>\n",
        "      <td>     3.98</td>\n",
        "    </tr>\n",
        "    <tr>\n",
        "      <th>28  </th>\n",
        "      <td> FISCX</td>\n",
        "      <td> Morningstar Moderate Target Risk</td>\n",
        "      <td>    78.05</td>\n",
        "      <td>     1.11</td>\n",
        "      <td>     2.10</td>\n",
        "      <td>  12.85</td>\n",
        "      <td> USD</td>\n",
        "      <td> 3</td>\n",
        "      <td>     8.01</td>\n",
        "      <td>    14.31</td>\n",
        "      <td>     1.71</td>\n",
        "      <td>     3.43</td>\n",
        "    </tr>\n",
        "    <tr>\n",
        "      <th>29  </th>\n",
        "      <td> MAIOX</td>\n",
        "      <td>          MSCI ACWI Ex USA NR USD</td>\n",
        "      <td>    79.54</td>\n",
        "      <td>     0.93</td>\n",
        "      <td>     0.56</td>\n",
        "      <td>  10.34</td>\n",
        "      <td> USD</td>\n",
        "      <td> 3</td>\n",
        "      <td>    13.34</td>\n",
        "      <td>     9.69</td>\n",
        "      <td>     0.76</td>\n",
        "      <td>     1.13</td>\n",
        "    </tr>\n",
        "    <tr>\n",
        "      <th>30  </th>\n",
        "      <td> PRWBX</td>\n",
        "      <td>      Barclays US Agg Bond TR USD</td>\n",
        "      <td>    47.63</td>\n",
        "      <td>     0.21</td>\n",
        "      <td>     0.79</td>\n",
        "      <td>   6.71</td>\n",
        "      <td> USD</td>\n",
        "      <td> 3</td>\n",
        "      <td>     0.84</td>\n",
        "      <td>     1.49</td>\n",
        "      <td>     1.70</td>\n",
        "      <td>     3.30</td>\n",
        "    </tr>\n",
        "    <tr>\n",
        "      <th>31  </th>\n",
        "      <td> BACHX</td>\n",
        "      <td>          MSCI ACWI Ex USA NR USD</td>\n",
        "      <td>    64.17</td>\n",
        "      <td>     1.06</td>\n",
        "      <td>    -3.02</td>\n",
        "      <td>   6.26</td>\n",
        "      <td> USD</td>\n",
        "      <td> 3</td>\n",
        "      <td>    16.84</td>\n",
        "      <td>     6.67</td>\n",
        "      <td>     0.46</td>\n",
        "      <td>     0.71</td>\n",
        "    </tr>\n",
        "    <tr>\n",
        "      <th>...</th>\n",
        "      <td>...</td>\n",
        "      <td>...</td>\n",
        "      <td>...</td>\n",
        "      <td>...</td>\n",
        "      <td>...</td>\n",
        "      <td>...</td>\n",
        "      <td>...</td>\n",
        "      <td>...</td>\n",
        "      <td>...</td>\n",
        "      <td>...</td>\n",
        "      <td>...</td>\n",
        "      <td>...</td>\n",
        "    </tr>\n",
        "    <tr>\n",
        "      <th>1241</th>\n",
        "      <td> PRSCX</td>\n",
        "      <td>                 MSCI ACWI NR USD</td>\n",
        "      <td>    58.24</td>\n",
        "      <td>     1.12</td>\n",
        "      <td>     2.89</td>\n",
        "      <td>  17.23</td>\n",
        "      <td> USD</td>\n",
        "      <td> 3</td>\n",
        "      <td>    15.47</td>\n",
        "      <td>    19.40</td>\n",
        "      <td>     1.23</td>\n",
        "      <td>     2.04</td>\n",
        "    </tr>\n",
        "    <tr>\n",
        "      <th>1242</th>\n",
        "      <td> ABDAX</td>\n",
        "      <td> Morningstar Moderate Target Risk</td>\n",
        "      <td>    77.05</td>\n",
        "      <td>     0.45</td>\n",
        "      <td>     1.38</td>\n",
        "      <td>  13.80</td>\n",
        "      <td> USD</td>\n",
        "      <td> 3</td>\n",
        "      <td>     3.28</td>\n",
        "      <td>     6.30</td>\n",
        "      <td>     1.86</td>\n",
        "      <td>     3.40</td>\n",
        "    </tr>\n",
        "    <tr>\n",
        "      <th>1243</th>\n",
        "      <td> FCNTX</td>\n",
        "      <td>                   S&amp;P 500 TR USD</td>\n",
        "      <td>    83.49</td>\n",
        "      <td>     1.00</td>\n",
        "      <td>    -1.23</td>\n",
        "      <td>  19.31</td>\n",
        "      <td> USD</td>\n",
        "      <td> 3</td>\n",
        "      <td>     9.88</td>\n",
        "      <td>    19.33</td>\n",
        "      <td>     1.84</td>\n",
        "      <td>     3.78</td>\n",
        "    </tr>\n",
        "    <tr>\n",
        "      <th>1244</th>\n",
        "      <td> VSCOX</td>\n",
        "      <td>                   S&amp;P 500 TR USD</td>\n",
        "      <td>    55.95</td>\n",
        "      <td>     1.23</td>\n",
        "      <td>    -7.10</td>\n",
        "      <td>  13.82</td>\n",
        "      <td> USD</td>\n",
        "      <td> 3</td>\n",
        "      <td>    14.88</td>\n",
        "      <td>    17.07</td>\n",
        "      <td>     1.14</td>\n",
        "      <td>     1.89</td>\n",
        "    </tr>\n",
        "    <tr>\n",
        "      <th>1245</th>\n",
        "      <td> FEYPX</td>\n",
        "      <td> Morningstar Moderate Target Risk</td>\n",
        "      <td>-10001.00</td>\n",
        "      <td>-10001.00</td>\n",
        "      <td>-10001.00</td>\n",
        "      <td>      \u2014</td>\n",
        "      <td> USD</td>\n",
        "      <td> 3</td>\n",
        "      <td>-10001.00</td>\n",
        "      <td>-10001.00</td>\n",
        "      <td>-10001.00</td>\n",
        "      <td>-10001.00</td>\n",
        "    </tr>\n",
        "    <tr>\n",
        "      <th>1246</th>\n",
        "      <td> SAIAX</td>\n",
        "      <td>      Barclays US Agg Bond TR USD</td>\n",
        "      <td>-10001.00</td>\n",
        "      <td>-10001.00</td>\n",
        "      <td>-10001.00</td>\n",
        "      <td>      \u2014</td>\n",
        "      <td> USD</td>\n",
        "      <td> 3</td>\n",
        "      <td>-10001.00</td>\n",
        "      <td>-10001.00</td>\n",
        "      <td>-10001.00</td>\n",
        "      <td>-10001.00</td>\n",
        "    </tr>\n",
        "    <tr>\n",
        "      <th>1247</th>\n",
        "      <td> FSODX</td>\n",
        "      <td>        Barclays Municipal TR USD</td>\n",
        "      <td>-10001.00</td>\n",
        "      <td>-10001.00</td>\n",
        "      <td>-10001.00</td>\n",
        "      <td>      \u2014</td>\n",
        "      <td> USD</td>\n",
        "      <td> 3</td>\n",
        "      <td>-10001.00</td>\n",
        "      <td>-10001.00</td>\n",
        "      <td>-10001.00</td>\n",
        "      <td>-10001.00</td>\n",
        "    </tr>\n",
        "    <tr>\n",
        "      <th>1248</th>\n",
        "      <td> AACTX</td>\n",
        "      <td> Morningstar Moderate Target Risk</td>\n",
        "      <td>    96.37</td>\n",
        "      <td>     0.96</td>\n",
        "      <td>     2.23</td>\n",
        "      <td>  13.31</td>\n",
        "      <td> USD</td>\n",
        "      <td> 3</td>\n",
        "      <td>     6.27</td>\n",
        "      <td>    12.90</td>\n",
        "      <td>     1.96</td>\n",
        "      <td>     3.64</td>\n",
        "    </tr>\n",
        "    <tr>\n",
        "      <th>1249</th>\n",
        "      <td> PONAX</td>\n",
        "      <td>      Barclays US Agg Bond TR USD</td>\n",
        "      <td>    33.89</td>\n",
        "      <td>     0.85</td>\n",
        "      <td>     8.67</td>\n",
        "      <td>  13.75</td>\n",
        "      <td> USD</td>\n",
        "      <td> 3</td>\n",
        "      <td>     3.96</td>\n",
        "      <td>    11.74</td>\n",
        "      <td>     2.82</td>\n",
        "      <td>     5.76</td>\n",
        "    </tr>\n",
        "    <tr>\n",
        "      <th>1250</th>\n",
        "      <td> FRPAX</td>\n",
        "      <td>        Barclays Municipal TR USD</td>\n",
        "      <td>    94.27</td>\n",
        "      <td>     1.24</td>\n",
        "      <td>    -1.68</td>\n",
        "      <td>   3.31</td>\n",
        "      <td> USD</td>\n",
        "      <td> 3</td>\n",
        "      <td>     4.88</td>\n",
        "      <td>     4.16</td>\n",
        "      <td>     0.85</td>\n",
        "      <td>     1.34</td>\n",
        "    </tr>\n",
        "    <tr>\n",
        "      <th>1251</th>\n",
        "      <td> INUTX</td>\n",
        "      <td>                   S&amp;P 500 TR USD</td>\n",
        "      <td>    88.58</td>\n",
        "      <td>     0.86</td>\n",
        "      <td>    -0.42</td>\n",
        "      <td>  20.05</td>\n",
        "      <td> USD</td>\n",
        "      <td> 3</td>\n",
        "      <td>     8.25</td>\n",
        "      <td>    17.28</td>\n",
        "      <td>     1.98</td>\n",
        "      <td>     3.66</td>\n",
        "    </tr>\n",
        "    <tr>\n",
        "      <th>1252</th>\n",
        "      <td> VFICX</td>\n",
        "      <td>      Barclays US Agg Bond TR USD</td>\n",
        "      <td>    86.25</td>\n",
        "      <td>     1.22</td>\n",
        "      <td>     1.50</td>\n",
        "      <td>   4.22</td>\n",
        "      <td> USD</td>\n",
        "      <td> 3</td>\n",
        "      <td>     3.55</td>\n",
        "      <td>     5.19</td>\n",
        "      <td>     1.43</td>\n",
        "      <td>     2.43</td>\n",
        "    </tr>\n",
        "    <tr>\n",
        "      <th>1253</th>\n",
        "      <td> ACRNX</td>\n",
        "      <td>                   S&amp;P 500 TR USD</td>\n",
        "      <td>    72.68</td>\n",
        "      <td>     1.15</td>\n",
        "      <td>    -7.39</td>\n",
        "      <td>  13.29</td>\n",
        "      <td> USD</td>\n",
        "      <td> 3</td>\n",
        "      <td>    12.20</td>\n",
        "      <td>    15.35</td>\n",
        "      <td>     1.23</td>\n",
        "      <td>     2.28</td>\n",
        "    </tr>\n",
        "    <tr>\n",
        "      <th>1254</th>\n",
        "      <td> FCTFX</td>\n",
        "      <td>        Barclays Municipal TR USD</td>\n",
        "      <td>    98.94</td>\n",
        "      <td>     1.05</td>\n",
        "      <td>     1.04</td>\n",
        "      <td>   5.76</td>\n",
        "      <td> USD</td>\n",
        "      <td> 3</td>\n",
        "      <td>     4.04</td>\n",
        "      <td>     6.11</td>\n",
        "      <td>     1.48</td>\n",
        "      <td>     2.80</td>\n",
        "    </tr>\n",
        "    <tr>\n",
        "      <th>1255</th>\n",
        "      <td> FATWX</td>\n",
        "      <td> Morningstar Moderate Target Risk</td>\n",
        "      <td>    97.50</td>\n",
        "      <td>     1.11</td>\n",
        "      <td>    -0.36</td>\n",
        "      <td>  10.43</td>\n",
        "      <td> USD</td>\n",
        "      <td> 3</td>\n",
        "      <td>     7.15</td>\n",
        "      <td>    11.60</td>\n",
        "      <td>     1.57</td>\n",
        "      <td>     2.75</td>\n",
        "    </tr>\n",
        "    <tr>\n",
        "      <th>1256</th>\n",
        "      <td> PRSMX</td>\n",
        "      <td>        Barclays Municipal TR USD</td>\n",
        "      <td>    97.38</td>\n",
        "      <td>     0.85</td>\n",
        "      <td>     0.05</td>\n",
        "      <td>   4.78</td>\n",
        "      <td> USD</td>\n",
        "      <td> 3</td>\n",
        "      <td>     3.30</td>\n",
        "      <td>     4.13</td>\n",
        "      <td>     1.22</td>\n",
        "      <td>     2.11</td>\n",
        "    </tr>\n",
        "    <tr>\n",
        "      <th>1257</th>\n",
        "      <td> PAUIX</td>\n",
        "      <td> Morningstar Moderate Target Risk</td>\n",
        "      <td>    61.02</td>\n",
        "      <td>     0.90</td>\n",
        "      <td>    -4.98</td>\n",
        "      <td>   4.73</td>\n",
        "      <td> USD</td>\n",
        "      <td> 3</td>\n",
        "      <td>     7.35</td>\n",
        "      <td>     4.32</td>\n",
        "      <td>     0.60</td>\n",
        "      <td>     0.90</td>\n",
        "    </tr>\n",
        "    <tr>\n",
        "      <th>1258</th>\n",
        "      <td> IGLGX</td>\n",
        "      <td>          MSCI ACWI Ex USA NR USD</td>\n",
        "      <td>    83.83</td>\n",
        "      <td>     0.81</td>\n",
        "      <td>     5.72</td>\n",
        "      <td>  17.63</td>\n",
        "      <td> USD</td>\n",
        "      <td> 3</td>\n",
        "      <td>    11.26</td>\n",
        "      <td>    14.29</td>\n",
        "      <td>     1.24</td>\n",
        "      <td>     2.04</td>\n",
        "    </tr>\n",
        "    <tr>\n",
        "      <th>1259</th>\n",
        "      <td> FHFAX</td>\n",
        "      <td> Morningstar Moderate Target Risk</td>\n",
        "      <td>    96.20</td>\n",
        "      <td>     1.40</td>\n",
        "      <td>    -0.86</td>\n",
        "      <td>  10.17</td>\n",
        "      <td> USD</td>\n",
        "      <td> 3</td>\n",
        "      <td>     9.12</td>\n",
        "      <td>    14.33</td>\n",
        "      <td>     1.51</td>\n",
        "      <td>     2.58</td>\n",
        "    </tr>\n",
        "    <tr>\n",
        "      <th>1260</th>\n",
        "      <td> VWEHX</td>\n",
        "      <td>      Barclays US Agg Bond TR USD</td>\n",
        "      <td>    38.40</td>\n",
        "      <td>     1.03</td>\n",
        "      <td>     5.50</td>\n",
        "      <td>   8.49</td>\n",
        "      <td> USD</td>\n",
        "      <td> 3</td>\n",
        "      <td>     4.53</td>\n",
        "      <td>     8.84</td>\n",
        "      <td>     1.89</td>\n",
        "      <td>     3.61</td>\n",
        "    </tr>\n",
        "    <tr>\n",
        "      <th>1261</th>\n",
        "      <td> BRAMX</td>\n",
        "      <td>      Barclays US Agg Bond TR USD</td>\n",
        "      <td>    81.12</td>\n",
        "      <td>     1.06</td>\n",
        "      <td>     0.76</td>\n",
        "      <td>   3.68</td>\n",
        "      <td> USD</td>\n",
        "      <td> 3</td>\n",
        "      <td>     3.18</td>\n",
        "      <td>     3.95</td>\n",
        "      <td>     1.21</td>\n",
        "      <td>     2.22</td>\n",
        "    </tr>\n",
        "    <tr>\n",
        "      <th>1262</th>\n",
        "      <td> PYMAX</td>\n",
        "      <td>        Barclays Municipal TR USD</td>\n",
        "      <td>    86.06</td>\n",
        "      <td>     1.35</td>\n",
        "      <td>     0.64</td>\n",
        "      <td>   5.22</td>\n",
        "      <td> USD</td>\n",
        "      <td> 3</td>\n",
        "      <td>     5.58</td>\n",
        "      <td>     7.12</td>\n",
        "      <td>     1.25</td>\n",
        "      <td>     1.92</td>\n",
        "    </tr>\n",
        "    <tr>\n",
        "      <th>1263</th>\n",
        "      <td> VBISX</td>\n",
        "      <td>      Barclays US Agg Bond TR USD</td>\n",
        "      <td>    81.80</td>\n",
        "      <td>     0.34</td>\n",
        "      <td>     0.22</td>\n",
        "      <td>   3.61</td>\n",
        "      <td> USD</td>\n",
        "      <td> 3</td>\n",
        "      <td>     1.01</td>\n",
        "      <td>     1.28</td>\n",
        "      <td>     1.20</td>\n",
        "      <td>     2.14</td>\n",
        "    </tr>\n",
        "    <tr>\n",
        "      <th>1264</th>\n",
        "      <td> INTAX</td>\n",
        "      <td>        Barclays Municipal TR USD</td>\n",
        "      <td>    96.10</td>\n",
        "      <td>     1.20</td>\n",
        "      <td>     0.75</td>\n",
        "      <td>   5.38</td>\n",
        "      <td> USD</td>\n",
        "      <td> 3</td>\n",
        "      <td>     4.66</td>\n",
        "      <td>     6.49</td>\n",
        "      <td>     1.36</td>\n",
        "      <td>     2.32</td>\n",
        "    </tr>\n",
        "    <tr>\n",
        "      <th>1265</th>\n",
        "      <td> FTGAX</td>\n",
        "      <td>        Barclays Municipal TR USD</td>\n",
        "      <td>    97.05</td>\n",
        "      <td>     1.23</td>\n",
        "      <td>    -1.11</td>\n",
        "      <td>   3.78</td>\n",
        "      <td> USD</td>\n",
        "      <td> 3</td>\n",
        "      <td>     4.79</td>\n",
        "      <td>     4.73</td>\n",
        "      <td>     0.98</td>\n",
        "      <td>     1.54</td>\n",
        "    </tr>\n",
        "    <tr>\n",
        "      <th>1266</th>\n",
        "      <td> FBCVX</td>\n",
        "      <td>                   S&amp;P 500 TR USD</td>\n",
        "      <td>    90.20</td>\n",
        "      <td>     1.12</td>\n",
        "      <td>    -2.43</td>\n",
        "      <td>  18.37</td>\n",
        "      <td> USD</td>\n",
        "      <td> 3</td>\n",
        "      <td>    10.69</td>\n",
        "      <td>    20.68</td>\n",
        "      <td>     1.82</td>\n",
        "      <td>     3.23</td>\n",
        "    </tr>\n",
        "    <tr>\n",
        "      <th>1267</th>\n",
        "      <td> FAPAX</td>\n",
        "      <td>        Barclays Municipal TR USD</td>\n",
        "      <td>    78.68</td>\n",
        "      <td>     0.81</td>\n",
        "      <td>    -0.50</td>\n",
        "      <td>   4.06</td>\n",
        "      <td> USD</td>\n",
        "      <td> 3</td>\n",
        "      <td>     3.47</td>\n",
        "      <td>     3.33</td>\n",
        "      <td>     0.94</td>\n",
        "      <td>     1.65</td>\n",
        "    </tr>\n",
        "    <tr>\n",
        "      <th>1268</th>\n",
        "      <td> MBCMX</td>\n",
        "      <td>        Barclays Municipal TR USD</td>\n",
        "      <td>    94.96</td>\n",
        "      <td>     1.66</td>\n",
        "      <td>    -1.83</td>\n",
        "      <td>   3.56</td>\n",
        "      <td> USD</td>\n",
        "      <td> 3</td>\n",
        "      <td>     6.50</td>\n",
        "      <td>     5.96</td>\n",
        "      <td>     0.91</td>\n",
        "      <td>     1.45</td>\n",
        "    </tr>\n",
        "    <tr>\n",
        "      <th>1269</th>\n",
        "      <td> TRREX</td>\n",
        "      <td>                 MSCI ACWI NR USD</td>\n",
        "      <td>    28.95</td>\n",
        "      <td>     0.65</td>\n",
        "      <td>     6.96</td>\n",
        "      <td>  25.58</td>\n",
        "      <td> USD</td>\n",
        "      <td> 3</td>\n",
        "      <td>    12.76</td>\n",
        "      <td>    16.76</td>\n",
        "      <td>     1.28</td>\n",
        "      <td>     2.28</td>\n",
        "    </tr>\n",
        "    <tr>\n",
        "      <th>1270</th>\n",
        "      <td> JVAAX</td>\n",
        "      <td>                   S&amp;P 500 TR USD</td>\n",
        "      <td>    91.39</td>\n",
        "      <td>     0.95</td>\n",
        "      <td>     1.39</td>\n",
        "      <td>  22.48</td>\n",
        "      <td> USD</td>\n",
        "      <td> 3</td>\n",
        "      <td>     8.98</td>\n",
        "      <td>    21.41</td>\n",
        "      <td>     2.22</td>\n",
        "      <td>     4.15</td>\n",
        "    </tr>\n",
        "  </tbody>\n",
        "</table>\n",
        "<p>1269 rows \u00d7 12 columns</p>\n",
        "</div>"
       ],
       "metadata": {},
       "output_type": "pyout",
       "prompt_number": 493,
       "text": [
        "     Fund_Ticker                   Benchmark_Index  R_Squared      Beta  \\\n",
        "2          JNBAX  Morningstar Moderate Target Risk      86.54      0.92   \n",
        "3          FIOFX  Morningstar Moderate Target Risk      97.12      1.29   \n",
        "4          FGLLX           MSCI ACWI Ex USA NR USD  -10001.00 -10001.00   \n",
        "5          PTTRX       Barclays US Agg Bond TR USD      83.35      1.24   \n",
        "6          TAEMX           MSCI ACWI Ex USA NR USD      79.80      0.91   \n",
        "7          VGPMX                  MSCI ACWI NR USD      29.24      1.31   \n",
        "8          FEKPX  Morningstar Moderate Target Risk  -10001.00 -10001.00   \n",
        "9          PRGTX                  MSCI ACWI NR USD      56.49      1.05   \n",
        "10         FOSFX           MSCI ACWI Ex USA NR USD      90.80      0.95   \n",
        "11         OARAX  Morningstar Moderate Target Risk      33.27      0.36   \n",
        "12         VMRGX                    S&P 500 TR USD      83.25      1.12   \n",
        "13         FSTFX         Barclays Municipal TR USD      86.77      0.32   \n",
        "14         OIBAX       Barclays US Agg Bond TR USD      36.07      1.21   \n",
        "15         PDVAX       Barclays US Agg Bond TR USD      58.16      1.41   \n",
        "16         VIVAX                    S&P 500 TR USD      92.85      0.96   \n",
        "17         VSMGX  Morningstar Moderate Target Risk      98.52      0.95   \n",
        "18         FSRAX  Morningstar Moderate Target Risk      51.68      0.56   \n",
        "19         PSILX           MSCI ACWI Ex USA NR USD      96.59      0.94   \n",
        "20         PRTIX       Barclays US Agg Bond TR USD      88.53      1.22   \n",
        "21         FDGFX                    S&P 500 TR USD      91.50      1.13   \n",
        "22         ABALX  Morningstar Moderate Target Risk      89.57      0.99   \n",
        "23         PRDMX                    S&P 500 TR USD      76.94      1.14   \n",
        "24         EQPIX                    S&P 500 TR USD      90.70      0.90   \n",
        "25         PRFDX                    S&P 500 TR USD      93.59      0.94   \n",
        "26         CCMAX                    S&P 500 TR USD      72.11      1.00   \n",
        "27         FNCMX                    S&P 500 TR USD      80.89      1.14   \n",
        "28         FISCX  Morningstar Moderate Target Risk      78.05      1.11   \n",
        "29         MAIOX           MSCI ACWI Ex USA NR USD      79.54      0.93   \n",
        "30         PRWBX       Barclays US Agg Bond TR USD      47.63      0.21   \n",
        "31         BACHX           MSCI ACWI Ex USA NR USD      64.17      1.06   \n",
        "...          ...                               ...        ...       ...   \n",
        "1241       PRSCX                  MSCI ACWI NR USD      58.24      1.12   \n",
        "1242       ABDAX  Morningstar Moderate Target Risk      77.05      0.45   \n",
        "1243       FCNTX                    S&P 500 TR USD      83.49      1.00   \n",
        "1244       VSCOX                    S&P 500 TR USD      55.95      1.23   \n",
        "1245       FEYPX  Morningstar Moderate Target Risk  -10001.00 -10001.00   \n",
        "1246       SAIAX       Barclays US Agg Bond TR USD  -10001.00 -10001.00   \n",
        "1247       FSODX         Barclays Municipal TR USD  -10001.00 -10001.00   \n",
        "1248       AACTX  Morningstar Moderate Target Risk      96.37      0.96   \n",
        "1249       PONAX       Barclays US Agg Bond TR USD      33.89      0.85   \n",
        "1250       FRPAX         Barclays Municipal TR USD      94.27      1.24   \n",
        "1251       INUTX                    S&P 500 TR USD      88.58      0.86   \n",
        "1252       VFICX       Barclays US Agg Bond TR USD      86.25      1.22   \n",
        "1253       ACRNX                    S&P 500 TR USD      72.68      1.15   \n",
        "1254       FCTFX         Barclays Municipal TR USD      98.94      1.05   \n",
        "1255       FATWX  Morningstar Moderate Target Risk      97.50      1.11   \n",
        "1256       PRSMX         Barclays Municipal TR USD      97.38      0.85   \n",
        "1257       PAUIX  Morningstar Moderate Target Risk      61.02      0.90   \n",
        "1258       IGLGX           MSCI ACWI Ex USA NR USD      83.83      0.81   \n",
        "1259       FHFAX  Morningstar Moderate Target Risk      96.20      1.40   \n",
        "1260       VWEHX       Barclays US Agg Bond TR USD      38.40      1.03   \n",
        "1261       BRAMX       Barclays US Agg Bond TR USD      81.12      1.06   \n",
        "1262       PYMAX         Barclays Municipal TR USD      86.06      1.35   \n",
        "1263       VBISX       Barclays US Agg Bond TR USD      81.80      0.34   \n",
        "1264       INTAX         Barclays Municipal TR USD      96.10      1.20   \n",
        "1265       FTGAX         Barclays Municipal TR USD      97.05      1.23   \n",
        "1266       FBCVX                    S&P 500 TR USD      90.20      1.12   \n",
        "1267       FAPAX         Barclays Municipal TR USD      78.68      0.81   \n",
        "1268       MBCMX         Barclays Municipal TR USD      94.96      1.66   \n",
        "1269       TRREX                  MSCI ACWI NR USD      28.95      0.65   \n",
        "1270       JVAAX                    S&P 500 TR USD      91.39      0.95   \n",
        "\n",
        "         Alpha Treynor_Ratio Currency Year_Trailing   Std_Dev    Return  \\\n",
        "2         0.93         11.82      USD             3      6.30     10.92   \n",
        "3        -0.77         10.17      USD             3      8.35     13.18   \n",
        "4    -10001.00             \u2014      USD             3 -10001.00 -10001.00   \n",
        "5         1.28          4.00      USD             3      3.68      5.03   \n",
        "6        -7.68          0.90      USD             3     13.02      0.88   \n",
        "7       -43.33        -18.80      USD             3     25.40    -24.48   \n",
        "8    -10001.00             \u2014      USD             3 -10001.00 -10001.00   \n",
        "9        10.49         26.14      USD             3     14.70     27.52   \n",
        "10        4.53         15.09      USD             3     12.76     14.42   \n",
        "11        1.90         15.94      USD             3      3.98      5.79   \n",
        "12       -3.23         17.46      USD             3     11.07     19.56   \n",
        "13        0.28          5.60      USD             3      1.32      1.87   \n",
        "14       -0.79          2.19      USD             3      5.46      2.71   \n",
        "15        2.14          4.50      USD             3      5.02      6.41   \n",
        "16        0.66         21.58      USD             3      9.02     20.80   \n",
        "17        1.20         12.14      USD             3      6.10     11.58   \n",
        "18       -3.07          4.86      USD             3      5.01      2.81   \n",
        "19        1.76         11.91      USD             3     12.25     11.28   \n",
        "20       -2.21          1.08      USD             3      3.52      1.38   \n",
        "21       -2.59         18.24      USD             3     10.66     20.63   \n",
        "22        4.06         15.33      USD             3      6.68     15.24   \n",
        "23       -3.57         17.16      USD             3     11.77     19.65   \n",
        "24        0.01         20.70      USD             3      8.55     18.70   \n",
        "25       -1.00         19.50      USD             3      8.75     18.32   \n",
        "26       -0.83         19.71      USD             3     10.69     19.84   \n",
        "27       -0.21         20.71      USD             3     11.45     23.65   \n",
        "28        2.10         12.85      USD             3      8.01     14.31   \n",
        "29        0.56         10.34      USD             3     13.34      9.69   \n",
        "30        0.79          6.71      USD             3      0.84      1.49   \n",
        "31       -3.02          6.26      USD             3     16.84      6.67   \n",
        "...        ...           ...      ...           ...       ...       ...   \n",
        "1241      2.89         17.23      USD             3     15.47     19.40   \n",
        "1242      1.38         13.80      USD             3      3.28      6.30   \n",
        "1243     -1.23         19.31      USD             3      9.88     19.33   \n",
        "1244     -7.10         13.82      USD             3     14.88     17.07   \n",
        "1245 -10001.00             \u2014      USD             3 -10001.00 -10001.00   \n",
        "1246 -10001.00             \u2014      USD             3 -10001.00 -10001.00   \n",
        "1247 -10001.00             \u2014      USD             3 -10001.00 -10001.00   \n",
        "1248      2.23         13.31      USD             3      6.27     12.90   \n",
        "1249      8.67         13.75      USD             3      3.96     11.74   \n",
        "1250     -1.68          3.31      USD             3      4.88      4.16   \n",
        "1251     -0.42         20.05      USD             3      8.25     17.28   \n",
        "1252      1.50          4.22      USD             3      3.55      5.19   \n",
        "1253     -7.39         13.29      USD             3     12.20     15.35   \n",
        "1254      1.04          5.76      USD             3      4.04      6.11   \n",
        "1255     -0.36         10.43      USD             3      7.15     11.60   \n",
        "1256      0.05          4.78      USD             3      3.30      4.13   \n",
        "1257     -4.98          4.73      USD             3      7.35      4.32   \n",
        "1258      5.72         17.63      USD             3     11.26     14.29   \n",
        "1259     -0.86         10.17      USD             3      9.12     14.33   \n",
        "1260      5.50          8.49      USD             3      4.53      8.84   \n",
        "1261      0.76          3.68      USD             3      3.18      3.95   \n",
        "1262      0.64          5.22      USD             3      5.58      7.12   \n",
        "1263      0.22          3.61      USD             3      1.01      1.28   \n",
        "1264      0.75          5.38      USD             3      4.66      6.49   \n",
        "1265     -1.11          3.78      USD             3      4.79      4.73   \n",
        "1266     -2.43         18.37      USD             3     10.69     20.68   \n",
        "1267     -0.50          4.06      USD             3      3.47      3.33   \n",
        "1268     -1.83          3.56      USD             3      6.50      5.96   \n",
        "1269      6.96         25.58      USD             3     12.76     16.76   \n",
        "1270      1.39         22.48      USD             3      8.98     21.41   \n",
        "\n",
        "      Sharpe_Ratio  Sortino_Ratio  \n",
        "2             1.67           3.00  \n",
        "3             1.52           2.60  \n",
        "4        -10001.00      -10001.00  \n",
        "5             1.34           2.18  \n",
        "6             0.13           0.18  \n",
        "7            -0.97          -1.14  \n",
        "8        -10001.00      -10001.00  \n",
        "9             1.74           3.39  \n",
        "10            1.12           1.88  \n",
        "11            1.42           2.57  \n",
        "12            1.67           3.26  \n",
        "13            1.36           2.39  \n",
        "14            0.51           0.70  \n",
        "15            1.25           1.93  \n",
        "16            2.15           4.10  \n",
        "17            1.82           3.36  \n",
        "18            0.56           0.83  \n",
        "19            0.93           1.50  \n",
        "20            0.39           0.59  \n",
        "21            1.82           3.33  \n",
        "22            2.16           4.06  \n",
        "23            1.59           3.13  \n",
        "24            2.05           3.75  \n",
        "25            1.97           3.53  \n",
        "26            1.75           3.62  \n",
        "27            1.92           3.98  \n",
        "28            1.71           3.43  \n",
        "29            0.76           1.13  \n",
        "30            1.70           3.30  \n",
        "31            0.46           0.71  \n",
        "...            ...            ...  \n",
        "1241          1.23           2.04  \n",
        "1242          1.86           3.40  \n",
        "1243          1.84           3.78  \n",
        "1244          1.14           1.89  \n",
        "1245     -10001.00      -10001.00  \n",
        "1246     -10001.00      -10001.00  \n",
        "1247     -10001.00      -10001.00  \n",
        "1248          1.96           3.64  \n",
        "1249          2.82           5.76  \n",
        "1250          0.85           1.34  \n",
        "1251          1.98           3.66  \n",
        "1252          1.43           2.43  \n",
        "1253          1.23           2.28  \n",
        "1254          1.48           2.80  \n",
        "1255          1.57           2.75  \n",
        "1256          1.22           2.11  \n",
        "1257          0.60           0.90  \n",
        "1258          1.24           2.04  \n",
        "1259          1.51           2.58  \n",
        "1260          1.89           3.61  \n",
        "1261          1.21           2.22  \n",
        "1262          1.25           1.92  \n",
        "1263          1.20           2.14  \n",
        "1264          1.36           2.32  \n",
        "1265          0.98           1.54  \n",
        "1266          1.82           3.23  \n",
        "1267          0.94           1.65  \n",
        "1268          0.91           1.45  \n",
        "1269          1.28           2.28  \n",
        "1270          2.22           4.15  \n",
        "\n",
        "[1269 rows x 12 columns]"
       ]
      }
     ],
     "prompt_number": 493
    },
    {
     "cell_type": "code",
     "collapsed": false,
     "input": [
      "url_fund_holding = \"http://portfolios.morningstar.com/fund/holdingsExport?exportType=details&&t=XNAS:FUSEX&region=usa&culture=en-US&cur=&dataType=0&holnum=\"\n",
      "\n",
      "fund_holding =pd.read_csv(url_fund_holding)\n",
      "fund_holding"
     ],
     "language": "python",
     "metadata": {},
     "outputs": [
      {
       "html": [
        "<div style=\"max-height:1000px;max-width:1500px;overflow:auto;\">\n",
        "<table border=\"1\" class=\"dataframe\">\n",
        "  <thead>\n",
        "    <tr style=\"text-align: right;\">\n",
        "      <th></th>\n",
        "      <th>\ufeff\"Holdings\"</th>\n",
        "      <th>Weighting</th>\n",
        "      <th>Type</th>\n",
        "      <th>Ticker</th>\n",
        "      <th>Style</th>\n",
        "      <th>First Bought</th>\n",
        "      <th>Shares Owned</th>\n",
        "      <th>Shares Change</th>\n",
        "      <th>Sector</th>\n",
        "      <th>Price</th>\n",
        "      <th>...</th>\n",
        "      <th>3-Year Return</th>\n",
        "      <th>5-Year Return</th>\n",
        "      <th>Market Cap Mil</th>\n",
        "      <th>Currency</th>\n",
        "      <th>Morningstar Rating</th>\n",
        "      <th>YTD Return</th>\n",
        "      <th>P/E</th>\n",
        "      <th>Maturity Date</th>\n",
        "      <th>Coupon %</th>\n",
        "      <th>Yield to Maturity</th>\n",
        "    </tr>\n",
        "  </thead>\n",
        "  <tbody>\n",
        "    <tr>\n",
        "      <th>0 </th>\n",
        "      <td>                            Apple Inc</td>\n",
        "      <td> 3.32</td>\n",
        "      <td>                EQUITY</td>\n",
        "      <td>  AAPL</td>\n",
        "      <td>   Large Core</td>\n",
        "      <td> 1988-10-31</td>\n",
        "      <td> 26216310</td>\n",
        "      <td>   68202</td>\n",
        "      <td>             Technology</td>\n",
        "      <td>  117.6</td>\n",
        "      <td>...</td>\n",
        "      <td> 32.85</td>\n",
        "      <td>  33.3</td>\n",
        "      <td> 695716.62</td>\n",
        "      <td> USD</td>\n",
        "      <td> 2</td>\n",
        "      <td>  50.31</td>\n",
        "      <td> 18.38</td>\n",
        "      <td>          -</td>\n",
        "      <td> -</td>\n",
        "      <td> -</td>\n",
        "    </tr>\n",
        "    <tr>\n",
        "      <th>1 </th>\n",
        "      <td>              Exxon Mobil Corporation</td>\n",
        "      <td> 2.21</td>\n",
        "      <td>                EQUITY</td>\n",
        "      <td>   XOM</td>\n",
        "      <td>  Large Value</td>\n",
        "      <td> 1988-10-31</td>\n",
        "      <td> 18671839</td>\n",
        "      <td>   48957</td>\n",
        "      <td>                 Energy</td>\n",
        "      <td>  94.78</td>\n",
        "      <td>...</td>\n",
        "      <td> 11.38</td>\n",
        "      <td>  7.02</td>\n",
        "      <td> 405329.09</td>\n",
        "      <td> USD</td>\n",
        "      <td> 4</td>\n",
        "      <td>  -2.75</td>\n",
        "      <td> 12.04</td>\n",
        "      <td>          -</td>\n",
        "      <td> -</td>\n",
        "      <td> -</td>\n",
        "    </tr>\n",
        "    <tr>\n",
        "      <th>2 </th>\n",
        "      <td>                       Microsoft Corp</td>\n",
        "      <td> 2.10</td>\n",
        "      <td>                EQUITY</td>\n",
        "      <td>  MSFT</td>\n",
        "      <td>   Large Core</td>\n",
        "      <td> 2002-08-31</td>\n",
        "      <td> 36076025</td>\n",
        "      <td> 3478093</td>\n",
        "      <td>             Technology</td>\n",
        "      <td>  47.47</td>\n",
        "      <td>...</td>\n",
        "      <td> 27.35</td>\n",
        "      <td>  11.6</td>\n",
        "      <td> 392277.38</td>\n",
        "      <td> USD</td>\n",
        "      <td> 3</td>\n",
        "      <td>  30.29</td>\n",
        "      <td> 18.66</td>\n",
        "      <td>          -</td>\n",
        "      <td> -</td>\n",
        "      <td> -</td>\n",
        "    </tr>\n",
        "    <tr>\n",
        "      <th>3 </th>\n",
        "      <td>           S&amp;P 500 Index Future Dec14</td>\n",
        "      <td> 1.72</td>\n",
        "      <td> EQUITY INDEX - FUTURE</td>\n",
        "      <td>     -</td>\n",
        "      <td>            -</td>\n",
        "      <td>          -</td>\n",
        "      <td>     2781</td>\n",
        "      <td>    2781</td>\n",
        "      <td>                      -</td>\n",
        "      <td>      -</td>\n",
        "      <td>...</td>\n",
        "      <td>     -</td>\n",
        "      <td>     -</td>\n",
        "      <td>         -</td>\n",
        "      <td> USD</td>\n",
        "      <td> -</td>\n",
        "      <td>      -</td>\n",
        "      <td>     -</td>\n",
        "      <td> 2014-12-18</td>\n",
        "      <td> -</td>\n",
        "      <td> -</td>\n",
        "    </tr>\n",
        "    <tr>\n",
        "      <th>4 </th>\n",
        "      <td>                    Johnson &amp; Johnson</td>\n",
        "      <td> 1.66</td>\n",
        "      <td>                EQUITY</td>\n",
        "      <td>   JNJ</td>\n",
        "      <td>   Large Core</td>\n",
        "      <td> 1988-10-31</td>\n",
        "      <td> 12347889</td>\n",
        "      <td>   79283</td>\n",
        "      <td>             Healthcare</td>\n",
        "      <td>  106.7</td>\n",
        "      <td>...</td>\n",
        "      <td> 22.94</td>\n",
        "      <td>  13.5</td>\n",
        "      <td> 299168.91</td>\n",
        "      <td> USD</td>\n",
        "      <td> 2</td>\n",
        "      <td>  19.71</td>\n",
        "      <td> 17.72</td>\n",
        "      <td>          -</td>\n",
        "      <td> -</td>\n",
        "      <td> -</td>\n",
        "    </tr>\n",
        "    <tr>\n",
        "      <th>5 </th>\n",
        "      <td>                  General Electric Co</td>\n",
        "      <td> 1.42</td>\n",
        "      <td>                EQUITY</td>\n",
        "      <td>    GE</td>\n",
        "      <td>  Large Value</td>\n",
        "      <td> 1988-10-31</td>\n",
        "      <td> 43930825</td>\n",
        "      <td>  444663</td>\n",
        "      <td>            Industrials</td>\n",
        "      <td>  26.86</td>\n",
        "      <td>...</td>\n",
        "      <td> 25.79</td>\n",
        "      <td> 13.47</td>\n",
        "      <td> 271139.19</td>\n",
        "      <td> USD</td>\n",
        "      <td> 3</td>\n",
        "      <td>  -1.32</td>\n",
        "      <td> 18.19</td>\n",
        "      <td>          -</td>\n",
        "      <td> -</td>\n",
        "      <td> -</td>\n",
        "    </tr>\n",
        "    <tr>\n",
        "      <th>6 </th>\n",
        "      <td>       Berkshire Hathaway Inc Class B</td>\n",
        "      <td> 1.39</td>\n",
        "      <td>                EQUITY</td>\n",
        "      <td> BRK.B</td>\n",
        "      <td>   Large Core</td>\n",
        "      <td> 2010-02-28</td>\n",
        "      <td>  7981631</td>\n",
        "      <td>  173624</td>\n",
        "      <td>     Financial Services</td>\n",
        "      <td> 147.81</td>\n",
        "      <td>...</td>\n",
        "      <td>  26.5</td>\n",
        "      <td> 16.61</td>\n",
        "      <td> 343923.72</td>\n",
        "      <td> USD</td>\n",
        "      <td> 3</td>\n",
        "      <td>  24.22</td>\n",
        "      <td>  16.7</td>\n",
        "      <td>          -</td>\n",
        "      <td> -</td>\n",
        "      <td> -</td>\n",
        "    </tr>\n",
        "    <tr>\n",
        "      <th>7 </th>\n",
        "      <td>                     Wells Fargo &amp; Co</td>\n",
        "      <td> 1.36</td>\n",
        "      <td>                EQUITY</td>\n",
        "      <td>   WFC</td>\n",
        "      <td>  Large Value</td>\n",
        "      <td> 1988-10-31</td>\n",
        "      <td> 20799130</td>\n",
        "      <td>   13775</td>\n",
        "      <td>     Financial Services</td>\n",
        "      <td>  53.88</td>\n",
        "      <td>...</td>\n",
        "      <td> 35.29</td>\n",
        "      <td> 15.86</td>\n",
        "      <td>  280650.5</td>\n",
        "      <td> USD</td>\n",
        "      <td> 3</td>\n",
        "      <td>  22.14</td>\n",
        "      <td> 13.26</td>\n",
        "      <td>          -</td>\n",
        "      <td> -</td>\n",
        "      <td> -</td>\n",
        "    </tr>\n",
        "    <tr>\n",
        "      <th>8 </th>\n",
        "      <td>                  Procter &amp; Gamble Co</td>\n",
        "      <td> 1.25</td>\n",
        "      <td>                EQUITY</td>\n",
        "      <td>    PG</td>\n",
        "      <td>  Large Value</td>\n",
        "      <td> 1988-10-31</td>\n",
        "      <td> 11854746</td>\n",
        "      <td>  120146</td>\n",
        "      <td>     Consumer Defensive</td>\n",
        "      <td>   88.8</td>\n",
        "      <td>...</td>\n",
        "      <td> 15.96</td>\n",
        "      <td>  9.57</td>\n",
        "      <td> 238083.69</td>\n",
        "      <td> USD</td>\n",
        "      <td> 4</td>\n",
        "      <td>  11.34</td>\n",
        "      <td> 24.83</td>\n",
        "      <td>          -</td>\n",
        "      <td> -</td>\n",
        "      <td> -</td>\n",
        "    </tr>\n",
        "    <tr>\n",
        "      <th>9 </th>\n",
        "      <td>                         Chevron Corp</td>\n",
        "      <td> 1.25</td>\n",
        "      <td>                EQUITY</td>\n",
        "      <td>   CVX</td>\n",
        "      <td>  Large Value</td>\n",
        "      <td> 1988-10-31</td>\n",
        "      <td>  8313977</td>\n",
        "      <td>   58655</td>\n",
        "      <td>                 Energy</td>\n",
        "      <td> 116.15</td>\n",
        "      <td>...</td>\n",
        "      <td> 11.29</td>\n",
        "      <td> 11.33</td>\n",
        "      <td>    222295</td>\n",
        "      <td> USD</td>\n",
        "      <td> 4</td>\n",
        "      <td>  -2.49</td>\n",
        "      <td> 10.83</td>\n",
        "      <td>          -</td>\n",
        "      <td> -</td>\n",
        "      <td> -</td>\n",
        "    </tr>\n",
        "    <tr>\n",
        "      <th>10</th>\n",
        "      <td>                  JPMorgan Chase &amp; Co</td>\n",
        "      <td> 1.25</td>\n",
        "      <td>                EQUITY</td>\n",
        "      <td>   JPM</td>\n",
        "      <td>  Large Value</td>\n",
        "      <td> 1988-10-31</td>\n",
        "      <td> 16467786</td>\n",
        "      <td>   55092</td>\n",
        "      <td>     Financial Services</td>\n",
        "      <td>   60.3</td>\n",
        "      <td>...</td>\n",
        "      <td> 31.84</td>\n",
        "      <td>  9.22</td>\n",
        "      <td> 227879.98</td>\n",
        "      <td> USD</td>\n",
        "      <td> 3</td>\n",
        "      <td>   6.91</td>\n",
        "      <td> 11.29</td>\n",
        "      <td>          -</td>\n",
        "      <td> -</td>\n",
        "      <td> -</td>\n",
        "    </tr>\n",
        "    <tr>\n",
        "      <th>11</th>\n",
        "      <td>           Verizon Communications Inc</td>\n",
        "      <td> 1.14</td>\n",
        "      <td>                EQUITY</td>\n",
        "      <td>    VZ</td>\n",
        "      <td>  Large Value</td>\n",
        "      <td> 2000-08-31</td>\n",
        "      <td> 18148815</td>\n",
        "      <td>  190408</td>\n",
        "      <td> Communication Services</td>\n",
        "      <td>  49.34</td>\n",
        "      <td>...</td>\n",
        "      <td> 16.39</td>\n",
        "      <td> 14.85</td>\n",
        "      <td> 205411.33</td>\n",
        "      <td> USD</td>\n",
        "      <td> 2</td>\n",
        "      <td>   5.09</td>\n",
        "      <td>  10.7</td>\n",
        "      <td>          -</td>\n",
        "      <td> -</td>\n",
        "      <td> -</td>\n",
        "    </tr>\n",
        "    <tr>\n",
        "      <th>12</th>\n",
        "      <td>                           Pfizer Inc</td>\n",
        "      <td> 1.03</td>\n",
        "      <td>                EQUITY</td>\n",
        "      <td>   PFE</td>\n",
        "      <td>  Large Value</td>\n",
        "      <td> 1988-10-31</td>\n",
        "      <td> 27761811</td>\n",
        "      <td>  100017</td>\n",
        "      <td>             Healthcare</td>\n",
        "      <td>  30.47</td>\n",
        "      <td>...</td>\n",
        "      <td> 21.51</td>\n",
        "      <td> 13.59</td>\n",
        "      <td> 190405.86</td>\n",
        "      <td> USD</td>\n",
        "      <td> 3</td>\n",
        "      <td>   2.06</td>\n",
        "      <td> 18.67</td>\n",
        "      <td>          -</td>\n",
        "      <td> -</td>\n",
        "      <td> -</td>\n",
        "    </tr>\n",
        "    <tr>\n",
        "      <th>13</th>\n",
        "      <td>                             AT&amp;T Inc</td>\n",
        "      <td> 1.01</td>\n",
        "      <td>                EQUITY</td>\n",
        "      <td>     T</td>\n",
        "      <td>  Large Value</td>\n",
        "      <td> 1995-02-28</td>\n",
        "      <td> 22705545</td>\n",
        "      <td>  198717</td>\n",
        "      <td> Communication Services</td>\n",
        "      <td>  34.82</td>\n",
        "      <td>...</td>\n",
        "      <td> 13.33</td>\n",
        "      <td>  9.93</td>\n",
        "      <td> 179988.91</td>\n",
        "      <td> USD</td>\n",
        "      <td> 3</td>\n",
        "      <td>   3.92</td>\n",
        "      <td> 10.62</td>\n",
        "      <td>          -</td>\n",
        "      <td> -</td>\n",
        "      <td> -</td>\n",
        "    </tr>\n",
        "    <tr>\n",
        "      <th>14</th>\n",
        "      <td>          Bank of America Corporation</td>\n",
        "      <td> 0.99</td>\n",
        "      <td>                EQUITY</td>\n",
        "      <td>   BAC</td>\n",
        "      <td>   Large Core</td>\n",
        "      <td> 1988-10-31</td>\n",
        "      <td> 46040957</td>\n",
        "      <td>  439001</td>\n",
        "      <td>     Financial Services</td>\n",
        "      <td>   17.1</td>\n",
        "      <td>...</td>\n",
        "      <td> 49.98</td>\n",
        "      <td>  1.59</td>\n",
        "      <td> 180672.62</td>\n",
        "      <td> USD</td>\n",
        "      <td> 3</td>\n",
        "      <td>  10.79</td>\n",
        "      <td> 43.78</td>\n",
        "      <td>          -</td>\n",
        "      <td> -</td>\n",
        "      <td> -</td>\n",
        "    </tr>\n",
        "    <tr>\n",
        "      <th>15</th>\n",
        "      <td> International Business Machines Corp</td>\n",
        "      <td> 0.97</td>\n",
        "      <td>                EQUITY</td>\n",
        "      <td>   IBM</td>\n",
        "      <td>  Large Value</td>\n",
        "      <td> 1988-10-31</td>\n",
        "      <td>  4061957</td>\n",
        "      <td>  -64087</td>\n",
        "      <td>             Technology</td>\n",
        "      <td> 161.76</td>\n",
        "      <td>...</td>\n",
        "      <td> -0.86</td>\n",
        "      <td>  6.92</td>\n",
        "      <td> 160473.45</td>\n",
        "      <td> USD</td>\n",
        "      <td> 4</td>\n",
        "      <td> -11.29</td>\n",
        "      <td> 10.41</td>\n",
        "      <td>          -</td>\n",
        "      <td> -</td>\n",
        "      <td> -</td>\n",
        "    </tr>\n",
        "    <tr>\n",
        "      <th>16</th>\n",
        "      <td>                           Intel Corp</td>\n",
        "      <td> 0.95</td>\n",
        "      <td>                EQUITY</td>\n",
        "      <td>  INTC</td>\n",
        "      <td>   Large Core</td>\n",
        "      <td> 2002-08-31</td>\n",
        "      <td> 21676659</td>\n",
        "      <td>   89185</td>\n",
        "      <td>             Technology</td>\n",
        "      <td>  36.32</td>\n",
        "      <td>...</td>\n",
        "      <td> 19.69</td>\n",
        "      <td> 15.78</td>\n",
        "      <td> 175268.75</td>\n",
        "      <td> USD</td>\n",
        "      <td> 1</td>\n",
        "      <td>  43.13</td>\n",
        "      <td> 17.32</td>\n",
        "      <td>          -</td>\n",
        "      <td> -</td>\n",
        "      <td> -</td>\n",
        "    </tr>\n",
        "    <tr>\n",
        "      <th>17</th>\n",
        "      <td>                       Merck &amp; Co Inc</td>\n",
        "      <td> 0.94</td>\n",
        "      <td>                EQUITY</td>\n",
        "      <td>   MRK</td>\n",
        "      <td>  Large Value</td>\n",
        "      <td> 2009-11-30</td>\n",
        "      <td> 12629607</td>\n",
        "      <td>  -43498</td>\n",
        "      <td>             Healthcare</td>\n",
        "      <td>  59.34</td>\n",
        "      <td>...</td>\n",
        "      <td> 24.73</td>\n",
        "      <td> 13.24</td>\n",
        "      <td> 168914.25</td>\n",
        "      <td> USD</td>\n",
        "      <td> 4</td>\n",
        "      <td>  21.02</td>\n",
        "      <td> 32.43</td>\n",
        "      <td>          -</td>\n",
        "      <td> -</td>\n",
        "      <td> -</td>\n",
        "    </tr>\n",
        "    <tr>\n",
        "      <th>18</th>\n",
        "      <td>                         Coca-Cola Co</td>\n",
        "      <td> 0.93</td>\n",
        "      <td>                EQUITY</td>\n",
        "      <td>    KO</td>\n",
        "      <td>  Large Value</td>\n",
        "      <td> 1988-10-31</td>\n",
        "      <td> 17282359</td>\n",
        "      <td>  890721</td>\n",
        "      <td>     Consumer Defensive</td>\n",
        "      <td>  44.43</td>\n",
        "      <td>...</td>\n",
        "      <td> 13.61</td>\n",
        "      <td> 11.15</td>\n",
        "      <td> 193907.59</td>\n",
        "      <td> USD</td>\n",
        "      <td> 3</td>\n",
        "      <td>   9.38</td>\n",
        "      <td> 24.57</td>\n",
        "      <td>          -</td>\n",
        "      <td> -</td>\n",
        "      <td> -</td>\n",
        "    </tr>\n",
        "    <tr>\n",
        "      <th>19</th>\n",
        "      <td>                   Google Inc Class A</td>\n",
        "      <td> 0.92</td>\n",
        "      <td>                EQUITY</td>\n",
        "      <td> GOOGL</td>\n",
        "      <td> Large Growth</td>\n",
        "      <td> 2006-05-31</td>\n",
        "      <td>  1243842</td>\n",
        "      <td>   15345</td>\n",
        "      <td>             Technology</td>\n",
        "      <td> 549.23</td>\n",
        "      <td>...</td>\n",
        "      <td> 24.26</td>\n",
        "      <td> 13.41</td>\n",
        "      <td> 371391.62</td>\n",
        "      <td> USD</td>\n",
        "      <td> 3</td>\n",
        "      <td>  -2.39</td>\n",
        "      <td> 29.09</td>\n",
        "      <td>          -</td>\n",
        "      <td> -</td>\n",
        "      <td> -</td>\n",
        "    </tr>\n",
        "    <tr>\n",
        "      <th>20</th>\n",
        "      <td>                           Google Inc</td>\n",
        "      <td> 0.90</td>\n",
        "      <td>                EQUITY</td>\n",
        "      <td>  GOOG</td>\n",
        "      <td> Large Growth</td>\n",
        "      <td> 2014-04-30</td>\n",
        "      <td>  1243739</td>\n",
        "      <td>   15242</td>\n",
        "      <td>             Technology</td>\n",
        "      <td> 541.08</td>\n",
        "      <td>...</td>\n",
        "      <td>     -</td>\n",
        "      <td>     -</td>\n",
        "      <td> 365822.25</td>\n",
        "      <td> USD</td>\n",
        "      <td> 3</td>\n",
        "      <td>      -</td>\n",
        "      <td> 28.66</td>\n",
        "      <td>          -</td>\n",
        "      <td> -</td>\n",
        "      <td> -</td>\n",
        "    </tr>\n",
        "    <tr>\n",
        "      <th>21</th>\n",
        "      <td>                  Gilead Sciences Inc</td>\n",
        "      <td> 0.89</td>\n",
        "      <td>                EQUITY</td>\n",
        "      <td>  GILD</td>\n",
        "      <td> Large Growth</td>\n",
        "      <td> 2004-08-31</td>\n",
        "      <td>  6618452</td>\n",
        "      <td>  -41149</td>\n",
        "      <td>             Healthcare</td>\n",
        "      <td> 101.11</td>\n",
        "      <td>...</td>\n",
        "      <td> 71.86</td>\n",
        "      <td> 33.78</td>\n",
        "      <td> 151771.62</td>\n",
        "      <td> USD</td>\n",
        "      <td> 3</td>\n",
        "      <td>  33.95</td>\n",
        "      <td> 17.91</td>\n",
        "      <td>          -</td>\n",
        "      <td> -</td>\n",
        "      <td> -</td>\n",
        "    </tr>\n",
        "    <tr>\n",
        "      <th>22</th>\n",
        "      <td>                        Citigroup Inc</td>\n",
        "      <td> 0.87</td>\n",
        "      <td>                EQUITY</td>\n",
        "      <td>     C</td>\n",
        "      <td>   Large Core</td>\n",
        "      <td> 1996-08-31</td>\n",
        "      <td> 13273825</td>\n",
        "      <td>  100240</td>\n",
        "      <td>     Financial Services</td>\n",
        "      <td>  54.33</td>\n",
        "      <td>...</td>\n",
        "      <td> 32.36</td>\n",
        "      <td>  5.32</td>\n",
        "      <td> 164804.16</td>\n",
        "      <td> USD</td>\n",
        "      <td> 3</td>\n",
        "      <td>   4.47</td>\n",
        "      <td> 18.27</td>\n",
        "      <td>          -</td>\n",
        "      <td> -</td>\n",
        "      <td> -</td>\n",
        "    </tr>\n",
        "    <tr>\n",
        "      <th>23</th>\n",
        "      <td>                 Facebook Inc Class A</td>\n",
        "      <td> 0.85</td>\n",
        "      <td>                EQUITY</td>\n",
        "      <td>    FB</td>\n",
        "      <td> Large Growth</td>\n",
        "      <td> 2013-12-31</td>\n",
        "      <td>  8537736</td>\n",
        "      <td> 1081200</td>\n",
        "      <td>             Technology</td>\n",
        "      <td>  75.63</td>\n",
        "      <td>...</td>\n",
        "      <td>     -</td>\n",
        "      <td>     -</td>\n",
        "      <td> 206328.62</td>\n",
        "      <td> USD</td>\n",
        "      <td> 2</td>\n",
        "      <td>  35.43</td>\n",
        "      <td> 70.03</td>\n",
        "      <td>          -</td>\n",
        "      <td> -</td>\n",
        "      <td> -</td>\n",
        "    </tr>\n",
        "    <tr>\n",
        "      <th>24</th>\n",
        "      <td>                       Walt Disney Co</td>\n",
        "      <td> 0.77</td>\n",
        "      <td>                EQUITY</td>\n",
        "      <td>   DIS</td>\n",
        "      <td> Large Growth</td>\n",
        "      <td> 1988-10-31</td>\n",
        "      <td>  6914208</td>\n",
        "      <td>  -70346</td>\n",
        "      <td>      Consumer Cyclical</td>\n",
        "      <td>  91.65</td>\n",
        "      <td>...</td>\n",
        "      <td> 40.58</td>\n",
        "      <td> 25.35</td>\n",
        "      <td> 153597.48</td>\n",
        "      <td> USD</td>\n",
        "      <td> 3</td>\n",
        "      <td>  18.56</td>\n",
        "      <td> 21.24</td>\n",
        "      <td>          -</td>\n",
        "      <td> -</td>\n",
        "      <td> -</td>\n",
        "    </tr>\n",
        "    <tr>\n",
        "      <th>25</th>\n",
        "      <td>                          PepsiCo Inc</td>\n",
        "      <td> 0.77</td>\n",
        "      <td>                EQUITY</td>\n",
        "      <td>   PEP</td>\n",
        "      <td>   Large Core</td>\n",
        "      <td> 1988-10-31</td>\n",
        "      <td>  6597082</td>\n",
        "      <td>   22607</td>\n",
        "      <td>     Consumer Defensive</td>\n",
        "      <td>  98.93</td>\n",
        "      <td>...</td>\n",
        "      <td> 19.11</td>\n",
        "      <td> 11.92</td>\n",
        "      <td> 147685.08</td>\n",
        "      <td> USD</td>\n",
        "      <td> 2</td>\n",
        "      <td>  21.24</td>\n",
        "      <td> 21.83</td>\n",
        "      <td>          -</td>\n",
        "      <td> -</td>\n",
        "      <td> -</td>\n",
        "    </tr>\n",
        "    <tr>\n",
        "      <th>26</th>\n",
        "      <td>                 Comcast Corp Class A</td>\n",
        "      <td> 0.77</td>\n",
        "      <td>                EQUITY</td>\n",
        "      <td> CMCSA</td>\n",
        "      <td> Large Growth</td>\n",
        "      <td> 2003-08-31</td>\n",
        "      <td> 11331332</td>\n",
        "      <td>   57086</td>\n",
        "      <td> Communication Services</td>\n",
        "      <td>  56.62</td>\n",
        "      <td>...</td>\n",
        "      <td> 39.53</td>\n",
        "      <td> 30.87</td>\n",
        "      <td> 142774.16</td>\n",
        "      <td> USD</td>\n",
        "      <td> 2</td>\n",
        "      <td>   7.17</td>\n",
        "      <td> 17.33</td>\n",
        "      <td>          -</td>\n",
        "      <td> -</td>\n",
        "      <td> -</td>\n",
        "    </tr>\n",
        "    <tr>\n",
        "      <th>27</th>\n",
        "      <td>                      Schlumberger NV</td>\n",
        "      <td> 0.73</td>\n",
        "      <td>                EQUITY</td>\n",
        "      <td>   SLB</td>\n",
        "      <td> Large Growth</td>\n",
        "      <td> 1988-10-31</td>\n",
        "      <td>  5676106</td>\n",
        "      <td>   29051</td>\n",
        "      <td>                 Energy</td>\n",
        "      <td>   95.2</td>\n",
        "      <td>...</td>\n",
        "      <td> 15.42</td>\n",
        "      <td>  9.68</td>\n",
        "      <td> 126684.86</td>\n",
        "      <td> USD</td>\n",
        "      <td> 5</td>\n",
        "      <td>  10.59</td>\n",
        "      <td> 18.51</td>\n",
        "      <td>          -</td>\n",
        "      <td> -</td>\n",
        "      <td> -</td>\n",
        "    </tr>\n",
        "    <tr>\n",
        "      <th>28</th>\n",
        "      <td>      Philip Morris International Inc</td>\n",
        "      <td> 0.72</td>\n",
        "      <td>                EQUITY</td>\n",
        "      <td>    PM</td>\n",
        "      <td>  Large Value</td>\n",
        "      <td> 2008-03-31</td>\n",
        "      <td>  6839382</td>\n",
        "      <td>   18482</td>\n",
        "      <td>     Consumer Defensive</td>\n",
        "      <td>   86.3</td>\n",
        "      <td>...</td>\n",
        "      <td> 10.94</td>\n",
        "      <td> 15.19</td>\n",
        "      <td> 134396.36</td>\n",
        "      <td> USD</td>\n",
        "      <td> 3</td>\n",
        "      <td>   2.58</td>\n",
        "      <td> 17.35</td>\n",
        "      <td>          -</td>\n",
        "      <td> -</td>\n",
        "      <td> -</td>\n",
        "    </tr>\n",
        "    <tr>\n",
        "      <th>29</th>\n",
        "      <td>                    Cisco Systems Inc</td>\n",
        "      <td> 0.71</td>\n",
        "      <td>                EQUITY</td>\n",
        "      <td>  CSCO</td>\n",
        "      <td>  Large Value</td>\n",
        "      <td> 1994-02-28</td>\n",
        "      <td> 22325527</td>\n",
        "      <td>  110594</td>\n",
        "      <td>             Technology</td>\n",
        "      <td>  27.28</td>\n",
        "      <td>...</td>\n",
        "      <td> 18.25</td>\n",
        "      <td>  4.06</td>\n",
        "      <td> 138220.28</td>\n",
        "      <td> USD</td>\n",
        "      <td> 3</td>\n",
        "      <td>  23.81</td>\n",
        "      <td> 18.33</td>\n",
        "      <td>          -</td>\n",
        "      <td> -</td>\n",
        "      <td> -</td>\n",
        "    </tr>\n",
        "    <tr>\n",
        "      <th>...</th>\n",
        "      <td>...</td>\n",
        "      <td>...</td>\n",
        "      <td>...</td>\n",
        "      <td>...</td>\n",
        "      <td>...</td>\n",
        "      <td>...</td>\n",
        "      <td>...</td>\n",
        "      <td>...</td>\n",
        "      <td>...</td>\n",
        "      <td>...</td>\n",
        "      <td>...</td>\n",
        "      <td>...</td>\n",
        "      <td>...</td>\n",
        "      <td>...</td>\n",
        "      <td>...</td>\n",
        "      <td>...</td>\n",
        "      <td>...</td>\n",
        "      <td>...</td>\n",
        "      <td>...</td>\n",
        "      <td>...</td>\n",
        "      <td>...</td>\n",
        "    </tr>\n",
        "    <tr>\n",
        "      <th>70</th>\n",
        "      <td>                          MetLife Inc</td>\n",
        "      <td> 0.33</td>\n",
        "      <td>                EQUITY</td>\n",
        "      <td>   MET</td>\n",
        "      <td>  Large Value</td>\n",
        "      <td> 2001-02-28</td>\n",
        "      <td>  4924314</td>\n",
        "      <td>   43165</td>\n",
        "      <td>     Financial Services</td>\n",
        "      <td>   55.8</td>\n",
        "      <td>...</td>\n",
        "      <td> 28.67</td>\n",
        "      <td> 12.06</td>\n",
        "      <td>  63936.45</td>\n",
        "      <td> USD</td>\n",
        "      <td> 3</td>\n",
        "      <td>   6.83</td>\n",
        "      <td> 11.51</td>\n",
        "      <td>          -</td>\n",
        "      <td> -</td>\n",
        "      <td> -</td>\n",
        "    </tr>\n",
        "    <tr>\n",
        "      <th>71</th>\n",
        "      <td>                             EMC Corp</td>\n",
        "      <td> 0.33</td>\n",
        "      <td>                EQUITY</td>\n",
        "      <td>   EMC</td>\n",
        "      <td> Large Growth</td>\n",
        "      <td> 1996-08-31</td>\n",
        "      <td>  8881949</td>\n",
        "      <td>    3677</td>\n",
        "      <td>             Technology</td>\n",
        "      <td>  29.89</td>\n",
        "      <td>...</td>\n",
        "      <td>  11.4</td>\n",
        "      <td> 12.48</td>\n",
        "      <td>  60782.72</td>\n",
        "      <td> USD</td>\n",
        "      <td> 2</td>\n",
        "      <td>  20.48</td>\n",
        "      <td> 23.95</td>\n",
        "      <td>          -</td>\n",
        "      <td> -</td>\n",
        "      <td> -</td>\n",
        "    </tr>\n",
        "    <tr>\n",
        "      <th>72</th>\n",
        "      <td>                          Monsanto Co</td>\n",
        "      <td> 0.33</td>\n",
        "      <td>                EQUITY</td>\n",
        "      <td>   MON</td>\n",
        "      <td> Large Growth</td>\n",
        "      <td> 2002-08-31</td>\n",
        "      <td>  2296798</td>\n",
        "      <td>   23692</td>\n",
        "      <td>        Basic Materials</td>\n",
        "      <td> 119.47</td>\n",
        "      <td>...</td>\n",
        "      <td> 22.56</td>\n",
        "      <td>  9.71</td>\n",
        "      <td>  58345.36</td>\n",
        "      <td> USD</td>\n",
        "      <td> 3</td>\n",
        "      <td>   4.94</td>\n",
        "      <td> 23.22</td>\n",
        "      <td>          -</td>\n",
        "      <td> -</td>\n",
        "      <td> -</td>\n",
        "    </tr>\n",
        "    <tr>\n",
        "      <th>73</th>\n",
        "      <td>                      Dow Chemical Co</td>\n",
        "      <td> 0.32</td>\n",
        "      <td>                EQUITY</td>\n",
        "      <td>   DOW</td>\n",
        "      <td>  Large Value</td>\n",
        "      <td> 1988-10-31</td>\n",
        "      <td>  4914343</td>\n",
        "      <td> -307146</td>\n",
        "      <td>        Basic Materials</td>\n",
        "      <td>  51.39</td>\n",
        "      <td>...</td>\n",
        "      <td> 31.63</td>\n",
        "      <td>  15.5</td>\n",
        "      <td>  61591.58</td>\n",
        "      <td> USD</td>\n",
        "      <td> 3</td>\n",
        "      <td>   20.2</td>\n",
        "      <td> 17.43</td>\n",
        "      <td>          -</td>\n",
        "      <td> -</td>\n",
        "      <td> -</td>\n",
        "    </tr>\n",
        "    <tr>\n",
        "      <th>74</th>\n",
        "      <td>   Mondelez International Inc Class A</td>\n",
        "      <td> 0.32</td>\n",
        "      <td>                EQUITY</td>\n",
        "      <td>  MDLZ</td>\n",
        "      <td>   Large Core</td>\n",
        "      <td> 2007-05-31</td>\n",
        "      <td>  7381220</td>\n",
        "      <td>   46049</td>\n",
        "      <td>     Consumer Defensive</td>\n",
        "      <td>  38.76</td>\n",
        "      <td>...</td>\n",
        "      <td> 22.16</td>\n",
        "      <td> 18.91</td>\n",
        "      <td>   65500.2</td>\n",
        "      <td> USD</td>\n",
        "      <td> 2</td>\n",
        "      <td>  11.67</td>\n",
        "      <td> 36.42</td>\n",
        "      <td>          -</td>\n",
        "      <td> -</td>\n",
        "      <td> -</td>\n",
        "    </tr>\n",
        "    <tr>\n",
        "      <th>75</th>\n",
        "      <td>                        Ford Motor Co</td>\n",
        "      <td> 0.32</td>\n",
        "      <td>                EQUITY</td>\n",
        "      <td>     F</td>\n",
        "      <td>  Large Value</td>\n",
        "      <td> 1988-10-31</td>\n",
        "      <td> 16980814</td>\n",
        "      <td> -167125</td>\n",
        "      <td>      Consumer Cyclical</td>\n",
        "      <td>  15.68</td>\n",
        "      <td>...</td>\n",
        "      <td> 19.49</td>\n",
        "      <td> 13.74</td>\n",
        "      <td>  60308.93</td>\n",
        "      <td> USD</td>\n",
        "      <td> 4</td>\n",
        "      <td>    4.8</td>\n",
        "      <td> 10.33</td>\n",
        "      <td>          -</td>\n",
        "      <td> -</td>\n",
        "      <td> -</td>\n",
        "    </tr>\n",
        "    <tr>\n",
        "      <th>76</th>\n",
        "      <td>                       Starbucks Corp</td>\n",
        "      <td> 0.31</td>\n",
        "      <td>                EQUITY</td>\n",
        "      <td>  SBUX</td>\n",
        "      <td> Large Growth</td>\n",
        "      <td> 2000-08-31</td>\n",
        "      <td>  3288933</td>\n",
        "      <td>   24360</td>\n",
        "      <td>      Consumer Cyclical</td>\n",
        "      <td>  80.21</td>\n",
        "      <td>...</td>\n",
        "      <td> 26.36</td>\n",
        "      <td> 31.59</td>\n",
        "      <td>  60253.12</td>\n",
        "      <td> USD</td>\n",
        "      <td> 3</td>\n",
        "      <td>   4.12</td>\n",
        "      <td> 29.71</td>\n",
        "      <td>          -</td>\n",
        "      <td> -</td>\n",
        "      <td> -</td>\n",
        "    </tr>\n",
        "    <tr>\n",
        "      <th>77</th>\n",
        "      <td>                 Colgate-Palmolive Co</td>\n",
        "      <td> 0.31</td>\n",
        "      <td>                EQUITY</td>\n",
        "      <td>    CL</td>\n",
        "      <td> Large Growth</td>\n",
        "      <td> 1988-10-31</td>\n",
        "      <td>  3758768</td>\n",
        "      <td>  -12390</td>\n",
        "      <td>     Consumer Defensive</td>\n",
        "      <td>  68.33</td>\n",
        "      <td>...</td>\n",
        "      <td> 18.48</td>\n",
        "      <td> 11.74</td>\n",
        "      <td>  61929.52</td>\n",
        "      <td> USD</td>\n",
        "      <td> 2</td>\n",
        "      <td>   6.38</td>\n",
        "      <td>  29.8</td>\n",
        "      <td>          -</td>\n",
        "      <td> -</td>\n",
        "      <td> -</td>\n",
        "    </tr>\n",
        "    <tr>\n",
        "      <th>78</th>\n",
        "      <td>                Costco Wholesale Corp</td>\n",
        "      <td> 0.30</td>\n",
        "      <td>                EQUITY</td>\n",
        "      <td>  COST</td>\n",
        "      <td>   Large Core</td>\n",
        "      <td> 1988-10-31</td>\n",
        "      <td>  1918964</td>\n",
        "      <td>   18260</td>\n",
        "      <td>     Consumer Defensive</td>\n",
        "      <td> 138.87</td>\n",
        "      <td>...</td>\n",
        "      <td> 23.04</td>\n",
        "      <td> 20.25</td>\n",
        "      <td>  61199.14</td>\n",
        "      <td> USD</td>\n",
        "      <td> 2</td>\n",
        "      <td>  18.61</td>\n",
        "      <td> 30.06</td>\n",
        "      <td>          -</td>\n",
        "      <td> -</td>\n",
        "      <td> -</td>\n",
        "    </tr>\n",
        "    <tr>\n",
        "      <th>79</th>\n",
        "      <td>                       Halliburton Co</td>\n",
        "      <td> 0.30</td>\n",
        "      <td>                EQUITY</td>\n",
        "      <td>   HAL</td>\n",
        "      <td>   Large Core</td>\n",
        "      <td> 1988-10-31</td>\n",
        "      <td>  3723814</td>\n",
        "      <td>   61490</td>\n",
        "      <td>                 Energy</td>\n",
        "      <td>  48.26</td>\n",
        "      <td>...</td>\n",
        "      <td>  16.8</td>\n",
        "      <td>  11.3</td>\n",
        "      <td>  42271.32</td>\n",
        "      <td> USD</td>\n",
        "      <td> 4</td>\n",
        "      <td>  -0.83</td>\n",
        "      <td> 12.86</td>\n",
        "      <td>          -</td>\n",
        "      <td> -</td>\n",
        "      <td> -</td>\n",
        "    </tr>\n",
        "    <tr>\n",
        "      <th>80</th>\n",
        "      <td>                    EOG Resources Inc</td>\n",
        "      <td> 0.30</td>\n",
        "      <td>                EQUITY</td>\n",
        "      <td>   EOG</td>\n",
        "      <td> Large Growth</td>\n",
        "      <td> 2001-02-28</td>\n",
        "      <td>  2396893</td>\n",
        "      <td>   26928</td>\n",
        "      <td>                 Energy</td>\n",
        "      <td>  96.74</td>\n",
        "      <td>...</td>\n",
        "      <td> 30.06</td>\n",
        "      <td> 18.02</td>\n",
        "      <td>  54559.82</td>\n",
        "      <td> USD</td>\n",
        "      <td> 3</td>\n",
        "      <td>  19.25</td>\n",
        "      <td> 17.89</td>\n",
        "      <td>          -</td>\n",
        "      <td> -</td>\n",
        "      <td> -</td>\n",
        "    </tr>\n",
        "    <tr>\n",
        "      <th>81</th>\n",
        "      <td>                         Allergan Inc</td>\n",
        "      <td> 0.29</td>\n",
        "      <td>                EQUITY</td>\n",
        "      <td>   AGN</td>\n",
        "      <td> Large Growth</td>\n",
        "      <td> 1992-04-30</td>\n",
        "      <td>  1301142</td>\n",
        "      <td>   10764</td>\n",
        "      <td>             Healthcare</td>\n",
        "      <td>  212.1</td>\n",
        "      <td>...</td>\n",
        "      <td> 39.15</td>\n",
        "      <td> 29.21</td>\n",
        "      <td>  63097.91</td>\n",
        "      <td> USD</td>\n",
        "      <td> 2</td>\n",
        "      <td>  90.86</td>\n",
        "      <td> 49.36</td>\n",
        "      <td>          -</td>\n",
        "      <td> -</td>\n",
        "      <td> -</td>\n",
        "    </tr>\n",
        "    <tr>\n",
        "      <th>82</th>\n",
        "      <td>                       Morgan Stanley</td>\n",
        "      <td> 0.29</td>\n",
        "      <td>                EQUITY</td>\n",
        "      <td>    MS</td>\n",
        "      <td>   Large Core</td>\n",
        "      <td> 1993-08-31</td>\n",
        "      <td>  6704905</td>\n",
        "      <td>  635350</td>\n",
        "      <td>     Financial Services</td>\n",
        "      <td>   35.3</td>\n",
        "      <td>...</td>\n",
        "      <td>  40.8</td>\n",
        "      <td>  2.74</td>\n",
        "      <td>   69722.7</td>\n",
        "      <td> USD</td>\n",
        "      <td> 3</td>\n",
        "      <td>   14.7</td>\n",
        "      <td> 14.17</td>\n",
        "      <td>          -</td>\n",
        "      <td> -</td>\n",
        "      <td> -</td>\n",
        "    </tr>\n",
        "    <tr>\n",
        "      <th>83</th>\n",
        "      <td>              Duke Energy Corporation</td>\n",
        "      <td> 0.29</td>\n",
        "      <td>                EQUITY</td>\n",
        "      <td>   DUK</td>\n",
        "      <td>  Large Value</td>\n",
        "      <td> 2002-08-31</td>\n",
        "      <td>  3096606</td>\n",
        "      <td>   29620</td>\n",
        "      <td>              Utilities</td>\n",
        "      <td>  79.15</td>\n",
        "      <td>...</td>\n",
        "      <td> 14.46</td>\n",
        "      <td> 13.65</td>\n",
        "      <td>  55897.18</td>\n",
        "      <td> USD</td>\n",
        "      <td> 3</td>\n",
        "      <td>  19.08</td>\n",
        "      <td> 17.92</td>\n",
        "      <td>          -</td>\n",
        "      <td> -</td>\n",
        "      <td> -</td>\n",
        "    </tr>\n",
        "    <tr>\n",
        "      <th>84</th>\n",
        "      <td>                      Express Scripts</td>\n",
        "      <td> 0.29</td>\n",
        "      <td>                EQUITY</td>\n",
        "      <td>  ESRX</td>\n",
        "      <td> Large Growth</td>\n",
        "      <td> 2004-02-29</td>\n",
        "      <td>  3263758</td>\n",
        "      <td>  -88328</td>\n",
        "      <td>             Healthcare</td>\n",
        "      <td>  81.52</td>\n",
        "      <td>...</td>\n",
        "      <td> 24.05</td>\n",
        "      <td> 12.96</td>\n",
        "      <td>  59527.44</td>\n",
        "      <td> USD</td>\n",
        "      <td> 3</td>\n",
        "      <td>  15.48</td>\n",
        "      <td> 32.41</td>\n",
        "      <td>          -</td>\n",
        "      <td> -</td>\n",
        "      <td> -</td>\n",
        "    </tr>\n",
        "    <tr>\n",
        "      <th>85</th>\n",
        "      <td>                 Lowe's Companies Inc</td>\n",
        "      <td> 0.29</td>\n",
        "      <td>                EQUITY</td>\n",
        "      <td>   LOW</td>\n",
        "      <td> Large Growth</td>\n",
        "      <td> 1988-10-31</td>\n",
        "      <td>  4321803</td>\n",
        "      <td>   -3133</td>\n",
        "      <td>      Consumer Cyclical</td>\n",
        "      <td>  62.95</td>\n",
        "      <td>...</td>\n",
        "      <td>    43</td>\n",
        "      <td>  24.8</td>\n",
        "      <td>   62819.7</td>\n",
        "      <td> USD</td>\n",
        "      <td> 2</td>\n",
        "      <td>  30.09</td>\n",
        "      <td> 26.44</td>\n",
        "      <td>          -</td>\n",
        "      <td> -</td>\n",
        "      <td> -</td>\n",
        "    </tr>\n",
        "    <tr>\n",
        "      <th>86</th>\n",
        "      <td>                          Walgreen Co</td>\n",
        "      <td> 0.29</td>\n",
        "      <td>                EQUITY</td>\n",
        "      <td>   WAG</td>\n",
        "      <td>   Large Core</td>\n",
        "      <td> 1988-10-31</td>\n",
        "      <td>  3853008</td>\n",
        "      <td>   45561</td>\n",
        "      <td>     Consumer Defensive</td>\n",
        "      <td>  67.81</td>\n",
        "      <td>...</td>\n",
        "      <td> 30.44</td>\n",
        "      <td> 13.01</td>\n",
        "      <td>   64369.7</td>\n",
        "      <td> USD</td>\n",
        "      <td> 2</td>\n",
        "      <td>  20.19</td>\n",
        "      <td> 33.84</td>\n",
        "      <td>          -</td>\n",
        "      <td> -</td>\n",
        "      <td> -</td>\n",
        "    </tr>\n",
        "    <tr>\n",
        "      <th>87</th>\n",
        "      <td>                Accenture PLC Class A</td>\n",
        "      <td> 0.28</td>\n",
        "      <td>                EQUITY</td>\n",
        "      <td>   ACN</td>\n",
        "      <td>   Large Core</td>\n",
        "      <td> 2011-07-31</td>\n",
        "      <td>  2763728</td>\n",
        "      <td>   18376</td>\n",
        "      <td>             Technology</td>\n",
        "      <td>  85.32</td>\n",
        "      <td>...</td>\n",
        "      <td> 18.88</td>\n",
        "      <td> 17.82</td>\n",
        "      <td>  55671.83</td>\n",
        "      <td> USD</td>\n",
        "      <td> 3</td>\n",
        "      <td>   5.67</td>\n",
        "      <td> 19.99</td>\n",
        "      <td>          -</td>\n",
        "      <td> -</td>\n",
        "      <td> -</td>\n",
        "    </tr>\n",
        "    <tr>\n",
        "      <th>88</th>\n",
        "      <td>              Anadarko Petroleum Corp</td>\n",
        "      <td> 0.28</td>\n",
        "      <td>                EQUITY</td>\n",
        "      <td>   APC</td>\n",
        "      <td>   Large Core</td>\n",
        "      <td> 1997-08-31</td>\n",
        "      <td>  2215227</td>\n",
        "      <td>   25021</td>\n",
        "      <td>                 Energy</td>\n",
        "      <td>  89.98</td>\n",
        "      <td>...</td>\n",
        "      <td>  9.39</td>\n",
        "      <td>  8.92</td>\n",
        "      <td>  46836.53</td>\n",
        "      <td> USD</td>\n",
        "      <td> 3</td>\n",
        "      <td>   17.5</td>\n",
        "      <td>     -</td>\n",
        "      <td>          -</td>\n",
        "      <td> -</td>\n",
        "      <td> -</td>\n",
        "    </tr>\n",
        "    <tr>\n",
        "      <th>89</th>\n",
        "      <td>             Simon Property Group Inc</td>\n",
        "      <td> 0.28</td>\n",
        "      <td>                EQUITY</td>\n",
        "      <td>   SPG</td>\n",
        "      <td> Large Growth</td>\n",
        "      <td> 2002-08-31</td>\n",
        "      <td>  1360603</td>\n",
        "      <td>   13406</td>\n",
        "      <td>            Real Estate</td>\n",
        "      <td> 179.01</td>\n",
        "      <td>...</td>\n",
        "      <td> 20.82</td>\n",
        "      <td> 23.83</td>\n",
        "      <td>  55499.46</td>\n",
        "      <td> USD</td>\n",
        "      <td> 2</td>\n",
        "      <td>  28.32</td>\n",
        "      <td> 37.28</td>\n",
        "      <td>          -</td>\n",
        "      <td> -</td>\n",
        "      <td> -</td>\n",
        "    </tr>\n",
        "    <tr>\n",
        "      <th>90</th>\n",
        "      <td>                Texas Instruments Inc</td>\n",
        "      <td> 0.28</td>\n",
        "      <td>                EQUITY</td>\n",
        "      <td>   TXN</td>\n",
        "      <td>   Large Core</td>\n",
        "      <td> 1988-10-31</td>\n",
        "      <td>  4674015</td>\n",
        "      <td>   -6673</td>\n",
        "      <td>             Technology</td>\n",
        "      <td>  52.44</td>\n",
        "      <td>...</td>\n",
        "      <td> 25.99</td>\n",
        "      <td> 17.63</td>\n",
        "      <td>  55825.45</td>\n",
        "      <td> USD</td>\n",
        "      <td> 2</td>\n",
        "      <td>  23.18</td>\n",
        "      <td> 22.96</td>\n",
        "      <td>          -</td>\n",
        "      <td> -</td>\n",
        "      <td> -</td>\n",
        "    </tr>\n",
        "    <tr>\n",
        "      <th>91</th>\n",
        "      <td>                 Lockheed Martin Corp</td>\n",
        "      <td> 0.27</td>\n",
        "      <td>                EQUITY</td>\n",
        "      <td>   LMT</td>\n",
        "      <td>  Large Value</td>\n",
        "      <td> 1995-02-28</td>\n",
        "      <td>  1181160</td>\n",
        "      <td>   25043</td>\n",
        "      <td>            Industrials</td>\n",
        "      <td> 188.67</td>\n",
        "      <td>...</td>\n",
        "      <td> 39.96</td>\n",
        "      <td> 21.84</td>\n",
        "      <td>  59652.99</td>\n",
        "      <td> USD</td>\n",
        "      <td> 2</td>\n",
        "      <td>   29.7</td>\n",
        "      <td> 19.12</td>\n",
        "      <td>          -</td>\n",
        "      <td> -</td>\n",
        "      <td> -</td>\n",
        "    </tr>\n",
        "    <tr>\n",
        "      <th>92</th>\n",
        "      <td>         Thermo Fisher Scientific Inc</td>\n",
        "      <td> 0.27</td>\n",
        "      <td>                EQUITY</td>\n",
        "      <td>   TMO</td>\n",
        "      <td> Large Growth</td>\n",
        "      <td> 1997-02-28</td>\n",
        "      <td>  1746646</td>\n",
        "      <td>   16622</td>\n",
        "      <td>             Healthcare</td>\n",
        "      <td> 127.88</td>\n",
        "      <td>...</td>\n",
        "      <td> 42.62</td>\n",
        "      <td> 22.15</td>\n",
        "      <td>  50967.25</td>\n",
        "      <td> USD</td>\n",
        "      <td> 2</td>\n",
        "      <td>  14.83</td>\n",
        "      <td> 30.71</td>\n",
        "      <td>          -</td>\n",
        "      <td> -</td>\n",
        "      <td> -</td>\n",
        "    </tr>\n",
        "    <tr>\n",
        "      <th>93</th>\n",
        "      <td>                         Danaher Corp</td>\n",
        "      <td> 0.26</td>\n",
        "      <td>                EQUITY</td>\n",
        "      <td>   DHR</td>\n",
        "      <td> Large Growth</td>\n",
        "      <td> 1999-02-28</td>\n",
        "      <td>  2668953</td>\n",
        "      <td>   60080</td>\n",
        "      <td>            Industrials</td>\n",
        "      <td>  83.38</td>\n",
        "      <td>...</td>\n",
        "      <td> 23.46</td>\n",
        "      <td> 18.58</td>\n",
        "      <td>  58681.77</td>\n",
        "      <td> USD</td>\n",
        "      <td> 2</td>\n",
        "      <td>   8.56</td>\n",
        "      <td> 21.91</td>\n",
        "      <td>          -</td>\n",
        "      <td> -</td>\n",
        "      <td> -</td>\n",
        "    </tr>\n",
        "    <tr>\n",
        "      <th>94</th>\n",
        "      <td>     PNC Financial Services Group Inc</td>\n",
        "      <td> 0.25</td>\n",
        "      <td>                EQUITY</td>\n",
        "      <td>   PNC</td>\n",
        "      <td>  Large Value</td>\n",
        "      <td> 1998-02-28</td>\n",
        "      <td>  2366727</td>\n",
        "      <td>   50436</td>\n",
        "      <td>     Financial Services</td>\n",
        "      <td>  88.16</td>\n",
        "      <td>...</td>\n",
        "      <td> 23.97</td>\n",
        "      <td> 10.77</td>\n",
        "      <td>  46295.93</td>\n",
        "      <td> USD</td>\n",
        "      <td> 3</td>\n",
        "      <td>  15.83</td>\n",
        "      <td> 11.87</td>\n",
        "      <td>          -</td>\n",
        "      <td> -</td>\n",
        "      <td> -</td>\n",
        "    </tr>\n",
        "    <tr>\n",
        "      <th>95</th>\n",
        "      <td>         LyondellBasell Industries NV</td>\n",
        "      <td> 0.25</td>\n",
        "      <td>                EQUITY</td>\n",
        "      <td>   LYB</td>\n",
        "      <td>  Large Value</td>\n",
        "      <td> 2012-09-30</td>\n",
        "      <td>  1861772</td>\n",
        "      <td>   55315</td>\n",
        "      <td>        Basic Materials</td>\n",
        "      <td>  90.65</td>\n",
        "      <td>...</td>\n",
        "      <td> 51.98</td>\n",
        "      <td>     -</td>\n",
        "      <td>  45340.49</td>\n",
        "      <td> USD</td>\n",
        "      <td> -</td>\n",
        "      <td>  16.17</td>\n",
        "      <td> 10.64</td>\n",
        "      <td>          -</td>\n",
        "      <td> -</td>\n",
        "      <td> -</td>\n",
        "    </tr>\n",
        "    <tr>\n",
        "      <th>96</th>\n",
        "      <td>           Capital One Financial Corp</td>\n",
        "      <td> 0.25</td>\n",
        "      <td>                EQUITY</td>\n",
        "      <td>   COF</td>\n",
        "      <td>  Large Value</td>\n",
        "      <td> 1998-08-31</td>\n",
        "      <td>  2457588</td>\n",
        "      <td>  -21112</td>\n",
        "      <td>     Financial Services</td>\n",
        "      <td>  82.66</td>\n",
        "      <td>...</td>\n",
        "      <td> 28.45</td>\n",
        "      <td>  17.4</td>\n",
        "      <td>  45645.18</td>\n",
        "      <td> USD</td>\n",
        "      <td> 4</td>\n",
        "      <td>   8.73</td>\n",
        "      <td> 11.05</td>\n",
        "      <td>          -</td>\n",
        "      <td> -</td>\n",
        "      <td> -</td>\n",
        "    </tr>\n",
        "    <tr>\n",
        "      <th>97</th>\n",
        "      <td>                          Phillips 66</td>\n",
        "      <td> 0.25</td>\n",
        "      <td>                EQUITY</td>\n",
        "      <td>   PSX</td>\n",
        "      <td>  Large Value</td>\n",
        "      <td> 2012-05-31</td>\n",
        "      <td>  2446949</td>\n",
        "      <td>   -6885</td>\n",
        "      <td>                 Energy</td>\n",
        "      <td>  79.54</td>\n",
        "      <td>...</td>\n",
        "      <td>     -</td>\n",
        "      <td>     -</td>\n",
        "      <td>  43960.04</td>\n",
        "      <td> USD</td>\n",
        "      <td> 3</td>\n",
        "      <td>   5.42</td>\n",
        "      <td> 12.45</td>\n",
        "      <td>          -</td>\n",
        "      <td> -</td>\n",
        "      <td> -</td>\n",
        "    </tr>\n",
        "    <tr>\n",
        "      <th>98</th>\n",
        "      <td>                        McKesson Corp</td>\n",
        "      <td> 0.25</td>\n",
        "      <td>                EQUITY</td>\n",
        "      <td>   MCK</td>\n",
        "      <td> Large Growth</td>\n",
        "      <td> 1999-02-28</td>\n",
        "      <td>  1013996</td>\n",
        "      <td>   14082</td>\n",
        "      <td>             Healthcare</td>\n",
        "      <td> 208.94</td>\n",
        "      <td>...</td>\n",
        "      <td> 40.06</td>\n",
        "      <td> 27.45</td>\n",
        "      <td>  48630.24</td>\n",
        "      <td> USD</td>\n",
        "      <td> 2</td>\n",
        "      <td>  30.38</td>\n",
        "      <td> 34.93</td>\n",
        "      <td>          -</td>\n",
        "      <td> -</td>\n",
        "      <td> -</td>\n",
        "    </tr>\n",
        "    <tr>\n",
        "      <th>99</th>\n",
        "      <td>         Bank of New York Mellon Corp</td>\n",
        "      <td> 0.24</td>\n",
        "      <td>                EQUITY</td>\n",
        "      <td>    BK</td>\n",
        "      <td>  Large Value</td>\n",
        "      <td> 1996-02-29</td>\n",
        "      <td>  4954397</td>\n",
        "      <td>    9083</td>\n",
        "      <td>     Financial Services</td>\n",
        "      <td>   40.1</td>\n",
        "      <td>...</td>\n",
        "      <td> 32.92</td>\n",
        "      <td> 10.02</td>\n",
        "      <td>  45073.41</td>\n",
        "      <td> USD</td>\n",
        "      <td> 3</td>\n",
        "      <td>  16.49</td>\n",
        "      <td> 16.29</td>\n",
        "      <td>          -</td>\n",
        "      <td> -</td>\n",
        "      <td> -</td>\n",
        "    </tr>\n",
        "  </tbody>\n",
        "</table>\n",
        "<p>100 rows \u00d7 27 columns</p>\n",
        "</div>"
       ],
       "metadata": {},
       "output_type": "pyout",
       "prompt_number": 4,
       "text": [
        "                             \ufeff\"Holdings\"  Weighting                   Type  \\\n",
        "0                              Apple Inc       3.32                 EQUITY   \n",
        "1                Exxon Mobil Corporation       2.21                 EQUITY   \n",
        "2                         Microsoft Corp       2.10                 EQUITY   \n",
        "3             S&P 500 Index Future Dec14       1.72  EQUITY INDEX - FUTURE   \n",
        "4                      Johnson & Johnson       1.66                 EQUITY   \n",
        "5                    General Electric Co       1.42                 EQUITY   \n",
        "6         Berkshire Hathaway Inc Class B       1.39                 EQUITY   \n",
        "7                       Wells Fargo & Co       1.36                 EQUITY   \n",
        "8                    Procter & Gamble Co       1.25                 EQUITY   \n",
        "9                           Chevron Corp       1.25                 EQUITY   \n",
        "10                   JPMorgan Chase & Co       1.25                 EQUITY   \n",
        "11            Verizon Communications Inc       1.14                 EQUITY   \n",
        "12                            Pfizer Inc       1.03                 EQUITY   \n",
        "13                              AT&T Inc       1.01                 EQUITY   \n",
        "14           Bank of America Corporation       0.99                 EQUITY   \n",
        "15  International Business Machines Corp       0.97                 EQUITY   \n",
        "16                            Intel Corp       0.95                 EQUITY   \n",
        "17                        Merck & Co Inc       0.94                 EQUITY   \n",
        "18                          Coca-Cola Co       0.93                 EQUITY   \n",
        "19                    Google Inc Class A       0.92                 EQUITY   \n",
        "20                            Google Inc       0.90                 EQUITY   \n",
        "21                   Gilead Sciences Inc       0.89                 EQUITY   \n",
        "22                         Citigroup Inc       0.87                 EQUITY   \n",
        "23                  Facebook Inc Class A       0.85                 EQUITY   \n",
        "24                        Walt Disney Co       0.77                 EQUITY   \n",
        "25                           PepsiCo Inc       0.77                 EQUITY   \n",
        "26                  Comcast Corp Class A       0.77                 EQUITY   \n",
        "27                       Schlumberger NV       0.73                 EQUITY   \n",
        "28       Philip Morris International Inc       0.72                 EQUITY   \n",
        "29                     Cisco Systems Inc       0.71                 EQUITY   \n",
        "..                                   ...        ...                    ...   \n",
        "70                           MetLife Inc       0.33                 EQUITY   \n",
        "71                              EMC Corp       0.33                 EQUITY   \n",
        "72                           Monsanto Co       0.33                 EQUITY   \n",
        "73                       Dow Chemical Co       0.32                 EQUITY   \n",
        "74    Mondelez International Inc Class A       0.32                 EQUITY   \n",
        "75                         Ford Motor Co       0.32                 EQUITY   \n",
        "76                        Starbucks Corp       0.31                 EQUITY   \n",
        "77                  Colgate-Palmolive Co       0.31                 EQUITY   \n",
        "78                 Costco Wholesale Corp       0.30                 EQUITY   \n",
        "79                        Halliburton Co       0.30                 EQUITY   \n",
        "80                     EOG Resources Inc       0.30                 EQUITY   \n",
        "81                          Allergan Inc       0.29                 EQUITY   \n",
        "82                        Morgan Stanley       0.29                 EQUITY   \n",
        "83               Duke Energy Corporation       0.29                 EQUITY   \n",
        "84                       Express Scripts       0.29                 EQUITY   \n",
        "85                  Lowe's Companies Inc       0.29                 EQUITY   \n",
        "86                           Walgreen Co       0.29                 EQUITY   \n",
        "87                 Accenture PLC Class A       0.28                 EQUITY   \n",
        "88               Anadarko Petroleum Corp       0.28                 EQUITY   \n",
        "89              Simon Property Group Inc       0.28                 EQUITY   \n",
        "90                 Texas Instruments Inc       0.28                 EQUITY   \n",
        "91                  Lockheed Martin Corp       0.27                 EQUITY   \n",
        "92          Thermo Fisher Scientific Inc       0.27                 EQUITY   \n",
        "93                          Danaher Corp       0.26                 EQUITY   \n",
        "94      PNC Financial Services Group Inc       0.25                 EQUITY   \n",
        "95          LyondellBasell Industries NV       0.25                 EQUITY   \n",
        "96            Capital One Financial Corp       0.25                 EQUITY   \n",
        "97                           Phillips 66       0.25                 EQUITY   \n",
        "98                         McKesson Corp       0.25                 EQUITY   \n",
        "99          Bank of New York Mellon Corp       0.24                 EQUITY   \n",
        "\n",
        "   Ticker         Style First Bought  Shares Owned  Shares Change  \\\n",
        "0    AAPL    Large Core   1988-10-31      26216310          68202   \n",
        "1     XOM   Large Value   1988-10-31      18671839          48957   \n",
        "2    MSFT    Large Core   2002-08-31      36076025        3478093   \n",
        "3       -             -            -          2781           2781   \n",
        "4     JNJ    Large Core   1988-10-31      12347889          79283   \n",
        "5      GE   Large Value   1988-10-31      43930825         444663   \n",
        "6   BRK.B    Large Core   2010-02-28       7981631         173624   \n",
        "7     WFC   Large Value   1988-10-31      20799130          13775   \n",
        "8      PG   Large Value   1988-10-31      11854746         120146   \n",
        "9     CVX   Large Value   1988-10-31       8313977          58655   \n",
        "10    JPM   Large Value   1988-10-31      16467786          55092   \n",
        "11     VZ   Large Value   2000-08-31      18148815         190408   \n",
        "12    PFE   Large Value   1988-10-31      27761811         100017   \n",
        "13      T   Large Value   1995-02-28      22705545         198717   \n",
        "14    BAC    Large Core   1988-10-31      46040957         439001   \n",
        "15    IBM   Large Value   1988-10-31       4061957         -64087   \n",
        "16   INTC    Large Core   2002-08-31      21676659          89185   \n",
        "17    MRK   Large Value   2009-11-30      12629607         -43498   \n",
        "18     KO   Large Value   1988-10-31      17282359         890721   \n",
        "19  GOOGL  Large Growth   2006-05-31       1243842          15345   \n",
        "20   GOOG  Large Growth   2014-04-30       1243739          15242   \n",
        "21   GILD  Large Growth   2004-08-31       6618452         -41149   \n",
        "22      C    Large Core   1996-08-31      13273825         100240   \n",
        "23     FB  Large Growth   2013-12-31       8537736        1081200   \n",
        "24    DIS  Large Growth   1988-10-31       6914208         -70346   \n",
        "25    PEP    Large Core   1988-10-31       6597082          22607   \n",
        "26  CMCSA  Large Growth   2003-08-31      11331332          57086   \n",
        "27    SLB  Large Growth   1988-10-31       5676106          29051   \n",
        "28     PM   Large Value   2008-03-31       6839382          18482   \n",
        "29   CSCO   Large Value   1994-02-28      22325527         110594   \n",
        "..    ...           ...          ...           ...            ...   \n",
        "70    MET   Large Value   2001-02-28       4924314          43165   \n",
        "71    EMC  Large Growth   1996-08-31       8881949           3677   \n",
        "72    MON  Large Growth   2002-08-31       2296798          23692   \n",
        "73    DOW   Large Value   1988-10-31       4914343        -307146   \n",
        "74   MDLZ    Large Core   2007-05-31       7381220          46049   \n",
        "75      F   Large Value   1988-10-31      16980814        -167125   \n",
        "76   SBUX  Large Growth   2000-08-31       3288933          24360   \n",
        "77     CL  Large Growth   1988-10-31       3758768         -12390   \n",
        "78   COST    Large Core   1988-10-31       1918964          18260   \n",
        "79    HAL    Large Core   1988-10-31       3723814          61490   \n",
        "80    EOG  Large Growth   2001-02-28       2396893          26928   \n",
        "81    AGN  Large Growth   1992-04-30       1301142          10764   \n",
        "82     MS    Large Core   1993-08-31       6704905         635350   \n",
        "83    DUK   Large Value   2002-08-31       3096606          29620   \n",
        "84   ESRX  Large Growth   2004-02-29       3263758         -88328   \n",
        "85    LOW  Large Growth   1988-10-31       4321803          -3133   \n",
        "86    WAG    Large Core   1988-10-31       3853008          45561   \n",
        "87    ACN    Large Core   2011-07-31       2763728          18376   \n",
        "88    APC    Large Core   1997-08-31       2215227          25021   \n",
        "89    SPG  Large Growth   2002-08-31       1360603          13406   \n",
        "90    TXN    Large Core   1988-10-31       4674015          -6673   \n",
        "91    LMT   Large Value   1995-02-28       1181160          25043   \n",
        "92    TMO  Large Growth   1997-02-28       1746646          16622   \n",
        "93    DHR  Large Growth   1999-02-28       2668953          60080   \n",
        "94    PNC   Large Value   1998-02-28       2366727          50436   \n",
        "95    LYB   Large Value   2012-09-30       1861772          55315   \n",
        "96    COF   Large Value   1998-08-31       2457588         -21112   \n",
        "97    PSX   Large Value   2012-05-31       2446949          -6885   \n",
        "98    MCK  Large Growth   1999-02-28       1013996          14082   \n",
        "99     BK   Large Value   1996-02-29       4954397           9083   \n",
        "\n",
        "                    Sector   Price   ...   3-Year Return 5-Year Return  \\\n",
        "0               Technology   117.6   ...           32.85          33.3   \n",
        "1                   Energy   94.78   ...           11.38          7.02   \n",
        "2               Technology   47.47   ...           27.35          11.6   \n",
        "3                        -       -   ...               -             -   \n",
        "4               Healthcare   106.7   ...           22.94          13.5   \n",
        "5              Industrials   26.86   ...           25.79         13.47   \n",
        "6       Financial Services  147.81   ...            26.5         16.61   \n",
        "7       Financial Services   53.88   ...           35.29         15.86   \n",
        "8       Consumer Defensive    88.8   ...           15.96          9.57   \n",
        "9                   Energy  116.15   ...           11.29         11.33   \n",
        "10      Financial Services    60.3   ...           31.84          9.22   \n",
        "11  Communication Services   49.34   ...           16.39         14.85   \n",
        "12              Healthcare   30.47   ...           21.51         13.59   \n",
        "13  Communication Services   34.82   ...           13.33          9.93   \n",
        "14      Financial Services    17.1   ...           49.98          1.59   \n",
        "15              Technology  161.76   ...           -0.86          6.92   \n",
        "16              Technology   36.32   ...           19.69         15.78   \n",
        "17              Healthcare   59.34   ...           24.73         13.24   \n",
        "18      Consumer Defensive   44.43   ...           13.61         11.15   \n",
        "19              Technology  549.23   ...           24.26         13.41   \n",
        "20              Technology  541.08   ...               -             -   \n",
        "21              Healthcare  101.11   ...           71.86         33.78   \n",
        "22      Financial Services   54.33   ...           32.36          5.32   \n",
        "23              Technology   75.63   ...               -             -   \n",
        "24       Consumer Cyclical   91.65   ...           40.58         25.35   \n",
        "25      Consumer Defensive   98.93   ...           19.11         11.92   \n",
        "26  Communication Services   56.62   ...           39.53         30.87   \n",
        "27                  Energy    95.2   ...           15.42          9.68   \n",
        "28      Consumer Defensive    86.3   ...           10.94         15.19   \n",
        "29              Technology   27.28   ...           18.25          4.06   \n",
        "..                     ...     ...   ...             ...           ...   \n",
        "70      Financial Services    55.8   ...           28.67         12.06   \n",
        "71              Technology   29.89   ...            11.4         12.48   \n",
        "72         Basic Materials  119.47   ...           22.56          9.71   \n",
        "73         Basic Materials   51.39   ...           31.63          15.5   \n",
        "74      Consumer Defensive   38.76   ...           22.16         18.91   \n",
        "75       Consumer Cyclical   15.68   ...           19.49         13.74   \n",
        "76       Consumer Cyclical   80.21   ...           26.36         31.59   \n",
        "77      Consumer Defensive   68.33   ...           18.48         11.74   \n",
        "78      Consumer Defensive  138.87   ...           23.04         20.25   \n",
        "79                  Energy   48.26   ...            16.8          11.3   \n",
        "80                  Energy   96.74   ...           30.06         18.02   \n",
        "81              Healthcare   212.1   ...           39.15         29.21   \n",
        "82      Financial Services    35.3   ...            40.8          2.74   \n",
        "83               Utilities   79.15   ...           14.46         13.65   \n",
        "84              Healthcare   81.52   ...           24.05         12.96   \n",
        "85       Consumer Cyclical   62.95   ...              43          24.8   \n",
        "86      Consumer Defensive   67.81   ...           30.44         13.01   \n",
        "87              Technology   85.32   ...           18.88         17.82   \n",
        "88                  Energy   89.98   ...            9.39          8.92   \n",
        "89             Real Estate  179.01   ...           20.82         23.83   \n",
        "90              Technology   52.44   ...           25.99         17.63   \n",
        "91             Industrials  188.67   ...           39.96         21.84   \n",
        "92              Healthcare  127.88   ...           42.62         22.15   \n",
        "93             Industrials   83.38   ...           23.46         18.58   \n",
        "94      Financial Services   88.16   ...           23.97         10.77   \n",
        "95         Basic Materials   90.65   ...           51.98             -   \n",
        "96      Financial Services   82.66   ...           28.45          17.4   \n",
        "97                  Energy   79.54   ...               -             -   \n",
        "98              Healthcare  208.94   ...           40.06         27.45   \n",
        "99      Financial Services    40.1   ...           32.92         10.02   \n",
        "\n",
        "   Market Cap Mil Currency Morningstar Rating YTD Return    P/E Maturity Date  \\\n",
        "0       695716.62      USD                  2      50.31  18.38             -   \n",
        "1       405329.09      USD                  4      -2.75  12.04             -   \n",
        "2       392277.38      USD                  3      30.29  18.66             -   \n",
        "3               -      USD                  -          -      -    2014-12-18   \n",
        "4       299168.91      USD                  2      19.71  17.72             -   \n",
        "5       271139.19      USD                  3      -1.32  18.19             -   \n",
        "6       343923.72      USD                  3      24.22   16.7             -   \n",
        "7        280650.5      USD                  3      22.14  13.26             -   \n",
        "8       238083.69      USD                  4      11.34  24.83             -   \n",
        "9          222295      USD                  4      -2.49  10.83             -   \n",
        "10      227879.98      USD                  3       6.91  11.29             -   \n",
        "11      205411.33      USD                  2       5.09   10.7             -   \n",
        "12      190405.86      USD                  3       2.06  18.67             -   \n",
        "13      179988.91      USD                  3       3.92  10.62             -   \n",
        "14      180672.62      USD                  3      10.79  43.78             -   \n",
        "15      160473.45      USD                  4     -11.29  10.41             -   \n",
        "16      175268.75      USD                  1      43.13  17.32             -   \n",
        "17      168914.25      USD                  4      21.02  32.43             -   \n",
        "18      193907.59      USD                  3       9.38  24.57             -   \n",
        "19      371391.62      USD                  3      -2.39  29.09             -   \n",
        "20      365822.25      USD                  3          -  28.66             -   \n",
        "21      151771.62      USD                  3      33.95  17.91             -   \n",
        "22      164804.16      USD                  3       4.47  18.27             -   \n",
        "23      206328.62      USD                  2      35.43  70.03             -   \n",
        "24      153597.48      USD                  3      18.56  21.24             -   \n",
        "25      147685.08      USD                  2      21.24  21.83             -   \n",
        "26      142774.16      USD                  2       7.17  17.33             -   \n",
        "27      126684.86      USD                  5      10.59  18.51             -   \n",
        "28      134396.36      USD                  3       2.58  17.35             -   \n",
        "29      138220.28      USD                  3      23.81  18.33             -   \n",
        "..            ...      ...                ...        ...    ...           ...   \n",
        "70       63936.45      USD                  3       6.83  11.51             -   \n",
        "71       60782.72      USD                  2      20.48  23.95             -   \n",
        "72       58345.36      USD                  3       4.94  23.22             -   \n",
        "73       61591.58      USD                  3       20.2  17.43             -   \n",
        "74        65500.2      USD                  2      11.67  36.42             -   \n",
        "75       60308.93      USD                  4        4.8  10.33             -   \n",
        "76       60253.12      USD                  3       4.12  29.71             -   \n",
        "77       61929.52      USD                  2       6.38   29.8             -   \n",
        "78       61199.14      USD                  2      18.61  30.06             -   \n",
        "79       42271.32      USD                  4      -0.83  12.86             -   \n",
        "80       54559.82      USD                  3      19.25  17.89             -   \n",
        "81       63097.91      USD                  2      90.86  49.36             -   \n",
        "82        69722.7      USD                  3       14.7  14.17             -   \n",
        "83       55897.18      USD                  3      19.08  17.92             -   \n",
        "84       59527.44      USD                  3      15.48  32.41             -   \n",
        "85        62819.7      USD                  2      30.09  26.44             -   \n",
        "86        64369.7      USD                  2      20.19  33.84             -   \n",
        "87       55671.83      USD                  3       5.67  19.99             -   \n",
        "88       46836.53      USD                  3       17.5      -             -   \n",
        "89       55499.46      USD                  2      28.32  37.28             -   \n",
        "90       55825.45      USD                  2      23.18  22.96             -   \n",
        "91       59652.99      USD                  2       29.7  19.12             -   \n",
        "92       50967.25      USD                  2      14.83  30.71             -   \n",
        "93       58681.77      USD                  2       8.56  21.91             -   \n",
        "94       46295.93      USD                  3      15.83  11.87             -   \n",
        "95       45340.49      USD                  -      16.17  10.64             -   \n",
        "96       45645.18      USD                  4       8.73  11.05             -   \n",
        "97       43960.04      USD                  3       5.42  12.45             -   \n",
        "98       48630.24      USD                  2      30.38  34.93             -   \n",
        "99       45073.41      USD                  3      16.49  16.29             -   \n",
        "\n",
        "   Coupon % Yield to Maturity  \n",
        "0         -                 -  \n",
        "1         -                 -  \n",
        "2         -                 -  \n",
        "3         -                 -  \n",
        "4         -                 -  \n",
        "5         -                 -  \n",
        "6         -                 -  \n",
        "7         -                 -  \n",
        "8         -                 -  \n",
        "9         -                 -  \n",
        "10        -                 -  \n",
        "11        -                 -  \n",
        "12        -                 -  \n",
        "13        -                 -  \n",
        "14        -                 -  \n",
        "15        -                 -  \n",
        "16        -                 -  \n",
        "17        -                 -  \n",
        "18        -                 -  \n",
        "19        -                 -  \n",
        "20        -                 -  \n",
        "21        -                 -  \n",
        "22        -                 -  \n",
        "23        -                 -  \n",
        "24        -                 -  \n",
        "25        -                 -  \n",
        "26        -                 -  \n",
        "27        -                 -  \n",
        "28        -                 -  \n",
        "29        -                 -  \n",
        "..      ...               ...  \n",
        "70        -                 -  \n",
        "71        -                 -  \n",
        "72        -                 -  \n",
        "73        -                 -  \n",
        "74        -                 -  \n",
        "75        -                 -  \n",
        "76        -                 -  \n",
        "77        -                 -  \n",
        "78        -                 -  \n",
        "79        -                 -  \n",
        "80        -                 -  \n",
        "81        -                 -  \n",
        "82        -                 -  \n",
        "83        -                 -  \n",
        "84        -                 -  \n",
        "85        -                 -  \n",
        "86        -                 -  \n",
        "87        -                 -  \n",
        "88        -                 -  \n",
        "89        -                 -  \n",
        "90        -                 -  \n",
        "91        -                 -  \n",
        "92        -                 -  \n",
        "93        -                 -  \n",
        "94        -                 -  \n",
        "95        -                 -  \n",
        "96        -                 -  \n",
        "97        -                 -  \n",
        "98        -                 -  \n",
        "99        -                 -  \n",
        "\n",
        "[100 rows x 27 columns]"
       ]
      }
     ],
     "prompt_number": 4
    },
    {
     "cell_type": "code",
     "collapsed": false,
     "input": [
      "# Extraction starts from here\n",
      "\n",
      "url_quote_header =\"http://quotes.morningstar.com/fund/c-header?&t=XNAS:FCNTX&region=usa&culture=en-US&cur=\"\n",
      "quote_header = pd.read_html(url_quote_header, match=\"Expenses\", header=0)[0]\n",
      "quote_header"
     ],
     "language": "python",
     "metadata": {},
     "outputs": [
      {
       "html": [
        "<div style=\"max-height:1000px;max-width:1500px;overflow:auto;\">\n",
        "<table border=\"1\" class=\"dataframe\">\n",
        "  <thead>\n",
        "    <tr style=\"text-align: right;\">\n",
        "      <th></th>\n",
        "      <th>TTM Yield 0.12%</th>\n",
        "      <th>Unnamed: 1</th>\n",
        "      <th>Load None</th>\n",
        "      <th>Unnamed: 3</th>\n",
        "      <th>Total Mkt Val  16.8 bil  \u00a0  USD  Total Assets $  109.6 bil</th>\n",
        "      <th>Unnamed: 5</th>\n",
        "      <th>Expenses 0.66%</th>\n",
        "      <th>Unnamed: 7</th>\n",
        "      <th>Fee Level Low</th>\n",
        "      <th>Unnamed: 9</th>\n",
        "      <th>Turnover 46%</th>\n",
        "      <th>Unnamed: 11</th>\n",
        "      <th>Status Open</th>\n",
        "      <th>Unnamed: 13</th>\n",
        "      <th>Min. Inv. $  2,500</th>\n",
        "    </tr>\n",
        "  </thead>\n",
        "  <tbody>\n",
        "    <tr>\n",
        "      <th>0</th>\n",
        "      <td> 30-Day SEC Yield --</td>\n",
        "      <td> Category Large Growth</td>\n",
        "      <td> Investment Style Large Growth</td>\n",
        "      <td>NaN</td>\n",
        "      <td>NaN</td>\n",
        "      <td>NaN</td>\n",
        "      <td>NaN</td>\n",
        "      <td>NaN</td>\n",
        "      <td>NaN</td>\n",
        "      <td>NaN</td>\n",
        "      <td>NaN</td>\n",
        "      <td>NaN</td>\n",
        "      <td>NaN</td>\n",
        "      <td>NaN</td>\n",
        "      <td>NaN</td>\n",
        "    </tr>\n",
        "  </tbody>\n",
        "</table>\n",
        "</div>"
       ],
       "metadata": {},
       "output_type": "pyout",
       "prompt_number": 137,
       "text": [
        "       TTM Yield 0.12%             Unnamed: 1                      Load None  \\\n",
        "0  30-Day SEC Yield --  Category Large Growth  Investment Style Large Growth   \n",
        "\n",
        "   Unnamed: 3  Total Mkt Val  16.8 bil  \u00a0  USD  Total Assets $  109.6 bil  \\\n",
        "0         NaN                                                NaN            \n",
        "\n",
        "   Unnamed: 5  Expenses 0.66%  Unnamed: 7  Fee Level Low  Unnamed: 9  \\\n",
        "0         NaN             NaN         NaN            NaN         NaN   \n",
        "\n",
        "   Turnover 46%  Unnamed: 11  Status Open  Unnamed: 13  Min. Inv. $  2,500  \n",
        "0           NaN          NaN          NaN          NaN                 NaN  "
       ]
      }
     ],
     "prompt_number": 137
    },
    {
     "cell_type": "code",
     "collapsed": false,
     "input": [
      "url_quote_top_hld =\"http://quotes.morningstar.com/fund/c-topHoldings?&t=XNAS:FUSEX&region=usa&culture=en-US&cur=\"\n",
      "quote_top_hld = pd.read_html(url_quote_top_hld, match=\"Weight\", header=0)[0]\n",
      "quote_top_hld"
     ],
     "language": "python",
     "metadata": {},
     "outputs": [
      {
       "html": [
        "<div style=\"max-height:1000px;max-width:1500px;overflow:auto;\">\n",
        "<table border=\"1\" class=\"dataframe\">\n",
        "  <thead>\n",
        "    <tr style=\"text-align: right;\">\n",
        "      <th></th>\n",
        "      <th>Unnamed: 0</th>\n",
        "      <th>Unnamed: 1</th>\n",
        "      <th>Weight %</th>\n",
        "      <th>Last Price</th>\n",
        "      <th>Day Chg %</th>\n",
        "      <th>52-Week Range</th>\n",
        "      <th>Unnamed: 6</th>\n",
        "    </tr>\n",
        "  </thead>\n",
        "  <tbody>\n",
        "    <tr>\n",
        "      <th>0</th>\n",
        "      <td>                                               NaN</td>\n",
        "      <td>                        NaN</td>\n",
        "      <td>   NaN</td>\n",
        "      <td>         NaN</td>\n",
        "      <td>   NaN</td>\n",
        "      <td>NaN</td>\n",
        "      <td>            NaN</td>\n",
        "    </tr>\n",
        "    <tr>\n",
        "      <th>1</th>\n",
        "      <td>                                               NaN</td>\n",
        "      <td>                  Apple Inc</td>\n",
        "      <td>  3.32</td>\n",
        "      <td> 118.62  USD</td>\n",
        "      <td>  1.85</td>\n",
        "      <td>NaN</td>\n",
        "      <td> 70.51\u00a0-\u00a0118.77</td>\n",
        "    </tr>\n",
        "    <tr>\n",
        "      <th>2</th>\n",
        "      <td>                                               NaN</td>\n",
        "      <td>    Exxon Mobil Corporation</td>\n",
        "      <td>  2.21</td>\n",
        "      <td>  95.72  USD</td>\n",
        "      <td> -1.13</td>\n",
        "      <td>NaN</td>\n",
        "      <td> 86.91\u00a0-\u00a0104.76</td>\n",
        "    </tr>\n",
        "    <tr>\n",
        "      <th>3</th>\n",
        "      <td>                                               NaN</td>\n",
        "      <td>             Microsoft Corp</td>\n",
        "      <td>  2.10</td>\n",
        "      <td>  47.60  USD</td>\n",
        "      <td> -0.75</td>\n",
        "      <td>NaN</td>\n",
        "      <td>  34.63\u00a0-\u00a050.04</td>\n",
        "    </tr>\n",
        "    <tr>\n",
        "      <th>4</th>\n",
        "      <td>                                               NaN</td>\n",
        "      <td> S&amp;P 500 Index Future Dec14</td>\n",
        "      <td>  1.72</td>\n",
        "      <td>           \u2014</td>\n",
        "      <td>     \u2014</td>\n",
        "      <td>NaN</td>\n",
        "      <td>              \u2014</td>\n",
        "    </tr>\n",
        "    <tr>\n",
        "      <th>5</th>\n",
        "      <td>                                               NaN</td>\n",
        "      <td>          Johnson &amp; Johnson</td>\n",
        "      <td>  1.66</td>\n",
        "      <td> 106.88  USD</td>\n",
        "      <td> -0.91</td>\n",
        "      <td>NaN</td>\n",
        "      <td> 86.09\u00a0-\u00a0109.49</td>\n",
        "    </tr>\n",
        "    <tr>\n",
        "      <th>6</th>\n",
        "      <td>                                               NaN</td>\n",
        "      <td> % Assets in Top 5 Holdings</td>\n",
        "      <td> 11.01</td>\n",
        "      <td>         NaN</td>\n",
        "      <td>   NaN</td>\n",
        "      <td>NaN</td>\n",
        "      <td>            NaN</td>\n",
        "    </tr>\n",
        "    <tr>\n",
        "      <th>7</th>\n",
        "      <td> Increase  Decrease  New to Portfolio  Portfoli...</td>\n",
        "      <td>                        NaN</td>\n",
        "      <td>   NaN</td>\n",
        "      <td>         NaN</td>\n",
        "      <td>   NaN</td>\n",
        "      <td>NaN</td>\n",
        "      <td>            NaN</td>\n",
        "    </tr>\n",
        "  </tbody>\n",
        "</table>\n",
        "</div>"
       ],
       "metadata": {},
       "output_type": "pyout",
       "prompt_number": 7,
       "text": [
        "                                          Unnamed: 0  \\\n",
        "0                                                NaN   \n",
        "1                                                NaN   \n",
        "2                                                NaN   \n",
        "3                                                NaN   \n",
        "4                                                NaN   \n",
        "5                                                NaN   \n",
        "6                                                NaN   \n",
        "7  Increase  Decrease  New to Portfolio  Portfoli...   \n",
        "\n",
        "                   Unnamed: 1  Weight %   Last Price Day Chg %  52-Week Range  \\\n",
        "0                         NaN       NaN          NaN       NaN            NaN   \n",
        "1                   Apple Inc      3.32  118.62  USD      1.85            NaN   \n",
        "2     Exxon Mobil Corporation      2.21   95.72  USD     -1.13            NaN   \n",
        "3              Microsoft Corp      2.10   47.60  USD     -0.75            NaN   \n",
        "4  S&P 500 Index Future Dec14      1.72            \u2014         \u2014            NaN   \n",
        "5           Johnson & Johnson      1.66  106.88  USD     -0.91            NaN   \n",
        "6  % Assets in Top 5 Holdings     11.01          NaN       NaN            NaN   \n",
        "7                         NaN       NaN          NaN       NaN            NaN   \n",
        "\n",
        "       Unnamed: 6  \n",
        "0             NaN  \n",
        "1  70.51\u00a0-\u00a0118.77  \n",
        "2  86.91\u00a0-\u00a0104.76  \n",
        "3   34.63\u00a0-\u00a050.04  \n",
        "4               \u2014  \n",
        "5  86.09\u00a0-\u00a0109.49  \n",
        "6             NaN  \n",
        "7             NaN  "
       ]
      }
     ],
     "prompt_number": 7
    },
    {
     "cell_type": "code",
     "collapsed": false,
     "input": [
      "url_q_top_sector =\"http://quotes.morningstar.com/fund/c-topSector?&t=XNAS:FUSEX&region=usa&culture=en-US&cur=\"\n",
      "\n",
      "q_top_sector = pd.read_html(url_q_top_sector, match=\"Fund\", header=0)[0]\n",
      "q_top_sector\n"
     ],
     "language": "python",
     "metadata": {},
     "outputs": [
      {
       "html": [
        "<div style=\"max-height:1000px;max-width:1500px;overflow:auto;\">\n",
        "<table border=\"1\" class=\"dataframe\">\n",
        "  <thead>\n",
        "    <tr style=\"text-align: right;\">\n",
        "      <th></th>\n",
        "      <th>Unnamed: 0</th>\n",
        "      <th>Fund</th>\n",
        "      <th>3 Yr High</th>\n",
        "      <th>3 Yr Low</th>\n",
        "      <th>Cat Avg</th>\n",
        "      <th>Unnamed: 5</th>\n",
        "      <th>Unnamed: 6</th>\n",
        "      <th>Fund.1</th>\n",
        "      <th>Cat Avg.1</th>\n",
        "    </tr>\n",
        "  </thead>\n",
        "  <tbody>\n",
        "    <tr>\n",
        "      <th>0</th>\n",
        "      <td>                        NaN</td>\n",
        "      <td>                        NaN</td>\n",
        "      <td>   NaN</td>\n",
        "      <td>   NaN</td>\n",
        "      <td>   NaN</td>\n",
        "      <td>NaN</td>\n",
        "      <td>NaN</td>\n",
        "      <td>NaN</td>\n",
        "      <td>NaN</td>\n",
        "    </tr>\n",
        "    <tr>\n",
        "      <th>1</th>\n",
        "      <td>                 Technology</td>\n",
        "      <td>                      18.02</td>\n",
        "      <td> 18.02</td>\n",
        "      <td> 16.77</td>\n",
        "      <td> 17.04</td>\n",
        "      <td>NaN</td>\n",
        "      <td>NaN</td>\n",
        "      <td>NaN</td>\n",
        "      <td>NaN</td>\n",
        "    </tr>\n",
        "    <tr>\n",
        "      <th>2</th>\n",
        "      <td>         Financial Services</td>\n",
        "      <td>                      14.95</td>\n",
        "      <td> 15.33</td>\n",
        "      <td> 14.41</td>\n",
        "      <td> 15.89</td>\n",
        "      <td>NaN</td>\n",
        "      <td>NaN</td>\n",
        "      <td>NaN</td>\n",
        "      <td>NaN</td>\n",
        "    </tr>\n",
        "    <tr>\n",
        "      <th>3</th>\n",
        "      <td>                 Healthcare</td>\n",
        "      <td>                      14.32</td>\n",
        "      <td> 14.32</td>\n",
        "      <td> 11.81</td>\n",
        "      <td> 14.35</td>\n",
        "      <td>NaN</td>\n",
        "      <td>NaN</td>\n",
        "      <td>NaN</td>\n",
        "      <td>NaN</td>\n",
        "    </tr>\n",
        "    <tr>\n",
        "      <th>4</th>\n",
        "      <td>                Industrials</td>\n",
        "      <td>                      11.02</td>\n",
        "      <td> 11.68</td>\n",
        "      <td> 11.02</td>\n",
        "      <td> 11.66</td>\n",
        "      <td>NaN</td>\n",
        "      <td>NaN</td>\n",
        "      <td>NaN</td>\n",
        "      <td>NaN</td>\n",
        "    </tr>\n",
        "    <tr>\n",
        "      <th>5</th>\n",
        "      <td>          Consumer Cyclical</td>\n",
        "      <td>                      10.22</td>\n",
        "      <td> 11.23</td>\n",
        "      <td> 10.17</td>\n",
        "      <td> 10.77</td>\n",
        "      <td>NaN</td>\n",
        "      <td>NaN</td>\n",
        "      <td>NaN</td>\n",
        "      <td>NaN</td>\n",
        "    </tr>\n",
        "    <tr>\n",
        "      <th>6</th>\n",
        "      <td> Portfolio Date: 09/30/2014</td>\n",
        "      <td> Portfolio Date: 09/30/2014</td>\n",
        "      <td>   NaN</td>\n",
        "      <td>   NaN</td>\n",
        "      <td>   NaN</td>\n",
        "      <td>NaN</td>\n",
        "      <td>NaN</td>\n",
        "      <td>NaN</td>\n",
        "      <td>NaN</td>\n",
        "    </tr>\n",
        "    <tr>\n",
        "      <th>7</th>\n",
        "      <td>                        NaN</td>\n",
        "      <td>                        NaN</td>\n",
        "      <td>   NaN</td>\n",
        "      <td>   NaN</td>\n",
        "      <td>   NaN</td>\n",
        "      <td>NaN</td>\n",
        "      <td>NaN</td>\n",
        "      <td>NaN</td>\n",
        "      <td>NaN</td>\n",
        "    </tr>\n",
        "    <tr>\n",
        "      <th>8</th>\n",
        "      <td> Portfolio Date: 09/30/2014</td>\n",
        "      <td>                        NaN</td>\n",
        "      <td>   NaN</td>\n",
        "      <td>   NaN</td>\n",
        "      <td>   NaN</td>\n",
        "      <td>NaN</td>\n",
        "      <td>NaN</td>\n",
        "      <td>NaN</td>\n",
        "      <td>NaN</td>\n",
        "    </tr>\n",
        "  </tbody>\n",
        "</table>\n",
        "</div>"
       ],
       "metadata": {},
       "output_type": "pyout",
       "prompt_number": 8,
       "text": [
        "                   Unnamed: 0                        Fund  3 Yr High  \\\n",
        "0                         NaN                         NaN        NaN   \n",
        "1                  Technology                       18.02      18.02   \n",
        "2          Financial Services                       14.95      15.33   \n",
        "3                  Healthcare                       14.32      14.32   \n",
        "4                 Industrials                       11.02      11.68   \n",
        "5           Consumer Cyclical                       10.22      11.23   \n",
        "6  Portfolio Date: 09/30/2014  Portfolio Date: 09/30/2014        NaN   \n",
        "7                         NaN                         NaN        NaN   \n",
        "8  Portfolio Date: 09/30/2014                         NaN        NaN   \n",
        "\n",
        "   3 Yr Low  Cat Avg  Unnamed: 5  Unnamed: 6  Fund.1  Cat Avg.1  \n",
        "0       NaN      NaN         NaN         NaN     NaN        NaN  \n",
        "1     16.77    17.04         NaN         NaN     NaN        NaN  \n",
        "2     14.41    15.89         NaN         NaN     NaN        NaN  \n",
        "3     11.81    14.35         NaN         NaN     NaN        NaN  \n",
        "4     11.02    11.66         NaN         NaN     NaN        NaN  \n",
        "5     10.17    10.77         NaN         NaN     NaN        NaN  \n",
        "6       NaN      NaN         NaN         NaN     NaN        NaN  \n",
        "7       NaN      NaN         NaN         NaN     NaN        NaN  \n",
        "8       NaN      NaN         NaN         NaN     NaN        NaN  "
       ]
      }
     ],
     "prompt_number": 8
    },
    {
     "cell_type": "code",
     "collapsed": false,
     "input": [
      "url_q_perf =\"http://quotes.morningstar.com/fund/c-performance?&t=XNAS:FUSEX&region=usa&culture=en-US&cur=&benchmarkSecId=&benchmarktype=\"\n",
      "q_perf = pd.read_html(url_q_perf, match=\"Fund\", header=0)[0]\n",
      "q_perf"
     ],
     "language": "python",
     "metadata": {},
     "outputs": [
      {
       "html": [
        "<div style=\"max-height:1000px;max-width:1500px;overflow:auto;\">\n",
        "<table border=\"1\" class=\"dataframe\">\n",
        "  <thead>\n",
        "    <tr style=\"text-align: right;\">\n",
        "      <th></th>\n",
        "      <th>Unnamed: 0</th>\n",
        "      <th>YTD</th>\n",
        "      <th>1 Mo</th>\n",
        "      <th>1 Yr</th>\n",
        "      <th>Unnamed: 4</th>\n",
        "      <th>3 Yr</th>\n",
        "      <th>*</th>\n",
        "      <th>5 Yr</th>\n",
        "      <th>*.1</th>\n",
        "      <th>10 Yr</th>\n",
        "      <th>*.2</th>\n",
        "    </tr>\n",
        "  </thead>\n",
        "  <tbody>\n",
        "    <tr>\n",
        "      <th>0</th>\n",
        "      <td>                                  Growth of 10,000</td>\n",
        "      <td> 11395.00</td>\n",
        "      <td> 10555.00</td>\n",
        "      <td> 11692.00</td>\n",
        "      <td>NaN</td>\n",
        "      <td> 18956.00</td>\n",
        "      <td>NaN</td>\n",
        "      <td> 20710.00</td>\n",
        "      <td>NaN</td>\n",
        "      <td> 21457.00</td>\n",
        "      <td>NaN</td>\n",
        "    </tr>\n",
        "    <tr>\n",
        "      <th>1</th>\n",
        "      <td>                                              Fund</td>\n",
        "      <td>    13.95</td>\n",
        "      <td>     5.55</td>\n",
        "      <td>    16.92</td>\n",
        "      <td>NaN</td>\n",
        "      <td>    23.76</td>\n",
        "      <td>NaN</td>\n",
        "      <td>    15.67</td>\n",
        "      <td>NaN</td>\n",
        "      <td>     7.93</td>\n",
        "      <td>NaN</td>\n",
        "    </tr>\n",
        "    <tr>\n",
        "      <th>2</th>\n",
        "      <td>                                +/- S&amp;P 500 TR USD</td>\n",
        "      <td>    -0.09</td>\n",
        "      <td>    -0.01</td>\n",
        "      <td>    -0.11</td>\n",
        "      <td>NaN</td>\n",
        "      <td>    -0.10</td>\n",
        "      <td>NaN</td>\n",
        "      <td>    -0.09</td>\n",
        "      <td>NaN</td>\n",
        "      <td>    -0.06</td>\n",
        "      <td>NaN</td>\n",
        "    </tr>\n",
        "    <tr>\n",
        "      <th>3</th>\n",
        "      <td>                                      +/- Category</td>\n",
        "      <td>     2.71</td>\n",
        "      <td>     0.29</td>\n",
        "      <td>     2.77</td>\n",
        "      <td>NaN</td>\n",
        "      <td>     1.59</td>\n",
        "      <td>NaN</td>\n",
        "      <td>     1.47</td>\n",
        "      <td>NaN</td>\n",
        "      <td>     0.58</td>\n",
        "      <td>NaN</td>\n",
        "    </tr>\n",
        "    <tr>\n",
        "      <th>4</th>\n",
        "      <td>                                     % Rank in Cat</td>\n",
        "      <td>    16.00</td>\n",
        "      <td>    38.00</td>\n",
        "      <td>    18.00</td>\n",
        "      <td>NaN</td>\n",
        "      <td>    28.00</td>\n",
        "      <td>NaN</td>\n",
        "      <td>    19.00</td>\n",
        "      <td>NaN</td>\n",
        "      <td>    26.00</td>\n",
        "      <td>NaN</td>\n",
        "    </tr>\n",
        "    <tr>\n",
        "      <th>5</th>\n",
        "      <td>                                 # of Funds in Cat</td>\n",
        "      <td>  1591.00</td>\n",
        "      <td>  1681.00</td>\n",
        "      <td>  1553.00</td>\n",
        "      <td>NaN</td>\n",
        "      <td>  1330.00</td>\n",
        "      <td>NaN</td>\n",
        "      <td>  1191.00</td>\n",
        "      <td>NaN</td>\n",
        "      <td>   794.00</td>\n",
        "      <td>NaN</td>\n",
        "    </tr>\n",
        "    <tr>\n",
        "      <th>6</th>\n",
        "      <td> * Annualized returns. Data as of 11/24/2014. C...</td>\n",
        "      <td>      NaN</td>\n",
        "      <td>      NaN</td>\n",
        "      <td>      NaN</td>\n",
        "      <td>NaN</td>\n",
        "      <td>      NaN</td>\n",
        "      <td>NaN</td>\n",
        "      <td>      NaN</td>\n",
        "      <td>NaN</td>\n",
        "      <td>      NaN</td>\n",
        "      <td>NaN</td>\n",
        "    </tr>\n",
        "  </tbody>\n",
        "</table>\n",
        "</div>"
       ],
       "metadata": {},
       "output_type": "pyout",
       "prompt_number": 9,
       "text": [
        "                                          Unnamed: 0       YTD      1 Mo  \\\n",
        "0                                   Growth of 10,000  11395.00  10555.00   \n",
        "1                                               Fund     13.95      5.55   \n",
        "2                                 +/- S&P 500 TR USD     -0.09     -0.01   \n",
        "3                                       +/- Category      2.71      0.29   \n",
        "4                                      % Rank in Cat     16.00     38.00   \n",
        "5                                  # of Funds in Cat   1591.00   1681.00   \n",
        "6  * Annualized returns. Data as of 11/24/2014. C...       NaN       NaN   \n",
        "\n",
        "       1 Yr  Unnamed: 4      3 Yr   *      5 Yr  *.1     10 Yr  *.2  \n",
        "0  11692.00         NaN  18956.00 NaN  20710.00  NaN  21457.00  NaN  \n",
        "1     16.92         NaN     23.76 NaN     15.67  NaN      7.93  NaN  \n",
        "2     -0.11         NaN     -0.10 NaN     -0.09  NaN     -0.06  NaN  \n",
        "3      2.77         NaN      1.59 NaN      1.47  NaN      0.58  NaN  \n",
        "4     18.00         NaN     28.00 NaN     19.00  NaN     26.00  NaN  \n",
        "5   1553.00         NaN   1330.00 NaN   1191.00  NaN    794.00  NaN  \n",
        "6       NaN         NaN       NaN NaN       NaN  NaN       NaN  NaN  "
       ]
      }
     ],
     "prompt_number": 9
    },
    {
     "cell_type": "code",
     "collapsed": false,
     "input": [
      "import urllib2 # module to read in HTML\n",
      "import bs4 # BeautifulSoup: module to parse HTML and XML\n",
      "import json # \n",
      "import datetime as dt \n",
      "\n",
      "x = urllib2.urlopen(\"http://quotes.morningstar.com/fund/c-performance?&t=XNAS:FUSEX&region=usa&culture=en-US&cur=&benchmarkSecId=&benchmarktype=\") # Opens URLS\n",
      "htmlSource = x.read()\n",
      "x.close()\n",
      "\n",
      "soup = bs4.BeautifulSoup(htmlSource)\n",
      "table = soup.find('table')\n",
      "\n"
     ],
     "language": "python",
     "metadata": {},
     "outputs": [],
     "prompt_number": 10
    },
    {
     "cell_type": "code",
     "collapsed": false,
     "input": [],
     "language": "python",
     "metadata": {},
     "outputs": []
    }
   ],
   "metadata": {}
  }
 ]
}